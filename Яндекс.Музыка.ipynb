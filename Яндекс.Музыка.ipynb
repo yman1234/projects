{
 "cells": [
  {
   "cell_type": "markdown",
   "metadata": {},
   "source": [
    "<div style=\"border:solid green 3px; padding: 20px\">\n",
    "\n",
    "<b>Привет!</b>\n",
    "\n",
    "Меня зовут Сороколетов Илья и я буду проверять твой проект. \n",
    "\n",
    "Предлагаю общаться на «**ты**», но если тебе будет комфортнее общаться на «**вы**», то сообщи об этом в комментариях)\n",
    "\n",
    "\n",
    "Для твоего удобства, я буду выделять свои комментарии следующим образом:\n",
    "\n",
    "<div class=\"alert alert-danger\">\n",
    "<b>❌ Комментарий ревьюера v1:</b> Самые важные замечания. Они указывают на ключевые моменты, которые влияют на конечный результат проекта. </div>\n",
    "\n",
    "<div class=\"alert alert-warning\">\n",
    "<b>⚠️ Комментарий ревьюера v1:</b> Советы или замечания, которые помогут сделать твою работу лучше, но необязательны к выполнению.\n",
    "\n",
    "</div>\n",
    "\n",
    "<div class=\"alert alert-success\">\n",
    "<b>✔️ Комментарий ревьюера v1:</b> Так я выделяю все остальные комментарии.</div>\n",
    "\n",
    "\n",
    "Пометками <b>v1-v2-v3-...</b> я буду отмечать версию проверки. Так ты сможешь быстро найти мои новые комментарии.\n",
    "\n",
    "Давай работать над проектом в диалоге: если ты что-то меняешь в проекте по моим рекомендациям — пиши об этом. Выбери для своих комментариев какой-то заметный цвет, так мне будет легче отследить изменения, например вот так:\n",
    "    \n",
    "<div class=\"alert alert-info\">\n",
    "<b>Комментарий студента:</b>\n",
    "<br>\n",
    "</div>\n",
    "\n",
    "<b>Пожалуйста, не перемещай, не изменяй и не удаляй мои комментарии.</b> Если ты оставляешь свои комментарии, то делай это под моими, чтобы сообщения были расположены в хронологическом порядке. Всё это поможет выполнить повторную проверку твоего проекта быстрее. \n",
    "Если ты оставляешь свои комментарии, то делай это под моими, чтобы сообщения были расположены в хронологическом порядке. Всё это поможет выполнить повторную проверку твоего проекта быстрее. \n",
    "\n",
    "Перед отправкой работы я рекомендую нажимать Kernel -> Restart & Run All. Это перезапустит ядро и по очереди выполнит все ячейки. Так ты сможешь проверить, что всё работает корректно. Кнопка Kernel находится в панели сверху\n",
    "\n",
    "Обязательно задавай вопросы если они возникнут, а я перехожу к проверке)\n",
    "\n",
    "P.S. На всякий случай, я оставлю пустой шаблон для твоих комментариев ниже. Кликни два раза на мой комментарий, скопируй последние четыре строчки кода и вставляй их в пустую ячейку там, где ты хочешь оставить комментарий. Не забудь только перед этим сменить тип ячейки на Markdown. Быстро это можно сделать так: кликнуть на ячейку - нажать ESC - нажать M. \n",
    "    \n",
    "    \n",
    "<div class=\"alert alert-info\">\n",
    "<b>Комментарий студента:</b>\n",
    "<br>Место для твоего комментария\n",
    "</div>"
   ]
  },
  {
   "cell_type": "markdown",
   "metadata": {
    "id": "E0vqbgi9ay0H"
   },
   "source": [
    "# Яндекс.Музыка"
   ]
  },
  {
   "cell_type": "markdown",
   "metadata": {
    "id": "VUC88oWjTJw2"
   },
   "source": [
    "Сравнение Москвы и Петербурга окружено мифами. Например:\n",
    " * Москва — мегаполис, подчинённый жёсткому ритму рабочей недели;\n",
    " * Петербург — культурная столица, со своими вкусами.\n",
    "\n",
    "На данных Яндекс.Музыки вы сравните поведение пользователей двух столиц.\n",
    "\n",
    "**Цель исследования** — проверьте три гипотезы:\n",
    "1. Активность пользователей зависит от дня недели. Причём в Москве и Петербурге это проявляется по-разному.\n",
    "2. В понедельник утром в Москве преобладают одни жанры, а в Петербурге — другие. Так же и вечером пятницы преобладают разные жанры — в зависимости от города. \n",
    "3. Москва и Петербург предпочитают разные жанры музыки. В Москве чаще слушают поп-музыку, в Петербурге — русский рэп.\n",
    "\n",
    "**Ход исследования**\n",
    "\n",
    "Данные о поведении пользователей вы получите из файла `yandex_music_project.csv`. О качестве данных ничего не известно. Поэтому перед проверкой гипотез понадобится обзор данных. \n",
    "\n",
    "Вы проверите данные на ошибки и оцените их влияние на исследование. Затем, на этапе предобработки вы поищете возможность исправить самые критичные ошибки данных.\n",
    " \n",
    "Таким образом, исследование пройдёт в три этапа:\n",
    " 1. Обзор данных.\n",
    " 2. Предобработка данных.\n",
    " 3. Проверка гипотез.\n",
    "\n"
   ]
  },
  {
   "cell_type": "markdown",
   "metadata": {
    "id": "Ml1hmfXC_Zcs"
   },
   "source": [
    "## Обзор данных\n",
    "\n",
    "Составьте первое представление о данных Яндекс.Музыки.\n",
    "\n",
    "\n"
   ]
  },
  {
   "cell_type": "markdown",
   "metadata": {
    "id": "57eAOGIz_Zcs"
   },
   "source": [
    "Основной инструмент аналитика — `pandas`. Импортируйте эту библиотеку."
   ]
  },
  {
   "cell_type": "code",
   "execution_count": 1,
   "metadata": {
    "id": "AXN7PHPN_Zcs"
   },
   "outputs": [],
   "source": [
    "import pandas as pd\n"
   ]
  },
  {
   "cell_type": "markdown",
   "metadata": {},
   "source": [
    "<div class=\"alert alert-success\">\n",
    "<b>✔️ Комментарий ревьюера v1:</b> \n",
    "<br>Очень здорово, что ты используешь сокращение pd для Pandas, это общепринятое сокращение для этой библиотеки для удобной дальнейшей работы.\n",
    "</div>"
   ]
  },
  {
   "cell_type": "markdown",
   "metadata": {
    "id": "SG23P8tt_Zcs"
   },
   "source": [
    "Прочитайте файл `yandex_music_project.csv` из папки `/datasets` и сохраните его в переменной `df`:"
   ]
  },
  {
   "cell_type": "code",
   "execution_count": 2,
   "metadata": {
    "id": "fFVu7vqh_Zct",
    "scrolled": true
   },
   "outputs": [],
   "source": [
    "df = pd.read_csv('/datasets/yandex_music_project.csv')"
   ]
  },
  {
   "cell_type": "markdown",
   "metadata": {
    "id": "rDoOMd3uTqnZ"
   },
   "source": [
    "Выведите на экран первые десять строк таблицы:"
   ]
  },
  {
   "cell_type": "code",
   "execution_count": 3,
   "metadata": {
    "id": "oWTVX3gW_Zct",
    "scrolled": true
   },
   "outputs": [
    {
     "data": {
      "text/html": [
       "<div>\n",
       "<style scoped>\n",
       "    .dataframe tbody tr th:only-of-type {\n",
       "        vertical-align: middle;\n",
       "    }\n",
       "\n",
       "    .dataframe tbody tr th {\n",
       "        vertical-align: top;\n",
       "    }\n",
       "\n",
       "    .dataframe thead th {\n",
       "        text-align: right;\n",
       "    }\n",
       "</style>\n",
       "<table border=\"1\" class=\"dataframe\">\n",
       "  <thead>\n",
       "    <tr style=\"text-align: right;\">\n",
       "      <th></th>\n",
       "      <th>userID</th>\n",
       "      <th>Track</th>\n",
       "      <th>artist</th>\n",
       "      <th>genre</th>\n",
       "      <th>City</th>\n",
       "      <th>time</th>\n",
       "      <th>Day</th>\n",
       "    </tr>\n",
       "  </thead>\n",
       "  <tbody>\n",
       "    <tr>\n",
       "      <th>0</th>\n",
       "      <td>FFB692EC</td>\n",
       "      <td>Kamigata To Boots</td>\n",
       "      <td>The Mass Missile</td>\n",
       "      <td>rock</td>\n",
       "      <td>Saint-Petersburg</td>\n",
       "      <td>20:28:33</td>\n",
       "      <td>Wednesday</td>\n",
       "    </tr>\n",
       "    <tr>\n",
       "      <th>1</th>\n",
       "      <td>55204538</td>\n",
       "      <td>Delayed Because of Accident</td>\n",
       "      <td>Andreas Rönnberg</td>\n",
       "      <td>rock</td>\n",
       "      <td>Moscow</td>\n",
       "      <td>14:07:09</td>\n",
       "      <td>Friday</td>\n",
       "    </tr>\n",
       "    <tr>\n",
       "      <th>2</th>\n",
       "      <td>20EC38</td>\n",
       "      <td>Funiculì funiculà</td>\n",
       "      <td>Mario Lanza</td>\n",
       "      <td>pop</td>\n",
       "      <td>Saint-Petersburg</td>\n",
       "      <td>20:58:07</td>\n",
       "      <td>Wednesday</td>\n",
       "    </tr>\n",
       "    <tr>\n",
       "      <th>3</th>\n",
       "      <td>A3DD03C9</td>\n",
       "      <td>Dragons in the Sunset</td>\n",
       "      <td>Fire + Ice</td>\n",
       "      <td>folk</td>\n",
       "      <td>Saint-Petersburg</td>\n",
       "      <td>08:37:09</td>\n",
       "      <td>Monday</td>\n",
       "    </tr>\n",
       "    <tr>\n",
       "      <th>4</th>\n",
       "      <td>E2DC1FAE</td>\n",
       "      <td>Soul People</td>\n",
       "      <td>Space Echo</td>\n",
       "      <td>dance</td>\n",
       "      <td>Moscow</td>\n",
       "      <td>08:34:34</td>\n",
       "      <td>Monday</td>\n",
       "    </tr>\n",
       "    <tr>\n",
       "      <th>5</th>\n",
       "      <td>842029A1</td>\n",
       "      <td>Преданная</td>\n",
       "      <td>IMPERVTOR</td>\n",
       "      <td>rusrap</td>\n",
       "      <td>Saint-Petersburg</td>\n",
       "      <td>13:09:41</td>\n",
       "      <td>Friday</td>\n",
       "    </tr>\n",
       "    <tr>\n",
       "      <th>6</th>\n",
       "      <td>4CB90AA5</td>\n",
       "      <td>True</td>\n",
       "      <td>Roman Messer</td>\n",
       "      <td>dance</td>\n",
       "      <td>Moscow</td>\n",
       "      <td>13:00:07</td>\n",
       "      <td>Wednesday</td>\n",
       "    </tr>\n",
       "    <tr>\n",
       "      <th>7</th>\n",
       "      <td>F03E1C1F</td>\n",
       "      <td>Feeling This Way</td>\n",
       "      <td>Polina Griffith</td>\n",
       "      <td>dance</td>\n",
       "      <td>Moscow</td>\n",
       "      <td>20:47:49</td>\n",
       "      <td>Wednesday</td>\n",
       "    </tr>\n",
       "    <tr>\n",
       "      <th>8</th>\n",
       "      <td>8FA1D3BE</td>\n",
       "      <td>И вновь продолжается бой</td>\n",
       "      <td>NaN</td>\n",
       "      <td>ruspop</td>\n",
       "      <td>Moscow</td>\n",
       "      <td>09:17:40</td>\n",
       "      <td>Friday</td>\n",
       "    </tr>\n",
       "    <tr>\n",
       "      <th>9</th>\n",
       "      <td>E772D5C0</td>\n",
       "      <td>Pessimist</td>\n",
       "      <td>NaN</td>\n",
       "      <td>dance</td>\n",
       "      <td>Saint-Petersburg</td>\n",
       "      <td>21:20:49</td>\n",
       "      <td>Wednesday</td>\n",
       "    </tr>\n",
       "  </tbody>\n",
       "</table>\n",
       "</div>"
      ],
      "text/plain": [
       "     userID                        Track            artist   genre  \\\n",
       "0  FFB692EC            Kamigata To Boots  The Mass Missile    rock   \n",
       "1  55204538  Delayed Because of Accident  Andreas Rönnberg    rock   \n",
       "2    20EC38            Funiculì funiculà       Mario Lanza     pop   \n",
       "3  A3DD03C9        Dragons in the Sunset        Fire + Ice    folk   \n",
       "4  E2DC1FAE                  Soul People        Space Echo   dance   \n",
       "5  842029A1                    Преданная         IMPERVTOR  rusrap   \n",
       "6  4CB90AA5                         True      Roman Messer   dance   \n",
       "7  F03E1C1F             Feeling This Way   Polina Griffith   dance   \n",
       "8  8FA1D3BE     И вновь продолжается бой               NaN  ruspop   \n",
       "9  E772D5C0                    Pessimist               NaN   dance   \n",
       "\n",
       "             City        time        Day  \n",
       "0  Saint-Petersburg  20:28:33  Wednesday  \n",
       "1            Moscow  14:07:09     Friday  \n",
       "2  Saint-Petersburg  20:58:07  Wednesday  \n",
       "3  Saint-Petersburg  08:37:09     Monday  \n",
       "4            Moscow  08:34:34     Monday  \n",
       "5  Saint-Petersburg  13:09:41     Friday  \n",
       "6            Moscow  13:00:07  Wednesday  \n",
       "7            Moscow  20:47:49  Wednesday  \n",
       "8            Moscow  09:17:40     Friday  \n",
       "9  Saint-Petersburg  21:20:49  Wednesday  "
      ]
     },
     "execution_count": 3,
     "metadata": {},
     "output_type": "execute_result"
    }
   ],
   "source": [
    "df.head(10)"
   ]
  },
  {
   "cell_type": "markdown",
   "metadata": {
    "id": "EO73Kwic_Zct"
   },
   "source": [
    "Одной командой получить общую информацию о таблице:"
   ]
  },
  {
   "cell_type": "code",
   "execution_count": 4,
   "metadata": {
    "id": "DSf2kIb-_Zct"
   },
   "outputs": [
    {
     "name": "stdout",
     "output_type": "stream",
     "text": [
      "<class 'pandas.core.frame.DataFrame'>\n",
      "RangeIndex: 65079 entries, 0 to 65078\n",
      "Data columns (total 7 columns):\n",
      " #   Column    Non-Null Count  Dtype \n",
      "---  ------    --------------  ----- \n",
      " 0     userID  65079 non-null  object\n",
      " 1   Track     63848 non-null  object\n",
      " 2   artist    57876 non-null  object\n",
      " 3   genre     63881 non-null  object\n",
      " 4     City    65079 non-null  object\n",
      " 5   time      65079 non-null  object\n",
      " 6   Day       65079 non-null  object\n",
      "dtypes: object(7)\n",
      "memory usage: 3.5+ MB\n"
     ]
    },
    {
     "data": {
      "text/html": [
       "<div>\n",
       "<style scoped>\n",
       "    .dataframe tbody tr th:only-of-type {\n",
       "        vertical-align: middle;\n",
       "    }\n",
       "\n",
       "    .dataframe tbody tr th {\n",
       "        vertical-align: top;\n",
       "    }\n",
       "\n",
       "    .dataframe thead th {\n",
       "        text-align: right;\n",
       "    }\n",
       "</style>\n",
       "<table border=\"1\" class=\"dataframe\">\n",
       "  <thead>\n",
       "    <tr style=\"text-align: right;\">\n",
       "      <th></th>\n",
       "      <th>userID</th>\n",
       "      <th>track</th>\n",
       "      <th>artist</th>\n",
       "      <th>genre</th>\n",
       "      <th>City</th>\n",
       "      <th>time</th>\n",
       "      <th>day</th>\n",
       "    </tr>\n",
       "  </thead>\n",
       "  <tbody>\n",
       "    <tr>\n",
       "      <th>0</th>\n",
       "      <td>FFB692EC</td>\n",
       "      <td>Kamigata To Boots</td>\n",
       "      <td>The Mass Missile</td>\n",
       "      <td>rock</td>\n",
       "      <td>Saint-Petersburg</td>\n",
       "      <td>20:28:33</td>\n",
       "      <td>Wednesday</td>\n",
       "    </tr>\n",
       "    <tr>\n",
       "      <th>1</th>\n",
       "      <td>55204538</td>\n",
       "      <td>Delayed Because of Accident</td>\n",
       "      <td>Andreas Rönnberg</td>\n",
       "      <td>rock</td>\n",
       "      <td>Moscow</td>\n",
       "      <td>14:07:09</td>\n",
       "      <td>Friday</td>\n",
       "    </tr>\n",
       "    <tr>\n",
       "      <th>2</th>\n",
       "      <td>20EC38</td>\n",
       "      <td>Funiculì funiculà</td>\n",
       "      <td>Mario Lanza</td>\n",
       "      <td>pop</td>\n",
       "      <td>Saint-Petersburg</td>\n",
       "      <td>20:58:07</td>\n",
       "      <td>Wednesday</td>\n",
       "    </tr>\n",
       "    <tr>\n",
       "      <th>3</th>\n",
       "      <td>A3DD03C9</td>\n",
       "      <td>Dragons in the Sunset</td>\n",
       "      <td>Fire + Ice</td>\n",
       "      <td>folk</td>\n",
       "      <td>Saint-Petersburg</td>\n",
       "      <td>08:37:09</td>\n",
       "      <td>Monday</td>\n",
       "    </tr>\n",
       "    <tr>\n",
       "      <th>4</th>\n",
       "      <td>E2DC1FAE</td>\n",
       "      <td>Soul People</td>\n",
       "      <td>Space Echo</td>\n",
       "      <td>dance</td>\n",
       "      <td>Moscow</td>\n",
       "      <td>08:34:34</td>\n",
       "      <td>Monday</td>\n",
       "    </tr>\n",
       "    <tr>\n",
       "      <th>...</th>\n",
       "      <td>...</td>\n",
       "      <td>...</td>\n",
       "      <td>...</td>\n",
       "      <td>...</td>\n",
       "      <td>...</td>\n",
       "      <td>...</td>\n",
       "      <td>...</td>\n",
       "    </tr>\n",
       "    <tr>\n",
       "      <th>65074</th>\n",
       "      <td>729CBB09</td>\n",
       "      <td>My Name</td>\n",
       "      <td>McLean</td>\n",
       "      <td>rnb</td>\n",
       "      <td>Moscow</td>\n",
       "      <td>13:32:28</td>\n",
       "      <td>Wednesday</td>\n",
       "    </tr>\n",
       "    <tr>\n",
       "      <th>65075</th>\n",
       "      <td>D08D4A55</td>\n",
       "      <td>Maybe One Day (feat. Black Spade)</td>\n",
       "      <td>Blu &amp; Exile</td>\n",
       "      <td>hip</td>\n",
       "      <td>Saint-Petersburg</td>\n",
       "      <td>10:00:00</td>\n",
       "      <td>Monday</td>\n",
       "    </tr>\n",
       "    <tr>\n",
       "      <th>65076</th>\n",
       "      <td>C5E3A0D5</td>\n",
       "      <td>Jalopiina</td>\n",
       "      <td>NaN</td>\n",
       "      <td>industrial</td>\n",
       "      <td>Moscow</td>\n",
       "      <td>20:09:26</td>\n",
       "      <td>Friday</td>\n",
       "    </tr>\n",
       "    <tr>\n",
       "      <th>65077</th>\n",
       "      <td>321D0506</td>\n",
       "      <td>Freight Train</td>\n",
       "      <td>Chas McDevitt</td>\n",
       "      <td>rock</td>\n",
       "      <td>Moscow</td>\n",
       "      <td>21:43:59</td>\n",
       "      <td>Friday</td>\n",
       "    </tr>\n",
       "    <tr>\n",
       "      <th>65078</th>\n",
       "      <td>3A64EF84</td>\n",
       "      <td>Tell Me Sweet Little Lies</td>\n",
       "      <td>Monica Lopez</td>\n",
       "      <td>country</td>\n",
       "      <td>Moscow</td>\n",
       "      <td>21:59:46</td>\n",
       "      <td>Friday</td>\n",
       "    </tr>\n",
       "  </tbody>\n",
       "</table>\n",
       "<p>65079 rows × 7 columns</p>\n",
       "</div>"
      ],
      "text/plain": [
       "         userID                              track            artist  \\\n",
       "0      FFB692EC                  Kamigata To Boots  The Mass Missile   \n",
       "1      55204538        Delayed Because of Accident  Andreas Rönnberg   \n",
       "2        20EC38                  Funiculì funiculà       Mario Lanza   \n",
       "3      A3DD03C9              Dragons in the Sunset        Fire + Ice   \n",
       "4      E2DC1FAE                        Soul People        Space Echo   \n",
       "...         ...                                ...               ...   \n",
       "65074  729CBB09                            My Name            McLean   \n",
       "65075  D08D4A55  Maybe One Day (feat. Black Spade)       Blu & Exile   \n",
       "65076  C5E3A0D5                          Jalopiina               NaN   \n",
       "65077  321D0506                      Freight Train     Chas McDevitt   \n",
       "65078  3A64EF84          Tell Me Sweet Little Lies      Monica Lopez   \n",
       "\n",
       "            genre            City        time        day  \n",
       "0            rock  Saint-Petersburg  20:28:33  Wednesday  \n",
       "1            rock            Moscow  14:07:09     Friday  \n",
       "2             pop  Saint-Petersburg  20:58:07  Wednesday  \n",
       "3            folk  Saint-Petersburg  08:37:09     Monday  \n",
       "4           dance            Moscow  08:34:34     Monday  \n",
       "...           ...               ...       ...        ...  \n",
       "65074         rnb            Moscow  13:32:28  Wednesday  \n",
       "65075         hip  Saint-Petersburg  10:00:00     Monday  \n",
       "65076  industrial            Moscow  20:09:26     Friday  \n",
       "65077        rock            Moscow  21:43:59     Friday  \n",
       "65078     country            Moscow  21:59:46     Friday  \n",
       "\n",
       "[65079 rows x 7 columns]"
      ]
     },
     "execution_count": 4,
     "metadata": {},
     "output_type": "execute_result"
    }
   ],
   "source": [
    "df.info()\n",
    "df.rename(columns={'userID':'user_id','Track':'track','City':'city','Day':'day'})"
   ]
  },
  {
   "cell_type": "markdown",
   "metadata": {},
   "source": [
    "<div class=\"alert alert-danger\">\n",
    "<b>❌ Комментарий ревьюера v3:</b> \n",
    "<br>Код падает с ошибкой. Поправь, пожалуйста\n",
    "</div>"
   ]
  },
  {
   "cell_type": "markdown",
   "metadata": {
    "id": "TaQ2Iwbr_Zct"
   },
   "source": [
    "Итак, в таблице семь столбцов. Тип данных во всех столбцах — `object`.\n",
    "\n",
    "Согласно документации к данным:\n",
    "* `userID` — идентификатор пользователя;\n",
    "* `Track` — название трека;  \n",
    "* `artist` — имя исполнителя;\n",
    "* `genre` — название жанра;\n",
    "* `City` — город пользователя;\n",
    "* `time` — время начала прослушивания;\n",
    "* `Day` — день недели.\n",
    "\n",
    "В названиях колонок видны три нарушения стиля:\n",
    "1. Строчные буквы сочетаются с прописными.\n",
    "2. Встречаются пробелы.\n",
    "3. Найдите ещё одну проблему в названии колонок и опишите её в этом пункте.\n",
    "\n",
    "\n",
    "\n",
    "Количество значений в столбцах различается. Значит, в данных есть пропущенные значения.\n"
   ]
  },
  {
   "cell_type": "markdown",
   "metadata": {},
   "source": [
    "<div class=\"alert alert-danger\">\n",
    "<b>❌ Комментарий ревьюера v1:</b> \n",
    "<br>Здесь нужно указать на ещё одну проблему в написании названия колонок (пункт 3)\n",
    "</div>"
   ]
  },
  {
   "cell_type": "markdown",
   "metadata": {},
   "source": [
    "<div class=\"alert alert-danger\">\n",
    "<b>❌ Комментарий ревьюера v2:</b> \n",
    "<br>Не нашёл ответа на вопрос 😞\n",
    "</div>"
   ]
  },
  {
   "cell_type": "markdown",
   "metadata": {},
   "source": [
    "<div class=\"alert alert-warning\">\n",
    "<b>⚠️ Комментарий ревьюера v3:</b> \n",
    "<br>Тут проблема в том, что если название колонки состоит из нескольких слов, то мы их разделяем нижним подчеркиванием \"_\". Нужно использовать snake_case\n",
    "</div>"
   ]
  },
  {
   "cell_type": "markdown",
   "metadata": {
    "id": "MCB6-dXG_Zct"
   },
   "source": [
    "**Выводы**\n",
    "\n",
    "В каждой строке таблицы — данные о прослушанном треке. Часть колонок описывает саму композицию: название, исполнителя и жанр. Остальные данные рассказывают о пользователе: из какого он города, когда он слушал музыку. \n",
    "\n",
    "Предварительно можно утверждать, что, данных достаточно для проверки гипотез. Но встречаются пропуски в данных, а в названиях колонок — расхождения с хорошим стилем.\n",
    "\n",
    "Чтобы двигаться дальше, нужно устранить проблемы в данных."
   ]
  },
  {
   "cell_type": "markdown",
   "metadata": {
    "id": "SjYF6Ub9_Zct"
   },
   "source": [
    "## Предобработка данных\n",
    "Исправьте стиль в заголовках столбцов, исключите пропуски. Затем проверьте данные на дубликаты."
   ]
  },
  {
   "cell_type": "markdown",
   "metadata": {
    "id": "dIaKXr29_Zct"
   },
   "source": [
    "### Стиль заголовков\n",
    "Выведите на экран названия столбцов:"
   ]
  },
  {
   "cell_type": "code",
   "execution_count": 5,
   "metadata": {
    "id": "oKOTdF_Q_Zct"
   },
   "outputs": [
    {
     "data": {
      "text/plain": [
       "Index(['  userID', 'Track', 'artist', 'genre', '  City  ', 'time', 'Day'], dtype='object')"
      ]
     },
     "execution_count": 5,
     "metadata": {},
     "output_type": "execute_result"
    }
   ],
   "source": [
    "df.columns"
   ]
  },
  {
   "cell_type": "markdown",
   "metadata": {
    "id": "FPZA3ki8xe7T"
   },
   "source": [
    "<div class=\"alert alert-success\">\n",
    "<b>✔️ Комментарий ревьюера v1:</b> \n",
    "<br>Отлично, что здесь не использована функцию print() для вывода: ведь это последняя строчка ячейки.\n",
    "</div>"
   ]
  },
  {
   "cell_type": "markdown",
   "metadata": {
    "id": "zj5534cv_Zct"
   },
   "source": [
    "Приведите названия в соответствие с хорошим стилем:\n",
    "* несколько слов в названии запишите в «змеином_регистре»,\n",
    "* все символы сделайте строчными,\n",
    "* устраните пробелы.\n",
    "\n",
    "Для этого переименуйте колонки так:\n",
    "* `'  userID'` → `'user_id'`;\n",
    "* `'Track'` → `'track'`;\n",
    "* `'  City  '` → `'city'`;\n",
    "* `'Day'` → `'day'`."
   ]
  },
  {
   "cell_type": "code",
   "execution_count": 6,
   "metadata": {
    "id": "ISlFqs5y_Zct"
   },
   "outputs": [],
   "source": [
    "df=df.rename(columns={'  userID':'user_id','Track':'track','  City  ':'city','Day':'day'})"
   ]
  },
  {
   "cell_type": "markdown",
   "metadata": {
    "id": "1dqbh00J_Zct"
   },
   "source": [
    "Проверьте результат. Для этого ещё раз выведите на экран названия столбцов:"
   ]
  },
  {
   "cell_type": "code",
   "execution_count": 7,
   "metadata": {
    "id": "d4NOAmTW_Zct",
    "scrolled": true
   },
   "outputs": [
    {
     "name": "stdout",
     "output_type": "stream",
     "text": [
      "<class 'pandas.core.frame.DataFrame'>\n",
      "RangeIndex: 65079 entries, 0 to 65078\n",
      "Data columns (total 7 columns):\n",
      " #   Column   Non-Null Count  Dtype \n",
      "---  ------   --------------  ----- \n",
      " 0   user_id  65079 non-null  object\n",
      " 1   track    63848 non-null  object\n",
      " 2   artist   57876 non-null  object\n",
      " 3   genre    63881 non-null  object\n",
      " 4   city     65079 non-null  object\n",
      " 5   time     65079 non-null  object\n",
      " 6   day      65079 non-null  object\n",
      "dtypes: object(7)\n",
      "memory usage: 3.5+ MB\n"
     ]
    }
   ],
   "source": [
    "df.info()# проверка результатов - перечень названий столбцов"
   ]
  },
  {
   "cell_type": "markdown",
   "metadata": {
    "id": "5ISfbcfY_Zct"
   },
   "source": [
    "### Пропуски значений\n",
    "Сначала посчитайте, сколько в таблице пропущенных значений. Для этого достаточно двух методов `pandas`:"
   ]
  },
  {
   "cell_type": "code",
   "execution_count": 8,
   "metadata": {
    "id": "RskX29qr_Zct"
   },
   "outputs": [
    {
     "data": {
      "text/plain": [
       "user_id       0\n",
       "track      1231\n",
       "artist     7203\n",
       "genre      1198\n",
       "city          0\n",
       "time          0\n",
       "day           0\n",
       "dtype: int64"
      ]
     },
     "execution_count": 8,
     "metadata": {},
     "output_type": "execute_result"
    }
   ],
   "source": [
    "df.isna().sum()"
   ]
  },
  {
   "cell_type": "markdown",
   "metadata": {
    "id": "qubhgnlO_Zct"
   },
   "source": [
    "Не все пропущенные значения влияют на исследование. Так в `track` и `artist` пропуски не важны для вашей работы. Достаточно заменить их явными обозначениями.\n",
    "\n",
    "Но пропуски в `genre` могут помешать сравнению музыкальных вкусов в Москве и Санкт-Петербурге. На практике было бы правильно установить причину пропусков и восстановить данные. Такой возможности нет в учебном проекте. Придётся:\n",
    "* заполнить и эти пропуски явными обозначениями,\n",
    "* оценить, насколько они повредят расчётам. "
   ]
  },
  {
   "cell_type": "markdown",
   "metadata": {
    "id": "fSv2laPA_Zct"
   },
   "source": [
    "Замените пропущенные значения в столбцах `track`, `artist` и `genre` на строку `'unknown'`. Для этого создайте список `columns_to_replace`, переберите его элементы циклом `for` и для каждого столбца выполните замену пропущенных значений:"
   ]
  },
  {
   "cell_type": "code",
   "execution_count": 9,
   "metadata": {
    "id": "KplB5qWs_Zct",
    "scrolled": true
   },
   "outputs": [],
   "source": [
    "columns_to_replace = ['track', 'artist', 'genre']\n",
    "for column in columns_to_replace:\n",
    "    df[column] = df[column].fillna('unknown')"
   ]
  },
  {
   "cell_type": "markdown",
   "metadata": {
    "id": "Ilsm-MZo_Zct"
   },
   "source": [
    "Убедитесь, что в таблице не осталось пропусков. Для этого ещё раз посчитайте пропущенные значения."
   ]
  },
  {
   "cell_type": "code",
   "execution_count": 10,
   "metadata": {
    "id": "Tq4nYRX4_Zct"
   },
   "outputs": [
    {
     "data": {
      "text/plain": [
       "user_id    0\n",
       "track      0\n",
       "artist     0\n",
       "genre      0\n",
       "city       0\n",
       "time       0\n",
       "day        0\n",
       "dtype: int64"
      ]
     },
     "execution_count": 10,
     "metadata": {},
     "output_type": "execute_result"
    }
   ],
   "source": [
    "df.isna().sum()"
   ]
  },
  {
   "cell_type": "markdown",
   "metadata": {},
   "source": [
    "<div class=\"alert alert-success\">\n",
    "<b>✔️ Комментарий ревьюера v1:</b> \n",
    "<br>Пропуски заменены верно!\n",
    "</div>"
   ]
  },
  {
   "cell_type": "markdown",
   "metadata": {
    "id": "BWKRtBJ3_Zct"
   },
   "source": [
    "### Дубликаты\n",
    "Посчитайте явные дубликаты в таблице одной командой:"
   ]
  },
  {
   "cell_type": "code",
   "execution_count": 11,
   "metadata": {
    "id": "36eES_S0_Zct"
   },
   "outputs": [
    {
     "data": {
      "text/plain": [
       "3826"
      ]
     },
     "execution_count": 11,
     "metadata": {},
     "output_type": "execute_result"
    }
   ],
   "source": [
    "df.duplicated().sum()"
   ]
  },
  {
   "cell_type": "markdown",
   "metadata": {
    "id": "Ot25h6XR_Zct"
   },
   "source": [
    "Вызовите специальный метод `pandas`, чтобы удалить явные дубликаты:"
   ]
  },
  {
   "cell_type": "code",
   "execution_count": 12,
   "metadata": {
    "id": "exFHq6tt_Zct"
   },
   "outputs": [],
   "source": [
    "df.reset_index(drop=True, inplace=True)"
   ]
  },
  {
   "cell_type": "markdown",
   "metadata": {},
   "source": [
    "<div class=\"alert alert-danger\">\n",
    "<b>❌ Комментарий ревьюера v1:</b> \n",
    "<br>Обрати внимание, тебе нужно заново создать индексы. Воспользуйся для этого методом reset_index() задав параметр drop=True.\n",
    "</div>"
   ]
  },
  {
   "cell_type": "markdown",
   "metadata": {},
   "source": [
    "<div class=\"alert alert-success\">\n",
    "<b>✔️ Комментарий ревьюера v2:</b>\n",
    "<br>Отлично! Теперь всё верно)\n",
    "</div>"
   ]
  },
  {
   "cell_type": "markdown",
   "metadata": {
    "id": "Im2YwBEG_Zct"
   },
   "source": [
    "Ещё раз посчитайте явные дубликаты в таблице — убедитесь, что полностью от них избавились:"
   ]
  },
  {
   "cell_type": "code",
   "execution_count": 13,
   "metadata": {
    "id": "-8PuNWQ0_Zct"
   },
   "outputs": [
    {
     "data": {
      "text/plain": [
       "3826"
      ]
     },
     "execution_count": 13,
     "metadata": {},
     "output_type": "execute_result"
    }
   ],
   "source": [
    "df.duplicated().sum()"
   ]
  },
  {
   "cell_type": "markdown",
   "metadata": {
    "id": "QlFBsxAr_Zct"
   },
   "source": [
    "Теперь избавьтесь от неявных дубликатов в колонке `genre`. Например, название одного и того же жанра может быть записано немного по-разному. Такие ошибки тоже повлияют на результат исследования."
   ]
  },
  {
   "cell_type": "markdown",
   "metadata": {
    "id": "eSjWwsOh_Zct"
   },
   "source": [
    "Выведите на экран список уникальных названий жанров, отсортированный в алфавитном порядке. Для этого:\n",
    "* извлеките нужный столбец датафрейма, \n",
    "* примените к нему метод сортировки,\n",
    "* для отсортированного столбца вызовите метод, который вернёт уникальные значения из столбца."
   ]
  },
  {
   "cell_type": "code",
   "execution_count": 14,
   "metadata": {
    "id": "JIUcqzZN_Zct"
   },
   "outputs": [
    {
     "data": {
      "text/plain": [
       "array(['acid', 'acoustic', 'action', 'adult', 'africa', 'afrikaans',\n",
       "       'alternative', 'alternativepunk', 'ambient', 'americana',\n",
       "       'animated', 'anime', 'arabesk', 'arabic', 'arena',\n",
       "       'argentinetango', 'art', 'audiobook', 'author', 'avantgarde',\n",
       "       'axé', 'baile', 'balkan', 'beats', 'bigroom', 'black', 'bluegrass',\n",
       "       'blues', 'bollywood', 'bossa', 'brazilian', 'breakbeat', 'breaks',\n",
       "       'broadway', 'cantautori', 'cantopop', 'canzone', 'caribbean',\n",
       "       'caucasian', 'celtic', 'chamber', 'chanson', 'children', 'chill',\n",
       "       'chinese', 'choral', 'christian', 'christmas', 'classical',\n",
       "       'classicmetal', 'club', 'colombian', 'comedy', 'conjazz',\n",
       "       'contemporary', 'country', 'cuban', 'dance', 'dancehall',\n",
       "       'dancepop', 'dark', 'death', 'deep', 'deutschrock', 'deutschspr',\n",
       "       'dirty', 'disco', 'dnb', 'documentary', 'downbeat', 'downtempo',\n",
       "       'drum', 'dub', 'dubstep', 'eastern', 'easy', 'electronic',\n",
       "       'electropop', 'emo', 'entehno', 'epicmetal', 'estrada', 'ethnic',\n",
       "       'eurofolk', 'european', 'experimental', 'extrememetal', 'fado',\n",
       "       'fairytail', 'film', 'fitness', 'flamenco', 'folk', 'folklore',\n",
       "       'folkmetal', 'folkrock', 'folktronica', 'forró', 'frankreich',\n",
       "       'französisch', 'french', 'funk', 'future', 'gangsta', 'garage',\n",
       "       'german', 'ghazal', 'gitarre', 'glitch', 'gospel', 'gothic',\n",
       "       'grime', 'grunge', 'gypsy', 'handsup', \"hard'n'heavy\", 'hardcore',\n",
       "       'hardstyle', 'hardtechno', 'hip', 'hip-hop', 'hiphop',\n",
       "       'historisch', 'holiday', 'hop', 'horror', 'house', 'hymn', 'idm',\n",
       "       'independent', 'indian', 'indie', 'indipop', 'industrial',\n",
       "       'inspirational', 'instrumental', 'international', 'irish', 'jam',\n",
       "       'japanese', 'jazz', 'jewish', 'jpop', 'jungle', 'k-pop',\n",
       "       'karadeniz', 'karaoke', 'kayokyoku', 'korean', 'laiko', 'latin',\n",
       "       'latino', 'leftfield', 'local', 'lounge', 'loungeelectronic',\n",
       "       'lovers', 'malaysian', 'mandopop', 'marschmusik', 'meditative',\n",
       "       'mediterranean', 'melodic', 'metal', 'metalcore', 'mexican',\n",
       "       'middle', 'minimal', 'miscellaneous', 'modern', 'mood', 'mpb',\n",
       "       'muslim', 'native', 'neoklassik', 'neue', 'new', 'newage',\n",
       "       'newwave', 'nu', 'nujazz', 'numetal', 'oceania', 'old', 'opera',\n",
       "       'orchestral', 'other', 'piano', 'podcasts', 'pop', 'popdance',\n",
       "       'popelectronic', 'popeurodance', 'poprussian', 'post',\n",
       "       'posthardcore', 'postrock', 'power', 'progmetal', 'progressive',\n",
       "       'psychedelic', 'punjabi', 'punk', 'quebecois', 'ragga', 'ram',\n",
       "       'rancheras', 'rap', 'rave', 'reggae', 'reggaeton', 'regional',\n",
       "       'relax', 'religious', 'retro', 'rhythm', 'rnb', 'rnr', 'rock',\n",
       "       'rockabilly', 'rockalternative', 'rockindie', 'rockother',\n",
       "       'romance', 'roots', 'ruspop', 'rusrap', 'rusrock', 'russian',\n",
       "       'salsa', 'samba', 'scenic', 'schlager', 'self', 'sertanejo',\n",
       "       'shanson', 'shoegazing', 'showtunes', 'singer', 'ska', 'skarock',\n",
       "       'slow', 'smooth', 'soft', 'soul', 'soulful', 'sound', 'soundtrack',\n",
       "       'southern', 'specialty', 'speech', 'spiritual', 'sport',\n",
       "       'stonerrock', 'surf', 'swing', 'synthpop', 'synthrock',\n",
       "       'sängerportrait', 'tango', 'tanzorchester', 'taraftar', 'tatar',\n",
       "       'tech', 'techno', 'teen', 'thrash', 'top', 'traditional',\n",
       "       'tradjazz', 'trance', 'tribal', 'trip', 'triphop', 'tropical',\n",
       "       'türk', 'türkçe', 'ukrrock', 'unknown', 'urban', 'uzbek',\n",
       "       'variété', 'vi', 'videogame', 'vocal', 'western', 'world',\n",
       "       'worldbeat', 'ïîï', 'электроника'], dtype=object)"
      ]
     },
     "execution_count": 14,
     "metadata": {},
     "output_type": "execute_result"
    }
   ],
   "source": [
    "df['genre'].sort_values().unique()"
   ]
  },
  {
   "cell_type": "markdown",
   "metadata": {},
   "source": [
    "<div class=\"alert alert-danger\">\n",
    "<b>❌ Комментарий ревьюера v1:</b> \n",
    "<br>Нужно добавить метод .sort_values() для сортировки значений, чтобы было удобнее искать\n",
    "</div>"
   ]
  },
  {
   "cell_type": "markdown",
   "metadata": {},
   "source": [
    "<div class=\"alert alert-danger\">\n",
    "<b>❌ Комментарий ревьюера v2:</b> \n",
    "<br>нужно совместить оба метода\n",
    "    \n",
    "    df['genre'].sort_values().unique()\n",
    "    \n",
    "</div>"
   ]
  },
  {
   "cell_type": "markdown",
   "metadata": {},
   "source": [
    "<div class=\"alert alert-success\">\n",
    "<b>✔️ Комментарий ревьюера v3:</b>\n",
    "<br>Отлично! Теперь всё верно)\n",
    "</div>"
   ]
  },
  {
   "cell_type": "markdown",
   "metadata": {
    "id": "qej-Qmuo_Zct"
   },
   "source": [
    "Просмотрите список и найдите неявные дубликаты названия `hiphop`. Это могут быть названия с ошибками или альтернативные названия того же жанра.\n",
    "\n",
    "Вы увидите следующие неявные дубликаты:\n",
    "* *hip*,\n",
    "* *hop*,\n",
    "* *hip-hop*.\n",
    "\n",
    "Чтобы очистить от них таблицу, напишите функцию `replace_wrong_genres()` с двумя параметрами: \n",
    "* `wrong_genres` — список дубликатов,\n",
    "* `correct_genre` — строка с правильным значением.\n",
    "\n",
    "Функция должна исправить колонку `genre` в таблице `df`: заменить каждое значение из списка `wrong_genres` на значение из `correct_genre`."
   ]
  },
  {
   "cell_type": "code",
   "execution_count": 15,
   "metadata": {
    "id": "ErNDkmns_Zct"
   },
   "outputs": [
    {
     "data": {
      "text/html": [
       "<div>\n",
       "<style scoped>\n",
       "    .dataframe tbody tr th:only-of-type {\n",
       "        vertical-align: middle;\n",
       "    }\n",
       "\n",
       "    .dataframe tbody tr th {\n",
       "        vertical-align: top;\n",
       "    }\n",
       "\n",
       "    .dataframe thead th {\n",
       "        text-align: right;\n",
       "    }\n",
       "</style>\n",
       "<table border=\"1\" class=\"dataframe\">\n",
       "  <thead>\n",
       "    <tr style=\"text-align: right;\">\n",
       "      <th></th>\n",
       "      <th>user_id</th>\n",
       "      <th>track</th>\n",
       "      <th>artist</th>\n",
       "      <th>genre</th>\n",
       "      <th>city</th>\n",
       "      <th>time</th>\n",
       "      <th>day</th>\n",
       "    </tr>\n",
       "  </thead>\n",
       "  <tbody>\n",
       "    <tr>\n",
       "      <th>0</th>\n",
       "      <td>FFB692EC</td>\n",
       "      <td>Kamigata To Boots</td>\n",
       "      <td>The Mass Missile</td>\n",
       "      <td>rock</td>\n",
       "      <td>Saint-Petersburg</td>\n",
       "      <td>20:28:33</td>\n",
       "      <td>Wednesday</td>\n",
       "    </tr>\n",
       "    <tr>\n",
       "      <th>1</th>\n",
       "      <td>55204538</td>\n",
       "      <td>Delayed Because of Accident</td>\n",
       "      <td>Andreas Rönnberg</td>\n",
       "      <td>rock</td>\n",
       "      <td>Moscow</td>\n",
       "      <td>14:07:09</td>\n",
       "      <td>Friday</td>\n",
       "    </tr>\n",
       "    <tr>\n",
       "      <th>2</th>\n",
       "      <td>20EC38</td>\n",
       "      <td>Funiculì funiculà</td>\n",
       "      <td>Mario Lanza</td>\n",
       "      <td>pop</td>\n",
       "      <td>Saint-Petersburg</td>\n",
       "      <td>20:58:07</td>\n",
       "      <td>Wednesday</td>\n",
       "    </tr>\n",
       "    <tr>\n",
       "      <th>3</th>\n",
       "      <td>A3DD03C9</td>\n",
       "      <td>Dragons in the Sunset</td>\n",
       "      <td>Fire + Ice</td>\n",
       "      <td>folk</td>\n",
       "      <td>Saint-Petersburg</td>\n",
       "      <td>08:37:09</td>\n",
       "      <td>Monday</td>\n",
       "    </tr>\n",
       "    <tr>\n",
       "      <th>4</th>\n",
       "      <td>E2DC1FAE</td>\n",
       "      <td>Soul People</td>\n",
       "      <td>Space Echo</td>\n",
       "      <td>dance</td>\n",
       "      <td>Moscow</td>\n",
       "      <td>08:34:34</td>\n",
       "      <td>Monday</td>\n",
       "    </tr>\n",
       "    <tr>\n",
       "      <th>...</th>\n",
       "      <td>...</td>\n",
       "      <td>...</td>\n",
       "      <td>...</td>\n",
       "      <td>...</td>\n",
       "      <td>...</td>\n",
       "      <td>...</td>\n",
       "      <td>...</td>\n",
       "    </tr>\n",
       "    <tr>\n",
       "      <th>61248</th>\n",
       "      <td>729CBB09</td>\n",
       "      <td>My Name</td>\n",
       "      <td>McLean</td>\n",
       "      <td>rnb</td>\n",
       "      <td>Moscow</td>\n",
       "      <td>13:32:28</td>\n",
       "      <td>Wednesday</td>\n",
       "    </tr>\n",
       "    <tr>\n",
       "      <th>61249</th>\n",
       "      <td>D08D4A55</td>\n",
       "      <td>Maybe One Day (feat. Black Spade)</td>\n",
       "      <td>Blu &amp; Exile</td>\n",
       "      <td>hip</td>\n",
       "      <td>Saint-Petersburg</td>\n",
       "      <td>10:00:00</td>\n",
       "      <td>Monday</td>\n",
       "    </tr>\n",
       "    <tr>\n",
       "      <th>61250</th>\n",
       "      <td>C5E3A0D5</td>\n",
       "      <td>Jalopiina</td>\n",
       "      <td>unknown</td>\n",
       "      <td>industrial</td>\n",
       "      <td>Moscow</td>\n",
       "      <td>20:09:26</td>\n",
       "      <td>Friday</td>\n",
       "    </tr>\n",
       "    <tr>\n",
       "      <th>61251</th>\n",
       "      <td>321D0506</td>\n",
       "      <td>Freight Train</td>\n",
       "      <td>Chas McDevitt</td>\n",
       "      <td>rock</td>\n",
       "      <td>Moscow</td>\n",
       "      <td>21:43:59</td>\n",
       "      <td>Friday</td>\n",
       "    </tr>\n",
       "    <tr>\n",
       "      <th>61252</th>\n",
       "      <td>3A64EF84</td>\n",
       "      <td>Tell Me Sweet Little Lies</td>\n",
       "      <td>Monica Lopez</td>\n",
       "      <td>country</td>\n",
       "      <td>Moscow</td>\n",
       "      <td>21:59:46</td>\n",
       "      <td>Friday</td>\n",
       "    </tr>\n",
       "  </tbody>\n",
       "</table>\n",
       "<p>61253 rows × 7 columns</p>\n",
       "</div>"
      ],
      "text/plain": [
       "        user_id                              track            artist  \\\n",
       "0      FFB692EC                  Kamigata To Boots  The Mass Missile   \n",
       "1      55204538        Delayed Because of Accident  Andreas Rönnberg   \n",
       "2        20EC38                  Funiculì funiculà       Mario Lanza   \n",
       "3      A3DD03C9              Dragons in the Sunset        Fire + Ice   \n",
       "4      E2DC1FAE                        Soul People        Space Echo   \n",
       "...         ...                                ...               ...   \n",
       "61248  729CBB09                            My Name            McLean   \n",
       "61249  D08D4A55  Maybe One Day (feat. Black Spade)       Blu & Exile   \n",
       "61250  C5E3A0D5                          Jalopiina           unknown   \n",
       "61251  321D0506                      Freight Train     Chas McDevitt   \n",
       "61252  3A64EF84          Tell Me Sweet Little Lies      Monica Lopez   \n",
       "\n",
       "            genre              city      time        day  \n",
       "0            rock  Saint-Petersburg  20:28:33  Wednesday  \n",
       "1            rock            Moscow  14:07:09     Friday  \n",
       "2             pop  Saint-Petersburg  20:58:07  Wednesday  \n",
       "3            folk  Saint-Petersburg  08:37:09     Monday  \n",
       "4           dance            Moscow  08:34:34     Monday  \n",
       "...           ...               ...       ...        ...  \n",
       "61248         rnb            Moscow  13:32:28  Wednesday  \n",
       "61249         hip  Saint-Petersburg  10:00:00     Monday  \n",
       "61250  industrial            Moscow  20:09:26     Friday  \n",
       "61251        rock            Moscow  21:43:59     Friday  \n",
       "61252     country            Moscow  21:59:46     Friday  \n",
       "\n",
       "[61253 rows x 7 columns]"
      ]
     },
     "execution_count": 15,
     "metadata": {},
     "output_type": "execute_result"
    }
   ],
   "source": [
    "df.drop_duplicates().reset_index(drop=True) "
   ]
  },
  {
   "cell_type": "markdown",
   "metadata": {
    "id": "aDoBJxbA_Zct"
   },
   "source": [
    "Вызовите `replace_wrong_genres()` и передайте ей такие аргументы, чтобы она устранила неявные дубликаты: вместо `hip`, `hop` и `hip-hop` в таблице должно быть значение `hiphop`:"
   ]
  },
  {
   "cell_type": "code",
   "execution_count": 16,
   "metadata": {
    "id": "YN5i2hpmSo09"
   },
   "outputs": [],
   "source": [
    "def replace_wrong_genres(wrong_genres,correct_genre):\n",
    "    for wrong_genres in wrong_genres:\n",
    "        df['genre'] = df['genre'].replace(wrong_genres,correct_genre)\n",
    "duplicates=['hip','hop','hip-hop']\n",
    "genre='hiphop'\n",
    "replace_wrong_genres(duplicates,genre)"
   ]
  },
  {
   "cell_type": "markdown",
   "metadata": {},
   "source": [
    "<div class=\"alert alert-warning\">\n",
    "<b>⚠️ Комментарий ревьюера v1:</b> \n",
    "<br>Здесь можно заменить дубликаты не создавая дополнительные переменные:\n",
    "    \n",
    "    replace_wrong_genres(['hip', 'hop', 'hip-hop'], 'hiphop')\n",
    "</div>"
   ]
  },
  {
   "cell_type": "markdown",
   "metadata": {
    "id": "zQKF16_RG15m"
   },
   "source": [
    "Проверьте, что заменили неправильные названия:\n",
    "\n",
    "*   hip\n",
    "*   hop\n",
    "*   hip-hop\n",
    "\n",
    "Выведите отсортированный список уникальных значений столбца `genre`:"
   ]
  },
  {
   "cell_type": "code",
   "execution_count": 17,
   "metadata": {
    "id": "wvixALnFG15m"
   },
   "outputs": [
    {
     "data": {
      "text/plain": [
       "array(['acid', 'acoustic', 'action', 'adult', 'africa', 'afrikaans',\n",
       "       'alternative', 'alternativepunk', 'ambient', 'americana',\n",
       "       'animated', 'anime', 'arabesk', 'arabic', 'arena',\n",
       "       'argentinetango', 'art', 'audiobook', 'author', 'avantgarde',\n",
       "       'axé', 'baile', 'balkan', 'beats', 'bigroom', 'black', 'bluegrass',\n",
       "       'blues', 'bollywood', 'bossa', 'brazilian', 'breakbeat', 'breaks',\n",
       "       'broadway', 'cantautori', 'cantopop', 'canzone', 'caribbean',\n",
       "       'caucasian', 'celtic', 'chamber', 'chanson', 'children', 'chill',\n",
       "       'chinese', 'choral', 'christian', 'christmas', 'classical',\n",
       "       'classicmetal', 'club', 'colombian', 'comedy', 'conjazz',\n",
       "       'contemporary', 'country', 'cuban', 'dance', 'dancehall',\n",
       "       'dancepop', 'dark', 'death', 'deep', 'deutschrock', 'deutschspr',\n",
       "       'dirty', 'disco', 'dnb', 'documentary', 'downbeat', 'downtempo',\n",
       "       'drum', 'dub', 'dubstep', 'eastern', 'easy', 'electronic',\n",
       "       'electropop', 'emo', 'entehno', 'epicmetal', 'estrada', 'ethnic',\n",
       "       'eurofolk', 'european', 'experimental', 'extrememetal', 'fado',\n",
       "       'fairytail', 'film', 'fitness', 'flamenco', 'folk', 'folklore',\n",
       "       'folkmetal', 'folkrock', 'folktronica', 'forró', 'frankreich',\n",
       "       'französisch', 'french', 'funk', 'future', 'gangsta', 'garage',\n",
       "       'german', 'ghazal', 'gitarre', 'glitch', 'gospel', 'gothic',\n",
       "       'grime', 'grunge', 'gypsy', 'handsup', \"hard'n'heavy\", 'hardcore',\n",
       "       'hardstyle', 'hardtechno', 'hiphop', 'historisch', 'holiday',\n",
       "       'horror', 'house', 'hymn', 'idm', 'independent', 'indian', 'indie',\n",
       "       'indipop', 'industrial', 'inspirational', 'instrumental',\n",
       "       'international', 'irish', 'jam', 'japanese', 'jazz', 'jewish',\n",
       "       'jpop', 'jungle', 'k-pop', 'karadeniz', 'karaoke', 'kayokyoku',\n",
       "       'korean', 'laiko', 'latin', 'latino', 'leftfield', 'local',\n",
       "       'lounge', 'loungeelectronic', 'lovers', 'malaysian', 'mandopop',\n",
       "       'marschmusik', 'meditative', 'mediterranean', 'melodic', 'metal',\n",
       "       'metalcore', 'mexican', 'middle', 'minimal', 'miscellaneous',\n",
       "       'modern', 'mood', 'mpb', 'muslim', 'native', 'neoklassik', 'neue',\n",
       "       'new', 'newage', 'newwave', 'nu', 'nujazz', 'numetal', 'oceania',\n",
       "       'old', 'opera', 'orchestral', 'other', 'piano', 'podcasts', 'pop',\n",
       "       'popdance', 'popelectronic', 'popeurodance', 'poprussian', 'post',\n",
       "       'posthardcore', 'postrock', 'power', 'progmetal', 'progressive',\n",
       "       'psychedelic', 'punjabi', 'punk', 'quebecois', 'ragga', 'ram',\n",
       "       'rancheras', 'rap', 'rave', 'reggae', 'reggaeton', 'regional',\n",
       "       'relax', 'religious', 'retro', 'rhythm', 'rnb', 'rnr', 'rock',\n",
       "       'rockabilly', 'rockalternative', 'rockindie', 'rockother',\n",
       "       'romance', 'roots', 'ruspop', 'rusrap', 'rusrock', 'russian',\n",
       "       'salsa', 'samba', 'scenic', 'schlager', 'self', 'sertanejo',\n",
       "       'shanson', 'shoegazing', 'showtunes', 'singer', 'ska', 'skarock',\n",
       "       'slow', 'smooth', 'soft', 'soul', 'soulful', 'sound', 'soundtrack',\n",
       "       'southern', 'specialty', 'speech', 'spiritual', 'sport',\n",
       "       'stonerrock', 'surf', 'swing', 'synthpop', 'synthrock',\n",
       "       'sängerportrait', 'tango', 'tanzorchester', 'taraftar', 'tatar',\n",
       "       'tech', 'techno', 'teen', 'thrash', 'top', 'traditional',\n",
       "       'tradjazz', 'trance', 'tribal', 'trip', 'triphop', 'tropical',\n",
       "       'türk', 'türkçe', 'ukrrock', 'unknown', 'urban', 'uzbek',\n",
       "       'variété', 'vi', 'videogame', 'vocal', 'western', 'world',\n",
       "       'worldbeat', 'ïîï', 'электроника'], dtype=object)"
      ]
     },
     "execution_count": 17,
     "metadata": {},
     "output_type": "execute_result"
    }
   ],
   "source": [
    "df['genre'].sort_values().unique()"
   ]
  },
  {
   "cell_type": "markdown",
   "metadata": {},
   "source": [
    "<div class=\"alert alert-danger\">\n",
    "<b>❌ Комментарий ревьюера v1:</b> \n",
    "<br>Тут нужно вывести уникальные названия и отсортировать их\n",
    "</div>"
   ]
  },
  {
   "cell_type": "markdown",
   "metadata": {},
   "source": [
    "<div class=\"alert alert-danger\">\n",
    "<b>❌ Комментарий ревьюера v2:</b> \n",
    "<br>Нужно добавить метод sort_values\n",
    "</div>"
   ]
  },
  {
   "cell_type": "markdown",
   "metadata": {},
   "source": [
    "<div class=\"alert alert-success\">\n",
    "<b>✔️ Комментарий ревьюера v3:</b>\n",
    "<br>Здесь тоже всё верно)\n",
    "</div>"
   ]
  },
  {
   "cell_type": "markdown",
   "metadata": {
    "id": "jz6a9-7HQUDd"
   },
   "source": [
    "**Выводы**\n",
    "\n",
    "Предобработка обнаружила три проблемы в данных:\n",
    "\n",
    "- нарушения в стиле заголовков,\n",
    "- пропущенные значения,\n",
    "- дубликаты — явные и неявные.\n",
    "\n",
    "Вы исправили заголовки, чтобы упростить работу с таблицей. Без дубликатов исследование станет более точным.\n",
    "\n",
    "Пропущенные значения вы заменили на `'unknown'`. Ещё предстоит увидеть, не повредят ли исследованию пропуски в колонке `genre`.\n",
    "\n",
    "Теперь можно перейти к проверке гипотез. "
   ]
  },
  {
   "cell_type": "markdown",
   "metadata": {},
   "source": [
    "<div class=\"alert alert-success\">\n",
    "<b>✔️ Комментарий ревьюера v1:</b> \n",
    "<br>Супер! От дубликатов избавились)\n",
    "</div>"
   ]
  },
  {
   "cell_type": "markdown",
   "metadata": {
    "id": "WttZHXH0SqKk"
   },
   "source": [
    "## Проверка гипотез"
   ]
  },
  {
   "cell_type": "markdown",
   "metadata": {
    "id": "Im936VVi_Zcu"
   },
   "source": [
    "### Сравнение поведения пользователей двух столиц"
   ]
  },
  {
   "cell_type": "markdown",
   "metadata": {
    "id": "nwt_MuaL_Zcu"
   },
   "source": [
    "Первая гипотеза утверждает, что пользователи по-разному слушают музыку в Москве и Санкт-Петербурге. Проверьте это предположение по данным о трёх днях недели — понедельнике, среде и пятнице. Для этого:\n",
    "\n",
    "* Разделите пользователей Москвы и Санкт-Петербурга\n",
    "* Сравните, сколько треков послушала каждая группа пользователей в понедельник, среду и пятницу.\n"
   ]
  },
  {
   "cell_type": "markdown",
   "metadata": {
    "id": "8Dw_YMmT_Zcu"
   },
   "source": [
    "Для тренировки сначала выполните каждый из расчётов по отдельности. \n",
    "\n",
    "Оцените активность пользователей в каждом городе. Сгруппируйте данные по городу и посчитайте прослушивания в каждой группе.\n",
    "\n"
   ]
  },
  {
   "cell_type": "code",
   "execution_count": 18,
   "metadata": {
    "id": "0_Qs96oh_Zcu",
    "scrolled": true
   },
   "outputs": [
    {
     "data": {
      "text/html": [
       "<div>\n",
       "<style scoped>\n",
       "    .dataframe tbody tr th:only-of-type {\n",
       "        vertical-align: middle;\n",
       "    }\n",
       "\n",
       "    .dataframe tbody tr th {\n",
       "        vertical-align: top;\n",
       "    }\n",
       "\n",
       "    .dataframe thead th {\n",
       "        text-align: right;\n",
       "    }\n",
       "</style>\n",
       "<table border=\"1\" class=\"dataframe\">\n",
       "  <thead>\n",
       "    <tr style=\"text-align: right;\">\n",
       "      <th></th>\n",
       "      <th>user_id</th>\n",
       "      <th>track</th>\n",
       "      <th>artist</th>\n",
       "      <th>genre</th>\n",
       "      <th>time</th>\n",
       "      <th>day</th>\n",
       "    </tr>\n",
       "    <tr>\n",
       "      <th>city</th>\n",
       "      <th></th>\n",
       "      <th></th>\n",
       "      <th></th>\n",
       "      <th></th>\n",
       "      <th></th>\n",
       "      <th></th>\n",
       "    </tr>\n",
       "  </thead>\n",
       "  <tbody>\n",
       "    <tr>\n",
       "      <th>Moscow</th>\n",
       "      <td>45360</td>\n",
       "      <td>45360</td>\n",
       "      <td>45360</td>\n",
       "      <td>45360</td>\n",
       "      <td>45360</td>\n",
       "      <td>45360</td>\n",
       "    </tr>\n",
       "    <tr>\n",
       "      <th>Saint-Petersburg</th>\n",
       "      <td>19719</td>\n",
       "      <td>19719</td>\n",
       "      <td>19719</td>\n",
       "      <td>19719</td>\n",
       "      <td>19719</td>\n",
       "      <td>19719</td>\n",
       "    </tr>\n",
       "  </tbody>\n",
       "</table>\n",
       "</div>"
      ],
      "text/plain": [
       "                  user_id  track  artist  genre   time    day\n",
       "city                                                         \n",
       "Moscow              45360  45360   45360  45360  45360  45360\n",
       "Saint-Petersburg    19719  19719   19719  19719  19719  19719"
      ]
     },
     "execution_count": 18,
     "metadata": {},
     "output_type": "execute_result"
    }
   ],
   "source": [
    "df.groupby('city',).count()"
   ]
  },
  {
   "cell_type": "markdown",
   "metadata": {
    "id": "dzli3w8o_Zcu"
   },
   "source": [
    "В Москве прослушиваний больше, чем в Петербурге. Из этого не следует, что московские пользователи чаще слушают музыку. Просто самих пользователей в Москве больше.\n",
    "\n",
    "Теперь сгруппируйте данные по дню недели и подсчитайте прослушивания в понедельник, среду и пятницу. Учтите, что в данных есть информация о прослушиваниях только за эти дни.\n"
   ]
  },
  {
   "cell_type": "code",
   "execution_count": 19,
   "metadata": {
    "id": "uZMKjiJz_Zcu",
    "scrolled": true
   },
   "outputs": [
    {
     "data": {
      "text/plain": [
       "day\n",
       "Friday       23149\n",
       "Monday       22697\n",
       "Wednesday    19233\n",
       "Name: user_id, dtype: int64"
      ]
     },
     "execution_count": 19,
     "metadata": {},
     "output_type": "execute_result"
    }
   ],
   "source": [
    "df.groupby('day')['user_id'].count()"
   ]
  },
  {
   "cell_type": "markdown",
   "metadata": {},
   "source": [
    "<div class=\"alert alert-danger\">\n",
    "<b>❌ Комментарий ревьюера v1:</b> \n",
    "<br>Ты сгруппировал данные по городу и дню, теперь остаётся выбрать любой столбец для каждой таблицы, чтобы в итоге у тебя выводился только один столбец)\n",
    "</div>"
   ]
  },
  {
   "cell_type": "markdown",
   "metadata": {},
   "source": [
    "<div class=\"alert alert-success\">\n",
    "<b>✔️ Комментарий ревьюера v2:</b>\n",
    "<br>Супер! Аналогично нужно было сделать и для задания выше\n",
    "</div>"
   ]
  },
  {
   "cell_type": "markdown",
   "metadata": {
    "id": "cC2tNrlL_Zcu"
   },
   "source": [
    "В среднем пользователи из двух городов менее активны по средам. Но картина может измениться, если рассмотреть каждый город в отдельности."
   ]
  },
  {
   "cell_type": "markdown",
   "metadata": {
    "id": "POzs8bGa_Zcu"
   },
   "source": [
    "Вы видели, как работает группировка по городу и по дням недели. Теперь напишите функцию, которая объединит два эти расчёта.\n",
    "\n",
    "Создайте функцию `number_tracks()`, которая посчитает прослушивания для заданного дня и города. Ей понадобятся два параметра:\n",
    "* день недели,\n",
    "* название города.\n",
    "\n",
    "В функции сохраните в переменную строки исходной таблицы, у которых значение:\n",
    "  * в колонке `day` равно параметру `day`,\n",
    "  * в колонке `city` равно параметру `city`.\n",
    "\n",
    "Для этого примените последовательную фильтрацию с логической индексацией.\n",
    "\n",
    "Затем посчитайте значения в столбце `user_id` получившейся таблицы. Результат сохраните в новую переменную. Верните эту переменную из функции."
   ]
  },
  {
   "cell_type": "code",
   "execution_count": 20,
   "metadata": {
    "id": "Nz3GdQB1_Zcu"
   },
   "outputs": [],
   "source": [
    "def number_tracks(day, city):\n",
    "    track_list = df.loc[df['day'] == day]\n",
    "    track_list = track_list.loc[track_list['city'] == city]\n",
    "    track_list_count = track_list['user_id'].count()\n",
    "    return track_list_count"
   ]
  },
  {
   "cell_type": "markdown",
   "metadata": {},
   "source": [
    "<div class=\"alert alert-danger\">\n",
    "<b>❌ Комментарий ревьюера v1:</b> \n",
    "<br>Код падает с ошибкой. Поправь, пожалуйста\n",
    "</div>"
   ]
  },
  {
   "cell_type": "markdown",
   "metadata": {},
   "source": [
    "<div class=\"alert alert-success\">\n",
    "<b>✔️ Комментарий ревьюера v2:</b>\n",
    "<br>Отлично! Теперь всё работает)\n",
    "</div>"
   ]
  },
  {
   "cell_type": "markdown",
   "metadata": {
    "id": "ytf7xFrFJQ2r"
   },
   "source": [
    "Вызовите `number_tracks()` шесть раз, меняя значение параметров — так, чтобы получить данные для каждого города в каждый из трёх дней."
   ]
  },
  {
   "cell_type": "code",
   "execution_count": 21,
   "metadata": {
    "id": "rJcRATNQ_Zcu"
   },
   "outputs": [
    {
     "data": {
      "text/plain": [
       "16715"
      ]
     },
     "execution_count": 21,
     "metadata": {},
     "output_type": "execute_result"
    }
   ],
   "source": [
    "number_tracks('Monday', 'Moscow')"
   ]
  },
  {
   "cell_type": "code",
   "execution_count": 22,
   "metadata": {
    "id": "hq_ncZ5T_Zcu"
   },
   "outputs": [
    {
     "data": {
      "text/plain": [
       "5982"
      ]
     },
     "execution_count": 22,
     "metadata": {},
     "output_type": "execute_result"
    }
   ],
   "source": [
    "number_tracks('Monday', 'Saint-Petersburg')"
   ]
  },
  {
   "cell_type": "code",
   "execution_count": 23,
   "metadata": {
    "id": "_NTy2VPU_Zcu"
   },
   "outputs": [
    {
     "data": {
      "text/plain": [
       "11755"
      ]
     },
     "execution_count": 23,
     "metadata": {},
     "output_type": "execute_result"
    }
   ],
   "source": [
    "number_tracks('Wednesday', 'Moscow')"
   ]
  },
  {
   "cell_type": "code",
   "execution_count": 24,
   "metadata": {
    "id": "j2y3TAwo_Zcu"
   },
   "outputs": [
    {
     "data": {
      "text/plain": [
       "7478"
      ]
     },
     "execution_count": 24,
     "metadata": {},
     "output_type": "execute_result"
    }
   ],
   "source": [
    "number_tracks('Wednesday', 'Saint-Petersburg')"
   ]
  },
  {
   "cell_type": "code",
   "execution_count": 25,
   "metadata": {
    "id": "vYDw5u_K_Zcu"
   },
   "outputs": [
    {
     "data": {
      "text/plain": [
       "16890"
      ]
     },
     "execution_count": 25,
     "metadata": {},
     "output_type": "execute_result"
    }
   ],
   "source": [
    "number_tracks('Friday', 'Moscow')"
   ]
  },
  {
   "cell_type": "code",
   "execution_count": 26,
   "metadata": {
    "id": "8_yzFtW3_Zcu"
   },
   "outputs": [
    {
     "data": {
      "text/plain": [
       "6259"
      ]
     },
     "execution_count": 26,
     "metadata": {},
     "output_type": "execute_result"
    }
   ],
   "source": [
    "number_tracks('Friday', 'Saint-Petersburg')"
   ]
  },
  {
   "cell_type": "markdown",
   "metadata": {
    "id": "7QXffbO-_Zcu"
   },
   "source": [
    "Создайте c помощью конструктора `pd.DataFrame` таблицу, где\n",
    "* названия колонок — `['city', 'monday', 'wednesday', 'friday']`;\n",
    "* данные — результаты, которые вы получили с помощью `number_tracks`."
   ]
  },
  {
   "cell_type": "code",
   "execution_count": 27,
   "metadata": {
    "id": "APAcLpOr_Zcu"
   },
   "outputs": [
    {
     "data": {
      "text/html": [
       "<div>\n",
       "<style scoped>\n",
       "    .dataframe tbody tr th:only-of-type {\n",
       "        vertical-align: middle;\n",
       "    }\n",
       "\n",
       "    .dataframe tbody tr th {\n",
       "        vertical-align: top;\n",
       "    }\n",
       "\n",
       "    .dataframe thead th {\n",
       "        text-align: right;\n",
       "    }\n",
       "</style>\n",
       "<table border=\"1\" class=\"dataframe\">\n",
       "  <thead>\n",
       "    <tr style=\"text-align: right;\">\n",
       "      <th></th>\n",
       "      <th>user_id</th>\n",
       "      <th>track</th>\n",
       "      <th>artist</th>\n",
       "      <th>genre</th>\n",
       "      <th>city</th>\n",
       "      <th>time</th>\n",
       "      <th>day</th>\n",
       "    </tr>\n",
       "  </thead>\n",
       "  <tbody>\n",
       "    <tr>\n",
       "      <th>0</th>\n",
       "      <td>FFB692EC</td>\n",
       "      <td>Kamigata To Boots</td>\n",
       "      <td>The Mass Missile</td>\n",
       "      <td>rock</td>\n",
       "      <td>Saint-Petersburg</td>\n",
       "      <td>20:28:33</td>\n",
       "      <td>Wednesday</td>\n",
       "    </tr>\n",
       "    <tr>\n",
       "      <th>1</th>\n",
       "      <td>55204538</td>\n",
       "      <td>Delayed Because of Accident</td>\n",
       "      <td>Andreas Rönnberg</td>\n",
       "      <td>rock</td>\n",
       "      <td>Moscow</td>\n",
       "      <td>14:07:09</td>\n",
       "      <td>Friday</td>\n",
       "    </tr>\n",
       "    <tr>\n",
       "      <th>2</th>\n",
       "      <td>20EC38</td>\n",
       "      <td>Funiculì funiculà</td>\n",
       "      <td>Mario Lanza</td>\n",
       "      <td>pop</td>\n",
       "      <td>Saint-Petersburg</td>\n",
       "      <td>20:58:07</td>\n",
       "      <td>Wednesday</td>\n",
       "    </tr>\n",
       "    <tr>\n",
       "      <th>3</th>\n",
       "      <td>A3DD03C9</td>\n",
       "      <td>Dragons in the Sunset</td>\n",
       "      <td>Fire + Ice</td>\n",
       "      <td>folk</td>\n",
       "      <td>Saint-Petersburg</td>\n",
       "      <td>08:37:09</td>\n",
       "      <td>Monday</td>\n",
       "    </tr>\n",
       "    <tr>\n",
       "      <th>4</th>\n",
       "      <td>E2DC1FAE</td>\n",
       "      <td>Soul People</td>\n",
       "      <td>Space Echo</td>\n",
       "      <td>dance</td>\n",
       "      <td>Moscow</td>\n",
       "      <td>08:34:34</td>\n",
       "      <td>Monday</td>\n",
       "    </tr>\n",
       "  </tbody>\n",
       "</table>\n",
       "</div>"
      ],
      "text/plain": [
       "    user_id                        track            artist  genre  \\\n",
       "0  FFB692EC            Kamigata To Boots  The Mass Missile   rock   \n",
       "1  55204538  Delayed Because of Accident  Andreas Rönnberg   rock   \n",
       "2    20EC38            Funiculì funiculà       Mario Lanza    pop   \n",
       "3  A3DD03C9        Dragons in the Sunset        Fire + Ice   folk   \n",
       "4  E2DC1FAE                  Soul People        Space Echo  dance   \n",
       "\n",
       "               city      time        day  \n",
       "0  Saint-Petersburg  20:28:33  Wednesday  \n",
       "1            Moscow  14:07:09     Friday  \n",
       "2  Saint-Petersburg  20:58:07  Wednesday  \n",
       "3  Saint-Petersburg  08:37:09     Monday  \n",
       "4            Moscow  08:34:34     Monday  "
      ]
     },
     "execution_count": 27,
     "metadata": {},
     "output_type": "execute_result"
    }
   ],
   "source": [
    "data = [['Moscow', 15740, 11056, 15945],\n",
    "        ['Saint-Petersburg', 5614, 7003, 5895]] \n",
    "columns = ['city', 'monday', 'wednesday', 'friday'] \n",
    "table = pd.DataFrame(data = data, columns = columns) \n",
    "df.head()"
   ]
  },
  {
   "cell_type": "markdown",
   "metadata": {},
   "source": [
    "<div class=\"alert alert-success\">\n",
    "<b>✔️ Комментарий ревьюера v1:</b> \n",
    "<br>Датафрейм построен верно, но выводишь ты не его)\n",
    "</div>"
   ]
  },
  {
   "cell_type": "markdown",
   "metadata": {
    "id": "-EgPIHYu_Zcu"
   },
   "source": [
    "**Выводы**\n",
    "\n",
    "Данные показывают разницу поведения пользователей:\n",
    "\n",
    "- В Москве пик прослушиваний приходится на понедельник и пятницу, а в среду заметен спад.\n",
    "- В Петербурге, наоборот, больше слушают музыку по средам. Активность в понедельник и пятницу здесь почти в равной мере уступает среде.\n",
    "\n",
    "Значит, данные говорят в пользу первой гипотезы."
   ]
  },
  {
   "cell_type": "markdown",
   "metadata": {
    "id": "atZAxtq4_Zcu"
   },
   "source": [
    "### Музыка в начале и в конце недели"
   ]
  },
  {
   "cell_type": "markdown",
   "metadata": {
    "id": "eXrQqXFH_Zcu"
   },
   "source": [
    "Согласно второй гипотезе, утром в понедельник в Москве преобладают одни жанры, а в Петербурге — другие. Так же и вечером пятницы преобладают разные жанры — в зависимости от города."
   ]
  },
  {
   "cell_type": "markdown",
   "metadata": {
    "id": "S8UcW6Hw_Zcu"
   },
   "source": [
    "Сохраните таблицы с данными в две переменные:\n",
    "* по Москве — в `moscow_general`;\n",
    "* по Санкт-Петербургу — в `spb_general`."
   ]
  },
  {
   "cell_type": "code",
   "execution_count": 28,
   "metadata": {
    "id": "qeaFfM_P_Zcu",
    "scrolled": true
   },
   "outputs": [
    {
     "data": {
      "text/html": [
       "<div>\n",
       "<style scoped>\n",
       "    .dataframe tbody tr th:only-of-type {\n",
       "        vertical-align: middle;\n",
       "    }\n",
       "\n",
       "    .dataframe tbody tr th {\n",
       "        vertical-align: top;\n",
       "    }\n",
       "\n",
       "    .dataframe thead th {\n",
       "        text-align: right;\n",
       "    }\n",
       "</style>\n",
       "<table border=\"1\" class=\"dataframe\">\n",
       "  <thead>\n",
       "    <tr style=\"text-align: right;\">\n",
       "      <th></th>\n",
       "      <th>user_id</th>\n",
       "      <th>track</th>\n",
       "      <th>artist</th>\n",
       "      <th>genre</th>\n",
       "      <th>city</th>\n",
       "      <th>time</th>\n",
       "      <th>day</th>\n",
       "    </tr>\n",
       "  </thead>\n",
       "  <tbody>\n",
       "    <tr>\n",
       "      <th>1</th>\n",
       "      <td>55204538</td>\n",
       "      <td>Delayed Because of Accident</td>\n",
       "      <td>Andreas Rönnberg</td>\n",
       "      <td>rock</td>\n",
       "      <td>Moscow</td>\n",
       "      <td>14:07:09</td>\n",
       "      <td>Friday</td>\n",
       "    </tr>\n",
       "    <tr>\n",
       "      <th>4</th>\n",
       "      <td>E2DC1FAE</td>\n",
       "      <td>Soul People</td>\n",
       "      <td>Space Echo</td>\n",
       "      <td>dance</td>\n",
       "      <td>Moscow</td>\n",
       "      <td>08:34:34</td>\n",
       "      <td>Monday</td>\n",
       "    </tr>\n",
       "    <tr>\n",
       "      <th>6</th>\n",
       "      <td>4CB90AA5</td>\n",
       "      <td>True</td>\n",
       "      <td>Roman Messer</td>\n",
       "      <td>dance</td>\n",
       "      <td>Moscow</td>\n",
       "      <td>13:00:07</td>\n",
       "      <td>Wednesday</td>\n",
       "    </tr>\n",
       "    <tr>\n",
       "      <th>7</th>\n",
       "      <td>F03E1C1F</td>\n",
       "      <td>Feeling This Way</td>\n",
       "      <td>Polina Griffith</td>\n",
       "      <td>dance</td>\n",
       "      <td>Moscow</td>\n",
       "      <td>20:47:49</td>\n",
       "      <td>Wednesday</td>\n",
       "    </tr>\n",
       "    <tr>\n",
       "      <th>8</th>\n",
       "      <td>8FA1D3BE</td>\n",
       "      <td>И вновь продолжается бой</td>\n",
       "      <td>unknown</td>\n",
       "      <td>ruspop</td>\n",
       "      <td>Moscow</td>\n",
       "      <td>09:17:40</td>\n",
       "      <td>Friday</td>\n",
       "    </tr>\n",
       "  </tbody>\n",
       "</table>\n",
       "</div>"
      ],
      "text/plain": [
       "    user_id                        track            artist   genre    city  \\\n",
       "1  55204538  Delayed Because of Accident  Andreas Rönnberg    rock  Moscow   \n",
       "4  E2DC1FAE                  Soul People        Space Echo   dance  Moscow   \n",
       "6  4CB90AA5                         True      Roman Messer   dance  Moscow   \n",
       "7  F03E1C1F             Feeling This Way   Polina Griffith   dance  Moscow   \n",
       "8  8FA1D3BE     И вновь продолжается бой           unknown  ruspop  Moscow   \n",
       "\n",
       "       time        day  \n",
       "1  14:07:09     Friday  \n",
       "4  08:34:34     Monday  \n",
       "6  13:00:07  Wednesday  \n",
       "7  20:47:49  Wednesday  \n",
       "8  09:17:40     Friday  "
      ]
     },
     "execution_count": 28,
     "metadata": {},
     "output_type": "execute_result"
    }
   ],
   "source": [
    "moscow_general = df[df['city'] == 'Moscow']\n",
    "moscow_general.head()"
   ]
  },
  {
   "cell_type": "code",
   "execution_count": 29,
   "metadata": {
    "id": "ORaVRKto_Zcu"
   },
   "outputs": [
    {
     "data": {
      "text/html": [
       "<div>\n",
       "<style scoped>\n",
       "    .dataframe tbody tr th:only-of-type {\n",
       "        vertical-align: middle;\n",
       "    }\n",
       "\n",
       "    .dataframe tbody tr th {\n",
       "        vertical-align: top;\n",
       "    }\n",
       "\n",
       "    .dataframe thead th {\n",
       "        text-align: right;\n",
       "    }\n",
       "</style>\n",
       "<table border=\"1\" class=\"dataframe\">\n",
       "  <thead>\n",
       "    <tr style=\"text-align: right;\">\n",
       "      <th></th>\n",
       "      <th>user_id</th>\n",
       "      <th>track</th>\n",
       "      <th>artist</th>\n",
       "      <th>genre</th>\n",
       "      <th>city</th>\n",
       "      <th>time</th>\n",
       "      <th>day</th>\n",
       "    </tr>\n",
       "  </thead>\n",
       "  <tbody>\n",
       "    <tr>\n",
       "      <th>0</th>\n",
       "      <td>FFB692EC</td>\n",
       "      <td>Kamigata To Boots</td>\n",
       "      <td>The Mass Missile</td>\n",
       "      <td>rock</td>\n",
       "      <td>Saint-Petersburg</td>\n",
       "      <td>20:28:33</td>\n",
       "      <td>Wednesday</td>\n",
       "    </tr>\n",
       "    <tr>\n",
       "      <th>2</th>\n",
       "      <td>20EC38</td>\n",
       "      <td>Funiculì funiculà</td>\n",
       "      <td>Mario Lanza</td>\n",
       "      <td>pop</td>\n",
       "      <td>Saint-Petersburg</td>\n",
       "      <td>20:58:07</td>\n",
       "      <td>Wednesday</td>\n",
       "    </tr>\n",
       "    <tr>\n",
       "      <th>3</th>\n",
       "      <td>A3DD03C9</td>\n",
       "      <td>Dragons in the Sunset</td>\n",
       "      <td>Fire + Ice</td>\n",
       "      <td>folk</td>\n",
       "      <td>Saint-Petersburg</td>\n",
       "      <td>08:37:09</td>\n",
       "      <td>Monday</td>\n",
       "    </tr>\n",
       "    <tr>\n",
       "      <th>5</th>\n",
       "      <td>842029A1</td>\n",
       "      <td>Преданная</td>\n",
       "      <td>IMPERVTOR</td>\n",
       "      <td>rusrap</td>\n",
       "      <td>Saint-Petersburg</td>\n",
       "      <td>13:09:41</td>\n",
       "      <td>Friday</td>\n",
       "    </tr>\n",
       "    <tr>\n",
       "      <th>9</th>\n",
       "      <td>E772D5C0</td>\n",
       "      <td>Pessimist</td>\n",
       "      <td>unknown</td>\n",
       "      <td>dance</td>\n",
       "      <td>Saint-Petersburg</td>\n",
       "      <td>21:20:49</td>\n",
       "      <td>Wednesday</td>\n",
       "    </tr>\n",
       "  </tbody>\n",
       "</table>\n",
       "</div>"
      ],
      "text/plain": [
       "    user_id                  track            artist   genre  \\\n",
       "0  FFB692EC      Kamigata To Boots  The Mass Missile    rock   \n",
       "2    20EC38      Funiculì funiculà       Mario Lanza     pop   \n",
       "3  A3DD03C9  Dragons in the Sunset        Fire + Ice    folk   \n",
       "5  842029A1              Преданная         IMPERVTOR  rusrap   \n",
       "9  E772D5C0              Pessimist           unknown   dance   \n",
       "\n",
       "               city      time        day  \n",
       "0  Saint-Petersburg  20:28:33  Wednesday  \n",
       "2  Saint-Petersburg  20:58:07  Wednesday  \n",
       "3  Saint-Petersburg  08:37:09     Monday  \n",
       "5  Saint-Petersburg  13:09:41     Friday  \n",
       "9  Saint-Petersburg  21:20:49  Wednesday  "
      ]
     },
     "execution_count": 29,
     "metadata": {},
     "output_type": "execute_result"
    }
   ],
   "source": [
    "spb_general = df[df['city'] == 'Saint-Petersburg']\n",
    "spb_general.head()"
   ]
  },
  {
   "cell_type": "markdown",
   "metadata": {
    "id": "MEJV-CX2_Zcu"
   },
   "source": [
    "Создайте функцию `genre_weekday()` с четырьмя параметрами:\n",
    "* таблица (датафрейм) с данными,\n",
    "* день недели,\n",
    "* начальная временная метка в формате 'hh:mm', \n",
    "* последняя временная метка в формате 'hh:mm'.\n",
    "\n",
    "Функция должна вернуть информацию о топ-10 жанров тех треков, которые прослушивали в указанный день, в промежутке между двумя отметками времени."
   ]
  },
  {
   "cell_type": "code",
   "execution_count": 30,
   "metadata": {
    "id": "laJT9BYl_Zcu"
   },
   "outputs": [],
   "source": [
    "def genre_weekday(table, day, time1, time2):\n",
    "    genre_df = table[table['day'] == day]\n",
    "    genre_df = genre_df[genre_df['time'] > time1]\n",
    "    genre_df = genre_df[genre_df['time'] < time2]\n",
    "    genre_df_count = genre_df.groupby('genre')['genre'].count()\n",
    "    genre_df_sorted = genre_df_count.sort_values(ascending=False)\n",
    "    return genre_df_sorted.head(10)"
   ]
  },
  {
   "cell_type": "markdown",
   "metadata": {},
   "source": [
    "<div class=\"alert alert-success\">\n",
    "<b>✔️ Комментарий ревьюера v1: </b> \n",
    "<br>Замечательно! Здесь тоже все верно.\n",
    "</div>\n",
    "\n",
    "<div class=\"alert alert-warning\">\n",
    "<b>⚠️ Комментарий ревьюера v1:</b> \n",
    "<br>Как можно это сделать другим способом:\n",
    "<br>1. В одну строку: \n",
    "    \n",
    "    genre_df = table[(table['day'] == day) & (table['time'] > time1) & (table['time'] < time2)]\n",
    "<br>2. Через метод query(): \n",
    "\n",
    "    genre_df = table.query('@day==day and @time1 < time < @time2')\n",
    "<br>Метод query вы будете изучать в следующем спринте, а пока про него можно почитать в документации pandas:\n",
    "\n",
    "\thttps://pandas.pydata.org/docs/reference/api/pandas.DataFrame.query.html\n",
    "</div>"
   ]
  },
  {
   "cell_type": "markdown",
   "metadata": {
    "id": "la2s2_PF_Zcu"
   },
   "source": [
    "Cравните результаты функции `genre_weekday()` для Москвы и Санкт-Петербурга в понедельник утром (с 7:00 до 11:00) и в пятницу вечером (с 17:00 до 23:00):"
   ]
  },
  {
   "cell_type": "code",
   "execution_count": 31,
   "metadata": {
    "id": "yz7itPUQ_Zcu"
   },
   "outputs": [
    {
     "data": {
      "text/plain": [
       "genre\n",
       "pop            830\n",
       "dance          589\n",
       "rock           511\n",
       "electronic     501\n",
       "hiphop         311\n",
       "ruspop         203\n",
       "world          190\n",
       "rusrap         188\n",
       "alternative    175\n",
       "unknown        172\n",
       "Name: genre, dtype: int64"
      ]
     },
     "execution_count": 31,
     "metadata": {},
     "output_type": "execute_result"
    }
   ],
   "source": [
    "genre_weekday(moscow_general, 'Monday', '07:00', '11:00')"
   ]
  },
  {
   "cell_type": "code",
   "execution_count": 32,
   "metadata": {
    "id": "kwUcHPdy_Zcu"
   },
   "outputs": [
    {
     "data": {
      "text/plain": [
       "genre\n",
       "pop            238\n",
       "dance          192\n",
       "rock           173\n",
       "electronic     154\n",
       "hiphop          88\n",
       "ruspop          68\n",
       "alternative     65\n",
       "rusrap          56\n",
       "jazz            47\n",
       "classical       42\n",
       "Name: genre, dtype: int64"
      ]
     },
     "execution_count": 32,
     "metadata": {},
     "output_type": "execute_result"
    }
   ],
   "source": [
    "genre_weekday(spb_general, 'Monday', '07:00', '11:00')"
   ]
  },
  {
   "cell_type": "code",
   "execution_count": 33,
   "metadata": {
    "id": "EzXVRE1o_Zcu"
   },
   "outputs": [
    {
     "data": {
      "text/plain": [
       "genre\n",
       "pop            761\n",
       "rock           546\n",
       "dance          521\n",
       "electronic     510\n",
       "hiphop         282\n",
       "world          220\n",
       "ruspop         184\n",
       "alternative    176\n",
       "classical      171\n",
       "rusrap         151\n",
       "Name: genre, dtype: int64"
      ]
     },
     "execution_count": 33,
     "metadata": {},
     "output_type": "execute_result"
    }
   ],
   "source": [
    "genre_weekday(moscow_general, 'Friday', '17:00', '23:00')"
   ]
  },
  {
   "cell_type": "code",
   "execution_count": 34,
   "metadata": {
    "id": "JZaEKu5v_Zcu"
   },
   "outputs": [
    {
     "data": {
      "text/plain": [
       "genre\n",
       "pop            279\n",
       "rock           230\n",
       "electronic     227\n",
       "dance          221\n",
       "hiphop         103\n",
       "alternative     67\n",
       "jazz            66\n",
       "rusrap          66\n",
       "classical       64\n",
       "world           60\n",
       "Name: genre, dtype: int64"
      ]
     },
     "execution_count": 34,
     "metadata": {},
     "output_type": "execute_result"
    }
   ],
   "source": [
    "genre_weekday(spb_general, 'Friday', '17:00', '23:00')"
   ]
  },
  {
   "cell_type": "markdown",
   "metadata": {
    "id": "wrCe4MNX_Zcu"
   },
   "source": [
    "**Выводы**\n",
    "\n",
    "Если сравнить топ-10 жанров в понедельник утром, можно сделать такие выводы:\n",
    "\n",
    "1. В Москве и Петербурге слушают похожую музыку. Единственное отличие — в московский рейтинг вошёл жанр “world”, а в петербургский — джаз и классика.\n",
    "\n",
    "2. В Москве пропущенных значений оказалось так много, что значение `'unknown'` заняло десятое место среди самых популярных жанров. Значит, пропущенные значения занимают существенную долю в данных и угрожают достоверности исследования.\n",
    "\n",
    "Вечер пятницы не меняет эту картину. Некоторые жанры поднимаются немного выше, другие спускаются, но в целом топ-10 остаётся тем же самым.\n",
    "\n",
    "Таким образом, вторая гипотеза подтвердилась лишь частично:\n",
    "* Пользователи слушают похожую музыку в начале недели и в конце.\n",
    "* Разница между Москвой и Петербургом не слишком выражена. В Москве чаще слушают русскую популярную музыку, в Петербурге — джаз.\n",
    "\n",
    "Однако пропуски в данных ставят под сомнение этот результат. В Москве их так много, что рейтинг топ-10 мог бы выглядеть иначе, если бы не утерянные  данные о жанрах."
   ]
  },
  {
   "cell_type": "markdown",
   "metadata": {
    "id": "JolODAqr_Zcu"
   },
   "source": [
    "### Жанровые предпочтения в Москве и Петербурге\n",
    "\n",
    "Гипотеза: Петербург — столица рэпа, музыку этого жанра там слушают чаще, чем в Москве.  А Москва — город контрастов, в котором, тем не менее, преобладает поп-музыка."
   ]
  },
  {
   "cell_type": "markdown",
   "metadata": {
    "id": "DlegSvaT_Zcu"
   },
   "source": [
    "Сгруппируйте таблицу `moscow_general` по жанру и посчитайте прослушивания треков каждого жанра методом `count()`. Затем отсортируйте результат в порядке убывания и сохраните его в таблице `moscow_genres`."
   ]
  },
  {
   "cell_type": "code",
   "execution_count": 35,
   "metadata": {
    "id": "r19lIPke_Zcu"
   },
   "outputs": [
    {
     "data": {
      "text/html": [
       "<div>\n",
       "<style scoped>\n",
       "    .dataframe tbody tr th:only-of-type {\n",
       "        vertical-align: middle;\n",
       "    }\n",
       "\n",
       "    .dataframe tbody tr th {\n",
       "        vertical-align: top;\n",
       "    }\n",
       "\n",
       "    .dataframe thead th {\n",
       "        text-align: right;\n",
       "    }\n",
       "</style>\n",
       "<table border=\"1\" class=\"dataframe\">\n",
       "  <thead>\n",
       "    <tr style=\"text-align: right;\">\n",
       "      <th></th>\n",
       "      <th>user_id</th>\n",
       "      <th>track</th>\n",
       "      <th>artist</th>\n",
       "      <th>city</th>\n",
       "      <th>time</th>\n",
       "      <th>day</th>\n",
       "    </tr>\n",
       "    <tr>\n",
       "      <th>genre</th>\n",
       "      <th></th>\n",
       "      <th></th>\n",
       "      <th></th>\n",
       "      <th></th>\n",
       "      <th></th>\n",
       "      <th></th>\n",
       "    </tr>\n",
       "  </thead>\n",
       "  <tbody>\n",
       "    <tr>\n",
       "      <th>pop</th>\n",
       "      <td>6253</td>\n",
       "      <td>6253</td>\n",
       "      <td>6253</td>\n",
       "      <td>6253</td>\n",
       "      <td>6253</td>\n",
       "      <td>6253</td>\n",
       "    </tr>\n",
       "    <tr>\n",
       "      <th>dance</th>\n",
       "      <td>4707</td>\n",
       "      <td>4707</td>\n",
       "      <td>4707</td>\n",
       "      <td>4707</td>\n",
       "      <td>4707</td>\n",
       "      <td>4707</td>\n",
       "    </tr>\n",
       "    <tr>\n",
       "      <th>rock</th>\n",
       "      <td>4188</td>\n",
       "      <td>4188</td>\n",
       "      <td>4188</td>\n",
       "      <td>4188</td>\n",
       "      <td>4188</td>\n",
       "      <td>4188</td>\n",
       "    </tr>\n",
       "    <tr>\n",
       "      <th>electronic</th>\n",
       "      <td>4010</td>\n",
       "      <td>4010</td>\n",
       "      <td>4010</td>\n",
       "      <td>4010</td>\n",
       "      <td>4010</td>\n",
       "      <td>4010</td>\n",
       "    </tr>\n",
       "    <tr>\n",
       "      <th>hiphop</th>\n",
       "      <td>2215</td>\n",
       "      <td>2215</td>\n",
       "      <td>2215</td>\n",
       "      <td>2215</td>\n",
       "      <td>2215</td>\n",
       "      <td>2215</td>\n",
       "    </tr>\n",
       "    <tr>\n",
       "      <th>...</th>\n",
       "      <td>...</td>\n",
       "      <td>...</td>\n",
       "      <td>...</td>\n",
       "      <td>...</td>\n",
       "      <td>...</td>\n",
       "      <td>...</td>\n",
       "    </tr>\n",
       "    <tr>\n",
       "      <th>mood</th>\n",
       "      <td>1</td>\n",
       "      <td>1</td>\n",
       "      <td>1</td>\n",
       "      <td>1</td>\n",
       "      <td>1</td>\n",
       "      <td>1</td>\n",
       "    </tr>\n",
       "    <tr>\n",
       "      <th>metalcore</th>\n",
       "      <td>1</td>\n",
       "      <td>1</td>\n",
       "      <td>1</td>\n",
       "      <td>1</td>\n",
       "      <td>1</td>\n",
       "      <td>1</td>\n",
       "    </tr>\n",
       "    <tr>\n",
       "      <th>marschmusik</th>\n",
       "      <td>1</td>\n",
       "      <td>1</td>\n",
       "      <td>1</td>\n",
       "      <td>1</td>\n",
       "      <td>1</td>\n",
       "      <td>1</td>\n",
       "    </tr>\n",
       "    <tr>\n",
       "      <th>lovers</th>\n",
       "      <td>1</td>\n",
       "      <td>1</td>\n",
       "      <td>1</td>\n",
       "      <td>1</td>\n",
       "      <td>1</td>\n",
       "      <td>1</td>\n",
       "    </tr>\n",
       "    <tr>\n",
       "      <th>ïîï</th>\n",
       "      <td>1</td>\n",
       "      <td>1</td>\n",
       "      <td>1</td>\n",
       "      <td>1</td>\n",
       "      <td>1</td>\n",
       "      <td>1</td>\n",
       "    </tr>\n",
       "  </tbody>\n",
       "</table>\n",
       "<p>267 rows × 6 columns</p>\n",
       "</div>"
      ],
      "text/plain": [
       "             user_id  track  artist  city  time   day\n",
       "genre                                                \n",
       "pop             6253   6253    6253  6253  6253  6253\n",
       "dance           4707   4707    4707  4707  4707  4707\n",
       "rock            4188   4188    4188  4188  4188  4188\n",
       "electronic      4010   4010    4010  4010  4010  4010\n",
       "hiphop          2215   2215    2215  2215  2215  2215\n",
       "...              ...    ...     ...   ...   ...   ...\n",
       "mood               1      1       1     1     1     1\n",
       "metalcore          1      1       1     1     1     1\n",
       "marschmusik        1      1       1     1     1     1\n",
       "lovers             1      1       1     1     1     1\n",
       "ïîï                1      1       1     1     1     1\n",
       "\n",
       "[267 rows x 6 columns]"
      ]
     },
     "metadata": {},
     "output_type": "display_data"
    }
   ],
   "source": [
    "moscow_genres=moscow_general.groupby('genre').count()\n",
    "moscow_genres=moscow_genres.sort_values(by='city',ascending=False)\n",
    "display(moscow_genres)"
   ]
  },
  {
   "cell_type": "markdown",
   "metadata": {
    "id": "6kMuomxTiIr8"
   },
   "source": [
    "Выведите на экран первые десять строк `moscow_genres`:"
   ]
  },
  {
   "cell_type": "code",
   "execution_count": 36,
   "metadata": {
    "id": "WhCSooF8_Zcv"
   },
   "outputs": [
    {
     "data": {
      "text/plain": [
       "genre\n",
       "pop            6253\n",
       "dance          4707\n",
       "rock           4188\n",
       "electronic     4010\n",
       "hiphop         2215\n",
       "classical      1712\n",
       "world          1516\n",
       "alternative    1466\n",
       "ruspop         1453\n",
       "rusrap         1239\n",
       "Name: user_id, dtype: int64"
      ]
     },
     "execution_count": 36,
     "metadata": {},
     "output_type": "execute_result"
    }
   ],
   "source": [
    "popular_genres=moscow_genres['user_id']\n",
    "popular_genres.head(10)"
   ]
  },
  {
   "cell_type": "markdown",
   "metadata": {},
   "source": [
    "<div class=\"alert alert-danger\">\n",
    "<b>❌ Комментарий ревьюера v1:</b> \n",
    "<br>Здесь должен выводиться один столбец содержащий топ10 самых популярных жанров\n",
    "</div>"
   ]
  },
  {
   "cell_type": "markdown",
   "metadata": {},
   "source": [
    "<div class=\"alert alert-danger\">\n",
    "<b>❌ Комментарий ревьюера v2:</b> \n",
    "<br>Замечание не отработано\n",
    "</div>"
   ]
  },
  {
   "cell_type": "markdown",
   "metadata": {},
   "source": [
    "<div class=\"alert alert-success\">\n",
    "<b>✔️ Комментарий ревьюера v3:</b>\n",
    "<br>Теперь всё окей\n",
    "</div>"
   ]
  },
  {
   "cell_type": "markdown",
   "metadata": {
    "id": "cnPG2vnN_Zcv"
   },
   "source": [
    "Теперь повторите то же и для Петербурга.\n",
    "\n",
    "Сгруппируйте таблицу `spb_general` по жанру. Посчитайте прослушивания треков каждого жанра. Результат отсортируйте в порядке убывания и сохраните в таблице `spb_genres`:\n"
   ]
  },
  {
   "cell_type": "code",
   "execution_count": 37,
   "metadata": {
    "id": "gluLIpE7_Zcv"
   },
   "outputs": [
    {
     "data": {
      "text/html": [
       "<div>\n",
       "<style scoped>\n",
       "    .dataframe tbody tr th:only-of-type {\n",
       "        vertical-align: middle;\n",
       "    }\n",
       "\n",
       "    .dataframe tbody tr th {\n",
       "        vertical-align: top;\n",
       "    }\n",
       "\n",
       "    .dataframe thead th {\n",
       "        text-align: right;\n",
       "    }\n",
       "</style>\n",
       "<table border=\"1\" class=\"dataframe\">\n",
       "  <thead>\n",
       "    <tr style=\"text-align: right;\">\n",
       "      <th></th>\n",
       "      <th>user_id</th>\n",
       "      <th>track</th>\n",
       "      <th>artist</th>\n",
       "      <th>city</th>\n",
       "      <th>time</th>\n",
       "      <th>day</th>\n",
       "    </tr>\n",
       "    <tr>\n",
       "      <th>genre</th>\n",
       "      <th></th>\n",
       "      <th></th>\n",
       "      <th></th>\n",
       "      <th></th>\n",
       "      <th></th>\n",
       "      <th></th>\n",
       "    </tr>\n",
       "  </thead>\n",
       "  <tbody>\n",
       "    <tr>\n",
       "      <th>pop</th>\n",
       "      <td>2597</td>\n",
       "      <td>2597</td>\n",
       "      <td>2597</td>\n",
       "      <td>2597</td>\n",
       "      <td>2597</td>\n",
       "      <td>2597</td>\n",
       "    </tr>\n",
       "    <tr>\n",
       "      <th>dance</th>\n",
       "      <td>2054</td>\n",
       "      <td>2054</td>\n",
       "      <td>2054</td>\n",
       "      <td>2054</td>\n",
       "      <td>2054</td>\n",
       "      <td>2054</td>\n",
       "    </tr>\n",
       "    <tr>\n",
       "      <th>rock</th>\n",
       "      <td>2004</td>\n",
       "      <td>2004</td>\n",
       "      <td>2004</td>\n",
       "      <td>2004</td>\n",
       "      <td>2004</td>\n",
       "      <td>2004</td>\n",
       "    </tr>\n",
       "    <tr>\n",
       "      <th>electronic</th>\n",
       "      <td>1842</td>\n",
       "      <td>1842</td>\n",
       "      <td>1842</td>\n",
       "      <td>1842</td>\n",
       "      <td>1842</td>\n",
       "      <td>1842</td>\n",
       "    </tr>\n",
       "    <tr>\n",
       "      <th>hiphop</th>\n",
       "      <td>1020</td>\n",
       "      <td>1020</td>\n",
       "      <td>1020</td>\n",
       "      <td>1020</td>\n",
       "      <td>1020</td>\n",
       "      <td>1020</td>\n",
       "    </tr>\n",
       "    <tr>\n",
       "      <th>...</th>\n",
       "      <td>...</td>\n",
       "      <td>...</td>\n",
       "      <td>...</td>\n",
       "      <td>...</td>\n",
       "      <td>...</td>\n",
       "      <td>...</td>\n",
       "    </tr>\n",
       "    <tr>\n",
       "      <th>japanese</th>\n",
       "      <td>1</td>\n",
       "      <td>1</td>\n",
       "      <td>1</td>\n",
       "      <td>1</td>\n",
       "      <td>1</td>\n",
       "      <td>1</td>\n",
       "    </tr>\n",
       "    <tr>\n",
       "      <th>international</th>\n",
       "      <td>1</td>\n",
       "      <td>1</td>\n",
       "      <td>1</td>\n",
       "      <td>1</td>\n",
       "      <td>1</td>\n",
       "      <td>1</td>\n",
       "    </tr>\n",
       "    <tr>\n",
       "      <th>independent</th>\n",
       "      <td>1</td>\n",
       "      <td>1</td>\n",
       "      <td>1</td>\n",
       "      <td>1</td>\n",
       "      <td>1</td>\n",
       "      <td>1</td>\n",
       "    </tr>\n",
       "    <tr>\n",
       "      <th>idm</th>\n",
       "      <td>1</td>\n",
       "      <td>1</td>\n",
       "      <td>1</td>\n",
       "      <td>1</td>\n",
       "      <td>1</td>\n",
       "      <td>1</td>\n",
       "    </tr>\n",
       "    <tr>\n",
       "      <th>электроника</th>\n",
       "      <td>1</td>\n",
       "      <td>1</td>\n",
       "      <td>1</td>\n",
       "      <td>1</td>\n",
       "      <td>1</td>\n",
       "      <td>1</td>\n",
       "    </tr>\n",
       "  </tbody>\n",
       "</table>\n",
       "<p>211 rows × 6 columns</p>\n",
       "</div>"
      ],
      "text/plain": [
       "               user_id  track  artist  city  time   day\n",
       "genre                                                  \n",
       "pop               2597   2597    2597  2597  2597  2597\n",
       "dance             2054   2054    2054  2054  2054  2054\n",
       "rock              2004   2004    2004  2004  2004  2004\n",
       "electronic        1842   1842    1842  1842  1842  1842\n",
       "hiphop            1020   1020    1020  1020  1020  1020\n",
       "...                ...    ...     ...   ...   ...   ...\n",
       "japanese             1      1       1     1     1     1\n",
       "international        1      1       1     1     1     1\n",
       "independent          1      1       1     1     1     1\n",
       "idm                  1      1       1     1     1     1\n",
       "электроника          1      1       1     1     1     1\n",
       "\n",
       "[211 rows x 6 columns]"
      ]
     },
     "metadata": {},
     "output_type": "display_data"
    }
   ],
   "source": [
    "spb_genres=spb_general.groupby('genre').count()\n",
    "spb_genres=spb_genres.sort_values(by='city',ascending=False)\n",
    "display(spb_genres)"
   ]
  },
  {
   "cell_type": "markdown",
   "metadata": {
    "id": "5Doha_ODgyQ8"
   },
   "source": [
    "Выведите на экран первые десять строк `spb_genres`:"
   ]
  },
  {
   "cell_type": "code",
   "execution_count": 38,
   "metadata": {
    "id": "uaGJHjVU_Zcv"
   },
   "outputs": [
    {
     "data": {
      "text/plain": [
       "genre\n",
       "pop            2597\n",
       "dance          2054\n",
       "rock           2004\n",
       "electronic     1842\n",
       "hiphop         1020\n",
       "alternative     700\n",
       "classical       684\n",
       "rusrap          604\n",
       "ruspop          565\n",
       "world           553\n",
       "Name: user_id, dtype: int64"
      ]
     },
     "execution_count": 38,
     "metadata": {},
     "output_type": "execute_result"
    }
   ],
   "source": [
    "popular_genres=spb_genres['user_id']\n",
    "popular_genres.head(10)"
   ]
  },
  {
   "cell_type": "markdown",
   "metadata": {},
   "source": [
    "<div class=\"alert alert-danger\">\n",
    "<b>❌ Комментарий ревьюера v1:</b> \n",
    "<br>И здесь\n",
    "</div>"
   ]
  },
  {
   "cell_type": "markdown",
   "metadata": {},
   "source": [
    "<div class=\"alert alert-danger\">\n",
    "<b>❌ Комментарий ревьюера v2:</b> \n",
    "<br>Замечание не отработано\n",
    "</div>"
   ]
  },
  {
   "cell_type": "markdown",
   "metadata": {},
   "source": [
    "<div class=\"alert alert-success\">\n",
    "<b>✔️ Комментарий ревьюера v3:</b>\n",
    "<br>Красота)\n",
    "</div>"
   ]
  },
  {
   "cell_type": "markdown",
   "metadata": {
    "id": "RY51YJYu_Zcv"
   },
   "source": [
    "**Выводы**"
   ]
  },
  {
   "cell_type": "markdown",
   "metadata": {
    "id": "nVhnJEm__Zcv"
   },
   "source": [
    "Гипотеза частично подтвердилась:\n",
    "* Поп-музыка — самый популярный жанр в Москве, как и предполагала гипотеза. Более того, в топ-10 жанров встречается близкий жанр — русская популярная музыка.\n",
    "* Вопреки ожиданиям, рэп одинаково популярен в Москве и Петербурге. \n"
   ]
  },
  {
   "cell_type": "markdown",
   "metadata": {
    "id": "ykKQ0N65_Zcv"
   },
   "source": [
    "## Итоги исследования"
   ]
  },
  {
   "cell_type": "markdown",
   "metadata": {
    "id": "tjUwbHb3_Zcv"
   },
   "source": [
    "Вы проверили три гипотезы и установили:\n",
    "\n",
    "1. День недели по-разному влияет на активность пользователей в Москве и Петербурге. \n",
    "\n",
    "Первая гипотеза полностью подтвердилась.\n",
    "\n",
    "2. Музыкальные предпочтения не сильно меняются в течение недели — будь то Москва или Петербург. Небольшие различия заметны в начале недели, по понедельникам:\n",
    "* в Москве слушают музыку жанра “world”,\n",
    "* в Петербурге — джаз и классику.\n",
    "\n",
    "Таким образом, вторая гипотеза подтвердилась лишь отчасти. Этот результат мог оказаться иным, если бы не пропуски в данных.\n",
    "\n",
    "3. Во вкусах пользователей Москвы и Петербурга больше общего чем различий. Вопреки ожиданиям, предпочтения жанров в Петербурге напоминают московские.\n",
    "\n",
    "Третья гипотеза не подтвердилась. Если различия в предпочтениях и существуют, на основной массе пользователей они незаметны.\n",
    "\n",
    "**На практике исследования содержат проверки статистических гипотез.**\n",
    "Из данных одного сервиса не всегда можно сделать вывод о всех жителях города.\n",
    "Проверки статистических гипотез покажут, насколько они достоверны, исходя из имеющихся данных. \n",
    "С методами проверок гипотез вы ещё познакомитесь в следующих темах."
   ]
  },
  {
   "cell_type": "markdown",
   "metadata": {},
   "source": [
    "<div class=\"alert alert-danger\">\n",
    "<b>❌ Итоговый комментарий ревьюера v1:</b> \n",
    "<br>Ты хорошо потрудился, большая часть работы сделана, но остаётся внести следующие правки:\n",
    "<br>- Ответить на вопрос в шаге 1\n",
    "<br>- Перезаписать индексы\n",
    "<br>- Применить метод .sort_values() для сортировки значений\n",
    "<br>- Корректно вывести число прослушиваний в каждом городе и по каждому дню\n",
    "<br>- Выбрать столбец для корректного вывода в последнем шаге\n",
    "<br>- Поправить код, падающий с ошибкой\n",
    "</div>"
   ]
  },
  {
   "cell_type": "markdown",
   "metadata": {},
   "source": [
    "<div class=\"alert alert-danger\">\n",
    "<b>❌ Итоговый комментарий ревьюера v2:</b> \n",
    "<br>Остались 3 правки:\n",
    "<br>- Ответить на вопрос в шаге 1\n",
    "<br>- Применить метод .sort_values() для сортировки значений\n",
    "<br>- Выбрать столбец для корректного вывода в последнем шаге\n",
    "</div>"
   ]
  },
  {
   "cell_type": "markdown",
   "metadata": {},
   "source": [
    "<div class=\"alert alert-danger\">\n",
    "<b>❌ Итоговый комментарий ревьюера v3:</b> \n",
    "<br>Остались последняя правка:\n",
    "<br>- Поправить код, падающий с ошибкой\n",
    "</div>"
   ]
  },
  {
   "cell_type": "markdown",
   "metadata": {},
   "source": [
    "<div class=\"alert alert-success\">\n",
    "<b>✔️ Итоговый комментарий ревьюера v4:</b>\n",
    "<br>У тебя отличная работа! Все правки выполнены ✅ \n",
    "<br>Ты продемонстрировал владение базовыми методами pandas, которые очень пригодятся тебе в будущих проектах. Желаю удачи в дальнейшем обучении! 😉\n",
    "</div>"
   ]
  }
 ],
 "metadata": {
  "ExecuteTimeLog": [
   {
    "duration": 7,
    "start_time": "2022-04-25T20:20:00.962Z"
   },
   {
    "duration": 7,
    "start_time": "2022-04-25T20:20:27.738Z"
   },
   {
    "duration": 3,
    "start_time": "2022-04-25T20:20:29.419Z"
   },
   {
    "duration": 8,
    "start_time": "2022-04-25T20:20:42.994Z"
   },
   {
    "duration": 7,
    "start_time": "2022-04-25T20:21:01.048Z"
   },
   {
    "duration": 7,
    "start_time": "2022-04-25T20:21:04.622Z"
   },
   {
    "duration": 8,
    "start_time": "2022-04-25T20:21:08.471Z"
   },
   {
    "duration": 3,
    "start_time": "2022-04-25T20:21:41.086Z"
   },
   {
    "duration": 45,
    "start_time": "2022-04-25T20:24:54.916Z"
   },
   {
    "duration": 6,
    "start_time": "2022-04-25T20:25:07.562Z"
   },
   {
    "duration": 6,
    "start_time": "2022-04-25T20:26:59.120Z"
   },
   {
    "duration": 6,
    "start_time": "2022-04-25T20:27:05.464Z"
   },
   {
    "duration": 105,
    "start_time": "2022-04-25T20:29:00.995Z"
   },
   {
    "duration": 111,
    "start_time": "2022-04-25T20:29:09.431Z"
   },
   {
    "duration": 136,
    "start_time": "2022-04-25T20:29:15.971Z"
   },
   {
    "duration": 97,
    "start_time": "2022-04-25T20:34:58.817Z"
   },
   {
    "duration": 7,
    "start_time": "2022-04-25T20:35:43.289Z"
   },
   {
    "duration": 6,
    "start_time": "2022-04-25T20:35:50.552Z"
   },
   {
    "duration": 8,
    "start_time": "2022-04-25T20:36:06.688Z"
   },
   {
    "duration": 6,
    "start_time": "2022-04-25T20:36:32.763Z"
   },
   {
    "duration": 6,
    "start_time": "2022-04-25T20:36:39.342Z"
   },
   {
    "duration": 6,
    "start_time": "2022-04-25T20:36:58.922Z"
   },
   {
    "duration": 6,
    "start_time": "2022-04-25T20:37:24.661Z"
   },
   {
    "duration": 5,
    "start_time": "2022-04-25T20:37:48.740Z"
   },
   {
    "duration": 5,
    "start_time": "2022-04-25T20:41:13.564Z"
   },
   {
    "duration": 6,
    "start_time": "2022-04-25T20:41:19.943Z"
   },
   {
    "duration": 7,
    "start_time": "2022-04-25T20:41:32.673Z"
   },
   {
    "duration": 5,
    "start_time": "2022-04-25T20:52:26.435Z"
   },
   {
    "duration": 6,
    "start_time": "2022-04-25T21:00:02.374Z"
   },
   {
    "duration": 9,
    "start_time": "2022-04-25T21:00:18.778Z"
   },
   {
    "duration": 512,
    "start_time": "2022-04-25T21:00:54.379Z"
   },
   {
    "duration": 19,
    "start_time": "2022-04-25T21:01:14.292Z"
   },
   {
    "duration": 8,
    "start_time": "2022-04-25T21:01:29.353Z"
   },
   {
    "duration": 27,
    "start_time": "2022-04-25T21:02:48.127Z"
   },
   {
    "duration": 13,
    "start_time": "2022-04-25T21:03:07.956Z"
   },
   {
    "duration": 134,
    "start_time": "2022-04-25T21:03:28.820Z"
   },
   {
    "duration": 3,
    "start_time": "2022-04-25T21:03:35.457Z"
   },
   {
    "duration": 142,
    "start_time": "2022-04-25T21:03:36.580Z"
   },
   {
    "duration": 10,
    "start_time": "2022-04-25T21:03:38.054Z"
   },
   {
    "duration": 4,
    "start_time": "2022-04-25T21:04:27.954Z"
   },
   {
    "duration": 49,
    "start_time": "2022-04-25T21:08:41.644Z"
   },
   {
    "duration": 10,
    "start_time": "2022-04-25T21:08:50.733Z"
   },
   {
    "duration": 30,
    "start_time": "2022-04-25T21:08:52.669Z"
   },
   {
    "duration": 24,
    "start_time": "2022-04-25T21:09:51.982Z"
   },
   {
    "duration": 2,
    "start_time": "2022-04-25T21:10:49.784Z"
   },
   {
    "duration": 28,
    "start_time": "2022-04-25T21:11:17.921Z"
   },
   {
    "duration": 2004,
    "start_time": "2022-04-25T21:12:18.642Z"
   },
   {
    "duration": 23,
    "start_time": "2022-04-25T21:12:55.572Z"
   },
   {
    "duration": 25,
    "start_time": "2022-04-25T21:12:59.577Z"
   },
   {
    "duration": 1712,
    "start_time": "2022-04-25T21:16:53.825Z"
   },
   {
    "duration": 1683,
    "start_time": "2022-04-25T21:16:57.360Z"
   },
   {
    "duration": 1907,
    "start_time": "2022-04-25T21:17:02.306Z"
   },
   {
    "duration": 17,
    "start_time": "2022-04-25T21:17:24.961Z"
   },
   {
    "duration": 25,
    "start_time": "2022-04-25T21:17:30.632Z"
   },
   {
    "duration": 61,
    "start_time": "2022-04-25T21:18:03.637Z"
   },
   {
    "duration": 65,
    "start_time": "2022-04-25T21:18:37.845Z"
   },
   {
    "duration": 59,
    "start_time": "2022-04-25T21:18:41.915Z"
   },
   {
    "duration": 61,
    "start_time": "2022-04-25T21:19:24.984Z"
   },
   {
    "duration": 1782,
    "start_time": "2022-04-25T21:19:45.046Z"
   },
   {
    "duration": 7,
    "start_time": "2022-04-25T21:19:55.932Z"
   },
   {
    "duration": 971,
    "start_time": "2022-04-25T21:20:53.295Z"
   },
   {
    "duration": 10,
    "start_time": "2022-04-25T21:42:45.894Z"
   },
   {
    "duration": 9,
    "start_time": "2022-04-25T21:46:06.276Z"
   },
   {
    "duration": 76,
    "start_time": "2022-04-25T21:48:40.481Z"
   },
   {
    "duration": 69,
    "start_time": "2022-04-25T21:49:22.380Z"
   },
   {
    "duration": 60,
    "start_time": "2022-04-25T21:50:16.943Z"
   },
   {
    "duration": 52,
    "start_time": "2022-04-25T21:50:28.845Z"
   },
   {
    "duration": 35,
    "start_time": "2022-04-25T21:53:17.273Z"
   },
   {
    "duration": 10,
    "start_time": "2022-04-25T21:54:44.880Z"
   },
   {
    "duration": 32,
    "start_time": "2022-04-25T21:55:14.618Z"
   },
   {
    "duration": 115,
    "start_time": "2022-04-25T22:07:25.523Z"
   },
   {
    "duration": 121,
    "start_time": "2022-04-25T22:07:34.050Z"
   },
   {
    "duration": 133,
    "start_time": "2022-04-25T22:07:42.513Z"
   },
   {
    "duration": 4,
    "start_time": "2022-04-25T22:24:10.747Z"
   },
   {
    "duration": 3,
    "start_time": "2022-04-25T22:24:14.835Z"
   },
   {
    "duration": 3,
    "start_time": "2022-04-25T22:27:27.170Z"
   },
   {
    "duration": 3,
    "start_time": "2022-04-25T22:27:29.647Z"
   },
   {
    "duration": 17,
    "start_time": "2022-04-25T22:27:59.353Z"
   },
   {
    "duration": 16,
    "start_time": "2022-04-25T22:28:16.430Z"
   },
   {
    "duration": 16,
    "start_time": "2022-04-25T22:28:24.882Z"
   },
   {
    "duration": 16,
    "start_time": "2022-04-25T22:28:27.329Z"
   },
   {
    "duration": 17,
    "start_time": "2022-04-25T22:28:32.762Z"
   },
   {
    "duration": 17,
    "start_time": "2022-04-25T22:28:35.656Z"
   },
   {
    "duration": 16,
    "start_time": "2022-04-25T22:28:47.312Z"
   },
   {
    "duration": 14,
    "start_time": "2022-04-25T22:29:31.515Z"
   },
   {
    "duration": 13,
    "start_time": "2022-04-25T22:29:33.563Z"
   },
   {
    "duration": 18,
    "start_time": "2022-04-25T22:30:08.334Z"
   },
   {
    "duration": 16,
    "start_time": "2022-04-25T22:30:09.246Z"
   },
   {
    "duration": 11,
    "start_time": "2022-04-25T22:30:50.086Z"
   },
   {
    "duration": 16,
    "start_time": "2022-04-25T22:32:26.007Z"
   },
   {
    "duration": 15,
    "start_time": "2022-04-25T22:32:51.072Z"
   },
   {
    "duration": 4,
    "start_time": "2022-04-25T22:34:07.686Z"
   },
   {
    "duration": 4,
    "start_time": "2022-04-25T22:34:10.924Z"
   },
   {
    "duration": 13,
    "start_time": "2022-04-25T22:36:41.703Z"
   },
   {
    "duration": 12,
    "start_time": "2022-04-25T22:37:56.324Z"
   },
   {
    "duration": 2,
    "start_time": "2022-04-25T22:38:05.872Z"
   },
   {
    "duration": 6,
    "start_time": "2022-04-25T22:42:32.736Z"
   },
   {
    "duration": 13,
    "start_time": "2022-04-25T22:43:26.996Z"
   },
   {
    "duration": 6,
    "start_time": "2022-04-25T22:43:54.192Z"
   },
   {
    "duration": 7,
    "start_time": "2022-04-25T22:44:37.676Z"
   },
   {
    "duration": 10,
    "start_time": "2022-04-25T22:45:15.441Z"
   },
   {
    "duration": 10,
    "start_time": "2022-04-25T22:45:19.982Z"
   },
   {
    "duration": 17,
    "start_time": "2022-04-25T22:45:22.464Z"
   },
   {
    "duration": 15,
    "start_time": "2022-04-25T22:45:33.024Z"
   },
   {
    "duration": 15,
    "start_time": "2022-04-25T22:46:23.745Z"
   },
   {
    "duration": 8,
    "start_time": "2022-04-25T22:46:49.439Z"
   },
   {
    "duration": 12,
    "start_time": "2022-04-25T22:46:58.252Z"
   },
   {
    "duration": 14,
    "start_time": "2022-04-25T22:47:06.191Z"
   },
   {
    "duration": 6,
    "start_time": "2022-04-25T22:58:01.801Z"
   },
   {
    "duration": 7,
    "start_time": "2022-04-25T22:58:36.760Z"
   },
   {
    "duration": 19,
    "start_time": "2022-04-25T22:59:03.896Z"
   },
   {
    "duration": 21,
    "start_time": "2022-04-25T22:59:27.964Z"
   },
   {
    "duration": 7,
    "start_time": "2022-04-25T22:59:50.301Z"
   },
   {
    "duration": 21,
    "start_time": "2022-04-25T23:01:39.326Z"
   },
   {
    "duration": 8,
    "start_time": "2022-04-25T23:02:00.698Z"
   },
   {
    "duration": 811,
    "start_time": "2022-05-01T10:10:22.702Z"
   },
   {
    "duration": 487,
    "start_time": "2022-05-01T10:10:23.516Z"
   },
   {
    "duration": 27,
    "start_time": "2022-05-01T10:10:24.005Z"
   },
   {
    "duration": 89,
    "start_time": "2022-05-01T10:10:24.034Z"
   },
   {
    "duration": 68,
    "start_time": "2022-05-01T10:10:24.126Z"
   },
   {
    "duration": 12,
    "start_time": "2022-05-01T10:10:24.196Z"
   },
   {
    "duration": 92,
    "start_time": "2022-05-01T10:10:24.211Z"
   },
   {
    "duration": 25,
    "start_time": "2022-05-01T10:10:24.304Z"
   },
   {
    "duration": 18,
    "start_time": "2022-05-01T10:10:24.393Z"
   },
   {
    "duration": 85,
    "start_time": "2022-05-01T10:10:24.413Z"
   },
   {
    "duration": 121,
    "start_time": "2022-05-01T10:10:24.499Z"
   },
   {
    "duration": 174,
    "start_time": "2022-05-01T10:10:24.622Z"
   },
   {
    "duration": 121,
    "start_time": "2022-05-01T10:10:24.797Z"
   },
   {
    "duration": 8,
    "start_time": "2022-05-01T10:10:24.922Z"
   },
   {
    "duration": 195,
    "start_time": "2022-05-01T10:10:24.932Z"
   },
   {
    "duration": 70,
    "start_time": "2022-05-01T10:10:25.129Z"
   },
   {
    "duration": 206,
    "start_time": "2022-05-01T10:10:25.200Z"
   },
   {
    "duration": 94,
    "start_time": "2022-05-01T10:10:25.407Z"
   },
   {
    "duration": 100,
    "start_time": "2022-05-01T10:10:25.503Z"
   },
   {
    "duration": 128,
    "start_time": "2022-05-01T10:10:25.604Z"
   },
   {
    "duration": 0,
    "start_time": "2022-05-01T10:10:25.734Z"
   },
   {
    "duration": 0,
    "start_time": "2022-05-01T10:10:25.735Z"
   },
   {
    "duration": 0,
    "start_time": "2022-05-01T10:10:25.740Z"
   },
   {
    "duration": 0,
    "start_time": "2022-05-01T10:10:25.741Z"
   },
   {
    "duration": 0,
    "start_time": "2022-05-01T10:10:25.743Z"
   },
   {
    "duration": 0,
    "start_time": "2022-05-01T10:10:25.745Z"
   },
   {
    "duration": 0,
    "start_time": "2022-05-01T10:10:25.746Z"
   },
   {
    "duration": 0,
    "start_time": "2022-05-01T10:10:25.747Z"
   },
   {
    "duration": 0,
    "start_time": "2022-05-01T10:10:25.792Z"
   },
   {
    "duration": 0,
    "start_time": "2022-05-01T10:10:25.794Z"
   },
   {
    "duration": 0,
    "start_time": "2022-05-01T10:10:25.795Z"
   },
   {
    "duration": 0,
    "start_time": "2022-05-01T10:10:25.796Z"
   },
   {
    "duration": 0,
    "start_time": "2022-05-01T10:10:25.797Z"
   },
   {
    "duration": 0,
    "start_time": "2022-05-01T10:10:25.799Z"
   },
   {
    "duration": 0,
    "start_time": "2022-05-01T10:10:25.800Z"
   },
   {
    "duration": 0,
    "start_time": "2022-05-01T10:10:25.801Z"
   },
   {
    "duration": 0,
    "start_time": "2022-05-01T10:10:25.802Z"
   },
   {
    "duration": 0,
    "start_time": "2022-05-01T10:10:25.803Z"
   },
   {
    "duration": 42,
    "start_time": "2022-05-01T10:12:41.404Z"
   },
   {
    "duration": 16,
    "start_time": "2022-05-01T10:13:39.435Z"
   },
   {
    "duration": 13,
    "start_time": "2022-05-01T10:13:39.596Z"
   },
   {
    "duration": 17,
    "start_time": "2022-05-01T10:13:39.766Z"
   },
   {
    "duration": 13,
    "start_time": "2022-05-01T10:13:39.936Z"
   },
   {
    "duration": 23,
    "start_time": "2022-05-01T10:13:40.104Z"
   },
   {
    "duration": 15,
    "start_time": "2022-05-01T10:13:40.263Z"
   },
   {
    "duration": 12,
    "start_time": "2022-05-01T10:13:40.926Z"
   },
   {
    "duration": 6,
    "start_time": "2022-05-01T10:13:44.800Z"
   },
   {
    "duration": 17,
    "start_time": "2022-05-01T10:13:54.672Z"
   },
   {
    "duration": 16,
    "start_time": "2022-05-01T10:13:54.831Z"
   },
   {
    "duration": 3,
    "start_time": "2022-05-01T10:13:55.164Z"
   },
   {
    "duration": 17,
    "start_time": "2022-05-01T10:13:55.502Z"
   },
   {
    "duration": 12,
    "start_time": "2022-05-01T10:13:55.666Z"
   },
   {
    "duration": 16,
    "start_time": "2022-05-01T10:13:55.825Z"
   },
   {
    "duration": 12,
    "start_time": "2022-05-01T10:13:55.993Z"
   },
   {
    "duration": 30,
    "start_time": "2022-05-01T10:13:57.179Z"
   },
   {
    "duration": 7,
    "start_time": "2022-05-01T10:13:57.211Z"
   },
   {
    "duration": 21,
    "start_time": "2022-05-01T10:13:57.294Z"
   },
   {
    "duration": 8,
    "start_time": "2022-05-01T10:13:57.619Z"
   },
   {
    "duration": 58,
    "start_time": "2022-05-02T20:26:09.894Z"
   },
   {
    "duration": 6,
    "start_time": "2022-05-02T20:26:47.957Z"
   },
   {
    "duration": 7,
    "start_time": "2022-05-02T20:26:53.515Z"
   },
   {
    "duration": 6,
    "start_time": "2022-05-02T20:27:36.637Z"
   },
   {
    "duration": 9,
    "start_time": "2022-05-02T20:28:12.793Z"
   },
   {
    "duration": 10,
    "start_time": "2022-05-02T20:38:10.402Z"
   },
   {
    "duration": 7,
    "start_time": "2022-05-02T20:38:19.743Z"
   },
   {
    "duration": 6,
    "start_time": "2022-05-02T20:38:23.609Z"
   },
   {
    "duration": 7,
    "start_time": "2022-05-02T20:38:27.304Z"
   },
   {
    "duration": 6,
    "start_time": "2022-05-02T20:38:33.312Z"
   },
   {
    "duration": 5,
    "start_time": "2022-05-02T20:38:39.610Z"
   },
   {
    "duration": 6,
    "start_time": "2022-05-02T20:38:43.630Z"
   },
   {
    "duration": 6,
    "start_time": "2022-05-02T20:38:46.823Z"
   },
   {
    "duration": 396,
    "start_time": "2022-05-02T20:38:49.657Z"
   },
   {
    "duration": 164,
    "start_time": "2022-05-02T20:38:54.058Z"
   },
   {
    "duration": 19,
    "start_time": "2022-05-02T20:38:56.666Z"
   },
   {
    "duration": 46,
    "start_time": "2022-05-02T20:39:00.874Z"
   },
   {
    "duration": 4,
    "start_time": "2022-05-02T20:39:06.218Z"
   },
   {
    "duration": 38,
    "start_time": "2022-05-02T20:39:10.457Z"
   },
   {
    "duration": 29,
    "start_time": "2022-05-02T20:39:14.217Z"
   },
   {
    "duration": 77,
    "start_time": "2022-05-02T20:39:18.748Z"
   },
   {
    "duration": 3,
    "start_time": "2022-05-02T20:39:22.330Z"
   },
   {
    "duration": 39,
    "start_time": "2022-05-02T20:39:40.100Z"
   },
   {
    "duration": 7,
    "start_time": "2022-05-02T20:40:04.458Z"
   },
   {
    "duration": 8,
    "start_time": "2022-05-02T20:40:09.422Z"
   },
   {
    "duration": 9,
    "start_time": "2022-05-02T20:40:14.599Z"
   },
   {
    "duration": 9,
    "start_time": "2022-05-02T20:40:30.418Z"
   },
   {
    "duration": 7,
    "start_time": "2022-05-02T20:40:33.233Z"
   },
   {
    "duration": 9,
    "start_time": "2022-05-02T20:40:38.671Z"
   },
   {
    "duration": 3,
    "start_time": "2022-05-02T20:40:46.424Z"
   },
   {
    "duration": 178,
    "start_time": "2022-05-02T20:40:49.257Z"
   },
   {
    "duration": 11,
    "start_time": "2022-05-02T20:40:50.513Z"
   },
   {
    "duration": 29,
    "start_time": "2022-05-02T20:40:59.929Z"
   },
   {
    "duration": 4,
    "start_time": "2022-05-02T20:41:07.263Z"
   },
   {
    "duration": 13,
    "start_time": "2022-05-02T20:41:10.353Z"
   },
   {
    "duration": 30,
    "start_time": "2022-05-02T20:41:13.194Z"
   },
   {
    "duration": 25,
    "start_time": "2022-05-02T20:41:16.599Z"
   },
   {
    "duration": 21,
    "start_time": "2022-05-02T20:41:19.513Z"
   },
   {
    "duration": 43,
    "start_time": "2022-05-02T20:41:22.170Z"
   },
   {
    "duration": 80,
    "start_time": "2022-05-02T20:41:25.114Z"
   },
   {
    "duration": 3,
    "start_time": "2022-05-02T20:41:28.273Z"
   },
   {
    "duration": 86,
    "start_time": "2022-05-02T20:41:35.914Z"
   },
   {
    "duration": 52,
    "start_time": "2022-05-02T20:41:48.272Z"
   },
   {
    "duration": 8,
    "start_time": "2022-05-02T20:43:35.633Z"
   },
   {
    "duration": 163,
    "start_time": "2022-05-02T20:43:45.499Z"
   },
   {
    "duration": 31,
    "start_time": "2022-05-02T20:43:50.050Z"
   },
   {
    "duration": 4,
    "start_time": "2022-05-02T20:43:54.490Z"
   },
   {
    "duration": 14,
    "start_time": "2022-05-02T20:43:55.209Z"
   },
   {
    "duration": 29,
    "start_time": "2022-05-02T20:43:55.623Z"
   },
   {
    "duration": 26,
    "start_time": "2022-05-02T20:43:56.038Z"
   },
   {
    "duration": 18,
    "start_time": "2022-05-02T20:43:56.907Z"
   },
   {
    "duration": 25,
    "start_time": "2022-05-02T20:43:57.224Z"
   },
   {
    "duration": 69,
    "start_time": "2022-05-02T20:43:58.020Z"
   },
   {
    "duration": 3,
    "start_time": "2022-05-02T20:43:58.499Z"
   },
   {
    "duration": 64,
    "start_time": "2022-05-02T20:43:59.191Z"
   },
   {
    "duration": 37,
    "start_time": "2022-05-02T20:43:59.798Z"
   },
   {
    "duration": 104,
    "start_time": "2022-05-02T20:44:00.849Z"
   },
   {
    "duration": 11,
    "start_time": "2022-05-02T20:44:02.651Z"
   },
   {
    "duration": 7,
    "start_time": "2022-05-02T20:44:04.262Z"
   },
   {
    "duration": 207,
    "start_time": "2022-05-02T20:44:14.738Z"
   },
   {
    "duration": 8,
    "start_time": "2022-05-02T20:44:28.426Z"
   },
   {
    "duration": 5453,
    "start_time": "2022-05-02T20:45:27.314Z"
   },
   {
    "duration": 10,
    "start_time": "2022-05-02T20:45:45.914Z"
   },
   {
    "duration": 9,
    "start_time": "2022-05-02T20:47:55.512Z"
   },
   {
    "duration": 14,
    "start_time": "2022-05-02T20:50:25.470Z"
   },
   {
    "duration": 37,
    "start_time": "2022-05-02T20:50:32.791Z"
   },
   {
    "duration": 11,
    "start_time": "2022-05-02T20:51:58.699Z"
   },
   {
    "duration": 10,
    "start_time": "2022-05-02T20:52:30.510Z"
   },
   {
    "duration": 33,
    "start_time": "2022-05-02T20:52:37.780Z"
   },
   {
    "duration": 117,
    "start_time": "2022-05-02T20:53:21.311Z"
   },
   {
    "duration": 105,
    "start_time": "2022-05-02T20:56:58.502Z"
   },
   {
    "duration": 3,
    "start_time": "2022-05-02T20:57:06.455Z"
   },
   {
    "duration": 3,
    "start_time": "2022-05-02T20:57:09.447Z"
   },
   {
    "duration": 165,
    "start_time": "2022-05-02T20:59:26.703Z"
   },
   {
    "duration": 7,
    "start_time": "2022-05-02T20:59:33.127Z"
   },
   {
    "duration": 8,
    "start_time": "2022-05-02T20:59:44.420Z"
   },
   {
    "duration": 11,
    "start_time": "2022-05-02T21:12:31.547Z"
   },
   {
    "duration": 6,
    "start_time": "2022-05-02T21:15:29.550Z"
   },
   {
    "duration": 78,
    "start_time": "2022-05-02T21:15:43.474Z"
   },
   {
    "duration": 10,
    "start_time": "2022-05-02T21:16:18.836Z"
   },
   {
    "duration": 11,
    "start_time": "2022-05-02T21:16:45.555Z"
   },
   {
    "duration": 36,
    "start_time": "2022-05-02T21:18:19.181Z"
   },
   {
    "duration": 8,
    "start_time": "2022-05-02T21:22:40.265Z"
   },
   {
    "duration": 8,
    "start_time": "2022-05-02T21:23:01.354Z"
   },
   {
    "duration": 105,
    "start_time": "2022-05-02T21:23:28.925Z"
   },
   {
    "duration": 79,
    "start_time": "2022-05-02T21:27:42.932Z"
   },
   {
    "duration": 49,
    "start_time": "2022-05-02T21:29:17.532Z"
   },
   {
    "duration": 12,
    "start_time": "2022-05-02T21:29:39.501Z"
   },
   {
    "duration": 7,
    "start_time": "2022-05-02T21:30:47.452Z"
   },
   {
    "duration": 7,
    "start_time": "2022-05-02T21:31:38.652Z"
   },
   {
    "duration": 17,
    "start_time": "2022-05-02T21:31:45.755Z"
   },
   {
    "duration": 3,
    "start_time": "2022-05-02T21:31:48.201Z"
   },
   {
    "duration": 7,
    "start_time": "2022-05-02T21:31:50.396Z"
   },
   {
    "duration": 8,
    "start_time": "2022-05-02T21:31:57.155Z"
   },
   {
    "duration": 3,
    "start_time": "2022-05-02T21:32:02.342Z"
   },
   {
    "duration": 9,
    "start_time": "2022-05-02T21:32:05.092Z"
   },
   {
    "duration": 4,
    "start_time": "2022-05-02T21:32:10.640Z"
   },
   {
    "duration": 19,
    "start_time": "2022-05-02T21:32:13.426Z"
   },
   {
    "duration": 12,
    "start_time": "2022-05-02T21:35:23.500Z"
   },
   {
    "duration": 3,
    "start_time": "2022-05-02T21:35:34.193Z"
   },
   {
    "duration": 18,
    "start_time": "2022-05-02T21:35:36.094Z"
   },
   {
    "duration": 17,
    "start_time": "2022-05-02T21:35:39.502Z"
   },
   {
    "duration": 16,
    "start_time": "2022-05-02T21:35:39.949Z"
   },
   {
    "duration": 16,
    "start_time": "2022-05-02T21:35:40.436Z"
   },
   {
    "duration": 21,
    "start_time": "2022-05-02T21:35:40.905Z"
   },
   {
    "duration": 17,
    "start_time": "2022-05-02T21:35:41.413Z"
   },
   {
    "duration": 21,
    "start_time": "2022-05-02T21:35:42.386Z"
   },
   {
    "duration": 19,
    "start_time": "2022-05-02T21:35:47.225Z"
   },
   {
    "duration": 16,
    "start_time": "2022-05-02T21:35:48.213Z"
   },
   {
    "duration": 6,
    "start_time": "2022-05-02T21:35:49.586Z"
   },
   {
    "duration": 29,
    "start_time": "2022-05-02T21:35:51.556Z"
   },
   {
    "duration": 13,
    "start_time": "2022-05-02T21:35:52.747Z"
   },
   {
    "duration": 18,
    "start_time": "2022-05-02T21:35:53.996Z"
   },
   {
    "duration": 13,
    "start_time": "2022-05-02T21:35:56.399Z"
   },
   {
    "duration": 33,
    "start_time": "2022-05-02T21:35:59.025Z"
   },
   {
    "duration": 8,
    "start_time": "2022-05-02T21:36:03.906Z"
   },
   {
    "duration": 8,
    "start_time": "2022-05-02T21:37:57.865Z"
   },
   {
    "duration": 34,
    "start_time": "2022-05-02T21:38:01.692Z"
   },
   {
    "duration": 8,
    "start_time": "2022-05-02T21:38:41.038Z"
   },
   {
    "duration": 23,
    "start_time": "2022-05-02T21:38:45.593Z"
   },
   {
    "duration": 8,
    "start_time": "2022-05-02T21:38:47.386Z"
   },
   {
    "duration": 769,
    "start_time": "2022-05-03T12:20:59.763Z"
   },
   {
    "duration": 413,
    "start_time": "2022-05-03T12:21:00.536Z"
   },
   {
    "duration": 79,
    "start_time": "2022-05-03T12:21:00.952Z"
   },
   {
    "duration": 15,
    "start_time": "2022-05-03T12:21:01.033Z"
   },
   {
    "duration": 75,
    "start_time": "2022-05-03T12:21:01.051Z"
   },
   {
    "duration": 19,
    "start_time": "2022-05-03T12:21:01.128Z"
   },
   {
    "duration": 102,
    "start_time": "2022-05-03T12:21:01.149Z"
   },
   {
    "duration": 89,
    "start_time": "2022-05-03T12:21:01.253Z"
   },
   {
    "duration": 87,
    "start_time": "2022-05-03T12:21:01.344Z"
   },
   {
    "duration": 35,
    "start_time": "2022-05-03T12:21:01.433Z"
   },
   {
    "duration": 212,
    "start_time": "2022-05-03T12:21:01.525Z"
   },
   {
    "duration": 4,
    "start_time": "2022-05-03T12:21:01.740Z"
   },
   {
    "duration": 304,
    "start_time": "2022-05-03T12:21:01.747Z"
   },
   {
    "duration": 194,
    "start_time": "2022-05-03T12:21:02.057Z"
   },
   {
    "duration": 393,
    "start_time": "2022-05-03T12:21:02.254Z"
   },
   {
    "duration": 21,
    "start_time": "2022-05-03T12:21:02.650Z"
   },
   {
    "duration": 18,
    "start_time": "2022-05-03T12:21:02.726Z"
   },
   {
    "duration": 202,
    "start_time": "2022-05-03T12:21:02.747Z"
   },
   {
    "duration": 82,
    "start_time": "2022-05-03T12:21:02.952Z"
   },
   {
    "duration": 6,
    "start_time": "2022-05-03T12:21:03.036Z"
   },
   {
    "duration": 105,
    "start_time": "2022-05-03T12:21:03.045Z"
   },
   {
    "duration": 77,
    "start_time": "2022-05-03T12:21:03.153Z"
   },
   {
    "duration": 88,
    "start_time": "2022-05-03T12:21:03.236Z"
   },
   {
    "duration": 31,
    "start_time": "2022-05-03T12:21:03.328Z"
   },
   {
    "duration": 93,
    "start_time": "2022-05-03T12:21:03.362Z"
   },
   {
    "duration": 86,
    "start_time": "2022-05-03T12:21:03.458Z"
   },
   {
    "duration": 19,
    "start_time": "2022-05-03T12:21:03.547Z"
   },
   {
    "duration": 79,
    "start_time": "2022-05-03T12:21:03.569Z"
   },
   {
    "duration": 32,
    "start_time": "2022-05-03T12:21:03.651Z"
   },
   {
    "duration": 14,
    "start_time": "2022-05-03T12:21:03.686Z"
   },
   {
    "duration": 41,
    "start_time": "2022-05-03T12:21:03.702Z"
   },
   {
    "duration": 18,
    "start_time": "2022-05-03T12:21:03.745Z"
   },
   {
    "duration": 32,
    "start_time": "2022-05-03T12:21:03.766Z"
   },
   {
    "duration": 35,
    "start_time": "2022-05-03T12:21:03.801Z"
   },
   {
    "duration": 54,
    "start_time": "2022-05-03T12:21:03.839Z"
   },
   {
    "duration": 36,
    "start_time": "2022-05-03T12:21:03.896Z"
   },
   {
    "duration": 34,
    "start_time": "2022-05-03T12:21:03.934Z"
   },
   {
    "duration": 13,
    "start_time": "2022-05-03T12:21:03.970Z"
   },
   {
    "duration": 52,
    "start_time": "2022-05-03T17:54:12.378Z"
   },
   {
    "duration": 428,
    "start_time": "2022-05-03T17:54:20.657Z"
   },
   {
    "duration": 192,
    "start_time": "2022-05-03T17:54:22.258Z"
   },
   {
    "duration": 19,
    "start_time": "2022-05-03T17:54:23.227Z"
   },
   {
    "duration": 9,
    "start_time": "2022-05-03T17:54:24.347Z"
   },
   {
    "duration": 4,
    "start_time": "2022-05-03T17:54:28.185Z"
   },
   {
    "duration": 10,
    "start_time": "2022-05-03T17:54:29.426Z"
   },
   {
    "duration": 30,
    "start_time": "2022-05-03T17:54:30.418Z"
   },
   {
    "duration": 25,
    "start_time": "2022-05-03T17:54:35.093Z"
   },
   {
    "duration": 20,
    "start_time": "2022-05-03T17:54:36.217Z"
   },
   {
    "duration": 25,
    "start_time": "2022-05-03T17:54:37.061Z"
   },
   {
    "duration": 66,
    "start_time": "2022-05-03T17:54:38.738Z"
   },
   {
    "duration": 3,
    "start_time": "2022-05-03T17:54:39.818Z"
   },
   {
    "duration": 75,
    "start_time": "2022-05-03T17:54:43.536Z"
   },
   {
    "duration": 42,
    "start_time": "2022-05-03T17:54:44.676Z"
   },
   {
    "duration": 70,
    "start_time": "2022-05-03T17:54:51.525Z"
   },
   {
    "duration": 14,
    "start_time": "2022-05-03T17:55:04.023Z"
   },
   {
    "duration": 30,
    "start_time": "2022-05-03T17:55:09.446Z"
   },
   {
    "duration": 7,
    "start_time": "2022-05-03T17:55:12.228Z"
   },
   {
    "duration": 9,
    "start_time": "2022-05-03T17:57:30.195Z"
   },
   {
    "duration": 8,
    "start_time": "2022-05-03T17:57:35.030Z"
   },
   {
    "duration": 42,
    "start_time": "2022-05-03T17:57:45.074Z"
   },
   {
    "duration": 9,
    "start_time": "2022-05-03T17:57:53.122Z"
   },
   {
    "duration": 43,
    "start_time": "2022-05-03T17:58:18.570Z"
   },
   {
    "duration": 10,
    "start_time": "2022-05-03T17:58:46.182Z"
   },
   {
    "duration": 10,
    "start_time": "2022-05-03T17:58:50.454Z"
   },
   {
    "duration": 43,
    "start_time": "2022-05-03T17:59:00.496Z"
   },
   {
    "duration": 7,
    "start_time": "2022-05-03T18:00:00.161Z"
   },
   {
    "duration": 6,
    "start_time": "2022-05-03T18:00:47.780Z"
   },
   {
    "duration": 170,
    "start_time": "2022-05-03T18:03:01.083Z"
   },
   {
    "duration": 6,
    "start_time": "2022-05-03T18:03:10.552Z"
   },
   {
    "duration": 6,
    "start_time": "2022-05-03T18:03:20.552Z"
   },
   {
    "duration": 9,
    "start_time": "2022-05-03T18:03:27.881Z"
   },
   {
    "duration": 7,
    "start_time": "2022-05-03T18:03:31.373Z"
   },
   {
    "duration": 4,
    "start_time": "2022-05-03T18:03:36.679Z"
   },
   {
    "duration": 7,
    "start_time": "2022-05-03T18:03:41.995Z"
   },
   {
    "duration": 177,
    "start_time": "2022-05-03T18:03:55.504Z"
   },
   {
    "duration": 11,
    "start_time": "2022-05-03T18:03:57.112Z"
   },
   {
    "duration": 9,
    "start_time": "2022-05-03T18:03:57.357Z"
   },
   {
    "duration": 5,
    "start_time": "2022-05-03T18:04:00.048Z"
   },
   {
    "duration": 11,
    "start_time": "2022-05-03T18:04:00.947Z"
   },
   {
    "duration": 33,
    "start_time": "2022-05-03T18:04:01.395Z"
   },
   {
    "duration": 27,
    "start_time": "2022-05-03T18:04:02.200Z"
   },
   {
    "duration": 26,
    "start_time": "2022-05-03T18:04:03.532Z"
   },
   {
    "duration": 35,
    "start_time": "2022-05-03T18:04:04.629Z"
   },
   {
    "duration": 76,
    "start_time": "2022-05-03T18:04:06.158Z"
   },
   {
    "duration": 3,
    "start_time": "2022-05-03T18:04:08.184Z"
   },
   {
    "duration": 74,
    "start_time": "2022-05-03T18:04:09.316Z"
   },
   {
    "duration": 48,
    "start_time": "2022-05-03T18:04:10.112Z"
   },
   {
    "duration": 87,
    "start_time": "2022-05-03T18:04:18.297Z"
   },
   {
    "duration": 11,
    "start_time": "2022-05-03T18:04:20.970Z"
   },
   {
    "duration": 55,
    "start_time": "2022-05-03T18:04:24.394Z"
   },
   {
    "duration": 38,
    "start_time": "2022-05-03T18:04:28.794Z"
   },
   {
    "duration": 13,
    "start_time": "2022-05-03T18:04:31.146Z"
   },
   {
    "duration": 6,
    "start_time": "2022-05-03T18:04:34.045Z"
   },
   {
    "duration": 12,
    "start_time": "2022-05-03T18:04:39.163Z"
   },
   {
    "duration": 28,
    "start_time": "2022-05-03T18:04:41.864Z"
   },
   {
    "duration": 25,
    "start_time": "2022-05-03T18:04:44.224Z"
   },
   {
    "duration": 4,
    "start_time": "2022-05-03T18:04:46.259Z"
   },
   {
    "duration": 20,
    "start_time": "2022-05-03T18:04:49.309Z"
   },
   {
    "duration": 13,
    "start_time": "2022-05-03T18:04:51.317Z"
   },
   {
    "duration": 28,
    "start_time": "2022-05-03T18:04:51.933Z"
   },
   {
    "duration": 17,
    "start_time": "2022-05-03T18:04:52.445Z"
   },
   {
    "duration": 35,
    "start_time": "2022-05-03T18:04:56.090Z"
   },
   {
    "duration": 7,
    "start_time": "2022-05-03T18:05:01.202Z"
   },
   {
    "duration": 8,
    "start_time": "2022-05-03T18:05:10.658Z"
   },
   {
    "duration": 6,
    "start_time": "2022-05-03T18:05:35.246Z"
   },
   {
    "duration": 4,
    "start_time": "2022-05-03T18:05:38.323Z"
   },
   {
    "duration": 26,
    "start_time": "2022-05-03T18:05:44.688Z"
   },
   {
    "duration": 3,
    "start_time": "2022-05-03T18:06:20.925Z"
   },
   {
    "duration": 11,
    "start_time": "2022-05-03T18:08:42.574Z"
   },
   {
    "duration": 16,
    "start_time": "2022-05-03T18:13:26.333Z"
   },
   {
    "duration": 11,
    "start_time": "2022-05-03T18:16:04.380Z"
   },
   {
    "duration": 8,
    "start_time": "2022-05-03T18:16:06.954Z"
   },
   {
    "duration": 0,
    "start_time": "2022-05-03T18:16:29.753Z"
   },
   {
    "duration": 5,
    "start_time": "2022-05-03T18:18:51.466Z"
   },
   {
    "duration": 8,
    "start_time": "2022-05-03T18:19:09.716Z"
   },
   {
    "duration": 5,
    "start_time": "2022-05-03T18:20:10.595Z"
   },
   {
    "duration": 24,
    "start_time": "2022-05-03T18:20:21.246Z"
   },
   {
    "duration": 8,
    "start_time": "2022-05-03T18:20:24.364Z"
   },
   {
    "duration": 8,
    "start_time": "2022-05-03T18:22:58.056Z"
   },
   {
    "duration": 38,
    "start_time": "2022-05-03T18:25:50.923Z"
   },
   {
    "duration": 8,
    "start_time": "2022-05-03T18:26:40.276Z"
   },
   {
    "duration": 168,
    "start_time": "2022-05-03T18:26:47.846Z"
   },
   {
    "duration": 7,
    "start_time": "2022-05-03T18:26:52.280Z"
   },
   {
    "duration": 7,
    "start_time": "2022-05-03T18:26:54.486Z"
   },
   {
    "duration": 25,
    "start_time": "2022-05-03T18:29:18.090Z"
   },
   {
    "duration": 52,
    "start_time": "2022-05-03T18:29:29.258Z"
   },
   {
    "duration": 66,
    "start_time": "2022-05-03T18:29:44.600Z"
   },
   {
    "duration": 62,
    "start_time": "2022-05-03T18:29:49.008Z"
   },
   {
    "duration": 51,
    "start_time": "2022-05-03T18:39:25.748Z"
   },
   {
    "duration": 866,
    "start_time": "2022-05-03T18:41:03.946Z"
   },
   {
    "duration": 32,
    "start_time": "2022-05-03T18:41:21.649Z"
   },
   {
    "duration": 34,
    "start_time": "2022-05-03T18:46:34.681Z"
   },
   {
    "duration": 159,
    "start_time": "2022-05-03T18:50:22.730Z"
   },
   {
    "duration": 165,
    "start_time": "2022-05-03T18:50:44.314Z"
   },
   {
    "duration": 395,
    "start_time": "2022-05-04T17:33:23.349Z"
   },
   {
    "duration": 576,
    "start_time": "2022-05-04T17:33:23.746Z"
   },
   {
    "duration": 18,
    "start_time": "2022-05-04T17:33:24.324Z"
   },
   {
    "duration": 175,
    "start_time": "2022-05-04T17:33:24.344Z"
   },
   {
    "duration": 0,
    "start_time": "2022-05-04T17:33:24.522Z"
   },
   {
    "duration": 0,
    "start_time": "2022-05-04T17:33:24.523Z"
   },
   {
    "duration": 0,
    "start_time": "2022-05-04T17:33:24.524Z"
   },
   {
    "duration": 0,
    "start_time": "2022-05-04T17:33:24.526Z"
   },
   {
    "duration": 0,
    "start_time": "2022-05-04T17:33:24.527Z"
   },
   {
    "duration": 0,
    "start_time": "2022-05-04T17:33:24.528Z"
   },
   {
    "duration": 0,
    "start_time": "2022-05-04T17:33:24.529Z"
   },
   {
    "duration": 0,
    "start_time": "2022-05-04T17:33:24.530Z"
   },
   {
    "duration": 0,
    "start_time": "2022-05-04T17:33:24.531Z"
   },
   {
    "duration": 0,
    "start_time": "2022-05-04T17:33:24.532Z"
   },
   {
    "duration": 0,
    "start_time": "2022-05-04T17:33:24.534Z"
   },
   {
    "duration": 0,
    "start_time": "2022-05-04T17:33:24.535Z"
   },
   {
    "duration": 0,
    "start_time": "2022-05-04T17:33:24.536Z"
   },
   {
    "duration": 0,
    "start_time": "2022-05-04T17:33:24.537Z"
   },
   {
    "duration": 0,
    "start_time": "2022-05-04T17:33:24.537Z"
   },
   {
    "duration": 0,
    "start_time": "2022-05-04T17:33:24.538Z"
   },
   {
    "duration": 0,
    "start_time": "2022-05-04T17:33:24.539Z"
   },
   {
    "duration": 0,
    "start_time": "2022-05-04T17:33:24.541Z"
   },
   {
    "duration": 0,
    "start_time": "2022-05-04T17:33:24.542Z"
   },
   {
    "duration": 0,
    "start_time": "2022-05-04T17:33:24.543Z"
   },
   {
    "duration": 0,
    "start_time": "2022-05-04T17:33:24.544Z"
   },
   {
    "duration": 0,
    "start_time": "2022-05-04T17:33:24.545Z"
   },
   {
    "duration": 0,
    "start_time": "2022-05-04T17:33:24.546Z"
   },
   {
    "duration": 0,
    "start_time": "2022-05-04T17:33:24.547Z"
   },
   {
    "duration": 0,
    "start_time": "2022-05-04T17:33:24.549Z"
   },
   {
    "duration": 0,
    "start_time": "2022-05-04T17:33:24.550Z"
   },
   {
    "duration": 0,
    "start_time": "2022-05-04T17:33:24.551Z"
   },
   {
    "duration": 0,
    "start_time": "2022-05-04T17:33:24.553Z"
   },
   {
    "duration": 0,
    "start_time": "2022-05-04T17:33:24.554Z"
   },
   {
    "duration": 0,
    "start_time": "2022-05-04T17:33:24.555Z"
   },
   {
    "duration": 0,
    "start_time": "2022-05-04T17:33:24.556Z"
   },
   {
    "duration": 0,
    "start_time": "2022-05-04T17:33:24.557Z"
   },
   {
    "duration": 0,
    "start_time": "2022-05-04T17:33:24.558Z"
   },
   {
    "duration": 0,
    "start_time": "2022-05-04T17:33:24.559Z"
   },
   {
    "duration": 404,
    "start_time": "2022-05-04T17:58:07.063Z"
   },
   {
    "duration": 168,
    "start_time": "2022-05-04T17:58:07.470Z"
   },
   {
    "duration": 18,
    "start_time": "2022-05-04T17:58:07.640Z"
   },
   {
    "duration": 168,
    "start_time": "2022-05-04T17:58:07.661Z"
   },
   {
    "duration": 0,
    "start_time": "2022-05-04T17:58:07.832Z"
   },
   {
    "duration": 0,
    "start_time": "2022-05-04T17:58:07.834Z"
   },
   {
    "duration": 0,
    "start_time": "2022-05-04T17:58:07.835Z"
   },
   {
    "duration": 0,
    "start_time": "2022-05-04T17:58:07.836Z"
   },
   {
    "duration": 0,
    "start_time": "2022-05-04T17:58:07.837Z"
   },
   {
    "duration": 0,
    "start_time": "2022-05-04T17:58:07.838Z"
   },
   {
    "duration": 0,
    "start_time": "2022-05-04T17:58:07.839Z"
   },
   {
    "duration": 0,
    "start_time": "2022-05-04T17:58:07.840Z"
   },
   {
    "duration": 0,
    "start_time": "2022-05-04T17:58:07.841Z"
   },
   {
    "duration": 0,
    "start_time": "2022-05-04T17:58:07.842Z"
   },
   {
    "duration": 0,
    "start_time": "2022-05-04T17:58:07.844Z"
   },
   {
    "duration": 0,
    "start_time": "2022-05-04T17:58:07.845Z"
   },
   {
    "duration": 0,
    "start_time": "2022-05-04T17:58:07.846Z"
   },
   {
    "duration": 0,
    "start_time": "2022-05-04T17:58:07.847Z"
   },
   {
    "duration": 0,
    "start_time": "2022-05-04T17:58:07.848Z"
   },
   {
    "duration": 0,
    "start_time": "2022-05-04T17:58:07.849Z"
   },
   {
    "duration": 0,
    "start_time": "2022-05-04T17:58:07.850Z"
   },
   {
    "duration": 0,
    "start_time": "2022-05-04T17:58:07.850Z"
   },
   {
    "duration": 0,
    "start_time": "2022-05-04T17:58:07.851Z"
   },
   {
    "duration": 0,
    "start_time": "2022-05-04T17:58:07.852Z"
   },
   {
    "duration": 0,
    "start_time": "2022-05-04T17:58:07.853Z"
   },
   {
    "duration": 0,
    "start_time": "2022-05-04T17:58:07.854Z"
   },
   {
    "duration": 0,
    "start_time": "2022-05-04T17:58:07.855Z"
   },
   {
    "duration": 0,
    "start_time": "2022-05-04T17:58:07.857Z"
   },
   {
    "duration": 0,
    "start_time": "2022-05-04T17:58:07.858Z"
   },
   {
    "duration": 0,
    "start_time": "2022-05-04T17:58:07.859Z"
   },
   {
    "duration": 0,
    "start_time": "2022-05-04T17:58:07.860Z"
   },
   {
    "duration": 0,
    "start_time": "2022-05-04T17:58:07.862Z"
   },
   {
    "duration": 0,
    "start_time": "2022-05-04T17:58:07.863Z"
   },
   {
    "duration": 0,
    "start_time": "2022-05-04T17:58:07.864Z"
   },
   {
    "duration": 0,
    "start_time": "2022-05-04T17:58:07.865Z"
   },
   {
    "duration": 0,
    "start_time": "2022-05-04T17:58:07.865Z"
   },
   {
    "duration": 0,
    "start_time": "2022-05-04T17:58:07.866Z"
   },
   {
    "duration": 0,
    "start_time": "2022-05-04T17:58:07.867Z"
   },
   {
    "duration": 3,
    "start_time": "2022-05-04T18:15:22.950Z"
   },
   {
    "duration": 169,
    "start_time": "2022-05-04T18:15:23.462Z"
   },
   {
    "duration": 11,
    "start_time": "2022-05-04T18:15:23.813Z"
   },
   {
    "duration": 197,
    "start_time": "2022-05-04T18:15:24.127Z"
   },
   {
    "duration": 5,
    "start_time": "2022-05-04T18:15:25.665Z"
   },
   {
    "duration": 11,
    "start_time": "2022-05-04T18:15:26.199Z"
   },
   {
    "duration": 34,
    "start_time": "2022-05-04T18:15:26.536Z"
   },
   {
    "duration": 27,
    "start_time": "2022-05-04T18:15:26.884Z"
   },
   {
    "duration": 22,
    "start_time": "2022-05-04T18:15:27.382Z"
   },
   {
    "duration": 27,
    "start_time": "2022-05-04T18:15:27.732Z"
   },
   {
    "duration": 74,
    "start_time": "2022-05-04T18:15:28.254Z"
   },
   {
    "duration": 3,
    "start_time": "2022-05-04T18:15:28.600Z"
   },
   {
    "duration": 72,
    "start_time": "2022-05-04T18:15:29.309Z"
   },
   {
    "duration": 44,
    "start_time": "2022-05-04T18:15:29.868Z"
   },
   {
    "duration": 104,
    "start_time": "2022-05-04T18:15:30.603Z"
   },
   {
    "duration": 11,
    "start_time": "2022-05-04T18:15:30.976Z"
   },
   {
    "duration": 47,
    "start_time": "2022-05-04T18:15:31.521Z"
   },
   {
    "duration": 40,
    "start_time": "2022-05-04T18:15:33.089Z"
   },
   {
    "duration": 14,
    "start_time": "2022-05-04T18:15:33.436Z"
   },
   {
    "duration": 3,
    "start_time": "2022-05-04T18:15:34.596Z"
   },
   {
    "duration": 19,
    "start_time": "2022-05-04T18:15:35.543Z"
   },
   {
    "duration": 17,
    "start_time": "2022-05-04T18:15:35.724Z"
   },
   {
    "duration": 18,
    "start_time": "2022-05-04T18:15:35.906Z"
   },
   {
    "duration": 17,
    "start_time": "2022-05-04T18:15:36.115Z"
   },
   {
    "duration": 19,
    "start_time": "2022-05-04T18:15:36.333Z"
   },
   {
    "duration": 17,
    "start_time": "2022-05-04T18:15:36.505Z"
   },
   {
    "duration": 12,
    "start_time": "2022-05-04T18:15:36.883Z"
   },
   {
    "duration": 20,
    "start_time": "2022-05-04T18:15:38.002Z"
   },
   {
    "duration": 19,
    "start_time": "2022-05-04T18:15:38.186Z"
   },
   {
    "duration": 4,
    "start_time": "2022-05-04T18:15:38.552Z"
   },
   {
    "duration": 22,
    "start_time": "2022-05-04T18:15:39.134Z"
   },
   {
    "duration": 14,
    "start_time": "2022-05-04T18:15:39.394Z"
   },
   {
    "duration": 19,
    "start_time": "2022-05-04T18:15:39.650Z"
   },
   {
    "duration": 13,
    "start_time": "2022-05-04T18:15:39.863Z"
   },
   {
    "duration": 35,
    "start_time": "2022-05-04T18:15:40.624Z"
   },
   {
    "duration": 5,
    "start_time": "2022-05-04T18:15:41.013Z"
   },
   {
    "duration": 24,
    "start_time": "2022-05-04T18:15:42.434Z"
   },
   {
    "duration": 5,
    "start_time": "2022-05-04T18:15:43.269Z"
   },
   {
    "duration": 146,
    "start_time": "2022-05-04T19:50:33.806Z"
   },
   {
    "duration": 110,
    "start_time": "2022-05-04T19:51:51.181Z"
   },
   {
    "duration": 104,
    "start_time": "2022-05-04T19:52:02.492Z"
   },
   {
    "duration": 104,
    "start_time": "2022-05-04T19:52:51.095Z"
   },
   {
    "duration": 67,
    "start_time": "2022-05-04T19:53:01.194Z"
   },
   {
    "duration": 458,
    "start_time": "2022-05-04T19:53:08.674Z"
   },
   {
    "duration": 206,
    "start_time": "2022-05-04T19:53:10.226Z"
   },
   {
    "duration": 30,
    "start_time": "2022-05-04T19:53:11.368Z"
   },
   {
    "duration": 29,
    "start_time": "2022-05-04T19:53:15.158Z"
   },
   {
    "duration": 31,
    "start_time": "2022-05-04T19:53:58.509Z"
   },
   {
    "duration": 37,
    "start_time": "2022-05-04T19:54:15.689Z"
   },
   {
    "duration": 44,
    "start_time": "2022-05-04T19:54:22.234Z"
   },
   {
    "duration": 30,
    "start_time": "2022-05-04T19:54:44.257Z"
   },
   {
    "duration": 30,
    "start_time": "2022-05-04T19:55:35.583Z"
   },
   {
    "duration": 29,
    "start_time": "2022-05-04T19:55:42.022Z"
   },
   {
    "duration": 31,
    "start_time": "2022-05-04T19:56:10.496Z"
   },
   {
    "duration": 28,
    "start_time": "2022-05-04T19:57:04.905Z"
   },
   {
    "duration": 29,
    "start_time": "2022-05-04T19:59:48.081Z"
   },
   {
    "duration": 30,
    "start_time": "2022-05-04T20:00:28.242Z"
   },
   {
    "duration": 4,
    "start_time": "2022-05-04T20:00:45.650Z"
   },
   {
    "duration": 197,
    "start_time": "2022-05-04T20:00:47.183Z"
   },
   {
    "duration": 17,
    "start_time": "2022-05-04T20:00:48.521Z"
   },
   {
    "duration": 24,
    "start_time": "2022-05-04T20:00:52.966Z"
   },
   {
    "duration": 66,
    "start_time": "2022-05-04T20:02:49.896Z"
   },
   {
    "duration": 6,
    "start_time": "2022-05-04T20:03:57.535Z"
   },
   {
    "duration": 14,
    "start_time": "2022-05-04T20:04:02.440Z"
   },
   {
    "duration": 46,
    "start_time": "2022-05-04T20:16:17.709Z"
   },
   {
    "duration": 77,
    "start_time": "2022-05-04T20:19:01.871Z"
   },
   {
    "duration": 45,
    "start_time": "2022-05-04T20:19:32.482Z"
   },
   {
    "duration": 45,
    "start_time": "2022-05-04T20:19:40.073Z"
   },
   {
    "duration": 53,
    "start_time": "2022-05-04T20:20:27.919Z"
   },
   {
    "duration": 53,
    "start_time": "2022-05-04T20:20:36.161Z"
   },
   {
    "duration": 49,
    "start_time": "2022-05-04T20:20:41.551Z"
   },
   {
    "duration": 100,
    "start_time": "2022-05-04T20:46:32.158Z"
   },
   {
    "duration": 103,
    "start_time": "2022-05-04T20:46:58.776Z"
   },
   {
    "duration": 48,
    "start_time": "2022-05-04T20:47:05.712Z"
   },
   {
    "duration": 111,
    "start_time": "2022-05-04T20:49:39.636Z"
   },
   {
    "duration": 53,
    "start_time": "2022-05-04T20:49:44.766Z"
   },
   {
    "duration": 66,
    "start_time": "2022-05-04T20:50:22.629Z"
   },
   {
    "duration": 584,
    "start_time": "2022-05-05T16:53:51.408Z"
   },
   {
    "duration": 207,
    "start_time": "2022-05-05T16:53:51.995Z"
   },
   {
    "duration": 30,
    "start_time": "2022-05-05T16:53:52.204Z"
   },
   {
    "duration": 82,
    "start_time": "2022-05-05T16:53:52.237Z"
   },
   {
    "duration": 5,
    "start_time": "2022-05-05T16:53:52.321Z"
   },
   {
    "duration": 15,
    "start_time": "2022-05-05T16:53:52.328Z"
   },
   {
    "duration": 73,
    "start_time": "2022-05-05T16:53:52.345Z"
   },
   {
    "duration": 33,
    "start_time": "2022-05-05T16:53:52.421Z"
   },
   {
    "duration": 46,
    "start_time": "2022-05-05T16:53:52.456Z"
   },
   {
    "duration": 32,
    "start_time": "2022-05-05T16:53:52.504Z"
   },
   {
    "duration": 126,
    "start_time": "2022-05-05T16:53:52.538Z"
   },
   {
    "duration": 16,
    "start_time": "2022-05-05T16:53:52.666Z"
   },
   {
    "duration": 110,
    "start_time": "2022-05-05T16:53:52.684Z"
   },
   {
    "duration": 60,
    "start_time": "2022-05-05T16:53:52.796Z"
   },
   {
    "duration": 153,
    "start_time": "2022-05-05T16:53:52.858Z"
   },
   {
    "duration": 15,
    "start_time": "2022-05-05T16:53:53.013Z"
   },
   {
    "duration": 79,
    "start_time": "2022-05-05T16:53:53.030Z"
   },
   {
    "duration": 53,
    "start_time": "2022-05-05T16:53:53.111Z"
   },
   {
    "duration": 31,
    "start_time": "2022-05-05T16:53:53.166Z"
   },
   {
    "duration": 5,
    "start_time": "2022-05-05T16:53:53.199Z"
   },
   {
    "duration": 29,
    "start_time": "2022-05-05T16:53:53.206Z"
   },
   {
    "duration": 59,
    "start_time": "2022-05-05T16:53:53.237Z"
   },
   {
    "duration": 32,
    "start_time": "2022-05-05T16:53:53.299Z"
   },
   {
    "duration": 49,
    "start_time": "2022-05-05T16:53:53.333Z"
   },
   {
    "duration": 23,
    "start_time": "2022-05-05T16:53:53.384Z"
   },
   {
    "duration": 20,
    "start_time": "2022-05-05T16:53:53.409Z"
   },
   {
    "duration": 17,
    "start_time": "2022-05-05T16:53:53.431Z"
   },
   {
    "duration": 26,
    "start_time": "2022-05-05T16:53:53.482Z"
   },
   {
    "duration": 26,
    "start_time": "2022-05-05T16:53:53.510Z"
   },
   {
    "duration": 5,
    "start_time": "2022-05-05T16:53:53.538Z"
   },
   {
    "duration": 35,
    "start_time": "2022-05-05T16:53:53.583Z"
   },
   {
    "duration": 17,
    "start_time": "2022-05-05T16:53:53.620Z"
   },
   {
    "duration": 54,
    "start_time": "2022-05-05T16:53:53.639Z"
   },
   {
    "duration": 16,
    "start_time": "2022-05-05T16:53:53.695Z"
   },
   {
    "duration": 71,
    "start_time": "2022-05-05T16:53:53.713Z"
   },
   {
    "duration": 7,
    "start_time": "2022-05-05T16:53:53.786Z"
   },
   {
    "duration": 36,
    "start_time": "2022-05-05T16:53:53.795Z"
   },
   {
    "duration": 7,
    "start_time": "2022-05-05T16:53:53.833Z"
   }
  ],
  "colab": {
   "collapsed_sections": [
    "E0vqbgi9ay0H",
    "VUC88oWjTJw2"
   ],
   "name": "yandex_music_project.ipynb",
   "provenance": []
  },
  "kernelspec": {
   "display_name": "Python 3 (ipykernel)",
   "language": "python",
   "name": "python3"
  },
  "language_info": {
   "codemirror_mode": {
    "name": "ipython",
    "version": 3
   },
   "file_extension": ".py",
   "mimetype": "text/x-python",
   "name": "python",
   "nbconvert_exporter": "python",
   "pygments_lexer": "ipython3",
   "version": "3.9.5"
  },
  "toc": {
   "base_numbering": 1,
   "nav_menu": {},
   "number_sections": true,
   "sideBar": true,
   "skip_h1_title": true,
   "title_cell": "Table of Contents",
   "title_sidebar": "Contents",
   "toc_cell": false,
   "toc_position": {
    "height": "calc(100% - 180px)",
    "left": "10px",
    "top": "150px",
    "width": "270.396px"
   },
   "toc_section_display": true,
   "toc_window_display": false
  }
 },
 "nbformat": 4,
 "nbformat_minor": 1
}
