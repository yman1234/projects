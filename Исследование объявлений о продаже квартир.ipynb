{
 "cells": [
  {
   "cell_type": "markdown",
   "metadata": {},
   "source": [
    "Привет, меня зовут Гребенюк Артём. Сегодня я буду делать ревью твоего проекта!\\\n",
    "В Практикуме принято общаться на \"ты\", однако если это неудобно - дай знать, и можем перейти на более официальное общение.\n",
    "\n",
    "Ниже ты найдешь мои комментарии - пожалуйста, не перемещай, не изменяй и не удаляй их. Я буду использовать цветовую разметку: \n",
    "\n",
    "<div class=\"alert alert-block alert-success\">\n",
    "<b>✔️ Success:</b> Если все сделано хорошо. </div>\n",
    "\n",
    "<div class=\"alert alert-block alert-warning\">\n",
    "<b>⚠️ Remarks:</b> Некритичное замечание; если таких замечаний меньше трех — проект может быть принят без их отработки.</div>\n",
    "\n",
    "<div class=\"alert alert-block alert-danger\">\n",
    "<b>❌ Needs fixing:</b> Грубая ошибка, необходимо исправить, иначе проект не будет принят.\n",
    "</div>\n",
    "\n",
    "Давай работать над проектом в диалоге: если ты что-то меняешь в проекте или отвечаешь на мои комменатри — пиши об этом. Мне будет легче отследить изменения, если ты выделишь свои комментарии:\n",
    "Например так:\n",
    "\n",
    "<div class=\"alert alert-block alert-info\">\n",
    "<b>💾 Fixed:</b> \n",
    "Hello World! ✔\n",
    "</div>\n",
    "\n",
    "Или можешь использовать эту галочку ✔ в моих комментариях, если писать особо нечего.\n",
    "\n",
    "<div class=\"alert alert-block alert-warning\">\n",
    "<b>Общее впечатление:</b> \n",
    "    \n",
    "- Спасибо за работу :)\n",
    "- У меня есть пара ремарок, которые помогут тебе сделать проект еще лучше.\n",
    "- Пробегись по моим комментариям, исправь недочёты и всё будет отлично :)\n",
    "    \n",
    "</div>\n",
    "\n"
   ]
  },
  {
   "cell_type": "markdown",
   "metadata": {},
   "source": [
    "<div class=\"alert alert-block alert-success\">\n",
    "<b>Привет!</b> Отличная работа над ремарками! Проект принят, поздравляю, желаю удачи в дальнейшем обучении :)"
   ]
  },
  {
   "cell_type": "markdown",
   "metadata": {
    "toc": true
   },
   "source": [
    "<h1>Содержание<span class=\"tocSkip\"></span></h1>\n",
    "<div class=\"toc\"><ul class=\"toc-item\"><li><span><a href=\"#Изучение-данных-из-файла\" data-toc-modified-id=\"Изучение-данных-из-файла-1\"><span class=\"toc-item-num\">1&nbsp;&nbsp;</span>Изучение данных из файла</a></span><ul class=\"toc-item\"><li><span><a href=\"#Вывод\" data-toc-modified-id=\"Вывод-1.1\"><span class=\"toc-item-num\">1.1&nbsp;&nbsp;</span>Вывод</a></span></li></ul></li><li><span><a href=\"#Предобработка-данных\" data-toc-modified-id=\"Предобработка-данных-2\"><span class=\"toc-item-num\">2&nbsp;&nbsp;</span>Предобработка данных</a></span></li><li><span><a href=\"#Расчёты-и-добавление-результатов-в-таблицу\" data-toc-modified-id=\"Расчёты-и-добавление-результатов-в-таблицу-3\"><span class=\"toc-item-num\">3&nbsp;&nbsp;</span>Расчёты и добавление результатов в таблицу</a></span></li><li><span><a href=\"#Исследовательский-анализ-данных\" data-toc-modified-id=\"Исследовательский-анализ-данных-4\"><span class=\"toc-item-num\">4&nbsp;&nbsp;</span>Исследовательский анализ данных</a></span></li><li><span><a href=\"#Общий-вывод\" data-toc-modified-id=\"Общий-вывод-5\"><span class=\"toc-item-num\">5&nbsp;&nbsp;</span>Общий вывод</a></span></li><li><span><a href=\"#Чек-лист-готовности-проекта\" data-toc-modified-id=\"Чек-лист-готовности-проекта-6\"><span class=\"toc-item-num\">6&nbsp;&nbsp;</span>Чек-лист готовности проекта</a></span></li></ul></div>"
   ]
  },
  {
   "cell_type": "markdown",
   "metadata": {},
   "source": [
    "# Исследование объявлений о продаже квартир\n",
    "\n",
    "В вашем распоряжении данные сервиса Яндекc Недвижимость — архив объявлений о продаже квартир в Санкт-Петербурге и соседних населённых пунктах за несколько лет. Нужно научиться определять рыночную стоимость объектов недвижимости. Ваша задача — установить параметры. Это позволит построить автоматизированную систему: она отследит аномалии и мошенническую деятельность. \n",
    "\n",
    "По каждой квартире на продажу доступны два вида данных. Первые вписаны пользователем, вторые получены автоматически на основе картографических данных. Например, расстояние до центра, аэропорта, ближайшего парка и водоёма. "
   ]
  },
  {
   "cell_type": "markdown",
   "metadata": {},
   "source": [
    "<div class=\"alert alert-block alert-success\">\n",
    "<b>✔️ Success:</b> Отличное введение в работу! Кстати можно здорово улучшить навигацию по проекту, добавив ссылки \"в начало\" в ключевых разделах"
   ]
  },
  {
   "cell_type": "markdown",
   "metadata": {},
   "source": [
    "## Изучение данных из файла"
   ]
  },
  {
   "cell_type": "code",
   "execution_count": null,
   "metadata": {},
   "outputs": [],
   "source": [
    "import pandas as pd\n",
    "import numpy as np\n",
    "import matplotlib.pyplot as plt"
   ]
  },
  {
   "cell_type": "code",
   "execution_count": 47,
   "metadata": {},
   "outputs": [],
   "source": [
    "df=pd.read_csv('/datasets/real_estate_data.csv',sep='\\t') # ✔"
   ]
  },
  {
   "cell_type": "markdown",
   "metadata": {},
   "source": [
    "<div class=\"alert alert-block alert-success\">\n",
    "<b>✔️ Success:</b> здорово, что импорты собраны в начале проекта - так в нем очень удобно ориентироваться"
   ]
  },
  {
   "cell_type": "markdown",
   "metadata": {},
   "source": [
    "<div class=\"alert alert-block alert-warning\">\n",
    "<b>⚠️ Remarks:</b>\n",
    "    \n",
    "Однако стоит отделять импорты от открытия датасета. Это делается для того, чтобы иметь возмонжность в любой момент дописать нвоые библиотеки, перезапустить ячейку с импортами и продолжить работу, не перетирая датасет.\n"
   ]
  },
  {
   "cell_type": "markdown",
   "metadata": {},
   "source": [
    "<div class=\"alert alert-block alert-success\">\n",
    "так гораздо лучше :)"
   ]
  },
  {
   "cell_type": "code",
   "execution_count": 48,
   "metadata": {},
   "outputs": [
    {
     "name": "stdout",
     "output_type": "stream",
     "text": [
      "<class 'pandas.core.frame.DataFrame'>\n",
      "RangeIndex: 23699 entries, 0 to 23698\n",
      "Data columns (total 22 columns):\n",
      " #   Column                Non-Null Count  Dtype  \n",
      "---  ------                --------------  -----  \n",
      " 0   total_images          23699 non-null  int64  \n",
      " 1   last_price            23699 non-null  float64\n",
      " 2   total_area            23699 non-null  float64\n",
      " 3   first_day_exposition  23699 non-null  object \n",
      " 4   rooms                 23699 non-null  int64  \n",
      " 5   ceiling_height        14504 non-null  float64\n",
      " 6   floors_total          23613 non-null  float64\n",
      " 7   living_area           21796 non-null  float64\n",
      " 8   floor                 23699 non-null  int64  \n",
      " 9   is_apartment          2775 non-null   object \n",
      " 10  studio                23699 non-null  bool   \n",
      " 11  open_plan             23699 non-null  bool   \n",
      " 12  kitchen_area          21421 non-null  float64\n",
      " 13  balcony               12180 non-null  float64\n",
      " 14  locality_name         23650 non-null  object \n",
      " 15  airports_nearest      18157 non-null  float64\n",
      " 16  cityCenters_nearest   18180 non-null  float64\n",
      " 17  parks_around3000      18181 non-null  float64\n",
      " 18  parks_nearest         8079 non-null   float64\n",
      " 19  ponds_around3000      18181 non-null  float64\n",
      " 20  ponds_nearest         9110 non-null   float64\n",
      " 21  days_exposition       20518 non-null  float64\n",
      "dtypes: bool(2), float64(14), int64(3), object(3)\n",
      "memory usage: 3.7+ MB\n"
     ]
    }
   ],
   "source": [
    "df.info()"
   ]
  },
  {
   "cell_type": "code",
   "execution_count": 49,
   "metadata": {},
   "outputs": [
    {
     "data": {
      "text/html": [
       "<div>\n",
       "<style scoped>\n",
       "    .dataframe tbody tr th:only-of-type {\n",
       "        vertical-align: middle;\n",
       "    }\n",
       "\n",
       "    .dataframe tbody tr th {\n",
       "        vertical-align: top;\n",
       "    }\n",
       "\n",
       "    .dataframe thead th {\n",
       "        text-align: right;\n",
       "    }\n",
       "</style>\n",
       "<table border=\"1\" class=\"dataframe\">\n",
       "  <thead>\n",
       "    <tr style=\"text-align: right;\">\n",
       "      <th></th>\n",
       "      <th>total_images</th>\n",
       "      <th>last_price</th>\n",
       "      <th>total_area</th>\n",
       "      <th>first_day_exposition</th>\n",
       "      <th>rooms</th>\n",
       "      <th>ceiling_height</th>\n",
       "      <th>floors_total</th>\n",
       "      <th>living_area</th>\n",
       "      <th>floor</th>\n",
       "      <th>is_apartment</th>\n",
       "      <th>studio</th>\n",
       "      <th>open_plan</th>\n",
       "      <th>kitchen_area</th>\n",
       "      <th>balcony</th>\n",
       "      <th>locality_name</th>\n",
       "      <th>airports_nearest</th>\n",
       "      <th>cityCenters_nearest</th>\n",
       "      <th>parks_around3000</th>\n",
       "      <th>parks_nearest</th>\n",
       "      <th>ponds_around3000</th>\n",
       "      <th>ponds_nearest</th>\n",
       "      <th>days_exposition</th>\n",
       "    </tr>\n",
       "  </thead>\n",
       "  <tbody>\n",
       "    <tr>\n",
       "      <th>0</th>\n",
       "      <td>20</td>\n",
       "      <td>13000000.0</td>\n",
       "      <td>108.00</td>\n",
       "      <td>2019-03-07T00:00:00</td>\n",
       "      <td>3</td>\n",
       "      <td>2.70</td>\n",
       "      <td>16.0</td>\n",
       "      <td>51.00</td>\n",
       "      <td>8</td>\n",
       "      <td>NaN</td>\n",
       "      <td>False</td>\n",
       "      <td>False</td>\n",
       "      <td>25.00</td>\n",
       "      <td>NaN</td>\n",
       "      <td>Санкт-Петербург</td>\n",
       "      <td>18863.0</td>\n",
       "      <td>16028.0</td>\n",
       "      <td>1.0</td>\n",
       "      <td>482.0</td>\n",
       "      <td>2.0</td>\n",
       "      <td>755.0</td>\n",
       "      <td>NaN</td>\n",
       "    </tr>\n",
       "    <tr>\n",
       "      <th>1</th>\n",
       "      <td>7</td>\n",
       "      <td>3350000.0</td>\n",
       "      <td>40.40</td>\n",
       "      <td>2018-12-04T00:00:00</td>\n",
       "      <td>1</td>\n",
       "      <td>NaN</td>\n",
       "      <td>11.0</td>\n",
       "      <td>18.60</td>\n",
       "      <td>1</td>\n",
       "      <td>NaN</td>\n",
       "      <td>False</td>\n",
       "      <td>False</td>\n",
       "      <td>11.00</td>\n",
       "      <td>2.0</td>\n",
       "      <td>посёлок Шушары</td>\n",
       "      <td>12817.0</td>\n",
       "      <td>18603.0</td>\n",
       "      <td>0.0</td>\n",
       "      <td>NaN</td>\n",
       "      <td>0.0</td>\n",
       "      <td>NaN</td>\n",
       "      <td>81.0</td>\n",
       "    </tr>\n",
       "    <tr>\n",
       "      <th>2</th>\n",
       "      <td>10</td>\n",
       "      <td>5196000.0</td>\n",
       "      <td>56.00</td>\n",
       "      <td>2015-08-20T00:00:00</td>\n",
       "      <td>2</td>\n",
       "      <td>NaN</td>\n",
       "      <td>5.0</td>\n",
       "      <td>34.30</td>\n",
       "      <td>4</td>\n",
       "      <td>NaN</td>\n",
       "      <td>False</td>\n",
       "      <td>False</td>\n",
       "      <td>8.30</td>\n",
       "      <td>0.0</td>\n",
       "      <td>Санкт-Петербург</td>\n",
       "      <td>21741.0</td>\n",
       "      <td>13933.0</td>\n",
       "      <td>1.0</td>\n",
       "      <td>90.0</td>\n",
       "      <td>2.0</td>\n",
       "      <td>574.0</td>\n",
       "      <td>558.0</td>\n",
       "    </tr>\n",
       "    <tr>\n",
       "      <th>3</th>\n",
       "      <td>0</td>\n",
       "      <td>64900000.0</td>\n",
       "      <td>159.00</td>\n",
       "      <td>2015-07-24T00:00:00</td>\n",
       "      <td>3</td>\n",
       "      <td>NaN</td>\n",
       "      <td>14.0</td>\n",
       "      <td>NaN</td>\n",
       "      <td>9</td>\n",
       "      <td>NaN</td>\n",
       "      <td>False</td>\n",
       "      <td>False</td>\n",
       "      <td>NaN</td>\n",
       "      <td>0.0</td>\n",
       "      <td>Санкт-Петербург</td>\n",
       "      <td>28098.0</td>\n",
       "      <td>6800.0</td>\n",
       "      <td>2.0</td>\n",
       "      <td>84.0</td>\n",
       "      <td>3.0</td>\n",
       "      <td>234.0</td>\n",
       "      <td>424.0</td>\n",
       "    </tr>\n",
       "    <tr>\n",
       "      <th>4</th>\n",
       "      <td>2</td>\n",
       "      <td>10000000.0</td>\n",
       "      <td>100.00</td>\n",
       "      <td>2018-06-19T00:00:00</td>\n",
       "      <td>2</td>\n",
       "      <td>3.03</td>\n",
       "      <td>14.0</td>\n",
       "      <td>32.00</td>\n",
       "      <td>13</td>\n",
       "      <td>NaN</td>\n",
       "      <td>False</td>\n",
       "      <td>False</td>\n",
       "      <td>41.00</td>\n",
       "      <td>NaN</td>\n",
       "      <td>Санкт-Петербург</td>\n",
       "      <td>31856.0</td>\n",
       "      <td>8098.0</td>\n",
       "      <td>2.0</td>\n",
       "      <td>112.0</td>\n",
       "      <td>1.0</td>\n",
       "      <td>48.0</td>\n",
       "      <td>121.0</td>\n",
       "    </tr>\n",
       "    <tr>\n",
       "      <th>5</th>\n",
       "      <td>10</td>\n",
       "      <td>2890000.0</td>\n",
       "      <td>30.40</td>\n",
       "      <td>2018-09-10T00:00:00</td>\n",
       "      <td>1</td>\n",
       "      <td>NaN</td>\n",
       "      <td>12.0</td>\n",
       "      <td>14.40</td>\n",
       "      <td>5</td>\n",
       "      <td>NaN</td>\n",
       "      <td>False</td>\n",
       "      <td>False</td>\n",
       "      <td>9.10</td>\n",
       "      <td>NaN</td>\n",
       "      <td>городской посёлок Янино-1</td>\n",
       "      <td>NaN</td>\n",
       "      <td>NaN</td>\n",
       "      <td>NaN</td>\n",
       "      <td>NaN</td>\n",
       "      <td>NaN</td>\n",
       "      <td>NaN</td>\n",
       "      <td>55.0</td>\n",
       "    </tr>\n",
       "    <tr>\n",
       "      <th>6</th>\n",
       "      <td>6</td>\n",
       "      <td>3700000.0</td>\n",
       "      <td>37.30</td>\n",
       "      <td>2017-11-02T00:00:00</td>\n",
       "      <td>1</td>\n",
       "      <td>NaN</td>\n",
       "      <td>26.0</td>\n",
       "      <td>10.60</td>\n",
       "      <td>6</td>\n",
       "      <td>NaN</td>\n",
       "      <td>False</td>\n",
       "      <td>False</td>\n",
       "      <td>14.40</td>\n",
       "      <td>1.0</td>\n",
       "      <td>посёлок Парголово</td>\n",
       "      <td>52996.0</td>\n",
       "      <td>19143.0</td>\n",
       "      <td>0.0</td>\n",
       "      <td>NaN</td>\n",
       "      <td>0.0</td>\n",
       "      <td>NaN</td>\n",
       "      <td>155.0</td>\n",
       "    </tr>\n",
       "    <tr>\n",
       "      <th>7</th>\n",
       "      <td>5</td>\n",
       "      <td>7915000.0</td>\n",
       "      <td>71.60</td>\n",
       "      <td>2019-04-18T00:00:00</td>\n",
       "      <td>2</td>\n",
       "      <td>NaN</td>\n",
       "      <td>24.0</td>\n",
       "      <td>NaN</td>\n",
       "      <td>22</td>\n",
       "      <td>NaN</td>\n",
       "      <td>False</td>\n",
       "      <td>False</td>\n",
       "      <td>18.90</td>\n",
       "      <td>2.0</td>\n",
       "      <td>Санкт-Петербург</td>\n",
       "      <td>23982.0</td>\n",
       "      <td>11634.0</td>\n",
       "      <td>0.0</td>\n",
       "      <td>NaN</td>\n",
       "      <td>0.0</td>\n",
       "      <td>NaN</td>\n",
       "      <td>NaN</td>\n",
       "    </tr>\n",
       "    <tr>\n",
       "      <th>8</th>\n",
       "      <td>20</td>\n",
       "      <td>2900000.0</td>\n",
       "      <td>33.16</td>\n",
       "      <td>2018-05-23T00:00:00</td>\n",
       "      <td>1</td>\n",
       "      <td>NaN</td>\n",
       "      <td>27.0</td>\n",
       "      <td>15.43</td>\n",
       "      <td>26</td>\n",
       "      <td>NaN</td>\n",
       "      <td>False</td>\n",
       "      <td>False</td>\n",
       "      <td>8.81</td>\n",
       "      <td>NaN</td>\n",
       "      <td>посёлок Мурино</td>\n",
       "      <td>NaN</td>\n",
       "      <td>NaN</td>\n",
       "      <td>NaN</td>\n",
       "      <td>NaN</td>\n",
       "      <td>NaN</td>\n",
       "      <td>NaN</td>\n",
       "      <td>189.0</td>\n",
       "    </tr>\n",
       "    <tr>\n",
       "      <th>9</th>\n",
       "      <td>18</td>\n",
       "      <td>5400000.0</td>\n",
       "      <td>61.00</td>\n",
       "      <td>2017-02-26T00:00:00</td>\n",
       "      <td>3</td>\n",
       "      <td>2.50</td>\n",
       "      <td>9.0</td>\n",
       "      <td>43.60</td>\n",
       "      <td>7</td>\n",
       "      <td>NaN</td>\n",
       "      <td>False</td>\n",
       "      <td>False</td>\n",
       "      <td>6.50</td>\n",
       "      <td>2.0</td>\n",
       "      <td>Санкт-Петербург</td>\n",
       "      <td>50898.0</td>\n",
       "      <td>15008.0</td>\n",
       "      <td>0.0</td>\n",
       "      <td>NaN</td>\n",
       "      <td>0.0</td>\n",
       "      <td>NaN</td>\n",
       "      <td>289.0</td>\n",
       "    </tr>\n",
       "    <tr>\n",
       "      <th>10</th>\n",
       "      <td>5</td>\n",
       "      <td>5050000.0</td>\n",
       "      <td>39.60</td>\n",
       "      <td>2017-11-16T00:00:00</td>\n",
       "      <td>1</td>\n",
       "      <td>2.67</td>\n",
       "      <td>12.0</td>\n",
       "      <td>20.30</td>\n",
       "      <td>3</td>\n",
       "      <td>NaN</td>\n",
       "      <td>False</td>\n",
       "      <td>False</td>\n",
       "      <td>8.50</td>\n",
       "      <td>NaN</td>\n",
       "      <td>Санкт-Петербург</td>\n",
       "      <td>38357.0</td>\n",
       "      <td>13878.0</td>\n",
       "      <td>1.0</td>\n",
       "      <td>310.0</td>\n",
       "      <td>2.0</td>\n",
       "      <td>553.0</td>\n",
       "      <td>137.0</td>\n",
       "    </tr>\n",
       "    <tr>\n",
       "      <th>11</th>\n",
       "      <td>9</td>\n",
       "      <td>3300000.0</td>\n",
       "      <td>44.00</td>\n",
       "      <td>2018-08-27T00:00:00</td>\n",
       "      <td>2</td>\n",
       "      <td>NaN</td>\n",
       "      <td>5.0</td>\n",
       "      <td>31.00</td>\n",
       "      <td>4</td>\n",
       "      <td>False</td>\n",
       "      <td>False</td>\n",
       "      <td>False</td>\n",
       "      <td>6.00</td>\n",
       "      <td>1.0</td>\n",
       "      <td>Ломоносов</td>\n",
       "      <td>48252.0</td>\n",
       "      <td>51677.0</td>\n",
       "      <td>0.0</td>\n",
       "      <td>NaN</td>\n",
       "      <td>0.0</td>\n",
       "      <td>NaN</td>\n",
       "      <td>7.0</td>\n",
       "    </tr>\n",
       "    <tr>\n",
       "      <th>12</th>\n",
       "      <td>10</td>\n",
       "      <td>3890000.0</td>\n",
       "      <td>54.00</td>\n",
       "      <td>2016-06-30T00:00:00</td>\n",
       "      <td>2</td>\n",
       "      <td>NaN</td>\n",
       "      <td>5.0</td>\n",
       "      <td>30.00</td>\n",
       "      <td>5</td>\n",
       "      <td>NaN</td>\n",
       "      <td>False</td>\n",
       "      <td>False</td>\n",
       "      <td>9.00</td>\n",
       "      <td>0.0</td>\n",
       "      <td>Сертолово</td>\n",
       "      <td>NaN</td>\n",
       "      <td>NaN</td>\n",
       "      <td>NaN</td>\n",
       "      <td>NaN</td>\n",
       "      <td>NaN</td>\n",
       "      <td>NaN</td>\n",
       "      <td>90.0</td>\n",
       "    </tr>\n",
       "    <tr>\n",
       "      <th>13</th>\n",
       "      <td>20</td>\n",
       "      <td>3550000.0</td>\n",
       "      <td>42.80</td>\n",
       "      <td>2017-07-01T00:00:00</td>\n",
       "      <td>2</td>\n",
       "      <td>2.56</td>\n",
       "      <td>5.0</td>\n",
       "      <td>27.00</td>\n",
       "      <td>5</td>\n",
       "      <td>NaN</td>\n",
       "      <td>False</td>\n",
       "      <td>False</td>\n",
       "      <td>5.20</td>\n",
       "      <td>1.0</td>\n",
       "      <td>Петергоф</td>\n",
       "      <td>37868.0</td>\n",
       "      <td>33058.0</td>\n",
       "      <td>1.0</td>\n",
       "      <td>294.0</td>\n",
       "      <td>3.0</td>\n",
       "      <td>298.0</td>\n",
       "      <td>366.0</td>\n",
       "    </tr>\n",
       "    <tr>\n",
       "      <th>14</th>\n",
       "      <td>1</td>\n",
       "      <td>4400000.0</td>\n",
       "      <td>36.00</td>\n",
       "      <td>2016-06-23T00:00:00</td>\n",
       "      <td>1</td>\n",
       "      <td>NaN</td>\n",
       "      <td>6.0</td>\n",
       "      <td>17.00</td>\n",
       "      <td>1</td>\n",
       "      <td>NaN</td>\n",
       "      <td>False</td>\n",
       "      <td>False</td>\n",
       "      <td>8.00</td>\n",
       "      <td>0.0</td>\n",
       "      <td>Пушкин</td>\n",
       "      <td>20782.0</td>\n",
       "      <td>30759.0</td>\n",
       "      <td>0.0</td>\n",
       "      <td>NaN</td>\n",
       "      <td>1.0</td>\n",
       "      <td>96.0</td>\n",
       "      <td>203.0</td>\n",
       "    </tr>\n",
       "    <tr>\n",
       "      <th>15</th>\n",
       "      <td>16</td>\n",
       "      <td>4650000.0</td>\n",
       "      <td>39.00</td>\n",
       "      <td>2017-11-18T00:00:00</td>\n",
       "      <td>1</td>\n",
       "      <td>NaN</td>\n",
       "      <td>14.0</td>\n",
       "      <td>20.50</td>\n",
       "      <td>5</td>\n",
       "      <td>NaN</td>\n",
       "      <td>False</td>\n",
       "      <td>False</td>\n",
       "      <td>7.60</td>\n",
       "      <td>1.0</td>\n",
       "      <td>Санкт-Петербург</td>\n",
       "      <td>12900.0</td>\n",
       "      <td>14259.0</td>\n",
       "      <td>1.0</td>\n",
       "      <td>590.0</td>\n",
       "      <td>1.0</td>\n",
       "      <td>296.0</td>\n",
       "      <td>19.0</td>\n",
       "    </tr>\n",
       "    <tr>\n",
       "      <th>16</th>\n",
       "      <td>11</td>\n",
       "      <td>6700000.0</td>\n",
       "      <td>82.00</td>\n",
       "      <td>2017-11-23T00:00:00</td>\n",
       "      <td>3</td>\n",
       "      <td>3.05</td>\n",
       "      <td>5.0</td>\n",
       "      <td>55.60</td>\n",
       "      <td>1</td>\n",
       "      <td>NaN</td>\n",
       "      <td>False</td>\n",
       "      <td>False</td>\n",
       "      <td>9.00</td>\n",
       "      <td>NaN</td>\n",
       "      <td>Санкт-Петербург</td>\n",
       "      <td>22108.0</td>\n",
       "      <td>10698.0</td>\n",
       "      <td>3.0</td>\n",
       "      <td>420.0</td>\n",
       "      <td>0.0</td>\n",
       "      <td>NaN</td>\n",
       "      <td>397.0</td>\n",
       "    </tr>\n",
       "    <tr>\n",
       "      <th>17</th>\n",
       "      <td>6</td>\n",
       "      <td>4180000.0</td>\n",
       "      <td>36.00</td>\n",
       "      <td>2016-09-09T00:00:00</td>\n",
       "      <td>1</td>\n",
       "      <td>NaN</td>\n",
       "      <td>17.0</td>\n",
       "      <td>16.50</td>\n",
       "      <td>7</td>\n",
       "      <td>NaN</td>\n",
       "      <td>False</td>\n",
       "      <td>False</td>\n",
       "      <td>11.00</td>\n",
       "      <td>1.0</td>\n",
       "      <td>Санкт-Петербург</td>\n",
       "      <td>33564.0</td>\n",
       "      <td>14616.0</td>\n",
       "      <td>0.0</td>\n",
       "      <td>NaN</td>\n",
       "      <td>1.0</td>\n",
       "      <td>859.0</td>\n",
       "      <td>571.0</td>\n",
       "    </tr>\n",
       "    <tr>\n",
       "      <th>18</th>\n",
       "      <td>8</td>\n",
       "      <td>3250000.0</td>\n",
       "      <td>31.00</td>\n",
       "      <td>2017-01-27T00:00:00</td>\n",
       "      <td>1</td>\n",
       "      <td>2.50</td>\n",
       "      <td>5.0</td>\n",
       "      <td>19.40</td>\n",
       "      <td>2</td>\n",
       "      <td>NaN</td>\n",
       "      <td>False</td>\n",
       "      <td>False</td>\n",
       "      <td>5.60</td>\n",
       "      <td>1.0</td>\n",
       "      <td>Санкт-Петербург</td>\n",
       "      <td>44060.0</td>\n",
       "      <td>10842.0</td>\n",
       "      <td>1.0</td>\n",
       "      <td>759.0</td>\n",
       "      <td>0.0</td>\n",
       "      <td>NaN</td>\n",
       "      <td>168.0</td>\n",
       "    </tr>\n",
       "    <tr>\n",
       "      <th>19</th>\n",
       "      <td>16</td>\n",
       "      <td>14200000.0</td>\n",
       "      <td>121.00</td>\n",
       "      <td>2019-01-09T00:00:00</td>\n",
       "      <td>3</td>\n",
       "      <td>2.75</td>\n",
       "      <td>16.0</td>\n",
       "      <td>76.00</td>\n",
       "      <td>8</td>\n",
       "      <td>NaN</td>\n",
       "      <td>False</td>\n",
       "      <td>False</td>\n",
       "      <td>12.00</td>\n",
       "      <td>NaN</td>\n",
       "      <td>Санкт-Петербург</td>\n",
       "      <td>38900.0</td>\n",
       "      <td>12843.0</td>\n",
       "      <td>0.0</td>\n",
       "      <td>NaN</td>\n",
       "      <td>0.0</td>\n",
       "      <td>NaN</td>\n",
       "      <td>97.0</td>\n",
       "    </tr>\n",
       "  </tbody>\n",
       "</table>\n",
       "</div>"
      ],
      "text/plain": [
       "    total_images  last_price  total_area first_day_exposition  rooms  \\\n",
       "0             20  13000000.0      108.00  2019-03-07T00:00:00      3   \n",
       "1              7   3350000.0       40.40  2018-12-04T00:00:00      1   \n",
       "2             10   5196000.0       56.00  2015-08-20T00:00:00      2   \n",
       "3              0  64900000.0      159.00  2015-07-24T00:00:00      3   \n",
       "4              2  10000000.0      100.00  2018-06-19T00:00:00      2   \n",
       "5             10   2890000.0       30.40  2018-09-10T00:00:00      1   \n",
       "6              6   3700000.0       37.30  2017-11-02T00:00:00      1   \n",
       "7              5   7915000.0       71.60  2019-04-18T00:00:00      2   \n",
       "8             20   2900000.0       33.16  2018-05-23T00:00:00      1   \n",
       "9             18   5400000.0       61.00  2017-02-26T00:00:00      3   \n",
       "10             5   5050000.0       39.60  2017-11-16T00:00:00      1   \n",
       "11             9   3300000.0       44.00  2018-08-27T00:00:00      2   \n",
       "12            10   3890000.0       54.00  2016-06-30T00:00:00      2   \n",
       "13            20   3550000.0       42.80  2017-07-01T00:00:00      2   \n",
       "14             1   4400000.0       36.00  2016-06-23T00:00:00      1   \n",
       "15            16   4650000.0       39.00  2017-11-18T00:00:00      1   \n",
       "16            11   6700000.0       82.00  2017-11-23T00:00:00      3   \n",
       "17             6   4180000.0       36.00  2016-09-09T00:00:00      1   \n",
       "18             8   3250000.0       31.00  2017-01-27T00:00:00      1   \n",
       "19            16  14200000.0      121.00  2019-01-09T00:00:00      3   \n",
       "\n",
       "    ceiling_height  floors_total  living_area  floor is_apartment  studio  \\\n",
       "0             2.70          16.0        51.00      8          NaN   False   \n",
       "1              NaN          11.0        18.60      1          NaN   False   \n",
       "2              NaN           5.0        34.30      4          NaN   False   \n",
       "3              NaN          14.0          NaN      9          NaN   False   \n",
       "4             3.03          14.0        32.00     13          NaN   False   \n",
       "5              NaN          12.0        14.40      5          NaN   False   \n",
       "6              NaN          26.0        10.60      6          NaN   False   \n",
       "7              NaN          24.0          NaN     22          NaN   False   \n",
       "8              NaN          27.0        15.43     26          NaN   False   \n",
       "9             2.50           9.0        43.60      7          NaN   False   \n",
       "10            2.67          12.0        20.30      3          NaN   False   \n",
       "11             NaN           5.0        31.00      4        False   False   \n",
       "12             NaN           5.0        30.00      5          NaN   False   \n",
       "13            2.56           5.0        27.00      5          NaN   False   \n",
       "14             NaN           6.0        17.00      1          NaN   False   \n",
       "15             NaN          14.0        20.50      5          NaN   False   \n",
       "16            3.05           5.0        55.60      1          NaN   False   \n",
       "17             NaN          17.0        16.50      7          NaN   False   \n",
       "18            2.50           5.0        19.40      2          NaN   False   \n",
       "19            2.75          16.0        76.00      8          NaN   False   \n",
       "\n",
       "    open_plan  kitchen_area  balcony              locality_name  \\\n",
       "0       False         25.00      NaN            Санкт-Петербург   \n",
       "1       False         11.00      2.0             посёлок Шушары   \n",
       "2       False          8.30      0.0            Санкт-Петербург   \n",
       "3       False           NaN      0.0            Санкт-Петербург   \n",
       "4       False         41.00      NaN            Санкт-Петербург   \n",
       "5       False          9.10      NaN  городской посёлок Янино-1   \n",
       "6       False         14.40      1.0          посёлок Парголово   \n",
       "7       False         18.90      2.0            Санкт-Петербург   \n",
       "8       False          8.81      NaN             посёлок Мурино   \n",
       "9       False          6.50      2.0            Санкт-Петербург   \n",
       "10      False          8.50      NaN            Санкт-Петербург   \n",
       "11      False          6.00      1.0                  Ломоносов   \n",
       "12      False          9.00      0.0                  Сертолово   \n",
       "13      False          5.20      1.0                   Петергоф   \n",
       "14      False          8.00      0.0                     Пушкин   \n",
       "15      False          7.60      1.0            Санкт-Петербург   \n",
       "16      False          9.00      NaN            Санкт-Петербург   \n",
       "17      False         11.00      1.0            Санкт-Петербург   \n",
       "18      False          5.60      1.0            Санкт-Петербург   \n",
       "19      False         12.00      NaN            Санкт-Петербург   \n",
       "\n",
       "    airports_nearest  cityCenters_nearest  parks_around3000  parks_nearest  \\\n",
       "0            18863.0              16028.0               1.0          482.0   \n",
       "1            12817.0              18603.0               0.0            NaN   \n",
       "2            21741.0              13933.0               1.0           90.0   \n",
       "3            28098.0               6800.0               2.0           84.0   \n",
       "4            31856.0               8098.0               2.0          112.0   \n",
       "5                NaN                  NaN               NaN            NaN   \n",
       "6            52996.0              19143.0               0.0            NaN   \n",
       "7            23982.0              11634.0               0.0            NaN   \n",
       "8                NaN                  NaN               NaN            NaN   \n",
       "9            50898.0              15008.0               0.0            NaN   \n",
       "10           38357.0              13878.0               1.0          310.0   \n",
       "11           48252.0              51677.0               0.0            NaN   \n",
       "12               NaN                  NaN               NaN            NaN   \n",
       "13           37868.0              33058.0               1.0          294.0   \n",
       "14           20782.0              30759.0               0.0            NaN   \n",
       "15           12900.0              14259.0               1.0          590.0   \n",
       "16           22108.0              10698.0               3.0          420.0   \n",
       "17           33564.0              14616.0               0.0            NaN   \n",
       "18           44060.0              10842.0               1.0          759.0   \n",
       "19           38900.0              12843.0               0.0            NaN   \n",
       "\n",
       "    ponds_around3000  ponds_nearest  days_exposition  \n",
       "0                2.0          755.0              NaN  \n",
       "1                0.0            NaN             81.0  \n",
       "2                2.0          574.0            558.0  \n",
       "3                3.0          234.0            424.0  \n",
       "4                1.0           48.0            121.0  \n",
       "5                NaN            NaN             55.0  \n",
       "6                0.0            NaN            155.0  \n",
       "7                0.0            NaN              NaN  \n",
       "8                NaN            NaN            189.0  \n",
       "9                0.0            NaN            289.0  \n",
       "10               2.0          553.0            137.0  \n",
       "11               0.0            NaN              7.0  \n",
       "12               NaN            NaN             90.0  \n",
       "13               3.0          298.0            366.0  \n",
       "14               1.0           96.0            203.0  \n",
       "15               1.0          296.0             19.0  \n",
       "16               0.0            NaN            397.0  \n",
       "17               1.0          859.0            571.0  \n",
       "18               0.0            NaN            168.0  \n",
       "19               0.0            NaN             97.0  "
      ]
     },
     "execution_count": 49,
     "metadata": {},
     "output_type": "execute_result"
    }
   ],
   "source": [
    "\n",
    "pd.set_option('display.max_columns', None)\n",
    "pd.set_option('display.max_rows', None)\n",
    "df.head(20)"
   ]
  },
  {
   "cell_type": "code",
   "execution_count": 50,
   "metadata": {},
   "outputs": [
    {
     "data": {
      "text/plain": [
       "0"
      ]
     },
     "execution_count": 50,
     "metadata": {},
     "output_type": "execute_result"
    }
   ],
   "source": [
    "df.duplicated().sum()"
   ]
  },
  {
   "cell_type": "code",
   "execution_count": 51,
   "metadata": {},
   "outputs": [
    {
     "data": {
      "text/html": [
       "<div>\n",
       "<style scoped>\n",
       "    .dataframe tbody tr th:only-of-type {\n",
       "        vertical-align: middle;\n",
       "    }\n",
       "\n",
       "    .dataframe tbody tr th {\n",
       "        vertical-align: top;\n",
       "    }\n",
       "\n",
       "    .dataframe thead th {\n",
       "        text-align: right;\n",
       "    }\n",
       "</style>\n",
       "<table border=\"1\" class=\"dataframe\">\n",
       "  <thead>\n",
       "    <tr style=\"text-align: right;\">\n",
       "      <th></th>\n",
       "      <th>count</th>\n",
       "      <th>mean</th>\n",
       "      <th>std</th>\n",
       "      <th>min</th>\n",
       "      <th>25%</th>\n",
       "      <th>50%</th>\n",
       "      <th>75%</th>\n",
       "      <th>max</th>\n",
       "    </tr>\n",
       "  </thead>\n",
       "  <tbody>\n",
       "    <tr>\n",
       "      <th>total_images</th>\n",
       "      <td>23699.0</td>\n",
       "      <td>9.858475e+00</td>\n",
       "      <td>5.682529e+00</td>\n",
       "      <td>0.0</td>\n",
       "      <td>6.00</td>\n",
       "      <td>9.00</td>\n",
       "      <td>14.0</td>\n",
       "      <td>50.0</td>\n",
       "    </tr>\n",
       "    <tr>\n",
       "      <th>last_price</th>\n",
       "      <td>23699.0</td>\n",
       "      <td>6.541549e+06</td>\n",
       "      <td>1.088701e+07</td>\n",
       "      <td>12190.0</td>\n",
       "      <td>3400000.00</td>\n",
       "      <td>4650000.00</td>\n",
       "      <td>6800000.0</td>\n",
       "      <td>763000000.0</td>\n",
       "    </tr>\n",
       "    <tr>\n",
       "      <th>total_area</th>\n",
       "      <td>23699.0</td>\n",
       "      <td>6.034865e+01</td>\n",
       "      <td>3.565408e+01</td>\n",
       "      <td>12.0</td>\n",
       "      <td>40.00</td>\n",
       "      <td>52.00</td>\n",
       "      <td>69.9</td>\n",
       "      <td>900.0</td>\n",
       "    </tr>\n",
       "    <tr>\n",
       "      <th>rooms</th>\n",
       "      <td>23699.0</td>\n",
       "      <td>2.070636e+00</td>\n",
       "      <td>1.078405e+00</td>\n",
       "      <td>0.0</td>\n",
       "      <td>1.00</td>\n",
       "      <td>2.00</td>\n",
       "      <td>3.0</td>\n",
       "      <td>19.0</td>\n",
       "    </tr>\n",
       "    <tr>\n",
       "      <th>ceiling_height</th>\n",
       "      <td>14504.0</td>\n",
       "      <td>2.771499e+00</td>\n",
       "      <td>1.261056e+00</td>\n",
       "      <td>1.0</td>\n",
       "      <td>2.52</td>\n",
       "      <td>2.65</td>\n",
       "      <td>2.8</td>\n",
       "      <td>100.0</td>\n",
       "    </tr>\n",
       "    <tr>\n",
       "      <th>floors_total</th>\n",
       "      <td>23613.0</td>\n",
       "      <td>1.067382e+01</td>\n",
       "      <td>6.597173e+00</td>\n",
       "      <td>1.0</td>\n",
       "      <td>5.00</td>\n",
       "      <td>9.00</td>\n",
       "      <td>16.0</td>\n",
       "      <td>60.0</td>\n",
       "    </tr>\n",
       "    <tr>\n",
       "      <th>living_area</th>\n",
       "      <td>21796.0</td>\n",
       "      <td>3.445785e+01</td>\n",
       "      <td>2.203045e+01</td>\n",
       "      <td>2.0</td>\n",
       "      <td>18.60</td>\n",
       "      <td>30.00</td>\n",
       "      <td>42.3</td>\n",
       "      <td>409.7</td>\n",
       "    </tr>\n",
       "    <tr>\n",
       "      <th>floor</th>\n",
       "      <td>23699.0</td>\n",
       "      <td>5.892358e+00</td>\n",
       "      <td>4.885249e+00</td>\n",
       "      <td>1.0</td>\n",
       "      <td>2.00</td>\n",
       "      <td>4.00</td>\n",
       "      <td>8.0</td>\n",
       "      <td>33.0</td>\n",
       "    </tr>\n",
       "    <tr>\n",
       "      <th>kitchen_area</th>\n",
       "      <td>21421.0</td>\n",
       "      <td>1.056981e+01</td>\n",
       "      <td>5.905438e+00</td>\n",
       "      <td>1.3</td>\n",
       "      <td>7.00</td>\n",
       "      <td>9.10</td>\n",
       "      <td>12.0</td>\n",
       "      <td>112.0</td>\n",
       "    </tr>\n",
       "    <tr>\n",
       "      <th>balcony</th>\n",
       "      <td>12180.0</td>\n",
       "      <td>1.150082e+00</td>\n",
       "      <td>1.071300e+00</td>\n",
       "      <td>0.0</td>\n",
       "      <td>0.00</td>\n",
       "      <td>1.00</td>\n",
       "      <td>2.0</td>\n",
       "      <td>5.0</td>\n",
       "    </tr>\n",
       "    <tr>\n",
       "      <th>airports_nearest</th>\n",
       "      <td>18157.0</td>\n",
       "      <td>2.879367e+04</td>\n",
       "      <td>1.263088e+04</td>\n",
       "      <td>0.0</td>\n",
       "      <td>18585.00</td>\n",
       "      <td>26726.00</td>\n",
       "      <td>37273.0</td>\n",
       "      <td>84869.0</td>\n",
       "    </tr>\n",
       "    <tr>\n",
       "      <th>cityCenters_nearest</th>\n",
       "      <td>18180.0</td>\n",
       "      <td>1.419128e+04</td>\n",
       "      <td>8.608386e+03</td>\n",
       "      <td>181.0</td>\n",
       "      <td>9238.00</td>\n",
       "      <td>13098.50</td>\n",
       "      <td>16293.0</td>\n",
       "      <td>65968.0</td>\n",
       "    </tr>\n",
       "    <tr>\n",
       "      <th>parks_around3000</th>\n",
       "      <td>18181.0</td>\n",
       "      <td>6.114075e-01</td>\n",
       "      <td>8.020736e-01</td>\n",
       "      <td>0.0</td>\n",
       "      <td>0.00</td>\n",
       "      <td>0.00</td>\n",
       "      <td>1.0</td>\n",
       "      <td>3.0</td>\n",
       "    </tr>\n",
       "    <tr>\n",
       "      <th>parks_nearest</th>\n",
       "      <td>8079.0</td>\n",
       "      <td>4.908046e+02</td>\n",
       "      <td>3.423180e+02</td>\n",
       "      <td>1.0</td>\n",
       "      <td>288.00</td>\n",
       "      <td>455.00</td>\n",
       "      <td>612.0</td>\n",
       "      <td>3190.0</td>\n",
       "    </tr>\n",
       "    <tr>\n",
       "      <th>ponds_around3000</th>\n",
       "      <td>18181.0</td>\n",
       "      <td>7.702547e-01</td>\n",
       "      <td>9.383456e-01</td>\n",
       "      <td>0.0</td>\n",
       "      <td>0.00</td>\n",
       "      <td>1.00</td>\n",
       "      <td>1.0</td>\n",
       "      <td>3.0</td>\n",
       "    </tr>\n",
       "    <tr>\n",
       "      <th>ponds_nearest</th>\n",
       "      <td>9110.0</td>\n",
       "      <td>5.179809e+02</td>\n",
       "      <td>2.777206e+02</td>\n",
       "      <td>13.0</td>\n",
       "      <td>294.00</td>\n",
       "      <td>502.00</td>\n",
       "      <td>729.0</td>\n",
       "      <td>1344.0</td>\n",
       "    </tr>\n",
       "    <tr>\n",
       "      <th>days_exposition</th>\n",
       "      <td>20518.0</td>\n",
       "      <td>1.808886e+02</td>\n",
       "      <td>2.197280e+02</td>\n",
       "      <td>1.0</td>\n",
       "      <td>45.00</td>\n",
       "      <td>95.00</td>\n",
       "      <td>232.0</td>\n",
       "      <td>1580.0</td>\n",
       "    </tr>\n",
       "  </tbody>\n",
       "</table>\n",
       "</div>"
      ],
      "text/plain": [
       "                       count          mean           std      min         25%  \\\n",
       "total_images         23699.0  9.858475e+00  5.682529e+00      0.0        6.00   \n",
       "last_price           23699.0  6.541549e+06  1.088701e+07  12190.0  3400000.00   \n",
       "total_area           23699.0  6.034865e+01  3.565408e+01     12.0       40.00   \n",
       "rooms                23699.0  2.070636e+00  1.078405e+00      0.0        1.00   \n",
       "ceiling_height       14504.0  2.771499e+00  1.261056e+00      1.0        2.52   \n",
       "floors_total         23613.0  1.067382e+01  6.597173e+00      1.0        5.00   \n",
       "living_area          21796.0  3.445785e+01  2.203045e+01      2.0       18.60   \n",
       "floor                23699.0  5.892358e+00  4.885249e+00      1.0        2.00   \n",
       "kitchen_area         21421.0  1.056981e+01  5.905438e+00      1.3        7.00   \n",
       "balcony              12180.0  1.150082e+00  1.071300e+00      0.0        0.00   \n",
       "airports_nearest     18157.0  2.879367e+04  1.263088e+04      0.0    18585.00   \n",
       "cityCenters_nearest  18180.0  1.419128e+04  8.608386e+03    181.0     9238.00   \n",
       "parks_around3000     18181.0  6.114075e-01  8.020736e-01      0.0        0.00   \n",
       "parks_nearest         8079.0  4.908046e+02  3.423180e+02      1.0      288.00   \n",
       "ponds_around3000     18181.0  7.702547e-01  9.383456e-01      0.0        0.00   \n",
       "ponds_nearest         9110.0  5.179809e+02  2.777206e+02     13.0      294.00   \n",
       "days_exposition      20518.0  1.808886e+02  2.197280e+02      1.0       45.00   \n",
       "\n",
       "                            50%        75%          max  \n",
       "total_images               9.00       14.0         50.0  \n",
       "last_price           4650000.00  6800000.0  763000000.0  \n",
       "total_area                52.00       69.9        900.0  \n",
       "rooms                      2.00        3.0         19.0  \n",
       "ceiling_height             2.65        2.8        100.0  \n",
       "floors_total               9.00       16.0         60.0  \n",
       "living_area               30.00       42.3        409.7  \n",
       "floor                      4.00        8.0         33.0  \n",
       "kitchen_area               9.10       12.0        112.0  \n",
       "balcony                    1.00        2.0          5.0  \n",
       "airports_nearest       26726.00    37273.0      84869.0  \n",
       "cityCenters_nearest    13098.50    16293.0      65968.0  \n",
       "parks_around3000           0.00        1.0          3.0  \n",
       "parks_nearest            455.00      612.0       3190.0  \n",
       "ponds_around3000           1.00        1.0          3.0  \n",
       "ponds_nearest            502.00      729.0       1344.0  \n",
       "days_exposition           95.00      232.0       1580.0  "
      ]
     },
     "execution_count": 51,
     "metadata": {},
     "output_type": "execute_result"
    }
   ],
   "source": [
    "df.describe().T # ✔"
   ]
  },
  {
   "cell_type": "markdown",
   "metadata": {},
   "source": [
    "<div class=\"alert alert-block alert-warning\">\n",
    "<b>⚠️ Remarks:</b> \n",
    "    \n",
    "- функция `describe()` может быть очень полезна при знакомстве с датасетом, здорово, что ты её используешь. Советую почитать про её аргументы - пригодится в следующих проектах, а также рекомендую рассматривать её в транспонированном виде - в больших датасетах будет удобнее - `df.describe().T` # ✔"
   ]
  },
  {
   "cell_type": "raw",
   "metadata": {},
   "source": [
    "# вывод: есть у нас 23699 записи, есть много NAn и не правильно записаные тип данных. "
   ]
  },
  {
   "cell_type": "markdown",
   "metadata": {},
   "source": [
    "### Вывод"
   ]
  },
  {
   "cell_type": "markdown",
   "metadata": {},
   "source": [
    "<div class=\"alert alert-block alert-warning\">\n",
    "<b>⚠️ Remarks:</b> \n",
    "    \n",
    "- старайся пояснения к исследованию всегда писать в маркдаун-ячейках. Через # Обычно пишутся технические комментарии к нетривиальным участкам кода\n",
    "- тем более, если заявляешь, что будет промежуточный вывод, нужно его писать :)"
   ]
  },
  {
   "cell_type": "markdown",
   "metadata": {},
   "source": [
    "## Предобработка данных"
   ]
  },
  {
   "cell_type": "code",
   "execution_count": 53,
   "metadata": {},
   "outputs": [
    {
     "data": {
      "text/plain": [
       "total_images                0\n",
       "last_price                  0\n",
       "total_area                  0\n",
       "first_day_exposition        0\n",
       "rooms                       0\n",
       "ceiling_height           9195\n",
       "floors_total               86\n",
       "living_area              1903\n",
       "floor                       0\n",
       "is_apartment            20924\n",
       "studio                      0\n",
       "open_plan                   0\n",
       "kitchen_area             2278\n",
       "balcony                 11519\n",
       "locality_name              49\n",
       "airports_nearest         5542\n",
       "cityCenters_nearest      5519\n",
       "parks_around3000         5518\n",
       "parks_nearest           15620\n",
       "ponds_around3000         5518\n",
       "ponds_nearest           14589\n",
       "days_exposition          3181\n",
       "dtype: int64"
      ]
     },
     "execution_count": 53,
     "metadata": {},
     "output_type": "execute_result"
    }
   ],
   "source": [
    "df.isna().sum() #методом isna() мы находим  NaN -значения ,а методом sum() количество "
   ]
  },
  {
   "cell_type": "code",
   "execution_count": 54,
   "metadata": {},
   "outputs": [],
   "source": [
    "# вместо пропушеных ставим (0), потому-что  оно либо есть, либо его нету. # ✔\n",
    "df['balcony']=df['balcony'].fillna(0) # место NaN -значения(если нету волкона) , то меняем на 0\n",
    "df['is_apartment']= df['is_apartment'].fillna(0) #тут вместо   пропущенный значение ставит им 0 ,потому что апортоменты либо есть(True) либо нету(False) "
   ]
  },
  {
   "cell_type": "code",
   "execution_count": 55,
   "metadata": {},
   "outputs": [],
   "source": [
    "# вместо пропушеных ставим (пустой), потому-что нам ничего не известно. \n",
    "df.dropna(subset=['locality_name'], inplace=True)\n",
    "df.dropna(subset=['floors_total'], inplace=True)"
   ]
  },
  {
   "cell_type": "code",
   "execution_count": 80,
   "metadata": {},
   "outputs": [],
   "source": [
    "ceiling_height_median=df['ceiling_height'].median()# находим медиана\n",
    "df['ceiling_height']=df['ceiling_height'].fillna(value=ceiling_height_median)# и заменяем методом fillna() с аргументом value\n",
    "living_area_median=df['living_area'].median() \n",
    "df['living_area']=df['living_area'].fillna(value=living_area_median)#тут вместо   пропущенный значение ставит им среднию по мед  \n",
    "kitchen_area_median=df['kitchen_area'].median()# находим медиана\n",
    "df['kitchen_area']=df['kitchen_area'].fillna(value=kitchen_area_median) #тут вместо   пропущенный значение ставит им среднию по медианы \n",
    "airports_nearest_median= df['airports_nearest'].median()\n",
    "df['airports_nearest']=df['airports_nearest'].fillna(value=airports_nearest_median)# тут вместо   пропущенный значение ставит им среднию по медианы\n",
    "cityCenters_nearest_median=df['cityCenters_nearest'].median()\n",
    "df['cityCenters_nearest'] = df['cityCenters_nearest'].fillna(value=cityCenters_nearest_median)# тут вместо   пропущенный значение ставит им среднию по медианы\n",
    "parks_nearest_median=df['parks_nearest'].median()\n",
    "df['parks_nearest'] = df['parks_nearest'].fillna(value=parks_nearest_median)# тут вместо   пропущенный значение ставит им среднию по медианы\n",
    "parks_around3000_median=df['parks_around3000'].median()\n",
    "df['parks_around3000']=df['parks_around3000'].fillna(value=parks_around3000_median)# тут вместо   пропущенный значение ставит им среднию по медиа\n",
    "ponds_around3000_median=df['ponds_around3000'].median()\n",
    "df['ponds_around3000'] = df['ponds_around3000'].fillna(value=ponds_around3000_median)# тут вместо   пропущенный значение ставит им среднию по медианы\n",
    "ponds_nearest_median=df['ponds_nearest'].median()\n",
    "df['ponds_nearest'] = df['ponds_nearest'].fillna(value=ponds_nearest_median)# тут вместо   пропущенный значение ставит им среднию по медианы"
   ]
  },
  {
   "cell_type": "code",
   "execution_count": 81,
   "metadata": {},
   "outputs": [],
   "source": [
    "df['days_exposition'].fillna(9999, inplace=True) ## Устанавливаем маркер 9999 для пропусков в сроке продажи"
   ]
  },
  {
   "cell_type": "markdown",
   "metadata": {},
   "source": [
    "<div class=\"alert alert-block alert-warning\">\n",
    "<b>⚠️ Remarks:</b> рекомендуется разбивать код на большее число блоков, перемежающихся маркдаун-ячейками с комментариями. Такой проект будет проще читать, поддерживать, да и писать # ✔"
   ]
  },
  {
   "cell_type": "markdown",
   "metadata": {},
   "source": [
    "<div class=\"alert alert-block alert-warning\">\n",
    "<b>⚠️ Remarks:</b> давай проверим, не создали ли мы аномалий:\n",
    "    \n",
    "- не стала ли сумма кухни и жилой площади превышать общую площадь квартиры\n",
    "- не стал ли где-то максимальный этаж ниже текущего этажа"
   ]
  },
  {
   "cell_type": "markdown",
   "metadata": {},
   "source": [
    "<div class=\"alert alert-block alert-danger\">\n",
    "<b>❌ Needs fixing:</b> \n",
    "    \n",
    "пропуски в столбце `days_exposition` означают, что объявление не было снято с публикации на момент сбора данных. Как ты считаешь, имеем ли мы право как-то их заменять?"
   ]
  },
  {
   "cell_type": "markdown",
   "metadata": {},
   "source": [
    "<div class=\"alert alert-block alert-success\">\n",
    "хорошая идея - заменить технической константой (9999), по которой будем фильтровать ппри аналитике!"
   ]
  },
  {
   "cell_type": "code",
   "execution_count": 58,
   "metadata": {},
   "outputs": [
    {
     "data": {
      "text/plain": [
       "total_images            0\n",
       "last_price              0\n",
       "total_area              0\n",
       "first_day_exposition    0\n",
       "rooms                   0\n",
       "ceiling_height          0\n",
       "floors_total            0\n",
       "living_area             0\n",
       "floor                   0\n",
       "is_apartment            0\n",
       "studio                  0\n",
       "open_plan               0\n",
       "kitchen_area            0\n",
       "balcony                 0\n",
       "locality_name           0\n",
       "airports_nearest        0\n",
       "cityCenters_nearest     0\n",
       "parks_around3000        0\n",
       "parks_nearest           0\n",
       "ponds_around3000        0\n",
       "ponds_nearest           0\n",
       "days_exposition         0\n",
       "dtype: int64"
      ]
     },
     "execution_count": 58,
     "metadata": {},
     "output_type": "execute_result"
    }
   ],
   "source": [
    "df.isna().sum()"
   ]
  },
  {
   "cell_type": "code",
   "execution_count": 59,
   "metadata": {},
   "outputs": [
    {
     "data": {
      "text/plain": [
       "518430"
      ]
     },
     "execution_count": 59,
     "metadata": {},
     "output_type": "execute_result"
    }
   ],
   "source": [
    "df.size"
   ]
  },
  {
   "cell_type": "code",
   "execution_count": 60,
   "metadata": {},
   "outputs": [],
   "source": [
    "df['floors_total']=df['floors_total'].astype(int) # тут мы из float делаем int потомучто этажи дожны быть целыми \n",
    "df['balcony']=df['balcony'].astype(int) # тут либо волкон есть (0) либо нету(1), вот почемы  из float делаем int\n",
    "df['total_area']=df['total_area'].astype(int)\n",
    "df['last_price']=df['last_price'].astype(int)\n",
    "df['days_exposition'] = df['days_exposition'].astype(int)\n",
    "df['cityCenters_nearest']=df['cityCenters_nearest'].astype(int)"
   ]
  },
  {
   "cell_type": "code",
   "execution_count": null,
   "metadata": {},
   "outputs": [],
   "source": []
  },
  {
   "cell_type": "markdown",
   "metadata": {},
   "source": [
    "<div class=\"alert alert-block alert-warning\">\n",
    "<b>⚠️ Remarks:</b>\n",
    "    \n",
    "Потенциал для эффективного изменения типов тут очень широк.\n",
    "    \n",
    "Давай я дам тебе две классные статьи, а ты попробуешь изменить типы данных на еще более подходящие и замеришь, сколько памяти в % ты сэкономишь:\n",
    "    \n",
    "https://pyprog.pro/data_types.html\n",
    "    \n",
    "https://habr.com/ru/company/ruvds/blog/442516/"
   ]
  },
  {
   "cell_type": "code",
   "execution_count": 61,
   "metadata": {},
   "outputs": [
    {
     "data": {
      "text/plain": [
       "518430"
      ]
     },
     "execution_count": 61,
     "metadata": {},
     "output_type": "execute_result"
    }
   ],
   "source": [
    "df.size"
   ]
  },
  {
   "cell_type": "markdown",
   "metadata": {},
   "source": [
    "## Расчёты и добавление результатов в таблицу"
   ]
  },
  {
   "cell_type": "code",
   "execution_count": 62,
   "metadata": {},
   "outputs": [],
   "source": [
    "df['the_price_per_square_meter']=df['last_price']/df['total_area'] # Чтобы высчитать стоимость квадратного метра, вам нужно знать два параметра - стоимость объекта недвижимости и полный метраж. Разделите общую стоимость на количество метров в квартире и получите стоимость одного квадратного метра.\n"
   ]
  },
  {
   "cell_type": "code",
   "execution_count": 63,
   "metadata": {},
   "outputs": [
    {
     "data": {
      "text/html": [
       "<div>\n",
       "<style scoped>\n",
       "    .dataframe tbody tr th:only-of-type {\n",
       "        vertical-align: middle;\n",
       "    }\n",
       "\n",
       "    .dataframe tbody tr th {\n",
       "        vertical-align: top;\n",
       "    }\n",
       "\n",
       "    .dataframe thead th {\n",
       "        text-align: right;\n",
       "    }\n",
       "</style>\n",
       "<table border=\"1\" class=\"dataframe\">\n",
       "  <thead>\n",
       "    <tr style=\"text-align: right;\">\n",
       "      <th></th>\n",
       "      <th>total_images</th>\n",
       "      <th>last_price</th>\n",
       "      <th>total_area</th>\n",
       "      <th>first_day_exposition</th>\n",
       "      <th>rooms</th>\n",
       "      <th>ceiling_height</th>\n",
       "      <th>floors_total</th>\n",
       "      <th>living_area</th>\n",
       "      <th>floor</th>\n",
       "      <th>is_apartment</th>\n",
       "      <th>studio</th>\n",
       "      <th>open_plan</th>\n",
       "      <th>kitchen_area</th>\n",
       "      <th>balcony</th>\n",
       "      <th>locality_name</th>\n",
       "      <th>airports_nearest</th>\n",
       "      <th>cityCenters_nearest</th>\n",
       "      <th>parks_around3000</th>\n",
       "      <th>parks_nearest</th>\n",
       "      <th>ponds_around3000</th>\n",
       "      <th>ponds_nearest</th>\n",
       "      <th>days_exposition</th>\n",
       "      <th>the_price_per_square_meter</th>\n",
       "      <th>weekday</th>\n",
       "      <th>month</th>\n",
       "      <th>year</th>\n",
       "    </tr>\n",
       "  </thead>\n",
       "  <tbody>\n",
       "    <tr>\n",
       "      <th>0</th>\n",
       "      <td>20</td>\n",
       "      <td>13000000</td>\n",
       "      <td>108</td>\n",
       "      <td>2019-03-07T00:00:00</td>\n",
       "      <td>3</td>\n",
       "      <td>2.70</td>\n",
       "      <td>16</td>\n",
       "      <td>51.0</td>\n",
       "      <td>8</td>\n",
       "      <td>0</td>\n",
       "      <td>False</td>\n",
       "      <td>False</td>\n",
       "      <td>25.0</td>\n",
       "      <td>0</td>\n",
       "      <td>Санкт-Петербург</td>\n",
       "      <td>18863.0</td>\n",
       "      <td>16028</td>\n",
       "      <td>1.0</td>\n",
       "      <td>482.0</td>\n",
       "      <td>2.0</td>\n",
       "      <td>755.0</td>\n",
       "      <td>9999</td>\n",
       "      <td>120370.370370</td>\n",
       "      <td>3</td>\n",
       "      <td>3</td>\n",
       "      <td>2019</td>\n",
       "    </tr>\n",
       "    <tr>\n",
       "      <th>1</th>\n",
       "      <td>7</td>\n",
       "      <td>3350000</td>\n",
       "      <td>40</td>\n",
       "      <td>2018-12-04T00:00:00</td>\n",
       "      <td>1</td>\n",
       "      <td>2.65</td>\n",
       "      <td>11</td>\n",
       "      <td>18.6</td>\n",
       "      <td>1</td>\n",
       "      <td>0</td>\n",
       "      <td>False</td>\n",
       "      <td>False</td>\n",
       "      <td>11.0</td>\n",
       "      <td>2</td>\n",
       "      <td>посёлок Шушары</td>\n",
       "      <td>12817.0</td>\n",
       "      <td>18603</td>\n",
       "      <td>0.0</td>\n",
       "      <td>455.0</td>\n",
       "      <td>0.0</td>\n",
       "      <td>503.0</td>\n",
       "      <td>81</td>\n",
       "      <td>83750.000000</td>\n",
       "      <td>1</td>\n",
       "      <td>12</td>\n",
       "      <td>2018</td>\n",
       "    </tr>\n",
       "    <tr>\n",
       "      <th>2</th>\n",
       "      <td>10</td>\n",
       "      <td>5196000</td>\n",
       "      <td>56</td>\n",
       "      <td>2015-08-20T00:00:00</td>\n",
       "      <td>2</td>\n",
       "      <td>2.65</td>\n",
       "      <td>5</td>\n",
       "      <td>34.3</td>\n",
       "      <td>4</td>\n",
       "      <td>0</td>\n",
       "      <td>False</td>\n",
       "      <td>False</td>\n",
       "      <td>8.3</td>\n",
       "      <td>0</td>\n",
       "      <td>Санкт-Петербург</td>\n",
       "      <td>21741.0</td>\n",
       "      <td>13933</td>\n",
       "      <td>1.0</td>\n",
       "      <td>90.0</td>\n",
       "      <td>2.0</td>\n",
       "      <td>574.0</td>\n",
       "      <td>558</td>\n",
       "      <td>92785.714286</td>\n",
       "      <td>3</td>\n",
       "      <td>8</td>\n",
       "      <td>2015</td>\n",
       "    </tr>\n",
       "    <tr>\n",
       "      <th>3</th>\n",
       "      <td>0</td>\n",
       "      <td>64900000</td>\n",
       "      <td>159</td>\n",
       "      <td>2015-07-24T00:00:00</td>\n",
       "      <td>3</td>\n",
       "      <td>2.65</td>\n",
       "      <td>14</td>\n",
       "      <td>30.0</td>\n",
       "      <td>9</td>\n",
       "      <td>0</td>\n",
       "      <td>False</td>\n",
       "      <td>False</td>\n",
       "      <td>9.1</td>\n",
       "      <td>0</td>\n",
       "      <td>Санкт-Петербург</td>\n",
       "      <td>28098.0</td>\n",
       "      <td>6800</td>\n",
       "      <td>2.0</td>\n",
       "      <td>84.0</td>\n",
       "      <td>3.0</td>\n",
       "      <td>234.0</td>\n",
       "      <td>424</td>\n",
       "      <td>408176.100629</td>\n",
       "      <td>4</td>\n",
       "      <td>7</td>\n",
       "      <td>2015</td>\n",
       "    </tr>\n",
       "    <tr>\n",
       "      <th>4</th>\n",
       "      <td>2</td>\n",
       "      <td>10000000</td>\n",
       "      <td>100</td>\n",
       "      <td>2018-06-19T00:00:00</td>\n",
       "      <td>2</td>\n",
       "      <td>3.03</td>\n",
       "      <td>14</td>\n",
       "      <td>32.0</td>\n",
       "      <td>13</td>\n",
       "      <td>0</td>\n",
       "      <td>False</td>\n",
       "      <td>False</td>\n",
       "      <td>41.0</td>\n",
       "      <td>0</td>\n",
       "      <td>Санкт-Петербург</td>\n",
       "      <td>31856.0</td>\n",
       "      <td>8098</td>\n",
       "      <td>2.0</td>\n",
       "      <td>112.0</td>\n",
       "      <td>1.0</td>\n",
       "      <td>48.0</td>\n",
       "      <td>121</td>\n",
       "      <td>100000.000000</td>\n",
       "      <td>1</td>\n",
       "      <td>6</td>\n",
       "      <td>2018</td>\n",
       "    </tr>\n",
       "  </tbody>\n",
       "</table>\n",
       "</div>"
      ],
      "text/plain": [
       "   total_images  last_price  total_area first_day_exposition  rooms  \\\n",
       "0            20    13000000         108  2019-03-07T00:00:00      3   \n",
       "1             7     3350000          40  2018-12-04T00:00:00      1   \n",
       "2            10     5196000          56  2015-08-20T00:00:00      2   \n",
       "3             0    64900000         159  2015-07-24T00:00:00      3   \n",
       "4             2    10000000         100  2018-06-19T00:00:00      2   \n",
       "\n",
       "   ceiling_height  floors_total  living_area  floor is_apartment  studio  \\\n",
       "0            2.70            16         51.0      8            0   False   \n",
       "1            2.65            11         18.6      1            0   False   \n",
       "2            2.65             5         34.3      4            0   False   \n",
       "3            2.65            14         30.0      9            0   False   \n",
       "4            3.03            14         32.0     13            0   False   \n",
       "\n",
       "   open_plan  kitchen_area  balcony    locality_name  airports_nearest  \\\n",
       "0      False          25.0        0  Санкт-Петербург           18863.0   \n",
       "1      False          11.0        2   посёлок Шушары           12817.0   \n",
       "2      False           8.3        0  Санкт-Петербург           21741.0   \n",
       "3      False           9.1        0  Санкт-Петербург           28098.0   \n",
       "4      False          41.0        0  Санкт-Петербург           31856.0   \n",
       "\n",
       "   cityCenters_nearest  parks_around3000  parks_nearest  ponds_around3000  \\\n",
       "0                16028               1.0          482.0               2.0   \n",
       "1                18603               0.0          455.0               0.0   \n",
       "2                13933               1.0           90.0               2.0   \n",
       "3                 6800               2.0           84.0               3.0   \n",
       "4                 8098               2.0          112.0               1.0   \n",
       "\n",
       "   ponds_nearest  days_exposition  the_price_per_square_meter  weekday  month  \\\n",
       "0          755.0             9999               120370.370370        3      3   \n",
       "1          503.0               81                83750.000000        1     12   \n",
       "2          574.0              558                92785.714286        3      8   \n",
       "3          234.0              424               408176.100629        4      7   \n",
       "4           48.0              121               100000.000000        1      6   \n",
       "\n",
       "   year  \n",
       "0  2019  \n",
       "1  2018  \n",
       "2  2015  \n",
       "3  2015  \n",
       "4  2018  "
      ]
     },
     "execution_count": 63,
     "metadata": {},
     "output_type": "execute_result"
    }
   ],
   "source": [
    "df['weekday']=pd.DatetimeIndex(df['first_day_exposition']).weekday\n",
    "df['month']=pd.DatetimeIndex(df['first_day_exposition']).month\n",
    "df['year']=pd.DatetimeIndex(df['first_day_exposition']).year\n",
    "df.head()\n"
   ]
  },
  {
   "cell_type": "code",
   "execution_count": 64,
   "metadata": {},
   "outputs": [],
   "source": [
    "def floor_category(row):\n",
    "    if row['floor'] == 1:\n",
    "        return 'первый'\n",
    "    elif row['floor'] == row['floors_total']:\n",
    "        return 'последний'\n",
    "    return 'другой'\n",
    "df['floor_first_last_other'] = df.apply(floor_category, axis=1)"
   ]
  },
  {
   "cell_type": "markdown",
   "metadata": {},
   "source": [
    "<div class=\"alert alert-block alert-warning\">\n",
    "<b>⚠️ Remarks:</b>\n",
    "    \n",
    "\n",
    "От последнего else давай избавимся. \n",
    "    \n",
    "https://medium.com/lemon-code/guard-clauses-3bc0cd96a2d3\n",
    "    \n",
    "TL|DR: После `return/raise/continue/break` лучше пропускать `else\\if\\elif` \n"
   ]
  },
  {
   "cell_type": "markdown",
   "metadata": {},
   "source": [
    "<div class=\"alert alert-block alert-success\">\n",
    "отлично!"
   ]
  },
  {
   "cell_type": "code",
   "execution_count": 65,
   "metadata": {},
   "outputs": [],
   "source": [
    "df['area_ratio'] = df['living_area'] / df['total_area'] * 100\n",
    "df['area_ratio'] = df['area_ratio'].fillna(value=0).astype(int)\n",
    "df['kitchen_ratio'] = df['kitchen_area'] / df['total_area'] * 100\n",
    "df['kitchen_ratio'] = df['kitchen_ratio'].fillna(value=0).astype(int)"
   ]
  },
  {
   "cell_type": "markdown",
   "metadata": {},
   "source": [
    "## Исследовательский анализ данных"
   ]
  },
  {
   "cell_type": "code",
   "execution_count": 66,
   "metadata": {
    "scrolled": true
   },
   "outputs": [
    {
     "data": {
      "image/png": "[encoded data removed]",
      "text/plain": [
       "<Figure size 432x288 with 1 Axes>"
      ]
     },
     "metadata": {
      "needs_background": "light"
     },
     "output_type": "display_data"
    },
    {
     "data": {
      "image/png": "[encoded data removed]",
      "text/plain": [
       "<Figure size 432x288 with 1 Axes>"
      ]
     },
     "metadata": {
      "needs_background": "light"
     },
     "output_type": "display_data"
    },
    {
     "data": {
      "image/png": "[encoded data removed]",
      "text/plain": [
       "<Figure size 432x288 with 1 Axes>"
      ]
     },
     "metadata": {
      "needs_background": "light"
     },
     "output_type": "display_data"
    },
    {
     "data": {
      "image/png": "[encoded data removed]",
      "text/plain": [
       "<Figure size 432x288 with 1 Axes>"
      ]
     },
     "metadata": {
      "needs_background": "light"
     },
     "output_type": "display_data"
    }
   ],
   "source": [
    "df.hist('total_area',bins=30,range = (10, 300))\n",
    "plt.title('Площадь квартир')\n",
    "plt.xlabel('Квадратные метры')\n",
    "plt.ylabel('Количество квартир')\n",
    "plt.show()\n",
    "# видем из графика что  большенство кваритр  от 50 м/2 , а смаый редкий от 200 м/2\n",
    "df.hist('last_price', bins=30, range=(0,30000000))\n",
    "plt.title('Стоимость квартир')\n",
    "plt.xlabel('Стоимость')\n",
    "plt.ylabel('Количество квартир')\n",
    "plt.show()\n",
    "# видем из графика что  В основном стоимость квартир - порядка 5 миллионов. , а смаый дорогой 30000000\n",
    "df.hist('rooms',bins=8, range=(1,9))\n",
    "plt.title('Комнаты')\n",
    "plt.xlabel('Количество комнат')\n",
    "plt.ylabel('Количество квартир')\n",
    "plt.show()\n",
    "# видем из графика что самый распространение от 1 до 3 , а редкие 5 до 8\n",
    "df.hist('ceiling_height', bins=5,range=(1,5))\n",
    "plt.title('Высота потолков')\n",
    "plt.xlabel('Метры')\n",
    "plt.ylabel('Количество квартир')\n",
    "plt.show()\n",
    "# видем что из графика большинство вариантов имеют высоту потолков от 2,5 до 3 метров.  "
   ]
  },
  {
   "cell_type": "markdown",
   "metadata": {},
   "source": [
    "<div class=\"alert alert-block alert-warning\">\n",
    "<b>Remarks:</b> \n",
    "    \n",
    "Дальше будут проекты, где тебе придется строить очень много графиков, поэтому лучше сразу их правильно строить. На данном графике у тебя должны быть подписаны оси, ось Y должна содержать еще размерность данных (шт., млн. и т.д.). Оси и заголовок должны быть на одном языке. В заголовке еще можно написать за какой период у нас данные. Поправь и другие графики в проекте.\n",
    "\n",
    "Правильное оформление графиков сильно повышает вероятность сдачи проекта с первого раза ;)\n",
    "    \n",
    "Также скину тебе сайт с подборкой крутых примеров на разных библиотеках:\n",
    "    \n",
    "https://python-graph-gallery.com/\n",
    "    \n",
    "В идеале, конечно, сразу начинать осваивать какую-нибудь хорошую либу (plotly или seaborn например)\n",
    "\n",
    "</div>"
   ]
  },
  {
   "cell_type": "markdown",
   "metadata": {},
   "source": [
    "<div class=\"alert alert-block alert-success\">\n",
    "вот теперь эталонное оформление графиков, старайся всегда так оформлять :)"
   ]
  },
  {
   "cell_type": "code",
   "execution_count": 67,
   "metadata": {},
   "outputs": [
    {
     "data": {
      "text/plain": [
       "count    20394.000000\n",
       "mean       180.741395\n",
       "std        219.732782\n",
       "min          1.000000\n",
       "25%         45.000000\n",
       "50%         95.000000\n",
       "75%        231.000000\n",
       "max       1580.000000\n",
       "Name: days_exposition, dtype: float64"
      ]
     },
     "execution_count": 67,
     "metadata": {},
     "output_type": "execute_result"
    },
    {
     "data": {
      "image/png": "[encoded data removed]",
      "text/plain": [
       "<Figure size 432x288 with 1 Axes>"
      ]
     },
     "metadata": {
      "needs_background": "light"
     },
     "output_type": "display_data"
    }
   ],
   "source": [
    "df.query('days_exposition != 9999')['days_exposition'].median()#медианное время продажи - 95 дней.\n",
    "df.hist('days_exposition',bins=100, range=(0,200))\n",
    "#быстрой продажей можно назвать срок в 47(48) дней и меньше. Долгой продажей - 200 дней \n",
    "df.query('days_exposition != 9999')['days_exposition'].describe()"
   ]
  },
  {
   "cell_type": "markdown",
   "metadata": {},
   "source": [
    "<div class=\"alert alert-block alert-warning\">\n",
    "<b>Remarks:</b> нужно детально изучить продажи быстрее ста дней"
   ]
  },
  {
   "cell_type": "code",
   "execution_count": 68,
   "metadata": {},
   "outputs": [],
   "source": [
    "def rare(df, column):\n",
    "    q1 = df[column].quantile(0.25)\n",
    "    q3 = df[column].quantile(0.75)\n",
    "    iqr = q3 - q1\n",
    "    dfq = df.loc[(df[column] < q3 + 1.5*iqr) & (df[column] > q1 - 1.5*iqr), column]\n",
    "    return dfq\n",
    "puk = ['last_price', 'total_area', 'kitchen_area', 'living_area', 'days_exposition', 'ceiling_height', 'rooms']\n",
    "for col in puk:\n",
    "    df[col] = rare(df, col)\n",
    "df['rooms'] = df['rooms'].fillna(0).astype(int)"
   ]
  },
  {
   "cell_type": "code",
   "execution_count": 69,
   "metadata": {},
   "outputs": [
    {
     "data": {
      "text/plain": [
       "<AxesSubplot:xlabel='total_area'>"
      ]
     },
     "execution_count": 69,
     "metadata": {},
     "output_type": "execute_result"
    },
    {
     "data": {
      "image/png": "[encoded data removed]",
      "text/plain": [
       "<Figure size 360x360 with 1 Axes>"
      ]
     },
     "metadata": {
      "needs_background": "light"
     },
     "output_type": "display_data"
    }
   ],
   "source": [
    "(\n",
    "df.pivot_table(index='total_area', values='last_price')\n",
    ".plot(grid=True, style='o', figsize=(5, 5))# Зависимость цены от площади\n",
    ")\n"
   ]
  },
  {
   "cell_type": "markdown",
   "metadata": {},
   "source": [
    "<div class=\"alert alert-block alert-warning\">\n",
    "<b>Remarks:</b> также стоит убирать технические аутпуты перед визуализациями, чтобы улучшить читаемость проекта"
   ]
  },
  {
   "cell_type": "code",
   "execution_count": 70,
   "metadata": {},
   "outputs": [
    {
     "data": {
      "text/plain": [
       "<AxesSubplot:xlabel='rooms'>"
      ]
     },
     "execution_count": 70,
     "metadata": {},
     "output_type": "execute_result"
    },
    {
     "data": {
      "image/png": "[encoded data removed]",
      "text/plain": [
       "<Figure size 360x360 with 1 Axes>"
      ]
     },
     "metadata": {
      "needs_background": "light"
     },
     "output_type": "display_data"
    }
   ],
   "source": [
    "(\n",
    "df.query('rooms > 0').pivot_table(index='rooms', values='last_price')\n",
    ".plot(grid=True, style='o-', figsize=(5, 5)))# Зависимость цены от числа комнат\n"
   ]
  },
  {
   "cell_type": "code",
   "execution_count": 71,
   "metadata": {},
   "outputs": [
    {
     "data": {
      "text/plain": [
       "<AxesSubplot:xlabel='cityCenters_nearest'>"
      ]
     },
     "execution_count": 71,
     "metadata": {},
     "output_type": "execute_result"
    },
    {
     "data": {
      "image/png": "[encoded data removed]",
      "text/plain": [
       "<Figure size 360x360 with 1 Axes>"
      ]
     },
     "metadata": {
      "needs_background": "light"
     },
     "output_type": "display_data"
    }
   ],
   "source": [
    "(\n",
    "df.pivot_table(index='cityCenters_nearest', values='last_price')\n",
    ".plot(grid=True, style='o', figsize=(5, 5))# Зависимость цены от удалённости от центра\n",
    ")\n"
   ]
  },
  {
   "cell_type": "code",
   "execution_count": 72,
   "metadata": {},
   "outputs": [
    {
     "data": {
      "text/plain": [
       "<AxesSubplot:xlabel='floor'>"
      ]
     },
     "execution_count": 72,
     "metadata": {},
     "output_type": "execute_result"
    },
    {
     "data": {
      "image/png": "[encoded data removed]",
      "text/plain": [
       "<Figure size 360x360 with 1 Axes>"
      ]
     },
     "metadata": {
      "needs_background": "light"
     },
     "output_type": "display_data"
    }
   ],
   "source": [
    "(\n",
    "df.pivot_table(index='floor', values='last_price', aggfunc='median')\n",
    ".plot(grid=True, style='o-', figsize=(5, 5)) # 'nf;'\n",
    ")"
   ]
  },
  {
   "cell_type": "code",
   "execution_count": 73,
   "metadata": {},
   "outputs": [
    {
     "data": {
      "text/html": [
       "<div>\n",
       "<style scoped>\n",
       "    .dataframe tbody tr th:only-of-type {\n",
       "        vertical-align: middle;\n",
       "    }\n",
       "\n",
       "    .dataframe tbody tr th {\n",
       "        vertical-align: top;\n",
       "    }\n",
       "\n",
       "    .dataframe thead th {\n",
       "        text-align: right;\n",
       "    }\n",
       "</style>\n",
       "<table border=\"1\" class=\"dataframe\">\n",
       "  <thead>\n",
       "    <tr style=\"text-align: right;\">\n",
       "      <th></th>\n",
       "      <th>the_price_per_square_meter</th>\n",
       "    </tr>\n",
       "    <tr>\n",
       "      <th>locality_name</th>\n",
       "      <th></th>\n",
       "    </tr>\n",
       "  </thead>\n",
       "  <tbody>\n",
       "    <tr>\n",
       "      <th>Санкт-Петербург</th>\n",
       "      <td>115366</td>\n",
       "    </tr>\n",
       "    <tr>\n",
       "      <th>Пушкин</th>\n",
       "      <td>103611</td>\n",
       "    </tr>\n",
       "    <tr>\n",
       "      <th>деревня Кудрово</th>\n",
       "      <td>93002</td>\n",
       "    </tr>\n",
       "    <tr>\n",
       "      <th>посёлок Парголово</th>\n",
       "      <td>90675</td>\n",
       "    </tr>\n",
       "    <tr>\n",
       "      <th>посёлок Мурино</th>\n",
       "      <td>86298</td>\n",
       "    </tr>\n",
       "    <tr>\n",
       "      <th>посёлок Шушары</th>\n",
       "      <td>78943</td>\n",
       "    </tr>\n",
       "    <tr>\n",
       "      <th>Колпино</th>\n",
       "      <td>75735</td>\n",
       "    </tr>\n",
       "    <tr>\n",
       "      <th>Гатчина</th>\n",
       "      <td>69045</td>\n",
       "    </tr>\n",
       "    <tr>\n",
       "      <th>Всеволожск</th>\n",
       "      <td>68985</td>\n",
       "    </tr>\n",
       "    <tr>\n",
       "      <th>Выборг</th>\n",
       "      <td>58296</td>\n",
       "    </tr>\n",
       "  </tbody>\n",
       "</table>\n",
       "</div>"
      ],
      "text/plain": [
       "                   the_price_per_square_meter\n",
       "locality_name                                \n",
       "Санкт-Петербург                        115366\n",
       "Пушкин                                 103611\n",
       "деревня Кудрово                         93002\n",
       "посёлок Парголово                       90675\n",
       "посёлок Мурино                          86298\n",
       "посёлок Шушары                          78943\n",
       "Колпино                                 75735\n",
       "Гатчина                                 69045\n",
       "Всеволожск                              68985\n",
       "Выборг                                  58296"
      ]
     },
     "execution_count": 73,
     "metadata": {},
     "output_type": "execute_result"
    }
   ],
   "source": [
    "city_ten = df['locality_name'].value_counts().head(10)\n",
    "city_sm_price = df.query('locality_name in (@city_ten.index)').pivot_table(values='the_price_per_square_meter', index='locality_name')\n",
    "city_sm_price = city_sm_price.astype(int)\n",
    "city_sm_price.sort_values('the_price_per_square_meter', ascending=False)"
   ]
  },
  {
   "cell_type": "code",
   "execution_count": 74,
   "metadata": {},
   "outputs": [
    {
     "data": {
      "image/png": "[encoded data removed]",
      "text/plain": [
       "<Figure size 360x360 with 1 Axes>"
      ]
     },
     "metadata": {
      "needs_background": "light"
     },
     "output_type": "display_data"
    },
    {
     "data": {
      "image/png": "[encoded data removed]",
      "text/plain": [
       "<Figure size 720x360 with 1 Axes>"
      ]
     },
     "metadata": {
      "needs_background": "light"
     },
     "output_type": "display_data"
    },
    {
     "data": {
      "image/png": "[encoded data removed]",
      "text/plain": [
       "<Figure size 360x360 with 1 Axes>"
      ]
     },
     "metadata": {
      "needs_background": "light"
     },
     "output_type": "display_data"
    }
   ],
   "source": [
    "(\n",
    "    df.pivot_table(index='weekday', values='last_price')\n",
    "    .plot(grid=True, style='o-', figsize=(5, 5))\n",
    ")\n",
    "plt.show()\n",
    "# Зависимость от месяца размещения\n",
    "(\n",
    "    df.pivot_table(index='month', values='last_price')\n",
    "    .plot(grid=True, style='o-', xlim=(1,12), figsize=(10, 5))\n",
    ")\n",
    "plt.show()\n",
    "# Зависимость от года размещения\n",
    "(\n",
    "    df.pivot_table(index='year', values='last_price')\n",
    "    .plot(grid=True, style='o-', figsize=(5, 5))\n",
    ")\n",
    "plt.show()"
   ]
  },
  {
   "cell_type": "markdown",
   "metadata": {},
   "source": [
    "<div class=\"alert alert-block alert-warning\">\n",
    "<b>Remarks:</b> по ТЗ нужно вывести также число объявлений по населенным пунктам"
   ]
  },
  {
   "cell_type": "markdown",
   "metadata": {},
   "source": [
    "<div class=\"alert alert-block alert-danger\">\n",
    "<b>❌ Needs fixing:</b> пропущен шаг с изучением влияния времени размещения объявления (год, месяц, день недели) и этажности"
   ]
  },
  {
   "cell_type": "markdown",
   "metadata": {},
   "source": [
    "<div class=\"alert alert-block alert-success\">\n",
    "теперь всё верно"
   ]
  },
  {
   "cell_type": "code",
   "execution_count": 75,
   "metadata": {},
   "outputs": [
    {
     "data": {
      "text/plain": [
       "<AxesSubplot:xlabel='center_petersburg'>"
      ]
     },
     "execution_count": 75,
     "metadata": {},
     "output_type": "execute_result"
    },
    {
     "data": {
      "image/png": "[encoded data removed]",
      "text/plain": [
       "<Figure size 720x360 with 1 Axes>"
      ]
     },
     "metadata": {
      "needs_background": "light"
     },
     "output_type": "display_data"
    }
   ],
   "source": [
    "df['center_petersburg'] = df['cityCenters_nearest'] / 1000# создаем столбец с расстоянием до центра в км, округляем до целого\n",
    "df['center_petersburg'] = df['center_petersburg'].fillna(value=0).astype(int)\n",
    "(\n",
    "df.query('locality_name == \"Санкт-Петербург\"')# Санкт-Петербург, смотрим на график, где указана средняя стоимость для каждого км\n",
    "    .pivot_table(index='center_petersburg', values='last_price')\n",
    "    .plot(grid=True, style='o-', xlim=(0,15), figsize=(10, 5)) # 7 км\n",
    ")"
   ]
  },
  {
   "cell_type": "markdown",
   "metadata": {},
   "source": [
    "<div class=\"alert alert-block alert-success\">\n",
    "<b>✔️ Success:</b> согласен с выбранным радиусом"
   ]
  },
  {
   "cell_type": "code",
   "execution_count": 76,
   "metadata": {},
   "outputs": [
    {
     "data": {
      "text/plain": [
       "<AxesSubplot:>"
      ]
     },
     "execution_count": 76,
     "metadata": {},
     "output_type": "execute_result"
    },
    {
     "data": {
      "image/png": "[encoded data removed]",
      "text/plain": [
       "<Figure size 360x720 with 1 Axes>"
      ]
     },
     "metadata": {
      "needs_background": "light"
     },
     "output_type": "display_data"
    }
   ],
   "source": [
    "petersburg_center = df.query('(locality_name == \"Санкт-Петербург\") & (center_petersburg <= 7)')\n",
    "df.query('locality_name == \"Санкт-Петербург\"')['total_area'].median() # плошадь median\n",
    "petersburg_center['total_area'].median() #плошадь  центра median\n",
    "df.query('locality_name == \"Санкт-Петербург\"')['total_area'].mean()  # плошадь   средний \n",
    "petersburg_center['total_area'].mean()# плошадь  центра средний \n",
    "petersburg_center['total_area'].hist(bins=30, range=(0,200), figsize=(5,10))"
   ]
  },
  {
   "cell_type": "code",
   "execution_count": 77,
   "metadata": {},
   "outputs": [
    {
     "data": {
      "text/plain": [
       "<AxesSubplot:>"
      ]
     },
     "execution_count": 77,
     "metadata": {},
     "output_type": "execute_result"
    },
    {
     "data": {
      "image/png": "[encoded data removed]",
      "text/plain": [
       "<Figure size 432x288 with 1 Axes>"
      ]
     },
     "metadata": {
      "needs_background": "light"
     },
     "output_type": "display_data"
    }
   ],
   "source": [
    "petersburg_center.query('last_price > 30000000')['last_price'].count()\n",
    "petersburg_center['last_price'].hist(bins=70) #стоимостью"
   ]
  },
  {
   "cell_type": "code",
   "execution_count": 79,
   "metadata": {},
   "outputs": [
    {
     "data": {
      "text/html": [
       "<div>\n",
       "<style scoped>\n",
       "    .dataframe tbody tr th:only-of-type {\n",
       "        vertical-align: middle;\n",
       "    }\n",
       "\n",
       "    .dataframe tbody tr th {\n",
       "        vertical-align: top;\n",
       "    }\n",
       "\n",
       "    .dataframe thead th {\n",
       "        text-align: right;\n",
       "    }\n",
       "</style>\n",
       "<table border=\"1\" class=\"dataframe\">\n",
       "  <thead>\n",
       "    <tr style=\"text-align: right;\">\n",
       "      <th></th>\n",
       "      <th>count</th>\n",
       "      <th>rooms_ratio</th>\n",
       "      <th>center_count</th>\n",
       "      <th>center_rooms_ratio</th>\n",
       "      <th>center_cap</th>\n",
       "    </tr>\n",
       "    <tr>\n",
       "      <th>rooms</th>\n",
       "      <th></th>\n",
       "      <th></th>\n",
       "      <th></th>\n",
       "      <th></th>\n",
       "      <th></th>\n",
       "    </tr>\n",
       "  </thead>\n",
       "  <tbody>\n",
       "    <tr>\n",
       "      <th>1</th>\n",
       "      <td>4912</td>\n",
       "      <td>31.985414</td>\n",
       "      <td>559</td>\n",
       "      <td>15.858156</td>\n",
       "      <td>11.0</td>\n",
       "    </tr>\n",
       "    <tr>\n",
       "      <th>2</th>\n",
       "      <td>5082</td>\n",
       "      <td>33.092401</td>\n",
       "      <td>1101</td>\n",
       "      <td>31.234043</td>\n",
       "      <td>22.0</td>\n",
       "    </tr>\n",
       "    <tr>\n",
       "      <th>3</th>\n",
       "      <td>4107</td>\n",
       "      <td>26.743505</td>\n",
       "      <td>1146</td>\n",
       "      <td>32.510638</td>\n",
       "      <td>28.0</td>\n",
       "    </tr>\n",
       "    <tr>\n",
       "      <th>4</th>\n",
       "      <td>966</td>\n",
       "      <td>6.290291</td>\n",
       "      <td>502</td>\n",
       "      <td>14.241135</td>\n",
       "      <td>52.0</td>\n",
       "    </tr>\n",
       "    <tr>\n",
       "      <th>5</th>\n",
       "      <td>290</td>\n",
       "      <td>1.888390</td>\n",
       "      <td>217</td>\n",
       "      <td>6.156028</td>\n",
       "      <td>75.0</td>\n",
       "    </tr>\n",
       "  </tbody>\n",
       "</table>\n",
       "</div>"
      ],
      "text/plain": [
       "       count  rooms_ratio  center_count  center_rooms_ratio  center_cap\n",
       "rooms                                                                  \n",
       "1       4912    31.985414           559           15.858156        11.0\n",
       "2       5082    33.092401          1101           31.234043        22.0\n",
       "3       4107    26.743505          1146           32.510638        28.0\n",
       "4        966     6.290291           502           14.241135        52.0\n",
       "5        290     1.888390           217            6.156028        75.0"
      ]
     },
     "metadata": {},
     "output_type": "display_data"
    }
   ],
   "source": [
    "petersburg_room = df.query('(locality_name == \"Санкт-Петербург\") & (rooms > 0)').pivot_table(index='rooms', values='floor', aggfunc='count')\n",
    "petersburg_room.columns = ['count']\n",
    "petersburg_room['rooms_ratio'] = petersburg_room['count'] / petersburg_room['count'].sum() * 100\n",
    "petersburg_room_2 = df.query('(locality_name == \"Санкт-Петербург\") & (center_petersburg <= 7)  & (rooms > 0)').pivot_table(index='rooms', values='floor', aggfunc='count')\n",
    "petersburg_room_2.columns = ['center_count']\n",
    "petersburg_room_2['center_rooms_ratio'] =petersburg_room_2['center_count'] / petersburg_room_2['center_count'].sum() * 100\n",
    "roomsdata = pd.merge(petersburg_room,petersburg_room_2 , 'left', on = 'rooms')\n",
    "roomsdata['center_cap'] = round(roomsdata['center_count'] / roomsdata['count'] * 100)\n",
    "display(roomsdata)\n",
    "#комнат"
   ]
  },
  {
   "cell_type": "markdown",
   "metadata": {},
   "source": [
    "<div class=\"alert alert-block alert-danger\">\n",
    "<b>❌ Needs fixing:</b> ошибки в коде нужно исправить"
   ]
  },
  {
   "cell_type": "code",
   "execution_count": 188,
   "metadata": {},
   "outputs": [
    {
     "name": "stdout",
     "output_type": "stream",
     "text": [
      "2.65\n",
      "2.63531419409025\n",
      "2.65\n",
      "2.6619537920642893\n"
     ]
    }
   ],
   "source": [
    "print(df.query('locality_name == \"Санкт-Петербург\"')['ceiling_height'].median()) #Высота потолков median\n",
    "print(df.query('locality_name == \"Санкт-Петербург\"')['ceiling_height'].mean()) #Высота потолков среднее\n",
    "print(petersburg_center['ceiling_height'].median()) #Высота потолков в центре median\n",
    "print(petersburg_center['ceiling_height'].mean())#Высота потолков в центре среднее"
   ]
  },
  {
   "cell_type": "code",
   "execution_count": 189,
   "metadata": {},
   "outputs": [
    {
     "data": {
      "text/plain": [
       "<AxesSubplot:xlabel='year'>"
      ]
     },
     "execution_count": 189,
     "metadata": {},
     "output_type": "execute_result"
    },
    {
     "data": {
      "image/png": "[encoded data removed]",
      "text/plain": [
       "<Figure size 360x360 with 1 Axes>"
      ]
     },
     "metadata": {
      "needs_background": "light"
     },
     "output_type": "display_data"
    },
    {
     "data": {
      "image/png": "[encoded data removed]",
      "text/plain": [
       "<Figure size 360x360 with 1 Axes>"
      ]
     },
     "metadata": {
      "needs_background": "light"
     },
     "output_type": "display_data"
    },
    {
     "data": {
      "image/png": "[encoded data removed]",
      "text/plain": [
       "<Figure size 360x360 with 1 Axes>"
      ]
     },
     "metadata": {
      "needs_background": "light"
     },
     "output_type": "display_data"
    },
    {
     "data": {
      "image/png": "[encoded data removed]",
      "text/plain": [
       "<Figure size 360x360 with 1 Axes>"
      ]
     },
     "metadata": {
      "needs_background": "light"
     },
     "output_type": "display_data"
    },
    {
     "data": {
      "image/png": "[encoded data removed]",
      "text/plain": [
       "<Figure size 720x360 with 1 Axes>"
      ]
     },
     "metadata": {
      "needs_background": "light"
     },
     "output_type": "display_data"
    },
    {
     "data": {
      "image/png": "[encoded data removed]",
      "text/plain": [
       "<Figure size 360x360 with 1 Axes>"
      ]
     },
     "metadata": {
      "needs_background": "light"
     },
     "output_type": "display_data"
    }
   ],
   "source": [
    "# цены от  число комнат\n",
    "(\n",
    "petersburg_center.query('(rooms > 0) & (rooms < 7)').pivot_table(index='rooms', values='last_price')\n",
    "    .plot(grid=True, style='o-', figsize=(5, 5))\n",
    ")\n",
    "\n",
    "# цены от этажа\n",
    "(\n",
    "petersburg_center.pivot_table(index='floor_first_last_other', values='last_price', aggfunc='median')\n",
    "    .plot(grid=True, style='o-', figsize=(5, 5))\n",
    ")\n",
    "# удалённость от центра,\n",
    "(\n",
    "petersburg_center.pivot_table(index='cityCenters_nearest', values='last_price', aggfunc='median')\n",
    "    .plot(grid=True, style='o', figsize=(5, 5))\n",
    ")\n",
    "\n",
    "# дата размещение \n",
    "(\n",
    "petersburg_center.pivot_table(index='weekday', values='last_price') # день недели \n",
    "    .plot(grid=True, style='o-', figsize=(5, 5))\n",
    ")\n",
    "(petersburg_center.pivot_table(index='month', values='last_price') # месяц\n",
    "    .plot(grid=True, style='o-', xlim=(1,12), figsize=(10, 5))\n",
    ")\n",
    "\n",
    "(\n",
    "    petersburg_center.pivot_table(index='year', values='last_price')\n",
    "    .plot(grid=True, style='o-', figsize=(5, 5)) # год\n",
    ")"
   ]
  },
  {
   "cell_type": "code",
   "execution_count": null,
   "metadata": {},
   "outputs": [],
   "source": []
  },
  {
   "cell_type": "markdown",
   "metadata": {},
   "source": [
    "## Общий вывод"
   ]
  },
  {
   "cell_type": "raw",
   "metadata": {},
   "source": [
    "Вывод: Самые дорогие квадратные метры находятся в Петербурге (114848) , а самые дешевые находнятся в Выборге - 58141.Чаще всего квартиры продается за 95 дней, а самые бысрые меншье за 45, а если дольше 230 дней это долго.\n",
    "Также есть варианты когда продовался несколько десятков месяцов квартира и также есть варианты когда продовался за  несколько десятков дней  квартира.\n"
   ]
  },
  {
   "cell_type": "markdown",
   "metadata": {},
   "source": [
    "<div class=\"alert alert-block alert-warning\">\n",
    "<b>⚠️ Remarks:</b>\n",
    "    \n",
    "Работа аналитика - это не только расчеты и графики, это еще и \"написать простыми словами для начальства, что все это значит\". Чем выше по должности стоит получатель твоего отчета - тем меньше у него времени для его изучения. Большая часть сразу мотает в конец на финальный вывод. И читает только его. Вывод должен содержать все обнаруженные инсайды и главное цифры, давай его \"усилим\" :)\n",
    "\n"
   ]
  },
  {
   "cell_type": "code",
   "execution_count": null,
   "metadata": {},
   "outputs": [],
   "source": []
  },
  {
   "cell_type": "markdown",
   "metadata": {},
   "source": []
  },
  {
   "cell_type": "markdown",
   "metadata": {},
   "source": [
    "## Чек-лист готовности проекта\n",
    "\n",
    "Поставьте 'x' в выполненных пунктах. Далее нажмите Shift+Enter."
   ]
  },
  {
   "cell_type": "markdown",
   "metadata": {},
   "source": [
    "- [x]  открыт файл\n",
    "- [ ]  файлы изучены (выведены первые строки, метод `info()`)\n",
    "- [ ]  определены пропущенные значения\n",
    "- [ ]  заполнены пропущенные значения\n",
    "- [ ]  есть пояснение, какие пропущенные значения обнаружены\n",
    "- [ ]  изменены типы данных\n",
    "- [ ]  есть пояснение, в каких столбцах изменены типы и почему\n",
    "- [ ]  посчитано и добавлено в таблицу: цена квадратного метра\n",
    "- [ ]  посчитано и добавлено в таблицу: день недели, месяц и год публикации объявления\n",
    "- [ ]  посчитано и добавлено в таблицу: этаж квартиры; варианты — первый, последний, другой\n",
    "- [ ]  посчитано и добавлено в таблицу: соотношение жилой и общей площади, а также отношение площади кухни к общей\n",
    "- [ ]  изучены следующие параметры: площадь, цена, число комнат, высота потолков\n",
    "- [ ]  построены гистограммы для каждого параметра\n",
    "- [ ]  выполнено задание: «Изучите время продажи квартиры. Постройте гистограмму. Посчитайте среднее и медиану. Опишите, сколько обычно занимает продажа. Когда можно считать, что продажи прошли очень быстро, а когда необычно долго?»\n",
    "- [ ]  выполнено задание: «Уберите редкие и выбивающиеся значения. Опишите, какие особенности обнаружили».\n",
    "- [ ]  выполнено задание: «Какие факторы больше всего влияют на стоимость квартиры? Изучите, зависит ли цена от квадратного метра, числа комнат, этажа (первого или последнего), удалённости от центра. Также изучите зависимость от даты размещения: дня недели, месяца и года». \n",
    "- [ ]  выполнено задание: «Выберите 10 населённых пунктов с наибольшим числом объявлений. Посчитайте среднюю цену квадратного метра в этих населённых пунктах. Выделите населённые пункты с самой высокой и низкой стоимостью жилья. Эти данные можно найти по имени в столбце `locality_name`».\n",
    "- [ ]  выполнено задание: «Изучите предложения квартир: для каждой квартиры есть информация о расстоянии до центра. Выделите квартиры в Санкт-Петербурге (`locality_name`). Ваша задача — выяснить, какая область входит в центр. Создайте столбец с расстоянием до центра в километрах: округлите до целых значений. После этого посчитайте среднюю цену для каждого километра. Постройте график: он должен показывать, как цена зависит от удалённости от центра. Определите границу, где график сильно меняется — это и будет центральная зона».\n",
    "- [ ]  выполнено задание: «Выделите сегмент квартир в центре. Проанализируйте эту территорию и изучите следующие параметры: площадь, цена, число комнат, высота потолков. Также выделите факторы, которые влияют на стоимость квартиры (число комнат, этаж, удалённость от центра, дата размещения объявления). Сделайте выводы. Отличаются ли они от общих выводов по всей базе?»\n",
    "- [ ]  в каждом этапе есть выводы\n",
    "- [ ]  есть общий вывод"
   ]
  },
  {
   "cell_type": "code",
   "execution_count": null,
   "metadata": {},
   "outputs": [],
   "source": []
  },
  {
   "cell_type": "code",
   "execution_count": null,
   "metadata": {},
   "outputs": [],
   "source": []
  }
 ],
 "metadata": {
  "ExecuteTimeLog": [
   {
    "duration": 473,
    "start_time": "2022-05-15T20:39:12.581Z"
   },
   {
    "duration": 14,
    "start_time": "2022-05-15T20:39:23.656Z"
   },
   {
    "duration": 22,
    "start_time": "2022-05-15T20:39:45.028Z"
   },
   {
    "duration": 6,
    "start_time": "2022-05-15T20:41:21.165Z"
   },
   {
    "duration": 93,
    "start_time": "2022-05-15T20:42:45.020Z"
   },
   {
    "duration": 13,
    "start_time": "2022-05-15T20:42:46.303Z"
   },
   {
    "duration": 6,
    "start_time": "2022-05-15T20:42:46.634Z"
   },
   {
    "duration": 8,
    "start_time": "2022-05-15T20:43:00.366Z"
   },
   {
    "duration": 15,
    "start_time": "2022-05-15T20:43:02.614Z"
   },
   {
    "duration": 7,
    "start_time": "2022-05-15T20:43:03.235Z"
   },
   {
    "duration": 8,
    "start_time": "2022-05-15T20:44:13.082Z"
   },
   {
    "duration": 7,
    "start_time": "2022-05-15T20:45:07.893Z"
   },
   {
    "duration": 87,
    "start_time": "2022-05-15T20:49:33.819Z"
   },
   {
    "duration": 13,
    "start_time": "2022-05-15T20:49:34.311Z"
   },
   {
    "duration": 6,
    "start_time": "2022-05-15T20:49:35.072Z"
   },
   {
    "duration": 845,
    "start_time": "2022-05-18T19:04:41.312Z"
   },
   {
    "duration": 16,
    "start_time": "2022-05-18T19:04:42.160Z"
   },
   {
    "duration": 18,
    "start_time": "2022-05-18T19:04:43.321Z"
   },
   {
    "duration": 100,
    "start_time": "2022-05-18T19:05:40.372Z"
   },
   {
    "duration": 20,
    "start_time": "2022-05-18T19:05:40.890Z"
   },
   {
    "duration": 27,
    "start_time": "2022-05-18T19:05:43.860Z"
   },
   {
    "duration": 28,
    "start_time": "2022-05-18T19:08:10.295Z"
   },
   {
    "duration": 24,
    "start_time": "2022-05-18T19:12:22.108Z"
   },
   {
    "duration": 10,
    "start_time": "2022-05-18T19:16:29.095Z"
   },
   {
    "duration": 35,
    "start_time": "2022-05-18T19:17:49.429Z"
   },
   {
    "duration": 8,
    "start_time": "2022-05-18T20:06:22.588Z"
   },
   {
    "duration": 88,
    "start_time": "2022-05-18T20:09:53.368Z"
   },
   {
    "duration": 10,
    "start_time": "2022-05-18T20:10:25.669Z"
   },
   {
    "duration": 4,
    "start_time": "2022-05-18T20:12:13.620Z"
   },
   {
    "duration": 5,
    "start_time": "2022-05-18T20:12:16.985Z"
   },
   {
    "duration": 12,
    "start_time": "2022-05-18T20:12:42.419Z"
   },
   {
    "duration": 159,
    "start_time": "2022-05-18T20:12:42.433Z"
   },
   {
    "duration": 31,
    "start_time": "2022-05-18T20:12:42.661Z"
   },
   {
    "duration": 27,
    "start_time": "2022-05-18T20:12:43.301Z"
   },
   {
    "duration": 35,
    "start_time": "2022-05-18T20:12:43.342Z"
   },
   {
    "duration": 10,
    "start_time": "2022-05-18T20:12:44.317Z"
   },
   {
    "duration": 27,
    "start_time": "2022-05-18T20:12:48.536Z"
   },
   {
    "duration": 5,
    "start_time": "2022-05-18T20:13:55.954Z"
   },
   {
    "duration": 92,
    "start_time": "2022-05-18T20:23:24.563Z"
   },
   {
    "duration": 7,
    "start_time": "2022-05-18T20:27:33.576Z"
   },
   {
    "duration": 11,
    "start_time": "2022-05-18T20:28:17.497Z"
   },
   {
    "duration": 5,
    "start_time": "2022-05-18T20:28:19.372Z"
   },
   {
    "duration": 33,
    "start_time": "2022-05-18T20:35:09.469Z"
   },
   {
    "duration": 10,
    "start_time": "2022-05-18T20:38:05.628Z"
   },
   {
    "duration": 9,
    "start_time": "2022-05-18T20:42:03.266Z"
   },
   {
    "duration": 17,
    "start_time": "2022-05-18T20:42:22.067Z"
   },
   {
    "duration": 13,
    "start_time": "2022-05-18T20:45:49.490Z"
   },
   {
    "duration": 7,
    "start_time": "2022-05-18T20:48:36.640Z"
   },
   {
    "duration": 12,
    "start_time": "2022-05-18T20:49:31.103Z"
   },
   {
    "duration": 12,
    "start_time": "2022-05-18T20:49:42.016Z"
   },
   {
    "duration": 7,
    "start_time": "2022-05-18T20:52:54.307Z"
   },
   {
    "duration": 16,
    "start_time": "2022-05-18T20:53:06.100Z"
   },
   {
    "duration": 13,
    "start_time": "2022-05-18T20:53:31.496Z"
   },
   {
    "duration": 22,
    "start_time": "2022-05-18T20:53:51.563Z"
   },
   {
    "duration": 16,
    "start_time": "2022-05-18T20:57:00.714Z"
   },
   {
    "duration": 24,
    "start_time": "2022-05-18T20:57:21.128Z"
   },
   {
    "duration": 21,
    "start_time": "2022-05-18T20:58:24.809Z"
   },
   {
    "duration": 20,
    "start_time": "2022-05-18T20:59:22.889Z"
   },
   {
    "duration": 18,
    "start_time": "2022-05-18T20:59:28.517Z"
   },
   {
    "duration": 28,
    "start_time": "2022-05-18T20:59:34.028Z"
   },
   {
    "duration": 45,
    "start_time": "2022-05-18T20:59:40.438Z"
   },
   {
    "duration": 23,
    "start_time": "2022-05-18T20:59:42.600Z"
   },
   {
    "duration": 20,
    "start_time": "2022-05-18T20:59:45.910Z"
   },
   {
    "duration": 104,
    "start_time": "2022-05-18T20:59:58.888Z"
   },
   {
    "duration": 14,
    "start_time": "2022-05-18T20:59:59.391Z"
   },
   {
    "duration": 51,
    "start_time": "2022-05-18T20:59:59.783Z"
   },
   {
    "duration": 28,
    "start_time": "2022-05-18T21:00:00.130Z"
   },
   {
    "duration": 99,
    "start_time": "2022-05-18T21:00:00.470Z"
   },
   {
    "duration": 2,
    "start_time": "2022-05-18T21:00:00.811Z"
   },
   {
    "duration": 22,
    "start_time": "2022-05-18T21:00:02.368Z"
   },
   {
    "duration": 50,
    "start_time": "2022-05-18T21:00:02.732Z"
   },
   {
    "duration": 23,
    "start_time": "2022-05-18T21:00:48.050Z"
   },
   {
    "duration": 26,
    "start_time": "2022-05-18T21:01:13.971Z"
   },
   {
    "duration": 26,
    "start_time": "2022-05-18T21:01:19.170Z"
   },
   {
    "duration": 24,
    "start_time": "2022-05-18T21:01:21.570Z"
   },
   {
    "duration": 24,
    "start_time": "2022-05-18T21:01:26.084Z"
   },
   {
    "duration": 15,
    "start_time": "2022-05-18T21:01:30.983Z"
   },
   {
    "duration": 20,
    "start_time": "2022-05-18T21:01:31.906Z"
   },
   {
    "duration": 128,
    "start_time": "2022-05-18T21:01:43.489Z"
   },
   {
    "duration": 36,
    "start_time": "2022-05-18T21:01:43.972Z"
   },
   {
    "duration": 51,
    "start_time": "2022-05-18T21:01:44.398Z"
   },
   {
    "duration": 87,
    "start_time": "2022-05-18T21:01:44.872Z"
   },
   {
    "duration": 112,
    "start_time": "2022-05-18T21:01:45.593Z"
   },
   {
    "duration": 5,
    "start_time": "2022-05-18T21:01:46.072Z"
   },
   {
    "duration": 15,
    "start_time": "2022-05-18T21:01:48.972Z"
   },
   {
    "duration": 37,
    "start_time": "2022-05-18T21:01:49.628Z"
   },
   {
    "duration": 21,
    "start_time": "2022-05-18T21:02:02.328Z"
   },
   {
    "duration": 34,
    "start_time": "2022-05-18T21:02:08.737Z"
   },
   {
    "duration": 29,
    "start_time": "2022-05-18T21:02:38.958Z"
   },
   {
    "duration": 28,
    "start_time": "2022-05-18T21:03:07.591Z"
   },
   {
    "duration": 31,
    "start_time": "2022-05-18T21:03:14.500Z"
   },
   {
    "duration": 37,
    "start_time": "2022-05-18T21:03:57.471Z"
   },
   {
    "duration": 1465,
    "start_time": "2022-05-18T21:04:45.764Z"
   },
   {
    "duration": 44,
    "start_time": "2022-05-18T21:05:08.674Z"
   },
   {
    "duration": 44,
    "start_time": "2022-05-18T21:05:45.384Z"
   },
   {
    "duration": 55,
    "start_time": "2022-05-18T21:06:20.507Z"
   },
   {
    "duration": 918,
    "start_time": "2022-05-18T21:07:47.569Z"
   },
   {
    "duration": 56,
    "start_time": "2022-05-18T21:07:57.496Z"
   },
   {
    "duration": 52,
    "start_time": "2022-05-18T21:09:07.976Z"
   },
   {
    "duration": 77,
    "start_time": "2022-05-18T21:09:55.187Z"
   },
   {
    "duration": 34,
    "start_time": "2022-05-18T21:19:03.389Z"
   },
   {
    "duration": 350,
    "start_time": "2022-05-18T21:19:32.873Z"
   },
   {
    "duration": 1043,
    "start_time": "2022-05-18T21:20:07.730Z"
   },
   {
    "duration": 50,
    "start_time": "2022-05-18T21:20:46.879Z"
   },
   {
    "duration": 15,
    "start_time": "2022-05-18T21:22:27.070Z"
   },
   {
    "duration": 221,
    "start_time": "2022-05-18T21:24:10.676Z"
   },
   {
    "duration": 9,
    "start_time": "2022-05-18T21:25:24.608Z"
   },
   {
    "duration": 14,
    "start_time": "2022-05-18T21:25:37.160Z"
   },
   {
    "duration": 9,
    "start_time": "2022-05-18T21:26:43.074Z"
   },
   {
    "duration": 92,
    "start_time": "2022-05-18T21:26:51.576Z"
   },
   {
    "duration": 15,
    "start_time": "2022-05-18T21:26:51.932Z"
   },
   {
    "duration": 60,
    "start_time": "2022-05-18T21:26:52.232Z"
   },
   {
    "duration": 28,
    "start_time": "2022-05-18T21:26:52.541Z"
   },
   {
    "duration": 96,
    "start_time": "2022-05-18T21:26:52.806Z"
   },
   {
    "duration": 3,
    "start_time": "2022-05-18T21:26:53.082Z"
   },
   {
    "duration": 12,
    "start_time": "2022-05-18T21:26:54.482Z"
   },
   {
    "duration": 70,
    "start_time": "2022-05-18T21:26:55.072Z"
   },
   {
    "duration": 11,
    "start_time": "2022-05-18T21:26:55.569Z"
   },
   {
    "duration": 12,
    "start_time": "2022-05-18T21:27:22.864Z"
   },
   {
    "duration": 30,
    "start_time": "2022-05-18T21:27:33.553Z"
   },
   {
    "duration": 174,
    "start_time": "2022-05-18T21:27:56.209Z"
   },
   {
    "duration": 57,
    "start_time": "2022-05-18T21:28:05.110Z"
   },
   {
    "duration": 174,
    "start_time": "2022-05-18T21:28:07.438Z"
   },
   {
    "duration": 26,
    "start_time": "2022-05-18T21:28:27.089Z"
   },
   {
    "duration": 32,
    "start_time": "2022-05-18T21:28:37.765Z"
   },
   {
    "duration": 42,
    "start_time": "2022-05-18T21:30:31.629Z"
   },
   {
    "duration": 72,
    "start_time": "2022-05-18T21:40:24.763Z"
   },
   {
    "duration": 48,
    "start_time": "2022-05-18T21:43:31.610Z"
   },
   {
    "duration": 22,
    "start_time": "2022-05-18T21:43:42.257Z"
   },
   {
    "duration": 29,
    "start_time": "2022-05-18T21:43:49.656Z"
   },
   {
    "duration": 27,
    "start_time": "2022-05-18T21:43:52.300Z"
   },
   {
    "duration": 33,
    "start_time": "2022-05-18T21:43:53.310Z"
   },
   {
    "duration": 21,
    "start_time": "2022-05-18T21:44:37.260Z"
   },
   {
    "duration": 24,
    "start_time": "2022-05-18T21:45:10.031Z"
   },
   {
    "duration": 5,
    "start_time": "2022-05-18T21:45:22.886Z"
   },
   {
    "duration": 5,
    "start_time": "2022-05-18T21:45:26.778Z"
   },
   {
    "duration": 7,
    "start_time": "2022-05-18T21:45:40.272Z"
   },
   {
    "duration": 7,
    "start_time": "2022-05-18T21:45:42.485Z"
   },
   {
    "duration": 27,
    "start_time": "2022-05-18T21:45:49.560Z"
   },
   {
    "duration": 19,
    "start_time": "2022-05-18T21:46:21.957Z"
   },
   {
    "duration": 24,
    "start_time": "2022-05-18T21:47:55.092Z"
   },
   {
    "duration": 18,
    "start_time": "2022-05-18T21:47:59.168Z"
   },
   {
    "duration": 18,
    "start_time": "2022-05-18T21:48:20.157Z"
   },
   {
    "duration": 35,
    "start_time": "2022-05-18T21:48:35.987Z"
   },
   {
    "duration": 19,
    "start_time": "2022-05-18T21:48:41.025Z"
   },
   {
    "duration": 8,
    "start_time": "2022-05-18T21:48:53.768Z"
   },
   {
    "duration": 23,
    "start_time": "2022-05-18T21:49:58.435Z"
   },
   {
    "duration": 21,
    "start_time": "2022-05-18T21:50:16.142Z"
   },
   {
    "duration": 17,
    "start_time": "2022-05-18T21:50:18.501Z"
   },
   {
    "duration": 38,
    "start_time": "2022-05-18T21:50:28.957Z"
   },
   {
    "duration": 29,
    "start_time": "2022-05-18T21:50:29.656Z"
   },
   {
    "duration": 2,
    "start_time": "2022-05-18T21:50:30.236Z"
   },
   {
    "duration": 19,
    "start_time": "2022-05-18T21:50:32.351Z"
   },
   {
    "duration": 80,
    "start_time": "2022-05-18T21:50:39.960Z"
   },
   {
    "duration": 23,
    "start_time": "2022-05-18T21:50:40.329Z"
   },
   {
    "duration": 48,
    "start_time": "2022-05-18T21:50:40.739Z"
   },
   {
    "duration": 29,
    "start_time": "2022-05-18T21:50:41.129Z"
   },
   {
    "duration": 70,
    "start_time": "2022-05-18T21:50:41.513Z"
   },
   {
    "duration": 3,
    "start_time": "2022-05-18T21:50:41.929Z"
   },
   {
    "duration": 9,
    "start_time": "2022-05-18T21:50:43.829Z"
   },
   {
    "duration": 10,
    "start_time": "2022-05-18T21:50:56.012Z"
   },
   {
    "duration": 9,
    "start_time": "2022-05-18T21:51:47.582Z"
   },
   {
    "duration": 24,
    "start_time": "2022-05-18T21:52:24.159Z"
   },
   {
    "duration": 30,
    "start_time": "2022-05-18T21:56:32.667Z"
   },
   {
    "duration": 13,
    "start_time": "2022-05-18T21:58:49.265Z"
   },
   {
    "duration": 29,
    "start_time": "2022-05-18T21:58:56.104Z"
   },
   {
    "duration": 11,
    "start_time": "2022-05-18T21:58:57.185Z"
   },
   {
    "duration": 15,
    "start_time": "2022-05-18T21:59:08.546Z"
   },
   {
    "duration": 48,
    "start_time": "2022-05-18T21:59:10.052Z"
   },
   {
    "duration": 170,
    "start_time": "2022-05-18T21:59:12.636Z"
   },
   {
    "duration": 49,
    "start_time": "2022-05-18T22:00:19.128Z"
   },
   {
    "duration": 23,
    "start_time": "2022-05-18T22:00:59.533Z"
   },
   {
    "duration": 4,
    "start_time": "2022-05-18T22:01:11.462Z"
   },
   {
    "duration": 4,
    "start_time": "2022-05-18T22:01:19.302Z"
   },
   {
    "duration": 19,
    "start_time": "2022-05-18T22:02:16.534Z"
   },
   {
    "duration": 42,
    "start_time": "2022-05-18T22:02:17.127Z"
   },
   {
    "duration": 30,
    "start_time": "2022-05-18T22:02:17.629Z"
   },
   {
    "duration": 59,
    "start_time": "2022-05-18T22:02:18.394Z"
   },
   {
    "duration": 5,
    "start_time": "2022-05-18T22:02:18.851Z"
   },
   {
    "duration": 12,
    "start_time": "2022-05-18T22:02:20.495Z"
   },
   {
    "duration": 29,
    "start_time": "2022-05-18T22:02:21.701Z"
   },
   {
    "duration": 11,
    "start_time": "2022-05-18T22:02:22.292Z"
   },
   {
    "duration": 5,
    "start_time": "2022-05-18T22:02:23.891Z"
   },
   {
    "duration": 8,
    "start_time": "2022-05-18T22:02:36.788Z"
   },
   {
    "duration": 21,
    "start_time": "2022-05-18T22:02:43.302Z"
   },
   {
    "duration": 30,
    "start_time": "2022-05-18T22:02:49.257Z"
   },
   {
    "duration": 10,
    "start_time": "2022-05-18T22:02:50.958Z"
   },
   {
    "duration": 19,
    "start_time": "2022-05-18T22:03:00.259Z"
   },
   {
    "duration": 51,
    "start_time": "2022-05-18T22:03:05.511Z"
   },
   {
    "duration": 16,
    "start_time": "2022-05-18T22:03:17.171Z"
   },
   {
    "duration": 156,
    "start_time": "2022-05-18T22:03:53.082Z"
   },
   {
    "duration": 31,
    "start_time": "2022-05-18T22:04:14.404Z"
   },
   {
    "duration": 17,
    "start_time": "2022-05-18T22:04:15.629Z"
   },
   {
    "duration": 6,
    "start_time": "2022-05-18T22:05:01.532Z"
   },
   {
    "duration": 3,
    "start_time": "2022-05-18T22:05:11.654Z"
   },
   {
    "duration": 24,
    "start_time": "2022-05-18T22:05:24.994Z"
   },
   {
    "duration": 30,
    "start_time": "2022-05-18T22:05:27.859Z"
   },
   {
    "duration": 59,
    "start_time": "2022-05-18T22:05:29.333Z"
   },
   {
    "duration": 47,
    "start_time": "2022-05-18T22:06:59.087Z"
   },
   {
    "duration": 26,
    "start_time": "2022-05-18T22:07:43.134Z"
   },
   {
    "duration": 16,
    "start_time": "2022-05-18T22:08:00.567Z"
   },
   {
    "duration": 33,
    "start_time": "2022-05-18T22:08:22.478Z"
   },
   {
    "duration": 73,
    "start_time": "2022-05-18T22:08:35.574Z"
   },
   {
    "duration": 2,
    "start_time": "2022-05-18T22:08:36.058Z"
   },
   {
    "duration": 15,
    "start_time": "2022-05-18T22:08:39.162Z"
   },
   {
    "duration": 20,
    "start_time": "2022-05-18T22:08:39.999Z"
   },
   {
    "duration": 94,
    "start_time": "2022-05-18T22:08:47.933Z"
   },
   {
    "duration": 14,
    "start_time": "2022-05-18T22:08:48.586Z"
   },
   {
    "duration": 36,
    "start_time": "2022-05-18T22:08:49.200Z"
   },
   {
    "duration": 24,
    "start_time": "2022-05-18T22:08:49.807Z"
   },
   {
    "duration": 72,
    "start_time": "2022-05-18T22:08:50.508Z"
   },
   {
    "duration": 3,
    "start_time": "2022-05-18T22:08:51.504Z"
   },
   {
    "duration": 9,
    "start_time": "2022-05-18T22:08:54.009Z"
   },
   {
    "duration": 7,
    "start_time": "2022-05-18T22:08:59.088Z"
   },
   {
    "duration": 6,
    "start_time": "2022-05-18T22:09:03.069Z"
   },
   {
    "duration": 16,
    "start_time": "2022-05-18T22:09:03.830Z"
   },
   {
    "duration": 31,
    "start_time": "2022-05-18T22:09:18.666Z"
   },
   {
    "duration": 14,
    "start_time": "2022-05-18T22:09:28.775Z"
   },
   {
    "duration": 11,
    "start_time": "2022-05-18T22:09:40.868Z"
   },
   {
    "duration": 21,
    "start_time": "2022-05-18T22:09:51.505Z"
   },
   {
    "duration": 9,
    "start_time": "2022-05-18T22:09:59.937Z"
   },
   {
    "duration": 17,
    "start_time": "2022-05-18T22:13:15.483Z"
   },
   {
    "duration": 20,
    "start_time": "2022-05-18T22:16:01.435Z"
   },
   {
    "duration": 762,
    "start_time": "2022-05-19T15:09:32.456Z"
   },
   {
    "duration": 21,
    "start_time": "2022-05-19T15:09:33.220Z"
   },
   {
    "duration": 34,
    "start_time": "2022-05-19T15:09:34.071Z"
   },
   {
    "duration": 35,
    "start_time": "2022-05-19T15:09:34.443Z"
   },
   {
    "duration": 110,
    "start_time": "2022-05-19T15:09:34.660Z"
   },
   {
    "duration": 3,
    "start_time": "2022-05-19T15:09:34.879Z"
   },
   {
    "duration": 11,
    "start_time": "2022-05-19T15:09:35.620Z"
   },
   {
    "duration": 38,
    "start_time": "2022-05-19T15:09:36.228Z"
   },
   {
    "duration": 20,
    "start_time": "2022-05-19T15:09:36.479Z"
   },
   {
    "duration": 7,
    "start_time": "2022-05-19T15:10:43.454Z"
   },
   {
    "duration": 26,
    "start_time": "2022-05-19T15:10:50.899Z"
   },
   {
    "duration": 23,
    "start_time": "2022-05-19T15:11:22.620Z"
   },
   {
    "duration": 7,
    "start_time": "2022-05-19T15:11:49.977Z"
   },
   {
    "duration": 7,
    "start_time": "2022-05-19T15:14:34.974Z"
   },
   {
    "duration": 33,
    "start_time": "2022-05-19T15:15:20.550Z"
   },
   {
    "duration": 8,
    "start_time": "2022-05-19T15:16:12.718Z"
   },
   {
    "duration": 9,
    "start_time": "2022-05-19T15:16:25.388Z"
   },
   {
    "duration": 9,
    "start_time": "2022-05-19T15:16:34.309Z"
   },
   {
    "duration": 27,
    "start_time": "2022-05-19T15:16:36.618Z"
   },
   {
    "duration": 9,
    "start_time": "2022-05-19T15:16:37.628Z"
   },
   {
    "duration": 9,
    "start_time": "2022-05-19T15:16:53.160Z"
   },
   {
    "duration": 33,
    "start_time": "2022-05-19T15:17:55.716Z"
   },
   {
    "duration": 8,
    "start_time": "2022-05-19T15:17:56.904Z"
   },
   {
    "duration": 26,
    "start_time": "2022-05-19T15:18:18.643Z"
   },
   {
    "duration": 35,
    "start_time": "2022-05-19T15:18:18.999Z"
   },
   {
    "duration": 71,
    "start_time": "2022-05-19T15:18:19.399Z"
   },
   {
    "duration": 4,
    "start_time": "2022-05-19T15:18:19.682Z"
   },
   {
    "duration": 14,
    "start_time": "2022-05-19T15:18:20.777Z"
   },
   {
    "duration": 45,
    "start_time": "2022-05-19T15:18:20.995Z"
   },
   {
    "duration": 36,
    "start_time": "2022-05-19T15:18:21.196Z"
   },
   {
    "duration": 7,
    "start_time": "2022-05-19T15:18:22.076Z"
   },
   {
    "duration": 7,
    "start_time": "2022-05-19T15:18:34.832Z"
   },
   {
    "duration": 8,
    "start_time": "2022-05-19T15:19:01.645Z"
   },
   {
    "duration": 9,
    "start_time": "2022-05-19T15:20:03.713Z"
   },
   {
    "duration": 8,
    "start_time": "2022-05-19T15:20:16.729Z"
   },
   {
    "duration": 7,
    "start_time": "2022-05-19T15:20:53.551Z"
   },
   {
    "duration": 29,
    "start_time": "2022-05-19T15:21:26.274Z"
   },
   {
    "duration": 4,
    "start_time": "2022-05-19T15:30:14.809Z"
   },
   {
    "duration": 480,
    "start_time": "2022-05-19T15:33:50.542Z"
   },
   {
    "duration": 1939,
    "start_time": "2022-05-19T15:35:15.240Z"
   },
   {
    "duration": 1968,
    "start_time": "2022-05-19T15:35:46.952Z"
   },
   {
    "duration": 30,
    "start_time": "2022-05-19T15:35:53.798Z"
   },
   {
    "duration": 36,
    "start_time": "2022-05-19T15:35:54.239Z"
   },
   {
    "duration": 5,
    "start_time": "2022-05-19T15:35:55.085Z"
   },
   {
    "duration": 1329,
    "start_time": "2022-05-19T15:35:55.725Z"
   },
   {
    "duration": 738,
    "start_time": "2022-05-19T15:36:28.391Z"
   },
   {
    "duration": 326,
    "start_time": "2022-05-19T15:38:19.670Z"
   },
   {
    "duration": 305,
    "start_time": "2022-05-19T15:39:01.959Z"
   },
   {
    "duration": 283,
    "start_time": "2022-05-19T15:39:07.031Z"
   },
   {
    "duration": 598,
    "start_time": "2022-05-19T15:40:01.648Z"
   },
   {
    "duration": 903,
    "start_time": "2022-05-19T15:40:30.262Z"
   },
   {
    "duration": 842,
    "start_time": "2022-05-19T15:40:52.263Z"
   },
   {
    "duration": 9,
    "start_time": "2022-05-19T15:42:08.891Z"
   },
   {
    "duration": 12,
    "start_time": "2022-05-19T15:42:23.322Z"
   },
   {
    "duration": 23,
    "start_time": "2022-05-19T15:42:35.891Z"
   },
   {
    "duration": 14,
    "start_time": "2022-05-19T15:43:29.711Z"
   },
   {
    "duration": 32,
    "start_time": "2022-05-19T15:43:30.528Z"
   },
   {
    "duration": 5,
    "start_time": "2022-05-19T15:43:45.469Z"
   },
   {
    "duration": 11,
    "start_time": "2022-05-19T15:43:51.822Z"
   },
   {
    "duration": 5,
    "start_time": "2022-05-19T15:43:52.290Z"
   },
   {
    "duration": 15,
    "start_time": "2022-05-19T15:44:49.015Z"
   },
   {
    "duration": 12,
    "start_time": "2022-05-19T15:45:31.168Z"
   },
   {
    "duration": 5,
    "start_time": "2022-05-19T15:45:32.233Z"
   },
   {
    "duration": 13,
    "start_time": "2022-05-19T15:45:44.625Z"
   },
   {
    "duration": 56,
    "start_time": "2022-05-19T15:46:13.419Z"
   },
   {
    "duration": 22,
    "start_time": "2022-05-19T15:46:28.271Z"
   },
   {
    "duration": 6,
    "start_time": "2022-05-19T15:46:28.938Z"
   },
   {
    "duration": 21,
    "start_time": "2022-05-19T15:46:54.290Z"
   },
   {
    "duration": 7,
    "start_time": "2022-05-19T15:46:54.794Z"
   },
   {
    "duration": 11,
    "start_time": "2022-05-19T15:46:56.808Z"
   },
   {
    "duration": 5,
    "start_time": "2022-05-19T15:46:57.373Z"
   },
   {
    "duration": 24,
    "start_time": "2022-05-19T15:47:05.707Z"
   },
   {
    "duration": 17,
    "start_time": "2022-05-19T15:47:44.072Z"
   },
   {
    "duration": 22,
    "start_time": "2022-05-19T15:47:44.708Z"
   },
   {
    "duration": 5,
    "start_time": "2022-05-19T15:48:04.348Z"
   },
   {
    "duration": 12,
    "start_time": "2022-05-19T15:49:22.134Z"
   },
   {
    "duration": 230,
    "start_time": "2022-05-19T15:49:34.663Z"
   },
   {
    "duration": 12,
    "start_time": "2022-05-19T15:49:44.236Z"
   },
   {
    "duration": 57,
    "start_time": "2022-05-19T17:18:09.460Z"
   },
   {
    "duration": 7,
    "start_time": "2022-05-19T17:18:39.006Z"
   },
   {
    "duration": 8,
    "start_time": "2022-05-19T17:22:48.301Z"
   },
   {
    "duration": 7,
    "start_time": "2022-05-19T17:22:50.972Z"
   },
   {
    "duration": 1080,
    "start_time": "2022-05-19T17:22:54.971Z"
   },
   {
    "duration": 15,
    "start_time": "2022-05-19T17:22:56.053Z"
   },
   {
    "duration": 40,
    "start_time": "2022-05-19T17:22:56.070Z"
   },
   {
    "duration": 24,
    "start_time": "2022-05-19T17:22:56.111Z"
   },
   {
    "duration": 97,
    "start_time": "2022-05-19T17:22:56.136Z"
   },
   {
    "duration": 2,
    "start_time": "2022-05-19T17:22:56.235Z"
   },
   {
    "duration": 9,
    "start_time": "2022-05-19T17:22:57.143Z"
   },
   {
    "duration": 43,
    "start_time": "2022-05-19T17:22:57.396Z"
   },
   {
    "duration": 31,
    "start_time": "2022-05-19T17:22:57.660Z"
   },
   {
    "duration": 5,
    "start_time": "2022-05-19T17:23:00.983Z"
   },
   {
    "duration": 12,
    "start_time": "2022-05-19T17:23:00.990Z"
   },
   {
    "duration": 11,
    "start_time": "2022-05-19T17:23:36.512Z"
   },
   {
    "duration": 4,
    "start_time": "2022-05-19T17:23:46.598Z"
   },
   {
    "duration": 33,
    "start_time": "2022-05-19T17:23:51.547Z"
   },
   {
    "duration": 11,
    "start_time": "2022-05-19T17:23:59.053Z"
   },
   {
    "duration": 12,
    "start_time": "2022-05-19T17:24:42.379Z"
   },
   {
    "duration": 12,
    "start_time": "2022-05-19T17:24:49.786Z"
   },
   {
    "duration": 10,
    "start_time": "2022-05-19T17:24:57.499Z"
   },
   {
    "duration": 27,
    "start_time": "2022-05-19T17:25:27.978Z"
   },
   {
    "duration": 15,
    "start_time": "2022-05-19T17:28:47.933Z"
   },
   {
    "duration": 18,
    "start_time": "2022-05-19T17:29:07.681Z"
   },
   {
    "duration": 27,
    "start_time": "2022-05-19T17:29:49.347Z"
   },
   {
    "duration": 27,
    "start_time": "2022-05-19T17:30:04.463Z"
   },
   {
    "duration": 50,
    "start_time": "2022-05-19T17:30:06.312Z"
   },
   {
    "duration": 23,
    "start_time": "2022-05-19T17:30:13.203Z"
   },
   {
    "duration": 42,
    "start_time": "2022-05-19T17:31:10.167Z"
   },
   {
    "duration": 5196,
    "start_time": "2022-05-19T17:35:08.061Z"
   },
   {
    "duration": 13,
    "start_time": "2022-05-19T17:35:58.969Z"
   },
   {
    "duration": 135,
    "start_time": "2022-05-19T17:40:10.166Z"
   },
   {
    "duration": 39,
    "start_time": "2022-05-19T17:40:37.093Z"
   },
   {
    "duration": 37,
    "start_time": "2022-05-19T17:40:48.198Z"
   },
   {
    "duration": 3,
    "start_time": "2022-05-19T17:48:08.951Z"
   },
   {
    "duration": 4,
    "start_time": "2022-05-19T17:48:23.560Z"
   },
   {
    "duration": 42,
    "start_time": "2022-05-19T17:48:29.740Z"
   },
   {
    "duration": 60,
    "start_time": "2022-05-19T17:49:50.120Z"
   },
   {
    "duration": 7,
    "start_time": "2022-05-19T17:50:28.622Z"
   },
   {
    "duration": 8,
    "start_time": "2022-05-19T17:50:42.008Z"
   },
   {
    "duration": 38,
    "start_time": "2022-05-19T17:50:58.253Z"
   },
   {
    "duration": 7,
    "start_time": "2022-05-19T17:51:38.334Z"
   },
   {
    "duration": 7,
    "start_time": "2022-05-19T17:55:44.331Z"
   },
   {
    "duration": 3,
    "start_time": "2022-05-19T17:55:59.418Z"
   },
   {
    "duration": 6,
    "start_time": "2022-05-19T17:57:42.574Z"
   },
   {
    "duration": 7,
    "start_time": "2022-05-19T17:57:55.680Z"
   },
   {
    "duration": 8,
    "start_time": "2022-05-19T17:58:08.117Z"
   },
   {
    "duration": 11,
    "start_time": "2022-05-19T18:06:29.778Z"
   },
   {
    "duration": 10,
    "start_time": "2022-05-19T18:06:49.705Z"
   },
   {
    "duration": 8,
    "start_time": "2022-05-19T18:07:53.462Z"
   },
   {
    "duration": 822,
    "start_time": "2022-05-19T18:07:58.895Z"
   },
   {
    "duration": 17,
    "start_time": "2022-05-19T18:07:59.719Z"
   },
   {
    "duration": 41,
    "start_time": "2022-05-19T18:07:59.738Z"
   },
   {
    "duration": 29,
    "start_time": "2022-05-19T18:07:59.781Z"
   },
   {
    "duration": 72,
    "start_time": "2022-05-19T18:07:59.811Z"
   },
   {
    "duration": 2,
    "start_time": "2022-05-19T18:07:59.896Z"
   },
   {
    "duration": 11,
    "start_time": "2022-05-19T18:08:00.794Z"
   },
   {
    "duration": 37,
    "start_time": "2022-05-19T18:08:00.974Z"
   },
   {
    "duration": 31,
    "start_time": "2022-05-19T18:08:01.168Z"
   },
   {
    "duration": 5,
    "start_time": "2022-05-19T18:08:01.552Z"
   },
   {
    "duration": 43,
    "start_time": "2022-05-19T18:08:01.725Z"
   },
   {
    "duration": 40,
    "start_time": "2022-05-19T18:08:01.905Z"
   },
   {
    "duration": 255,
    "start_time": "2022-05-20T09:59:30.319Z"
   },
   {
    "duration": 9,
    "start_time": "2022-05-20T10:00:45.099Z"
   },
   {
    "duration": 9,
    "start_time": "2022-05-20T10:03:58.409Z"
   },
   {
    "duration": 9,
    "start_time": "2022-05-20T10:04:51.609Z"
   },
   {
    "duration": 10,
    "start_time": "2022-05-20T10:05:03.522Z"
   },
   {
    "duration": 8,
    "start_time": "2022-05-20T10:05:08.302Z"
   },
   {
    "duration": 9,
    "start_time": "2022-05-20T10:05:10.241Z"
   },
   {
    "duration": 9,
    "start_time": "2022-05-20T10:05:21.131Z"
   },
   {
    "duration": 770,
    "start_time": "2022-05-20T10:05:26.215Z"
   },
   {
    "duration": 485,
    "start_time": "2022-05-20T10:09:12.419Z"
   },
   {
    "duration": 215,
    "start_time": "2022-05-20T10:09:27.831Z"
   },
   {
    "duration": 142,
    "start_time": "2022-05-20T10:09:34.247Z"
   },
   {
    "duration": 164,
    "start_time": "2022-05-20T10:09:43.809Z"
   },
   {
    "duration": 181,
    "start_time": "2022-05-20T10:09:48.691Z"
   },
   {
    "duration": 167,
    "start_time": "2022-05-20T10:09:55.811Z"
   },
   {
    "duration": 201,
    "start_time": "2022-05-20T10:10:01.287Z"
   },
   {
    "duration": 425,
    "start_time": "2022-05-20T10:11:48.811Z"
   },
   {
    "duration": 352,
    "start_time": "2022-05-20T10:12:09.898Z"
   },
   {
    "duration": 347,
    "start_time": "2022-05-20T10:12:24.238Z"
   },
   {
    "duration": 96,
    "start_time": "2022-05-20T10:12:52.323Z"
   },
   {
    "duration": 16,
    "start_time": "2022-05-20T10:12:52.998Z"
   },
   {
    "duration": 36,
    "start_time": "2022-05-20T10:12:53.241Z"
   },
   {
    "duration": 24,
    "start_time": "2022-05-20T10:12:53.440Z"
   },
   {
    "duration": 74,
    "start_time": "2022-05-20T10:12:53.616Z"
   },
   {
    "duration": 3,
    "start_time": "2022-05-20T10:12:53.801Z"
   },
   {
    "duration": 9,
    "start_time": "2022-05-20T10:12:54.777Z"
   },
   {
    "duration": 39,
    "start_time": "2022-05-20T10:12:54.963Z"
   },
   {
    "duration": 28,
    "start_time": "2022-05-20T10:12:55.136Z"
   },
   {
    "duration": 5,
    "start_time": "2022-05-20T10:12:55.798Z"
   },
   {
    "duration": 48,
    "start_time": "2022-05-20T10:12:55.961Z"
   },
   {
    "duration": 258,
    "start_time": "2022-05-20T10:12:56.135Z"
   },
   {
    "duration": 8,
    "start_time": "2022-05-20T10:12:56.649Z"
   },
   {
    "duration": 368,
    "start_time": "2022-05-20T10:12:57.470Z"
   },
   {
    "duration": 307,
    "start_time": "2022-05-20T10:13:38.845Z"
   },
   {
    "duration": 462,
    "start_time": "2022-05-20T10:13:47.699Z"
   },
   {
    "duration": 297,
    "start_time": "2022-05-20T10:14:12.515Z"
   },
   {
    "duration": 93,
    "start_time": "2022-05-20T10:14:48.841Z"
   },
   {
    "duration": 15,
    "start_time": "2022-05-20T10:14:49.055Z"
   },
   {
    "duration": 32,
    "start_time": "2022-05-20T10:14:49.276Z"
   },
   {
    "duration": 21,
    "start_time": "2022-05-20T10:14:49.481Z"
   },
   {
    "duration": 79,
    "start_time": "2022-05-20T10:14:49.669Z"
   },
   {
    "duration": 2,
    "start_time": "2022-05-20T10:14:49.855Z"
   },
   {
    "duration": 11,
    "start_time": "2022-05-20T10:14:50.801Z"
   },
   {
    "duration": 34,
    "start_time": "2022-05-20T10:14:51.150Z"
   },
   {
    "duration": 28,
    "start_time": "2022-05-20T10:14:51.345Z"
   },
   {
    "duration": 5,
    "start_time": "2022-05-20T10:14:51.708Z"
   },
   {
    "duration": 40,
    "start_time": "2022-05-20T10:14:51.901Z"
   },
   {
    "duration": 251,
    "start_time": "2022-05-20T10:14:52.075Z"
   },
   {
    "duration": 8,
    "start_time": "2022-05-20T10:14:52.328Z"
   },
   {
    "duration": 307,
    "start_time": "2022-05-20T10:14:52.914Z"
   },
   {
    "duration": 305,
    "start_time": "2022-05-20T10:15:03.597Z"
   },
   {
    "duration": 311,
    "start_time": "2022-05-20T10:15:20.109Z"
   },
   {
    "duration": 311,
    "start_time": "2022-05-20T10:15:34.646Z"
   },
   {
    "duration": 404,
    "start_time": "2022-05-20T10:15:46.996Z"
   },
   {
    "duration": 297,
    "start_time": "2022-05-20T10:15:54.841Z"
   },
   {
    "duration": 309,
    "start_time": "2022-05-20T10:16:13.147Z"
   },
   {
    "duration": 179,
    "start_time": "2022-05-20T10:16:29.094Z"
   },
   {
    "duration": 358,
    "start_time": "2022-05-20T10:16:53.786Z"
   },
   {
    "duration": 376,
    "start_time": "2022-05-20T10:17:16.735Z"
   },
   {
    "duration": 457,
    "start_time": "2022-05-20T10:17:24.731Z"
   },
   {
    "duration": 353,
    "start_time": "2022-05-20T10:17:29.442Z"
   },
   {
    "duration": 366,
    "start_time": "2022-05-20T10:18:55.615Z"
   },
   {
    "duration": 453,
    "start_time": "2022-05-20T10:19:16.162Z"
   },
   {
    "duration": 465,
    "start_time": "2022-05-20T10:19:29.713Z"
   },
   {
    "duration": 691,
    "start_time": "2022-05-20T10:19:36.851Z"
   },
   {
    "duration": 503,
    "start_time": "2022-05-20T10:20:10.492Z"
   },
   {
    "duration": 520,
    "start_time": "2022-05-20T10:20:18.395Z"
   },
   {
    "duration": 13417,
    "start_time": "2022-05-20T10:22:15.139Z"
   },
   {
    "duration": 975,
    "start_time": "2022-05-20T10:22:33.970Z"
   },
   {
    "duration": 634,
    "start_time": "2022-05-20T10:23:06.912Z"
   },
   {
    "duration": 650,
    "start_time": "2022-05-20T10:23:32.092Z"
   },
   {
    "duration": 646,
    "start_time": "2022-05-20T10:23:45.778Z"
   },
   {
    "duration": 618,
    "start_time": "2022-05-20T10:23:52.716Z"
   },
   {
    "duration": 627,
    "start_time": "2022-05-20T10:24:42.144Z"
   },
   {
    "duration": 28,
    "start_time": "2022-05-20T10:40:11.051Z"
   },
   {
    "duration": 4,
    "start_time": "2022-05-20T10:40:28.921Z"
   },
   {
    "duration": 31,
    "start_time": "2022-05-20T10:42:47.897Z"
   },
   {
    "duration": 40,
    "start_time": "2022-05-20T10:43:30.834Z"
   },
   {
    "duration": 42,
    "start_time": "2022-05-20T10:43:42.471Z"
   },
   {
    "duration": 13,
    "start_time": "2022-05-20T10:43:52.437Z"
   },
   {
    "duration": 12,
    "start_time": "2022-05-20T10:43:59.761Z"
   },
   {
    "duration": 605,
    "start_time": "2022-05-20T10:44:03.137Z"
   },
   {
    "duration": 17,
    "start_time": "2022-05-20T10:44:07.978Z"
   },
   {
    "duration": 11,
    "start_time": "2022-05-20T10:46:51.852Z"
   },
   {
    "duration": 108,
    "start_time": "2022-05-20T10:50:30.879Z"
   },
   {
    "duration": 31,
    "start_time": "2022-05-20T10:51:10.855Z"
   },
   {
    "duration": 889,
    "start_time": "2022-05-20T10:51:35.042Z"
   },
   {
    "duration": 5881,
    "start_time": "2022-05-20T10:51:35.933Z"
   },
   {
    "duration": 9,
    "start_time": "2022-05-20T10:52:25.885Z"
   },
   {
    "duration": 73,
    "start_time": "2022-05-20T10:53:20.664Z"
   },
   {
    "duration": 64,
    "start_time": "2022-05-20T10:53:32.417Z"
   },
   {
    "duration": 19,
    "start_time": "2022-05-20T10:53:40.561Z"
   },
   {
    "duration": 26,
    "start_time": "2022-05-20T10:53:53.428Z"
   },
   {
    "duration": 21,
    "start_time": "2022-05-20T10:54:09.888Z"
   },
   {
    "duration": 607,
    "start_time": "2022-05-20T10:54:14.070Z"
   },
   {
    "duration": 21,
    "start_time": "2022-05-20T10:54:15.419Z"
   },
   {
    "duration": 10,
    "start_time": "2022-05-20T10:54:23.823Z"
   },
   {
    "duration": 6056,
    "start_time": "2022-05-20T10:54:34.557Z"
   },
   {
    "duration": 6041,
    "start_time": "2022-05-20T10:54:51.096Z"
   },
   {
    "duration": 81,
    "start_time": "2022-05-20T10:55:30.032Z"
   },
   {
    "duration": 16,
    "start_time": "2022-05-20T10:55:30.213Z"
   },
   {
    "duration": 604,
    "start_time": "2022-05-20T10:55:30.394Z"
   },
   {
    "duration": 32,
    "start_time": "2022-05-20T10:55:31.000Z"
   },
   {
    "duration": 106,
    "start_time": "2022-05-20T10:55:31.034Z"
   },
   {
    "duration": 2,
    "start_time": "2022-05-20T10:55:31.143Z"
   },
   {
    "duration": 10,
    "start_time": "2022-05-20T10:55:31.671Z"
   },
   {
    "duration": 46,
    "start_time": "2022-05-20T10:55:31.844Z"
   },
   {
    "duration": 29,
    "start_time": "2022-05-20T10:55:32.014Z"
   },
   {
    "duration": 6,
    "start_time": "2022-05-20T10:55:32.396Z"
   },
   {
    "duration": 40,
    "start_time": "2022-05-20T10:55:32.648Z"
   },
   {
    "duration": 253,
    "start_time": "2022-05-20T10:55:32.874Z"
   },
   {
    "duration": 9,
    "start_time": "2022-05-20T10:55:33.129Z"
   },
   {
    "duration": 668,
    "start_time": "2022-05-20T10:55:33.444Z"
   },
   {
    "duration": 6048,
    "start_time": "2022-05-20T10:55:34.114Z"
   },
   {
    "duration": 5807,
    "start_time": "2022-05-20T10:55:41.145Z"
   },
   {
    "duration": 14,
    "start_time": "2022-05-20T11:00:04.419Z"
   },
   {
    "duration": 30,
    "start_time": "2022-05-20T11:01:09.550Z"
   },
   {
    "duration": 30,
    "start_time": "2022-05-20T11:01:09.945Z"
   },
   {
    "duration": 4,
    "start_time": "2022-05-20T11:01:10.471Z"
   },
   {
    "duration": 45,
    "start_time": "2022-05-20T11:01:10.689Z"
   },
   {
    "duration": 278,
    "start_time": "2022-05-20T11:01:10.882Z"
   },
   {
    "duration": 9,
    "start_time": "2022-05-20T11:01:11.162Z"
   },
   {
    "duration": 659,
    "start_time": "2022-05-20T11:01:11.772Z"
   },
   {
    "duration": 12,
    "start_time": "2022-05-20T11:01:12.433Z"
   },
   {
    "duration": 15,
    "start_time": "2022-05-20T11:01:15.794Z"
   },
   {
    "duration": 53,
    "start_time": "2022-05-20T11:01:32.478Z"
   },
   {
    "duration": 32,
    "start_time": "2022-05-20T11:01:45.900Z"
   },
   {
    "duration": 29,
    "start_time": "2022-05-20T11:01:54.591Z"
   },
   {
    "duration": 32,
    "start_time": "2022-05-20T11:01:55.065Z"
   },
   {
    "duration": 5,
    "start_time": "2022-05-20T11:01:55.456Z"
   },
   {
    "duration": 44,
    "start_time": "2022-05-20T11:01:55.673Z"
   },
   {
    "duration": 261,
    "start_time": "2022-05-20T11:01:55.882Z"
   },
   {
    "duration": 9,
    "start_time": "2022-05-20T11:01:56.174Z"
   },
   {
    "duration": 607,
    "start_time": "2022-05-20T11:01:56.916Z"
   },
   {
    "duration": 12,
    "start_time": "2022-05-20T11:01:57.525Z"
   },
   {
    "duration": 590,
    "start_time": "2022-05-20T11:01:59.823Z"
   },
   {
    "duration": 15,
    "start_time": "2022-05-20T11:02:01.028Z"
   },
   {
    "duration": 42,
    "start_time": "2022-05-20T11:02:22.925Z"
   },
   {
    "duration": 259,
    "start_time": "2022-05-20T11:02:23.529Z"
   },
   {
    "duration": 31,
    "start_time": "2022-05-20T11:02:28.817Z"
   },
   {
    "duration": 33,
    "start_time": "2022-05-20T11:02:30.445Z"
   },
   {
    "duration": 4,
    "start_time": "2022-05-20T11:02:31.247Z"
   },
   {
    "duration": 40,
    "start_time": "2022-05-20T11:02:31.612Z"
   },
   {
    "duration": 79,
    "start_time": "2022-05-20T11:02:44.885Z"
   },
   {
    "duration": 15,
    "start_time": "2022-05-20T11:02:45.081Z"
   },
   {
    "duration": 41,
    "start_time": "2022-05-20T11:02:45.275Z"
   },
   {
    "duration": 21,
    "start_time": "2022-05-20T11:02:45.501Z"
   },
   {
    "duration": 82,
    "start_time": "2022-05-20T11:02:46.003Z"
   },
   {
    "duration": 2,
    "start_time": "2022-05-20T11:02:46.457Z"
   },
   {
    "duration": 11,
    "start_time": "2022-05-20T11:02:49.729Z"
   },
   {
    "duration": 30,
    "start_time": "2022-05-20T11:02:50.346Z"
   },
   {
    "duration": 25,
    "start_time": "2022-05-20T11:02:52.461Z"
   },
   {
    "duration": 5,
    "start_time": "2022-05-20T11:02:53.357Z"
   },
   {
    "duration": 50,
    "start_time": "2022-05-20T11:02:53.681Z"
   },
   {
    "duration": 296,
    "start_time": "2022-05-20T11:03:01.654Z"
   },
   {
    "duration": 170,
    "start_time": "2022-05-20T11:03:22.984Z"
   },
   {
    "duration": 138,
    "start_time": "2022-05-20T11:03:30.083Z"
   },
   {
    "duration": 262,
    "start_time": "2022-05-20T11:04:15.255Z"
   },
   {
    "duration": 264,
    "start_time": "2022-05-20T11:04:25.051Z"
   },
   {
    "duration": 169,
    "start_time": "2022-05-20T11:04:34.052Z"
   },
   {
    "duration": 153,
    "start_time": "2022-05-20T11:04:58.263Z"
   },
   {
    "duration": 243,
    "start_time": "2022-05-20T11:05:11.706Z"
   },
   {
    "duration": 195,
    "start_time": "2022-05-20T11:06:44.022Z"
   },
   {
    "duration": 31,
    "start_time": "2022-05-20T11:09:55.920Z"
   },
   {
    "duration": 87,
    "start_time": "2022-05-20T11:10:00.655Z"
   },
   {
    "duration": 16,
    "start_time": "2022-05-20T11:10:00.894Z"
   },
   {
    "duration": 41,
    "start_time": "2022-05-20T11:10:01.086Z"
   },
   {
    "duration": 26,
    "start_time": "2022-05-20T11:10:01.268Z"
   },
   {
    "duration": 102,
    "start_time": "2022-05-20T11:10:01.471Z"
   },
   {
    "duration": 3,
    "start_time": "2022-05-20T11:10:01.674Z"
   },
   {
    "duration": 14,
    "start_time": "2022-05-20T11:10:02.476Z"
   },
   {
    "duration": 48,
    "start_time": "2022-05-20T11:10:02.654Z"
   },
   {
    "duration": 26,
    "start_time": "2022-05-20T11:10:02.853Z"
   },
   {
    "duration": 6,
    "start_time": "2022-05-20T11:10:03.250Z"
   },
   {
    "duration": 49,
    "start_time": "2022-05-20T11:10:03.448Z"
   },
   {
    "duration": 273,
    "start_time": "2022-05-20T11:10:03.628Z"
   },
   {
    "duration": 10,
    "start_time": "2022-05-20T11:10:03.903Z"
   },
   {
    "duration": 693,
    "start_time": "2022-05-20T11:10:04.653Z"
   },
   {
    "duration": 679,
    "start_time": "2022-05-20T11:10:05.348Z"
   },
   {
    "duration": 235,
    "start_time": "2022-05-20T11:10:10.071Z"
   },
   {
    "duration": 9,
    "start_time": "2022-05-20T11:10:37.520Z"
   },
   {
    "duration": 170,
    "start_time": "2022-05-20T11:10:56.852Z"
   },
   {
    "duration": 174,
    "start_time": "2022-05-20T11:13:41.090Z"
   },
   {
    "duration": 13,
    "start_time": "2022-05-20T11:14:30.871Z"
   },
   {
    "duration": 10,
    "start_time": "2022-05-20T11:14:34.897Z"
   },
   {
    "duration": 19,
    "start_time": "2022-05-20T11:15:10.880Z"
   },
   {
    "duration": 14,
    "start_time": "2022-05-20T11:15:18.384Z"
   },
   {
    "duration": 25,
    "start_time": "2022-05-20T11:15:40.013Z"
   },
   {
    "duration": 22,
    "start_time": "2022-05-20T11:15:58.990Z"
   },
   {
    "duration": 3,
    "start_time": "2022-05-20T11:16:12.270Z"
   },
   {
    "duration": 639,
    "start_time": "2022-05-20T11:16:18.239Z"
   },
   {
    "duration": 13,
    "start_time": "2022-05-20T11:16:39.747Z"
   },
   {
    "duration": 88,
    "start_time": "2022-05-20T11:16:46.045Z"
   },
   {
    "duration": 16,
    "start_time": "2022-05-20T11:16:46.229Z"
   },
   {
    "duration": 40,
    "start_time": "2022-05-20T11:16:46.407Z"
   },
   {
    "duration": 22,
    "start_time": "2022-05-20T11:16:46.768Z"
   },
   {
    "duration": 74,
    "start_time": "2022-05-20T11:16:46.792Z"
   },
   {
    "duration": 3,
    "start_time": "2022-05-20T11:16:46.955Z"
   },
   {
    "duration": 11,
    "start_time": "2022-05-20T11:16:47.686Z"
   },
   {
    "duration": 45,
    "start_time": "2022-05-20T11:16:47.870Z"
   },
   {
    "duration": 33,
    "start_time": "2022-05-20T11:16:48.058Z"
   },
   {
    "duration": 5,
    "start_time": "2022-05-20T11:16:48.428Z"
   },
   {
    "duration": 42,
    "start_time": "2022-05-20T11:16:48.595Z"
   },
   {
    "duration": 274,
    "start_time": "2022-05-20T11:16:48.777Z"
   },
   {
    "duration": 9,
    "start_time": "2022-05-20T11:16:49.297Z"
   },
   {
    "duration": 612,
    "start_time": "2022-05-20T11:16:49.999Z"
   },
   {
    "duration": 12,
    "start_time": "2022-05-20T11:16:50.613Z"
   },
   {
    "duration": 15,
    "start_time": "2022-05-20T11:18:10.642Z"
   },
   {
    "duration": 15,
    "start_time": "2022-05-20T11:18:38.958Z"
   },
   {
    "duration": 43,
    "start_time": "2022-05-20T11:19:29.507Z"
   },
   {
    "duration": 87,
    "start_time": "2022-05-20T11:19:39.266Z"
   },
   {
    "duration": 16,
    "start_time": "2022-05-20T11:19:39.481Z"
   },
   {
    "duration": 41,
    "start_time": "2022-05-20T11:19:39.685Z"
   },
   {
    "duration": 21,
    "start_time": "2022-05-20T11:19:39.854Z"
   },
   {
    "duration": 79,
    "start_time": "2022-05-20T11:19:40.027Z"
   },
   {
    "duration": 3,
    "start_time": "2022-05-20T11:19:40.222Z"
   },
   {
    "duration": 10,
    "start_time": "2022-05-20T11:19:40.915Z"
   },
   {
    "duration": 33,
    "start_time": "2022-05-20T11:19:41.087Z"
   },
   {
    "duration": 36,
    "start_time": "2022-05-20T11:19:41.278Z"
   },
   {
    "duration": 29,
    "start_time": "2022-05-20T11:19:54.254Z"
   },
   {
    "duration": 36,
    "start_time": "2022-05-20T11:19:55.399Z"
   },
   {
    "duration": 9,
    "start_time": "2022-05-20T11:20:20.635Z"
   },
   {
    "duration": 29,
    "start_time": "2022-05-20T11:21:47.008Z"
   },
   {
    "duration": 11,
    "start_time": "2022-05-20T11:21:47.511Z"
   },
   {
    "duration": 5907,
    "start_time": "2022-05-20T11:21:49.655Z"
   },
   {
    "duration": 83,
    "start_time": "2022-05-20T11:21:55.615Z"
   },
   {
    "duration": 5,
    "start_time": "2022-05-20T11:21:55.904Z"
   },
   {
    "duration": 41,
    "start_time": "2022-05-20T11:21:56.020Z"
   },
   {
    "duration": 247,
    "start_time": "2022-05-20T11:21:56.301Z"
   },
   {
    "duration": 10,
    "start_time": "2022-05-20T11:21:56.611Z"
   },
   {
    "duration": 705,
    "start_time": "2022-05-20T11:21:57.678Z"
   },
   {
    "duration": 15,
    "start_time": "2022-05-20T11:21:58.385Z"
   },
   {
    "duration": 37,
    "start_time": "2022-05-20T11:22:13.471Z"
   },
   {
    "duration": 4,
    "start_time": "2022-05-20T11:22:15.421Z"
   },
   {
    "duration": 43,
    "start_time": "2022-05-20T11:22:15.620Z"
   },
   {
    "duration": 251,
    "start_time": "2022-05-20T11:22:15.809Z"
   },
   {
    "duration": 10,
    "start_time": "2022-05-20T11:22:16.548Z"
   },
   {
    "duration": 677,
    "start_time": "2022-05-20T11:22:18.011Z"
   },
   {
    "duration": 15,
    "start_time": "2022-05-20T11:22:18.690Z"
   },
   {
    "duration": 15,
    "start_time": "2022-05-20T11:25:26.371Z"
   },
   {
    "duration": 251,
    "start_time": "2022-05-20T11:25:36.106Z"
   },
   {
    "duration": 252,
    "start_time": "2022-05-20T11:26:00.295Z"
   },
   {
    "duration": 262,
    "start_time": "2022-05-20T11:26:05.078Z"
   },
   {
    "duration": 87,
    "start_time": "2022-05-20T11:27:57.626Z"
   },
   {
    "duration": 20,
    "start_time": "2022-05-20T11:27:58.130Z"
   },
   {
    "duration": 39,
    "start_time": "2022-05-20T11:27:58.417Z"
   },
   {
    "duration": 22,
    "start_time": "2022-05-20T11:27:58.669Z"
   },
   {
    "duration": 76,
    "start_time": "2022-05-20T11:27:59.026Z"
   },
   {
    "duration": 2,
    "start_time": "2022-05-20T11:27:59.370Z"
   },
   {
    "duration": 11,
    "start_time": "2022-05-20T11:28:01.331Z"
   },
   {
    "duration": 34,
    "start_time": "2022-05-20T11:28:01.723Z"
   },
   {
    "duration": 10,
    "start_time": "2022-05-20T11:28:02.180Z"
   },
   {
    "duration": 7811,
    "start_time": "2022-05-20T11:28:02.688Z"
   },
   {
    "duration": 87,
    "start_time": "2022-05-20T11:28:10.503Z"
   },
   {
    "duration": 5,
    "start_time": "2022-05-20T11:28:10.593Z"
   },
   {
    "duration": 93,
    "start_time": "2022-05-20T11:28:10.601Z"
   },
   {
    "duration": 454,
    "start_time": "2022-05-20T11:28:10.696Z"
   },
   {
    "duration": 8,
    "start_time": "2022-05-20T11:28:11.152Z"
   },
   {
    "duration": 669,
    "start_time": "2022-05-20T11:28:11.162Z"
   },
   {
    "duration": 11,
    "start_time": "2022-05-20T11:28:11.833Z"
   },
   {
    "duration": 38,
    "start_time": "2022-05-20T11:28:44.393Z"
   },
   {
    "duration": 26,
    "start_time": "2022-05-20T11:28:45.214Z"
   },
   {
    "duration": 86,
    "start_time": "2022-05-20T11:28:45.861Z"
   },
   {
    "duration": 3,
    "start_time": "2022-05-20T11:28:46.753Z"
   },
   {
    "duration": 12,
    "start_time": "2022-05-20T11:28:49.355Z"
   },
   {
    "duration": 32,
    "start_time": "2022-05-20T11:28:50.006Z"
   },
   {
    "duration": 11,
    "start_time": "2022-05-20T11:28:50.570Z"
   },
   {
    "duration": 6265,
    "start_time": "2022-05-20T11:28:51.118Z"
   },
   {
    "duration": 98,
    "start_time": "2022-05-20T11:28:57.385Z"
   },
   {
    "duration": 28,
    "start_time": "2022-05-20T11:29:04.882Z"
   },
   {
    "duration": 28,
    "start_time": "2022-05-20T11:29:12.919Z"
   },
   {
    "duration": 11,
    "start_time": "2022-05-20T11:29:13.471Z"
   },
   {
    "duration": 95,
    "start_time": "2022-05-20T11:29:34.574Z"
   },
   {
    "duration": 14,
    "start_time": "2022-05-20T11:29:34.950Z"
   },
   {
    "duration": 41,
    "start_time": "2022-05-20T11:29:35.413Z"
   },
   {
    "duration": 29,
    "start_time": "2022-05-20T11:29:35.865Z"
   },
   {
    "duration": 82,
    "start_time": "2022-05-20T11:29:36.310Z"
   },
   {
    "duration": 5,
    "start_time": "2022-05-20T11:29:36.705Z"
   },
   {
    "duration": 11,
    "start_time": "2022-05-20T11:29:38.450Z"
   },
   {
    "duration": 31,
    "start_time": "2022-05-20T11:29:39.170Z"
   },
   {
    "duration": 13,
    "start_time": "2022-05-20T11:29:39.743Z"
   },
   {
    "duration": 7777,
    "start_time": "2022-05-20T11:29:40.437Z"
   },
   {
    "duration": 84,
    "start_time": "2022-05-20T11:29:48.217Z"
   },
   {
    "duration": 6,
    "start_time": "2022-05-20T11:29:48.302Z"
   },
   {
    "duration": 110,
    "start_time": "2022-05-20T11:29:48.310Z"
   },
   {
    "duration": 440,
    "start_time": "2022-05-20T11:29:48.421Z"
   },
   {
    "duration": 23,
    "start_time": "2022-05-20T11:29:48.863Z"
   },
   {
    "duration": 637,
    "start_time": "2022-05-20T11:29:48.888Z"
   },
   {
    "duration": 14,
    "start_time": "2022-05-20T11:29:49.528Z"
   },
   {
    "duration": 44,
    "start_time": "2022-05-20T11:31:10.639Z"
   },
   {
    "duration": 6,
    "start_time": "2022-05-20T11:31:12.139Z"
   },
   {
    "duration": 42,
    "start_time": "2022-05-20T11:31:13.283Z"
   },
   {
    "duration": 248,
    "start_time": "2022-05-20T11:31:14.090Z"
   },
   {
    "duration": 9,
    "start_time": "2022-05-20T11:31:15.447Z"
   },
   {
    "duration": 622,
    "start_time": "2022-05-20T11:31:17.036Z"
   },
   {
    "duration": 13,
    "start_time": "2022-05-20T11:31:20.279Z"
   },
   {
    "duration": 161,
    "start_time": "2022-05-20T11:31:54.397Z"
   },
   {
    "duration": 119,
    "start_time": "2022-05-20T11:32:02.073Z"
   },
   {
    "duration": 23,
    "start_time": "2022-05-20T11:32:02.342Z"
   },
   {
    "duration": 37,
    "start_time": "2022-05-20T11:32:02.534Z"
   },
   {
    "duration": 25,
    "start_time": "2022-05-20T11:32:02.738Z"
   },
   {
    "duration": 650,
    "start_time": "2022-05-20T11:32:03.253Z"
   },
   {
    "duration": 3,
    "start_time": "2022-05-20T11:32:03.906Z"
   },
   {
    "duration": 10,
    "start_time": "2022-05-20T11:32:06.218Z"
   },
   {
    "duration": 34,
    "start_time": "2022-05-20T11:32:06.764Z"
   },
   {
    "duration": 18,
    "start_time": "2022-05-20T11:32:17.000Z"
   },
   {
    "duration": 15,
    "start_time": "2022-05-20T11:32:34.368Z"
   },
   {
    "duration": 32,
    "start_time": "2022-05-20T11:32:39.119Z"
   },
   {
    "duration": 16,
    "start_time": "2022-05-20T11:32:44.317Z"
   },
   {
    "duration": 5,
    "start_time": "2022-05-20T11:32:49.346Z"
   },
   {
    "duration": 42,
    "start_time": "2022-05-20T11:32:49.987Z"
   },
   {
    "duration": 252,
    "start_time": "2022-05-20T11:32:50.617Z"
   },
   {
    "duration": 10,
    "start_time": "2022-05-20T11:32:51.105Z"
   },
   {
    "duration": 646,
    "start_time": "2022-05-20T11:32:52.255Z"
   },
   {
    "duration": 12,
    "start_time": "2022-05-20T11:32:53.566Z"
   },
   {
    "duration": 177,
    "start_time": "2022-05-20T11:32:54.222Z"
   },
   {
    "duration": 12,
    "start_time": "2022-05-20T11:32:58.986Z"
   },
   {
    "duration": 174,
    "start_time": "2022-05-20T11:32:59.603Z"
   },
   {
    "duration": 173,
    "start_time": "2022-05-20T11:33:07.353Z"
   },
   {
    "duration": 163,
    "start_time": "2022-05-20T11:34:21.549Z"
   },
   {
    "duration": 22,
    "start_time": "2022-05-20T11:35:03.578Z"
   },
   {
    "duration": 171,
    "start_time": "2022-05-20T11:35:12.742Z"
   },
   {
    "duration": 306,
    "start_time": "2022-05-20T11:35:37.477Z"
   },
   {
    "duration": 261,
    "start_time": "2022-05-20T11:36:10.751Z"
   },
   {
    "duration": 12,
    "start_time": "2022-05-20T11:36:48.843Z"
   },
   {
    "duration": 302,
    "start_time": "2022-05-20T11:37:03.536Z"
   },
   {
    "duration": 374,
    "start_time": "2022-05-20T11:37:30.369Z"
   },
   {
    "duration": 11,
    "start_time": "2022-05-20T11:40:56.856Z"
   },
   {
    "duration": 10,
    "start_time": "2022-05-20T11:41:10.759Z"
   },
   {
    "duration": 12,
    "start_time": "2022-05-20T11:41:12.430Z"
   },
   {
    "duration": 10,
    "start_time": "2022-05-20T11:41:17.245Z"
   },
   {
    "duration": 42,
    "start_time": "2022-05-20T11:41:23.348Z"
   },
   {
    "duration": 34,
    "start_time": "2022-05-20T11:41:30.127Z"
   },
   {
    "duration": 33,
    "start_time": "2022-05-20T11:44:33.854Z"
   },
   {
    "duration": 119,
    "start_time": "2022-05-20T11:44:55.858Z"
   },
   {
    "duration": 90,
    "start_time": "2022-05-20T11:45:09.972Z"
   },
   {
    "duration": 15,
    "start_time": "2022-05-20T11:45:10.147Z"
   },
   {
    "duration": 32,
    "start_time": "2022-05-20T11:45:10.310Z"
   },
   {
    "duration": 22,
    "start_time": "2022-05-20T11:45:10.485Z"
   },
   {
    "duration": 75,
    "start_time": "2022-05-20T11:45:10.674Z"
   },
   {
    "duration": 2,
    "start_time": "2022-05-20T11:45:10.872Z"
   },
   {
    "duration": 9,
    "start_time": "2022-05-20T11:45:11.532Z"
   },
   {
    "duration": 37,
    "start_time": "2022-05-20T11:45:11.777Z"
   },
   {
    "duration": 11,
    "start_time": "2022-05-20T11:45:11.980Z"
   },
   {
    "duration": 31,
    "start_time": "2022-05-20T11:45:12.317Z"
   },
   {
    "duration": 17,
    "start_time": "2022-05-20T11:45:12.489Z"
   },
   {
    "duration": 5,
    "start_time": "2022-05-20T11:45:12.841Z"
   },
   {
    "duration": 48,
    "start_time": "2022-05-20T11:45:13.018Z"
   },
   {
    "duration": 254,
    "start_time": "2022-05-20T11:45:13.361Z"
   },
   {
    "duration": 19,
    "start_time": "2022-05-20T11:45:13.618Z"
   },
   {
    "duration": 629,
    "start_time": "2022-05-20T11:45:14.586Z"
   },
   {
    "duration": 261,
    "start_time": "2022-05-20T11:45:15.217Z"
   },
   {
    "duration": 132,
    "start_time": "2022-05-20T11:45:15.479Z"
   },
   {
    "duration": 41,
    "start_time": "2022-05-20T11:46:07.957Z"
   },
   {
    "duration": 50,
    "start_time": "2022-05-20T11:47:47.235Z"
   },
   {
    "duration": 146,
    "start_time": "2022-05-20T11:48:05.250Z"
   },
   {
    "duration": 2691,
    "start_time": "2022-05-20T11:49:01.225Z"
   },
   {
    "duration": 157,
    "start_time": "2022-05-20T11:49:25.961Z"
   },
   {
    "duration": 315,
    "start_time": "2022-05-20T11:49:50.034Z"
   },
   {
    "duration": 325,
    "start_time": "2022-05-20T11:50:19.591Z"
   },
   {
    "duration": 310,
    "start_time": "2022-05-20T11:50:23.938Z"
   },
   {
    "duration": 485,
    "start_time": "2022-05-20T11:50:36.049Z"
   },
   {
    "duration": 493,
    "start_time": "2022-05-20T11:51:09.061Z"
   },
   {
    "duration": 15,
    "start_time": "2022-05-20T11:51:36.039Z"
   },
   {
    "duration": 492,
    "start_time": "2022-05-20T11:51:54.628Z"
   },
   {
    "duration": 93,
    "start_time": "2022-05-20T11:52:01.050Z"
   },
   {
    "duration": 16,
    "start_time": "2022-05-20T11:52:01.250Z"
   },
   {
    "duration": 38,
    "start_time": "2022-05-20T11:52:01.451Z"
   },
   {
    "duration": 24,
    "start_time": "2022-05-20T11:52:01.638Z"
   },
   {
    "duration": 87,
    "start_time": "2022-05-20T11:52:01.828Z"
   },
   {
    "duration": 4,
    "start_time": "2022-05-20T11:52:02.021Z"
   },
   {
    "duration": 12,
    "start_time": "2022-05-20T11:52:03.570Z"
   },
   {
    "duration": 34,
    "start_time": "2022-05-20T11:52:03.774Z"
   },
   {
    "duration": 11,
    "start_time": "2022-05-20T11:52:03.983Z"
   },
   {
    "duration": 38,
    "start_time": "2022-05-20T11:52:04.383Z"
   },
   {
    "duration": 16,
    "start_time": "2022-05-20T11:52:04.798Z"
   },
   {
    "duration": 5,
    "start_time": "2022-05-20T11:52:05.523Z"
   },
   {
    "duration": 38,
    "start_time": "2022-05-20T11:52:05.884Z"
   },
   {
    "duration": 251,
    "start_time": "2022-05-20T11:52:06.258Z"
   },
   {
    "duration": 8,
    "start_time": "2022-05-20T11:52:06.773Z"
   },
   {
    "duration": 666,
    "start_time": "2022-05-20T11:52:07.841Z"
   },
   {
    "duration": 265,
    "start_time": "2022-05-20T11:52:08.509Z"
   },
   {
    "duration": 35,
    "start_time": "2022-05-20T11:52:09.138Z"
   },
   {
    "duration": 469,
    "start_time": "2022-05-20T11:52:10.007Z"
   },
   {
    "duration": 435,
    "start_time": "2022-05-20T11:52:16.089Z"
   },
   {
    "duration": 1031,
    "start_time": "2022-05-20T11:52:45.857Z"
   },
   {
    "duration": 42,
    "start_time": "2022-05-20T11:53:30.550Z"
   },
   {
    "duration": 47,
    "start_time": "2022-05-20T11:53:38.270Z"
   },
   {
    "duration": 167,
    "start_time": "2022-05-20T11:53:50.840Z"
   },
   {
    "duration": 185,
    "start_time": "2022-05-20T11:53:56.984Z"
   },
   {
    "duration": 136,
    "start_time": "2022-05-20T11:54:08.180Z"
   },
   {
    "duration": 44,
    "start_time": "2022-05-20T11:55:15.172Z"
   },
   {
    "duration": 14,
    "start_time": "2022-05-20T11:55:24.073Z"
   },
   {
    "duration": 18,
    "start_time": "2022-05-20T11:55:27.884Z"
   },
   {
    "duration": 15,
    "start_time": "2022-05-20T11:55:31.338Z"
   },
   {
    "duration": 15,
    "start_time": "2022-05-20T11:55:34.110Z"
   },
   {
    "duration": 15,
    "start_time": "2022-05-20T11:55:39.109Z"
   },
   {
    "duration": 153,
    "start_time": "2022-05-20T11:57:10.450Z"
   },
   {
    "duration": 20,
    "start_time": "2022-05-20T11:59:06.567Z"
   },
   {
    "duration": 23,
    "start_time": "2022-05-20T12:01:51.660Z"
   },
   {
    "duration": 9,
    "start_time": "2022-05-20T12:06:15.380Z"
   },
   {
    "duration": 33,
    "start_time": "2022-05-20T12:06:22.017Z"
   },
   {
    "duration": 16,
    "start_time": "2022-05-20T12:09:33.994Z"
   },
   {
    "duration": 7,
    "start_time": "2022-05-20T12:09:44.481Z"
   },
   {
    "duration": 14,
    "start_time": "2022-05-20T12:09:53.606Z"
   },
   {
    "duration": 232,
    "start_time": "2022-05-20T12:10:29.339Z"
   },
   {
    "duration": 89,
    "start_time": "2022-05-20T12:10:38.368Z"
   },
   {
    "duration": 15,
    "start_time": "2022-05-20T12:10:38.792Z"
   },
   {
    "duration": 35,
    "start_time": "2022-05-20T12:10:39.169Z"
   },
   {
    "duration": 23,
    "start_time": "2022-05-20T12:10:39.564Z"
   },
   {
    "duration": 72,
    "start_time": "2022-05-20T12:10:39.897Z"
   },
   {
    "duration": 2,
    "start_time": "2022-05-20T12:10:40.238Z"
   },
   {
    "duration": 11,
    "start_time": "2022-05-20T12:10:41.653Z"
   },
   {
    "duration": 31,
    "start_time": "2022-05-20T12:10:41.985Z"
   },
   {
    "duration": 10,
    "start_time": "2022-05-20T12:10:42.523Z"
   },
   {
    "duration": 29,
    "start_time": "2022-05-20T12:10:43.118Z"
   },
   {
    "duration": 14,
    "start_time": "2022-05-20T12:10:43.846Z"
   },
   {
    "duration": 4,
    "start_time": "2022-05-20T12:10:45.064Z"
   },
   {
    "duration": 41,
    "start_time": "2022-05-20T12:10:45.564Z"
   },
   {
    "duration": 275,
    "start_time": "2022-05-20T12:10:46.580Z"
   },
   {
    "duration": 8,
    "start_time": "2022-05-20T12:10:47.293Z"
   },
   {
    "duration": 667,
    "start_time": "2022-05-20T12:10:47.957Z"
   },
   {
    "duration": 267,
    "start_time": "2022-05-20T12:10:48.626Z"
   },
   {
    "duration": 36,
    "start_time": "2022-05-20T12:10:48.894Z"
   },
   {
    "duration": 131,
    "start_time": "2022-05-20T12:10:48.958Z"
   },
   {
    "duration": 151,
    "start_time": "2022-05-20T12:10:49.320Z"
   },
   {
    "duration": 203,
    "start_time": "2022-05-20T12:10:49.658Z"
   },
   {
    "duration": 165,
    "start_time": "2022-05-20T12:10:49.898Z"
   },
   {
    "duration": 24,
    "start_time": "2022-05-20T12:10:50.136Z"
   },
   {
    "duration": 270,
    "start_time": "2022-05-20T12:10:51.051Z"
   },
   {
    "duration": 173,
    "start_time": "2022-05-20T12:10:57.657Z"
   },
   {
    "duration": 153,
    "start_time": "2022-05-20T12:11:18.151Z"
   },
   {
    "duration": 151,
    "start_time": "2022-05-20T12:12:30.527Z"
   },
   {
    "duration": 159,
    "start_time": "2022-05-20T12:12:44.665Z"
   },
   {
    "duration": 165,
    "start_time": "2022-05-20T12:17:33.221Z"
   },
   {
    "duration": 174,
    "start_time": "2022-05-20T12:17:58.478Z"
   },
   {
    "duration": 163,
    "start_time": "2022-05-20T12:18:07.002Z"
   },
   {
    "duration": 332,
    "start_time": "2022-05-20T12:20:19.410Z"
   },
   {
    "duration": 3,
    "start_time": "2022-05-20T12:21:01.880Z"
   },
   {
    "duration": 156,
    "start_time": "2022-05-20T12:23:09.161Z"
   },
   {
    "duration": 29,
    "start_time": "2022-05-20T12:23:55.417Z"
   },
   {
    "duration": 89,
    "start_time": "2022-05-20T12:24:04.673Z"
   },
   {
    "duration": 15,
    "start_time": "2022-05-20T12:24:04.852Z"
   },
   {
    "duration": 36,
    "start_time": "2022-05-20T12:24:05.034Z"
   },
   {
    "duration": 22,
    "start_time": "2022-05-20T12:24:05.216Z"
   },
   {
    "duration": 75,
    "start_time": "2022-05-20T12:24:05.377Z"
   },
   {
    "duration": 2,
    "start_time": "2022-05-20T12:24:05.544Z"
   },
   {
    "duration": 13,
    "start_time": "2022-05-20T12:24:06.665Z"
   },
   {
    "duration": 42,
    "start_time": "2022-05-20T12:24:07.618Z"
   },
   {
    "duration": 12,
    "start_time": "2022-05-20T12:24:08.746Z"
   },
   {
    "duration": 37,
    "start_time": "2022-05-20T12:24:08.926Z"
   },
   {
    "duration": 18,
    "start_time": "2022-05-20T12:24:09.386Z"
   },
   {
    "duration": 6,
    "start_time": "2022-05-20T12:24:10.111Z"
   },
   {
    "duration": 40,
    "start_time": "2022-05-20T12:24:10.333Z"
   },
   {
    "duration": 264,
    "start_time": "2022-05-20T12:24:10.535Z"
   },
   {
    "duration": 9,
    "start_time": "2022-05-20T12:24:10.800Z"
   },
   {
    "duration": 645,
    "start_time": "2022-05-20T12:24:11.083Z"
   },
   {
    "duration": 282,
    "start_time": "2022-05-20T12:24:11.730Z"
   },
   {
    "duration": 40,
    "start_time": "2022-05-20T12:24:12.015Z"
   },
   {
    "duration": 163,
    "start_time": "2022-05-20T12:24:12.057Z"
   },
   {
    "duration": 177,
    "start_time": "2022-05-20T12:24:12.222Z"
   },
   {
    "duration": 183,
    "start_time": "2022-05-20T12:24:12.401Z"
   },
   {
    "duration": 169,
    "start_time": "2022-05-20T12:24:12.585Z"
   },
   {
    "duration": 24,
    "start_time": "2022-05-20T12:24:12.775Z"
   },
   {
    "duration": 4,
    "start_time": "2022-05-20T12:24:13.305Z"
   },
   {
    "duration": 148,
    "start_time": "2022-05-20T12:24:28.547Z"
   },
   {
    "duration": 7,
    "start_time": "2022-05-20T12:25:18.634Z"
   },
   {
    "duration": 9,
    "start_time": "2022-05-20T12:25:25.372Z"
   },
   {
    "duration": 8,
    "start_time": "2022-05-20T12:25:32.291Z"
   },
   {
    "duration": 7,
    "start_time": "2022-05-20T12:25:37.453Z"
   },
   {
    "duration": 11,
    "start_time": "2022-05-20T12:25:51.688Z"
   },
   {
    "duration": 9,
    "start_time": "2022-05-20T12:27:34.526Z"
   },
   {
    "duration": 633,
    "start_time": "2022-05-20T12:28:29.257Z"
   },
   {
    "duration": 848,
    "start_time": "2022-05-20T12:31:25.036Z"
   },
   {
    "duration": 8,
    "start_time": "2022-05-20T12:31:30.053Z"
   },
   {
    "duration": 12,
    "start_time": "2022-05-20T12:34:33.127Z"
   },
   {
    "duration": 9,
    "start_time": "2022-05-20T12:34:40.018Z"
   },
   {
    "duration": 613,
    "start_time": "2022-05-20T12:34:49.006Z"
   },
   {
    "duration": 5,
    "start_time": "2022-05-20T12:35:21.207Z"
   },
   {
    "duration": 54,
    "start_time": "2022-05-20T12:35:33.525Z"
   },
   {
    "duration": 7,
    "start_time": "2022-05-20T12:35:46.500Z"
   },
   {
    "duration": 94,
    "start_time": "2022-05-20T12:36:31.732Z"
   },
   {
    "duration": 10,
    "start_time": "2022-05-20T12:36:45.084Z"
   },
   {
    "duration": 176,
    "start_time": "2022-05-20T12:36:50.221Z"
   },
   {
    "duration": 168,
    "start_time": "2022-05-20T12:37:43.957Z"
   },
   {
    "duration": 9,
    "start_time": "2022-05-20T12:43:23.964Z"
   },
   {
    "duration": 32,
    "start_time": "2022-05-20T12:43:29.306Z"
   },
   {
    "duration": 10,
    "start_time": "2022-05-20T12:43:45.439Z"
   },
   {
    "duration": 22,
    "start_time": "2022-05-20T12:45:18.835Z"
   },
   {
    "duration": 17,
    "start_time": "2022-05-20T12:45:51.146Z"
   },
   {
    "duration": 11,
    "start_time": "2022-05-20T12:45:59.876Z"
   },
   {
    "duration": 20,
    "start_time": "2022-05-20T12:47:23.980Z"
   },
   {
    "duration": 22,
    "start_time": "2022-05-20T12:47:32.941Z"
   },
   {
    "duration": 25,
    "start_time": "2022-05-20T12:48:21.293Z"
   },
   {
    "duration": 29,
    "start_time": "2022-05-20T12:48:34.279Z"
   },
   {
    "duration": 60,
    "start_time": "2022-05-20T12:49:09.358Z"
   },
   {
    "duration": 218,
    "start_time": "2022-05-20T12:49:23.857Z"
   },
   {
    "duration": 211,
    "start_time": "2022-05-20T12:49:36.825Z"
   },
   {
    "duration": 216,
    "start_time": "2022-05-20T12:49:49.435Z"
   },
   {
    "duration": 295,
    "start_time": "2022-05-20T12:50:01.113Z"
   },
   {
    "duration": 218,
    "start_time": "2022-05-20T12:50:14.278Z"
   },
   {
    "duration": 61,
    "start_time": "2022-05-20T20:21:21.905Z"
   },
   {
    "duration": 1464,
    "start_time": "2022-05-20T20:21:28.665Z"
   },
   {
    "duration": 19,
    "start_time": "2022-05-20T20:21:30.131Z"
   },
   {
    "duration": 61,
    "start_time": "2022-05-20T20:21:30.152Z"
   },
   {
    "duration": 26,
    "start_time": "2022-05-20T20:21:30.216Z"
   },
   {
    "duration": 95,
    "start_time": "2022-05-20T20:21:30.244Z"
   },
   {
    "duration": 4,
    "start_time": "2022-05-20T20:21:30.474Z"
   },
   {
    "duration": 11,
    "start_time": "2022-05-20T20:21:31.548Z"
   },
   {
    "duration": 39,
    "start_time": "2022-05-20T20:21:31.741Z"
   },
   {
    "duration": 12,
    "start_time": "2022-05-20T20:21:31.941Z"
   },
   {
    "duration": 45,
    "start_time": "2022-05-20T20:21:32.131Z"
   },
   {
    "duration": 16,
    "start_time": "2022-05-20T20:21:32.336Z"
   },
   {
    "duration": 5,
    "start_time": "2022-05-20T20:21:32.721Z"
   },
   {
    "duration": 51,
    "start_time": "2022-05-20T20:21:32.901Z"
   },
   {
    "duration": 291,
    "start_time": "2022-05-20T20:21:33.102Z"
   },
   {
    "duration": 9,
    "start_time": "2022-05-20T20:21:33.395Z"
   },
   {
    "duration": 695,
    "start_time": "2022-05-20T20:21:33.829Z"
   },
   {
    "duration": 295,
    "start_time": "2022-05-20T20:21:34.526Z"
   },
   {
    "duration": 53,
    "start_time": "2022-05-20T20:21:34.823Z"
   },
   {
    "duration": 158,
    "start_time": "2022-05-20T20:21:35.018Z"
   },
   {
    "duration": 168,
    "start_time": "2022-05-20T20:21:35.531Z"
   },
   {
    "duration": 264,
    "start_time": "2022-05-20T20:21:36.476Z"
   },
   {
    "duration": 170,
    "start_time": "2022-05-20T20:21:37.280Z"
   },
   {
    "duration": 23,
    "start_time": "2022-05-20T20:21:37.687Z"
   },
   {
    "duration": 193,
    "start_time": "2022-05-20T20:21:37.935Z"
   },
   {
    "duration": 200,
    "start_time": "2022-05-20T20:21:39.745Z"
   },
   {
    "duration": 164,
    "start_time": "2022-05-20T20:24:56.516Z"
   },
   {
    "duration": 51,
    "start_time": "2022-05-20T20:25:04.802Z"
   },
   {
    "duration": 215,
    "start_time": "2022-05-20T20:25:19.466Z"
   },
   {
    "duration": 427,
    "start_time": "2022-05-20T20:25:26.876Z"
   },
   {
    "duration": 275,
    "start_time": "2022-05-20T20:25:32.175Z"
   },
   {
    "duration": 305,
    "start_time": "2022-05-20T20:26:21.060Z"
   },
   {
    "duration": 220,
    "start_time": "2022-05-20T20:27:02.095Z"
   },
   {
    "duration": 9,
    "start_time": "2022-05-20T20:28:01.597Z"
   },
   {
    "duration": 21,
    "start_time": "2022-05-20T20:28:24.381Z"
   },
   {
    "duration": 19,
    "start_time": "2022-05-20T20:28:51.110Z"
   },
   {
    "duration": 19,
    "start_time": "2022-05-20T20:28:57.067Z"
   },
   {
    "duration": 14,
    "start_time": "2022-05-20T20:29:13.796Z"
   },
   {
    "duration": 14,
    "start_time": "2022-05-20T20:29:16.183Z"
   },
   {
    "duration": 47,
    "start_time": "2022-05-20T20:32:13.131Z"
   },
   {
    "duration": 32,
    "start_time": "2022-05-20T20:32:47.744Z"
   },
   {
    "duration": 31,
    "start_time": "2022-05-20T20:33:22.553Z"
   },
   {
    "duration": 31,
    "start_time": "2022-05-20T20:34:32.385Z"
   },
   {
    "duration": 267,
    "start_time": "2022-05-20T20:35:48.867Z"
   },
   {
    "duration": 17,
    "start_time": "2022-05-20T20:40:47.243Z"
   },
   {
    "duration": 30,
    "start_time": "2022-05-20T20:41:40.961Z"
   },
   {
    "duration": 17,
    "start_time": "2022-05-20T20:41:41.445Z"
   },
   {
    "duration": 18,
    "start_time": "2022-05-20T20:42:07.027Z"
   },
   {
    "duration": 16,
    "start_time": "2022-05-20T20:42:33.309Z"
   },
   {
    "duration": 32,
    "start_time": "2022-05-20T20:42:43.730Z"
   },
   {
    "duration": 38,
    "start_time": "2022-05-20T20:43:24.333Z"
   },
   {
    "duration": 36,
    "start_time": "2022-05-20T20:43:41.372Z"
   },
   {
    "duration": 12,
    "start_time": "2022-05-20T21:01:40.650Z"
   },
   {
    "duration": 16,
    "start_time": "2022-05-20T21:02:03.186Z"
   },
   {
    "duration": 11,
    "start_time": "2022-05-20T21:04:18.019Z"
   },
   {
    "duration": 162,
    "start_time": "2022-05-20T21:06:35.086Z"
   },
   {
    "duration": 30,
    "start_time": "2022-05-20T21:08:04.737Z"
   },
   {
    "duration": 169,
    "start_time": "2022-05-20T21:08:17.508Z"
   },
   {
    "duration": 344,
    "start_time": "2022-05-20T21:08:31.342Z"
   },
   {
    "duration": 523,
    "start_time": "2022-05-20T21:11:33.034Z"
   },
   {
    "duration": 901,
    "start_time": "2022-05-20T21:13:48.584Z"
   },
   {
    "duration": 664,
    "start_time": "2022-05-20T21:20:06.062Z"
   },
   {
    "duration": 513,
    "start_time": "2022-05-20T21:25:25.889Z"
   },
   {
    "duration": 671,
    "start_time": "2022-05-20T21:26:27.659Z"
   },
   {
    "duration": 332,
    "start_time": "2022-05-20T21:27:32.815Z"
   },
   {
    "duration": 542,
    "start_time": "2022-05-20T21:28:04.082Z"
   },
   {
    "duration": 665,
    "start_time": "2022-05-20T21:28:37.443Z"
   },
   {
    "duration": 30,
    "start_time": "2022-05-20T21:29:40.652Z"
   },
   {
    "duration": 745,
    "start_time": "2022-05-20T21:29:53.619Z"
   },
   {
    "duration": 852,
    "start_time": "2022-05-20T21:30:51.280Z"
   },
   {
    "duration": 986,
    "start_time": "2022-05-20T21:32:16.223Z"
   },
   {
    "duration": 1642,
    "start_time": "2022-05-21T10:48:51.798Z"
   },
   {
    "duration": 78,
    "start_time": "2022-05-21T10:48:53.442Z"
   },
   {
    "duration": 100,
    "start_time": "2022-05-21T10:48:53.522Z"
   },
   {
    "duration": 83,
    "start_time": "2022-05-21T10:48:53.626Z"
   },
   {
    "duration": 220,
    "start_time": "2022-05-21T10:48:53.712Z"
   },
   {
    "duration": 3,
    "start_time": "2022-05-21T10:48:53.934Z"
   },
   {
    "duration": 82,
    "start_time": "2022-05-21T10:48:53.939Z"
   },
   {
    "duration": 101,
    "start_time": "2022-05-21T10:48:54.031Z"
   },
   {
    "duration": 9,
    "start_time": "2022-05-21T10:48:54.134Z"
   },
   {
    "duration": 106,
    "start_time": "2022-05-21T10:48:54.223Z"
   },
   {
    "duration": 77,
    "start_time": "2022-05-21T10:48:54.333Z"
   },
   {
    "duration": 7,
    "start_time": "2022-05-21T10:48:54.412Z"
   },
   {
    "duration": 181,
    "start_time": "2022-05-21T10:48:54.421Z"
   },
   {
    "duration": 640,
    "start_time": "2022-05-21T10:48:54.606Z"
   },
   {
    "duration": 63,
    "start_time": "2022-05-21T10:48:55.248Z"
   },
   {
    "duration": 1607,
    "start_time": "2022-05-21T10:48:55.318Z"
   },
   {
    "duration": 771,
    "start_time": "2022-05-21T10:48:56.927Z"
   },
   {
    "duration": 108,
    "start_time": "2022-05-21T10:48:57.700Z"
   },
   {
    "duration": 321,
    "start_time": "2022-05-21T10:48:57.810Z"
   },
   {
    "duration": 398,
    "start_time": "2022-05-21T10:48:58.134Z"
   },
   {
    "duration": 472,
    "start_time": "2022-05-21T10:48:58.534Z"
   },
   {
    "duration": 545,
    "start_time": "2022-05-21T10:48:59.008Z"
   },
   {
    "duration": 75,
    "start_time": "2022-05-21T10:48:59.555Z"
   },
   {
    "duration": 491,
    "start_time": "2022-05-21T10:48:59.632Z"
   },
   {
    "duration": 478,
    "start_time": "2022-05-21T10:49:00.125Z"
   },
   {
    "duration": 511,
    "start_time": "2022-05-21T10:49:00.605Z"
   },
   {
    "duration": 279,
    "start_time": "2022-05-21T10:49:01.118Z"
   },
   {
    "duration": 0,
    "start_time": "2022-05-21T10:49:01.399Z"
   },
   {
    "duration": 0,
    "start_time": "2022-05-21T10:49:01.400Z"
   },
   {
    "duration": 0,
    "start_time": "2022-05-21T10:49:01.401Z"
   },
   {
    "duration": 4,
    "start_time": "2022-05-22T15:24:37.660Z"
   },
   {
    "duration": 80,
    "start_time": "2022-05-22T15:24:44.628Z"
   },
   {
    "duration": 15,
    "start_time": "2022-05-22T15:24:47.978Z"
   },
   {
    "duration": 40,
    "start_time": "2022-05-22T15:24:48.632Z"
   },
   {
    "duration": 22,
    "start_time": "2022-05-22T15:24:49.256Z"
   },
   {
    "duration": 79,
    "start_time": "2022-05-22T15:24:49.693Z"
   },
   {
    "duration": 75,
    "start_time": "2022-05-22T15:25:01.393Z"
   },
   {
    "duration": 34,
    "start_time": "2022-05-22T15:25:36.366Z"
   },
   {
    "duration": 27,
    "start_time": "2022-05-22T15:30:45.482Z"
   },
   {
    "duration": 17,
    "start_time": "2022-05-22T15:30:46.062Z"
   },
   {
    "duration": 12,
    "start_time": "2022-05-22T15:30:47.950Z"
   },
   {
    "duration": 114,
    "start_time": "2022-05-22T15:36:01.619Z"
   },
   {
    "duration": 29,
    "start_time": "2022-05-22T15:36:17.567Z"
   },
   {
    "duration": 31,
    "start_time": "2022-05-22T15:36:31.325Z"
   },
   {
    "duration": 10,
    "start_time": "2022-05-22T15:44:53.243Z"
   },
   {
    "duration": 14,
    "start_time": "2022-05-22T15:50:09.408Z"
   },
   {
    "duration": 150,
    "start_time": "2022-05-22T15:50:20.065Z"
   },
   {
    "duration": 8,
    "start_time": "2022-05-22T15:50:37.018Z"
   },
   {
    "duration": 21,
    "start_time": "2022-05-22T15:50:40.314Z"
   },
   {
    "duration": 15,
    "start_time": "2022-05-22T15:50:50.583Z"
   },
   {
    "duration": 6,
    "start_time": "2022-05-22T15:50:55.133Z"
   },
   {
    "duration": 14,
    "start_time": "2022-05-22T15:50:56.257Z"
   },
   {
    "duration": 14,
    "start_time": "2022-05-22T15:51:17.900Z"
   },
   {
    "duration": 7,
    "start_time": "2022-05-22T15:51:19.997Z"
   },
   {
    "duration": 14,
    "start_time": "2022-05-22T15:51:22.222Z"
   },
   {
    "duration": 83,
    "start_time": "2022-05-22T15:53:31.489Z"
   },
   {
    "duration": 3,
    "start_time": "2022-05-22T15:53:35.756Z"
   },
   {
    "duration": 38,
    "start_time": "2022-05-22T15:53:51.891Z"
   },
   {
    "duration": 4,
    "start_time": "2022-05-22T15:53:54.984Z"
   },
   {
    "duration": 14,
    "start_time": "2022-05-22T15:56:31.457Z"
   },
   {
    "duration": 19,
    "start_time": "2022-05-22T15:56:44.568Z"
   },
   {
    "duration": 14,
    "start_time": "2022-05-22T15:56:51.548Z"
   },
   {
    "duration": 7,
    "start_time": "2022-05-22T15:59:56.786Z"
   },
   {
    "duration": 8,
    "start_time": "2022-05-22T16:00:03.592Z"
   },
   {
    "duration": 15,
    "start_time": "2022-05-22T16:00:30.344Z"
   },
   {
    "duration": 3,
    "start_time": "2022-05-22T16:01:16.617Z"
   },
   {
    "duration": 71,
    "start_time": "2022-05-22T16:01:17.006Z"
   },
   {
    "duration": 14,
    "start_time": "2022-05-22T16:01:17.574Z"
   },
   {
    "duration": 38,
    "start_time": "2022-05-22T16:01:17.745Z"
   },
   {
    "duration": 22,
    "start_time": "2022-05-22T16:01:17.910Z"
   },
   {
    "duration": 76,
    "start_time": "2022-05-22T16:01:18.086Z"
   },
   {
    "duration": 2,
    "start_time": "2022-05-22T16:01:18.440Z"
   },
   {
    "duration": 9,
    "start_time": "2022-05-22T16:01:19.571Z"
   },
   {
    "duration": 11,
    "start_time": "2022-05-22T16:01:20.299Z"
   },
   {
    "duration": 4,
    "start_time": "2022-05-22T16:01:20.491Z"
   },
   {
    "duration": 49,
    "start_time": "2022-05-22T16:01:22.865Z"
   },
   {
    "duration": 29,
    "start_time": "2022-05-22T16:01:49.444Z"
   },
   {
    "duration": 23,
    "start_time": "2022-05-22T16:01:57.037Z"
   },
   {
    "duration": 32,
    "start_time": "2022-05-22T16:02:00.672Z"
   },
   {
    "duration": 39,
    "start_time": "2022-05-22T16:02:05.469Z"
   },
   {
    "duration": 12,
    "start_time": "2022-05-22T16:02:16.053Z"
   },
   {
    "duration": 11,
    "start_time": "2022-05-22T16:02:48.211Z"
   },
   {
    "duration": 16,
    "start_time": "2022-05-22T16:02:52.976Z"
   },
   {
    "duration": 5,
    "start_time": "2022-05-22T16:02:53.460Z"
   },
   {
    "duration": 13,
    "start_time": "2022-05-22T16:02:54.084Z"
   },
   {
    "duration": 17,
    "start_time": "2022-05-22T16:03:25.556Z"
   },
   {
    "duration": 13,
    "start_time": "2022-05-22T16:03:43.352Z"
   },
   {
    "duration": 20,
    "start_time": "2022-05-22T16:05:51.972Z"
   },
   {
    "duration": 8,
    "start_time": "2022-05-22T16:05:54.503Z"
   },
   {
    "duration": 13,
    "start_time": "2022-05-22T16:06:03.978Z"
   },
   {
    "duration": 16,
    "start_time": "2022-05-22T16:06:28.583Z"
   },
   {
    "duration": 4,
    "start_time": "2022-05-22T16:06:28.944Z"
   },
   {
    "duration": 11,
    "start_time": "2022-05-22T16:06:32.112Z"
   },
   {
    "duration": 4,
    "start_time": "2022-05-22T16:06:32.884Z"
   },
   {
    "duration": 15,
    "start_time": "2022-05-22T16:06:33.914Z"
   },
   {
    "duration": 11,
    "start_time": "2022-05-22T16:06:36.686Z"
   },
   {
    "duration": 9,
    "start_time": "2022-05-22T16:06:40.005Z"
   },
   {
    "duration": 9,
    "start_time": "2022-05-22T16:06:49.985Z"
   },
   {
    "duration": 8,
    "start_time": "2022-05-22T16:06:55.899Z"
   },
   {
    "duration": 4,
    "start_time": "2022-05-22T16:08:48.471Z"
   },
   {
    "duration": 11,
    "start_time": "2022-05-22T16:08:52.810Z"
   },
   {
    "duration": 21,
    "start_time": "2022-05-22T16:09:03.419Z"
   },
   {
    "duration": 28,
    "start_time": "2022-05-22T16:09:03.974Z"
   },
   {
    "duration": 22,
    "start_time": "2022-05-22T16:09:04.472Z"
   },
   {
    "duration": 70,
    "start_time": "2022-05-22T16:09:04.996Z"
   },
   {
    "duration": 2,
    "start_time": "2022-05-22T16:09:05.992Z"
   },
   {
    "duration": 10,
    "start_time": "2022-05-22T16:09:07.976Z"
   },
   {
    "duration": 13,
    "start_time": "2022-05-22T16:09:08.515Z"
   },
   {
    "duration": 14,
    "start_time": "2022-05-22T16:09:09.074Z"
   },
   {
    "duration": 28,
    "start_time": "2022-05-22T16:09:09.640Z"
   },
   {
    "duration": 4,
    "start_time": "2022-05-22T16:09:10.618Z"
   },
   {
    "duration": 13,
    "start_time": "2022-05-22T16:09:13.066Z"
   },
   {
    "duration": 4,
    "start_time": "2022-05-22T16:09:14.175Z"
   },
   {
    "duration": 14,
    "start_time": "2022-05-22T16:09:23.108Z"
   },
   {
    "duration": 3,
    "start_time": "2022-05-22T16:09:23.713Z"
   },
   {
    "duration": 11,
    "start_time": "2022-05-22T16:09:26.155Z"
   },
   {
    "duration": 6,
    "start_time": "2022-05-22T16:09:27.555Z"
   },
   {
    "duration": 19,
    "start_time": "2022-05-22T16:09:49.809Z"
   },
   {
    "duration": 16,
    "start_time": "2022-05-22T16:09:59.015Z"
   },
   {
    "duration": 7,
    "start_time": "2022-05-22T16:10:31.885Z"
   },
   {
    "duration": 14,
    "start_time": "2022-05-22T16:10:33.144Z"
   },
   {
    "duration": 2,
    "start_time": "2022-05-22T16:10:44.752Z"
   },
   {
    "duration": 77,
    "start_time": "2022-05-22T16:10:45.034Z"
   },
   {
    "duration": 15,
    "start_time": "2022-05-22T16:10:45.648Z"
   },
   {
    "duration": 35,
    "start_time": "2022-05-22T16:10:45.836Z"
   },
   {
    "duration": 23,
    "start_time": "2022-05-22T16:10:46.476Z"
   },
   {
    "duration": 75,
    "start_time": "2022-05-22T16:10:47.006Z"
   },
   {
    "duration": 3,
    "start_time": "2022-05-22T16:10:48.030Z"
   },
   {
    "duration": 9,
    "start_time": "2022-05-22T16:10:50.067Z"
   },
   {
    "duration": 12,
    "start_time": "2022-05-22T16:10:50.695Z"
   },
   {
    "duration": 12,
    "start_time": "2022-05-22T16:10:51.287Z"
   },
   {
    "duration": 19,
    "start_time": "2022-05-22T16:10:52.592Z"
   },
   {
    "duration": 3,
    "start_time": "2022-05-22T16:10:53.183Z"
   },
   {
    "duration": 8,
    "start_time": "2022-05-22T16:10:54.889Z"
   },
   {
    "duration": 3,
    "start_time": "2022-05-22T16:10:56.046Z"
   },
   {
    "duration": 12,
    "start_time": "2022-05-22T16:10:56.762Z"
   },
   {
    "duration": 9,
    "start_time": "2022-05-22T16:11:13.054Z"
   },
   {
    "duration": 14,
    "start_time": "2022-05-22T16:11:15.867Z"
   },
   {
    "duration": 6,
    "start_time": "2022-05-22T16:11:30.414Z"
   },
   {
    "duration": 16,
    "start_time": "2022-05-22T16:11:30.943Z"
   },
   {
    "duration": 270,
    "start_time": "2022-05-22T16:12:04.599Z"
   },
   {
    "duration": 256,
    "start_time": "2022-05-22T16:12:10.908Z"
   },
   {
    "duration": 9,
    "start_time": "2022-05-22T16:12:12.492Z"
   },
   {
    "duration": 266,
    "start_time": "2022-05-22T16:14:41.789Z"
   },
   {
    "duration": 790,
    "start_time": "2022-05-22T16:15:51.672Z"
   },
   {
    "duration": 50,
    "start_time": "2022-05-22T16:17:18.083Z"
   },
   {
    "duration": 3,
    "start_time": "2022-05-22T16:17:29.178Z"
   },
   {
    "duration": 77,
    "start_time": "2022-05-22T16:17:29.376Z"
   },
   {
    "duration": 14,
    "start_time": "2022-05-22T16:17:29.902Z"
   },
   {
    "duration": 39,
    "start_time": "2022-05-22T16:17:30.099Z"
   },
   {
    "duration": 26,
    "start_time": "2022-05-22T16:17:30.294Z"
   },
   {
    "duration": 85,
    "start_time": "2022-05-22T16:17:30.543Z"
   },
   {
    "duration": 2,
    "start_time": "2022-05-22T16:17:30.894Z"
   },
   {
    "duration": 10,
    "start_time": "2022-05-22T16:17:31.635Z"
   },
   {
    "duration": 12,
    "start_time": "2022-05-22T16:17:31.848Z"
   },
   {
    "duration": 12,
    "start_time": "2022-05-22T16:17:32.036Z"
   },
   {
    "duration": 19,
    "start_time": "2022-05-22T16:17:32.264Z"
   },
   {
    "duration": 3,
    "start_time": "2022-05-22T16:17:32.471Z"
   },
   {
    "duration": 9,
    "start_time": "2022-05-22T16:17:33.207Z"
   },
   {
    "duration": 5,
    "start_time": "2022-05-22T16:17:33.408Z"
   },
   {
    "duration": 10,
    "start_time": "2022-05-22T16:17:33.647Z"
   },
   {
    "duration": 3,
    "start_time": "2022-05-22T16:17:35.968Z"
   },
   {
    "duration": 4,
    "start_time": "2022-05-22T16:17:36.777Z"
   },
   {
    "duration": 41,
    "start_time": "2022-05-22T16:17:37.014Z"
   },
   {
    "duration": 272,
    "start_time": "2022-05-22T16:17:37.511Z"
   },
   {
    "duration": 10,
    "start_time": "2022-05-22T16:17:38.020Z"
   },
   {
    "duration": 708,
    "start_time": "2022-05-22T16:17:38.487Z"
   },
   {
    "duration": 269,
    "start_time": "2022-05-22T16:17:39.576Z"
   },
   {
    "duration": 33,
    "start_time": "2022-05-22T16:17:41.259Z"
   },
   {
    "duration": 153,
    "start_time": "2022-05-22T16:17:42.093Z"
   },
   {
    "duration": 239,
    "start_time": "2022-05-22T16:17:43.655Z"
   },
   {
    "duration": 176,
    "start_time": "2022-05-22T16:17:43.965Z"
   },
   {
    "duration": 154,
    "start_time": "2022-05-22T16:17:44.163Z"
   },
   {
    "duration": 22,
    "start_time": "2022-05-22T16:17:44.644Z"
   },
   {
    "duration": 177,
    "start_time": "2022-05-22T16:17:46.211Z"
   },
   {
    "duration": 207,
    "start_time": "2022-05-22T16:17:47.352Z"
   },
   {
    "duration": 211,
    "start_time": "2022-05-22T16:17:47.579Z"
   },
   {
    "duration": 39,
    "start_time": "2022-05-22T16:17:48.161Z"
   },
   {
    "duration": 17,
    "start_time": "2022-05-22T16:17:49.067Z"
   },
   {
    "duration": 989,
    "start_time": "2022-05-22T16:17:49.704Z"
   },
   {
    "duration": 404,
    "start_time": "2022-05-22T16:21:35.355Z"
   },
   {
    "duration": 24,
    "start_time": "2022-05-22T19:03:50.741Z"
   },
   {
    "duration": 29,
    "start_time": "2022-05-22T19:03:51.224Z"
   },
   {
    "duration": 30,
    "start_time": "2022-05-22T19:03:51.864Z"
   },
   {
    "duration": 80,
    "start_time": "2022-05-22T19:03:52.393Z"
   },
   {
    "duration": 3,
    "start_time": "2022-05-22T19:03:53.258Z"
   },
   {
    "duration": 9,
    "start_time": "2022-05-22T19:03:54.805Z"
   },
   {
    "duration": 19,
    "start_time": "2022-05-22T19:03:55.369Z"
   },
   {
    "duration": 13,
    "start_time": "2022-05-22T19:03:55.815Z"
   },
   {
    "duration": 21,
    "start_time": "2022-05-22T19:03:56.291Z"
   },
   {
    "duration": 4,
    "start_time": "2022-05-22T19:03:56.743Z"
   },
   {
    "duration": 17,
    "start_time": "2022-05-22T19:03:58.067Z"
   },
   {
    "duration": 4,
    "start_time": "2022-05-22T19:03:59.397Z"
   },
   {
    "duration": 6,
    "start_time": "2022-05-22T19:03:59.796Z"
   },
   {
    "duration": 3,
    "start_time": "2022-05-22T19:05:08.205Z"
   },
   {
    "duration": 39,
    "start_time": "2022-05-22T19:05:08.409Z"
   },
   {
    "duration": 279,
    "start_time": "2022-05-22T19:05:08.613Z"
   },
   {
    "duration": 648,
    "start_time": "2022-05-22T19:24:35.615Z"
   },
   {
    "duration": 150,
    "start_time": "2022-05-22T19:25:07.452Z"
   },
   {
    "duration": 4,
    "start_time": "2022-05-22T19:25:42.850Z"
   },
   {
    "duration": 103,
    "start_time": "2022-05-22T19:25:43.775Z"
   },
   {
    "duration": 33,
    "start_time": "2022-05-22T19:25:45.553Z"
   },
   {
    "duration": 49,
    "start_time": "2022-05-22T19:25:46.219Z"
   },
   {
    "duration": 27,
    "start_time": "2022-05-22T19:25:46.714Z"
   },
   {
    "duration": 108,
    "start_time": "2022-05-22T19:25:47.173Z"
   },
   {
    "duration": 3,
    "start_time": "2022-05-22T19:25:48.031Z"
   },
   {
    "duration": 16,
    "start_time": "2022-05-22T19:25:50.688Z"
   },
   {
    "duration": 15,
    "start_time": "2022-05-22T19:25:51.400Z"
   },
   {
    "duration": 16,
    "start_time": "2022-05-22T19:25:52.003Z"
   },
   {
    "duration": 26,
    "start_time": "2022-05-22T19:25:52.852Z"
   },
   {
    "duration": 6,
    "start_time": "2022-05-22T19:25:53.376Z"
   },
   {
    "duration": 18,
    "start_time": "2022-05-22T19:25:55.172Z"
   },
   {
    "duration": 6,
    "start_time": "2022-05-22T19:25:55.698Z"
   },
   {
    "duration": 10,
    "start_time": "2022-05-22T19:25:56.157Z"
   },
   {
    "duration": 4,
    "start_time": "2022-05-22T19:25:57.425Z"
   },
   {
    "duration": 5,
    "start_time": "2022-05-22T19:25:58.297Z"
   },
   {
    "duration": 70,
    "start_time": "2022-05-22T19:25:58.788Z"
   },
   {
    "duration": 269,
    "start_time": "2022-05-22T19:25:59.498Z"
   },
   {
    "duration": 9,
    "start_time": "2022-05-22T19:26:00.326Z"
   },
   {
    "duration": 701,
    "start_time": "2022-05-22T19:26:01.200Z"
   },
   {
    "duration": 344,
    "start_time": "2022-05-22T19:26:02.255Z"
   },
   {
    "duration": 41,
    "start_time": "2022-05-22T19:26:03.263Z"
   },
   {
    "duration": 154,
    "start_time": "2022-05-22T19:26:03.849Z"
   },
   {
    "duration": 213,
    "start_time": "2022-05-22T19:26:05.206Z"
   },
   {
    "duration": 185,
    "start_time": "2022-05-22T19:26:05.852Z"
   },
   {
    "duration": 240,
    "start_time": "2022-05-22T19:26:06.425Z"
   },
   {
    "duration": 23,
    "start_time": "2022-05-22T19:26:07.051Z"
   },
   {
    "duration": 687,
    "start_time": "2022-05-22T19:26:07.702Z"
   },
   {
    "duration": 172,
    "start_time": "2022-05-22T19:26:09.499Z"
   },
   {
    "duration": 205,
    "start_time": "2022-05-22T19:26:11.001Z"
   },
   {
    "duration": 239,
    "start_time": "2022-05-22T19:26:11.816Z"
   },
   {
    "duration": 54,
    "start_time": "2022-05-22T19:26:15.872Z"
   },
   {
    "duration": 54,
    "start_time": "2022-05-22T19:26:19.247Z"
   },
   {
    "duration": 14,
    "start_time": "2022-05-22T19:28:13.993Z"
   },
   {
    "duration": 4,
    "start_time": "2022-05-22T19:28:14.456Z"
   }
  ],
  "kernelspec": {
   "display_name": "Python 3 (ipykernel)",
   "language": "python",
   "name": "python3"
  },
  "language_info": {
   "codemirror_mode": {
    "name": "ipython",
    "version": 3
   },
   "file_extension": ".py",
   "mimetype": "text/x-python",
   "name": "python",
   "nbconvert_exporter": "python",
   "pygments_lexer": "ipython3",
   "version": "3.9.5"
  },
  "toc": {
   "base_numbering": 1,
   "nav_menu": {},
   "number_sections": true,
   "sideBar": true,
   "skip_h1_title": true,
   "title_cell": "Содержание",
   "title_sidebar": "Contents",
   "toc_cell": true,
   "toc_position": {
    "height": "calc(100% - 180px)",
    "left": "10px",
    "top": "150px",
    "width": "270.396px"
   },
   "toc_section_display": true,
   "toc_window_display": true
  }
 },
 "nbformat": 4,
 "nbformat_minor": 4
}
