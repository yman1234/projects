{
 "cells": [
  {
   "cell_type": "markdown",
   "metadata": {
    "toc": true
   },
   "source": [
    "<h1>Содержание<span class=\"tocSkip\"></span></h1>\n",
    "<div class=\"toc\"><ul class=\"toc-item\"><li><span><a href=\"#Подготовка-данных\" data-toc-modified-id=\"Подготовка-данных-1\"><span class=\"toc-item-num\">1&nbsp;&nbsp;</span>Подготовка данных</a></span></li><li><span><a href=\"#Исследование-задачи\" data-toc-modified-id=\"Исследование-задачи-2\"><span class=\"toc-item-num\">2&nbsp;&nbsp;</span>Исследование задачи</a></span><ul class=\"toc-item\"><li><span><a href=\"#Проверьте-модель-без-учета-балнаса\" data-toc-modified-id=\"Проверьте-модель-без-учета-балнаса-2.1\"><span class=\"toc-item-num\">2.1&nbsp;&nbsp;</span>Проверьте модель без учета балнаса</a></span><ul class=\"toc-item\"><li><span><a href=\"#Обучение-с-помощью-модели-Случайный-лес\" data-toc-modified-id=\"Обучение-с-помощью-модели-Случайный-лес-2.1.1\"><span class=\"toc-item-num\">2.1.1&nbsp;&nbsp;</span>Обучение с помощью модели Случайный лес</a></span></li></ul></li><li><span><a href=\"#Обучение-с-помощью-модели-Логистической-регрессии\" data-toc-modified-id=\"Обучение-с-помощью-модели-Логистической-регрессии-2.2\"><span class=\"toc-item-num\">2.2&nbsp;&nbsp;</span>Обучение с помощью модели Логистической регрессии</a></span></li><li><span><a href=\"#Обучение-с-помощью-модели-Дерево-решения\" data-toc-modified-id=\"Обучение-с-помощью-модели-Дерево-решения-2.3\"><span class=\"toc-item-num\">2.3&nbsp;&nbsp;</span>Обучение с помощью модели Дерево решения</a></span></li></ul></li><li><span><a href=\"#Борьба-с-дисбалансом\" data-toc-modified-id=\"Борьба-с-дисбалансом-3\"><span class=\"toc-item-num\">3&nbsp;&nbsp;</span>Борьба с дисбалансом</a></span><ul class=\"toc-item\"><li><span><a href=\"#Увеличение-выборки\" data-toc-modified-id=\"Увеличение-выборки-3.1\"><span class=\"toc-item-num\">3.1&nbsp;&nbsp;</span>Увеличение выборки</a></span></li><li><span><a href=\"#Уменьшение-выборки\" data-toc-modified-id=\"Уменьшение-выборки-3.2\"><span class=\"toc-item-num\">3.2&nbsp;&nbsp;</span>Уменьшение выборки</a></span></li></ul></li><li><span><a href=\"#Чек-лист-готовности-проекта\" data-toc-modified-id=\"Чек-лист-готовности-проекта-4\"><span class=\"toc-item-num\">4&nbsp;&nbsp;</span>Чек-лист готовности проекта</a></span></li></ul></div>"
   ]
  },
  {
   "cell_type": "markdown",
   "metadata": {},
   "source": [
    "# Отток клиентов"
   ]
  },
  {
   "cell_type": "markdown",
   "metadata": {},
   "source": [
    "Из «Бета-Банка» стали уходить клиенты. Каждый месяц. Немного, но заметно. Банковские маркетологи посчитали: сохранять текущих клиентов дешевле, чем привлекать новых.\n",
    "\n",
    "Нужно спрогнозировать, уйдёт клиент из банка в ближайшее время или нет. Вам предоставлены исторические данные о поведении клиентов и расторжении договоров с банком. \n",
    "\n",
    "Постройте модель с предельно большим значением *F1*-меры. Чтобы сдать проект успешно, нужно довести метрику до 0.59. Проверьте *F1*-меру на тестовой выборке самостоятельно.\n",
    "\n",
    "Дополнительно измеряйте *AUC-ROC*, сравнивайте её значение с *F1*-мерой.\n",
    "\n",
    "Источник данных: [https://www.kaggle.com/barelydedicated/bank-customer-churn-modeling](https://www.kaggle.com/barelydedicated/bank-customer-churn-modeling)"
   ]
  },
  {
   "cell_type": "markdown",
   "metadata": {},
   "source": [
    "## Подготовка данных"
   ]
  },
  {
   "cell_type": "code",
   "execution_count": 120,
   "metadata": {},
   "outputs": [],
   "source": [
    "import pandas as pd # импортируем пандас \n",
    "import matplotlib.pyplot as plt\n",
    "import seaborn as sns\n",
    "import seaborn as sns\n",
    "import numpy as np\n",
    "from sklearn.model_selection import train_test_split\n",
    "from sklearn.tree import DecisionTreeClassifier\n",
    "from sklearn.ensemble import RandomForestClassifier\n",
    "from sklearn.linear_model import LogisticRegression\n",
    "from sklearn.metrics import f1_score\n",
    "from sklearn.utils import shuffle\n",
    "from sklearn.metrics import roc_curve\n",
    "from sklearn.metrics import roc_auc_score\n",
    "from sklearn.metrics import accuracy_score\n",
    "from sklearn.ensemble import RandomForestRegressor\n",
    "from sklearn.metrics import mean_squared_error\n",
    "from sklearn.metrics  import precision_score\n",
    "from sklearn.metrics import recall_score\n",
    "from sklearn.preprocessing import StandardScaler"
   ]
  },
  {
   "cell_type": "code",
   "execution_count": 121,
   "metadata": {},
   "outputs": [],
   "source": [
    "data=pd.read_csv('/datasets/Churn.csv') # читаем файл "
   ]
  },
  {
   "cell_type": "code",
   "execution_count": 122,
   "metadata": {},
   "outputs": [
    {
     "data": {
      "text/plain": [
       "RowNumber            int64\n",
       "CustomerId           int64\n",
       "Surname             object\n",
       "CreditScore          int64\n",
       "Geography           object\n",
       "Gender              object\n",
       "Age                  int64\n",
       "Tenure             float64\n",
       "Balance            float64\n",
       "NumOfProducts        int64\n",
       "HasCrCard            int64\n",
       "IsActiveMember       int64\n",
       "EstimatedSalary    float64\n",
       "Exited               int64\n",
       "dtype: object"
      ]
     },
     "execution_count": 122,
     "metadata": {},
     "output_type": "execute_result"
    }
   ],
   "source": [
    "data.dtypes"
   ]
  },
  {
   "cell_type": "code",
   "execution_count": 123,
   "metadata": {},
   "outputs": [
    {
     "data": {
      "text/plain": [
       "(10000, 14)"
      ]
     },
     "execution_count": 123,
     "metadata": {},
     "output_type": "execute_result"
    }
   ],
   "source": [
    "data.shape"
   ]
  },
  {
   "cell_type": "code",
   "execution_count": 124,
   "metadata": {},
   "outputs": [
    {
     "data": {
      "text/html": [
       "<div>\n",
       "<style scoped>\n",
       "    .dataframe tbody tr th:only-of-type {\n",
       "        vertical-align: middle;\n",
       "    }\n",
       "\n",
       "    .dataframe tbody tr th {\n",
       "        vertical-align: top;\n",
       "    }\n",
       "\n",
       "    .dataframe thead th {\n",
       "        text-align: right;\n",
       "    }\n",
       "</style>\n",
       "<table border=\"1\" class=\"dataframe\">\n",
       "  <thead>\n",
       "    <tr style=\"text-align: right;\">\n",
       "      <th></th>\n",
       "      <th>RowNumber</th>\n",
       "      <th>CustomerId</th>\n",
       "      <th>Surname</th>\n",
       "      <th>CreditScore</th>\n",
       "      <th>Geography</th>\n",
       "      <th>Gender</th>\n",
       "      <th>Age</th>\n",
       "      <th>Tenure</th>\n",
       "      <th>Balance</th>\n",
       "      <th>NumOfProducts</th>\n",
       "      <th>HasCrCard</th>\n",
       "      <th>IsActiveMember</th>\n",
       "      <th>EstimatedSalary</th>\n",
       "      <th>Exited</th>\n",
       "    </tr>\n",
       "  </thead>\n",
       "  <tbody>\n",
       "    <tr>\n",
       "      <th>0</th>\n",
       "      <td>1</td>\n",
       "      <td>15634602</td>\n",
       "      <td>Hargrave</td>\n",
       "      <td>619</td>\n",
       "      <td>France</td>\n",
       "      <td>Female</td>\n",
       "      <td>42</td>\n",
       "      <td>2.0</td>\n",
       "      <td>0.00</td>\n",
       "      <td>1</td>\n",
       "      <td>1</td>\n",
       "      <td>1</td>\n",
       "      <td>101348.88</td>\n",
       "      <td>1</td>\n",
       "    </tr>\n",
       "    <tr>\n",
       "      <th>1</th>\n",
       "      <td>2</td>\n",
       "      <td>15647311</td>\n",
       "      <td>Hill</td>\n",
       "      <td>608</td>\n",
       "      <td>Spain</td>\n",
       "      <td>Female</td>\n",
       "      <td>41</td>\n",
       "      <td>1.0</td>\n",
       "      <td>83807.86</td>\n",
       "      <td>1</td>\n",
       "      <td>0</td>\n",
       "      <td>1</td>\n",
       "      <td>112542.58</td>\n",
       "      <td>0</td>\n",
       "    </tr>\n",
       "    <tr>\n",
       "      <th>2</th>\n",
       "      <td>3</td>\n",
       "      <td>15619304</td>\n",
       "      <td>Onio</td>\n",
       "      <td>502</td>\n",
       "      <td>France</td>\n",
       "      <td>Female</td>\n",
       "      <td>42</td>\n",
       "      <td>8.0</td>\n",
       "      <td>159660.80</td>\n",
       "      <td>3</td>\n",
       "      <td>1</td>\n",
       "      <td>0</td>\n",
       "      <td>113931.57</td>\n",
       "      <td>1</td>\n",
       "    </tr>\n",
       "    <tr>\n",
       "      <th>3</th>\n",
       "      <td>4</td>\n",
       "      <td>15701354</td>\n",
       "      <td>Boni</td>\n",
       "      <td>699</td>\n",
       "      <td>France</td>\n",
       "      <td>Female</td>\n",
       "      <td>39</td>\n",
       "      <td>1.0</td>\n",
       "      <td>0.00</td>\n",
       "      <td>2</td>\n",
       "      <td>0</td>\n",
       "      <td>0</td>\n",
       "      <td>93826.63</td>\n",
       "      <td>0</td>\n",
       "    </tr>\n",
       "    <tr>\n",
       "      <th>4</th>\n",
       "      <td>5</td>\n",
       "      <td>15737888</td>\n",
       "      <td>Mitchell</td>\n",
       "      <td>850</td>\n",
       "      <td>Spain</td>\n",
       "      <td>Female</td>\n",
       "      <td>43</td>\n",
       "      <td>2.0</td>\n",
       "      <td>125510.82</td>\n",
       "      <td>1</td>\n",
       "      <td>1</td>\n",
       "      <td>1</td>\n",
       "      <td>79084.10</td>\n",
       "      <td>0</td>\n",
       "    </tr>\n",
       "    <tr>\n",
       "      <th>5</th>\n",
       "      <td>6</td>\n",
       "      <td>15574012</td>\n",
       "      <td>Chu</td>\n",
       "      <td>645</td>\n",
       "      <td>Spain</td>\n",
       "      <td>Male</td>\n",
       "      <td>44</td>\n",
       "      <td>8.0</td>\n",
       "      <td>113755.78</td>\n",
       "      <td>2</td>\n",
       "      <td>1</td>\n",
       "      <td>0</td>\n",
       "      <td>149756.71</td>\n",
       "      <td>1</td>\n",
       "    </tr>\n",
       "    <tr>\n",
       "      <th>6</th>\n",
       "      <td>7</td>\n",
       "      <td>15592531</td>\n",
       "      <td>Bartlett</td>\n",
       "      <td>822</td>\n",
       "      <td>France</td>\n",
       "      <td>Male</td>\n",
       "      <td>50</td>\n",
       "      <td>7.0</td>\n",
       "      <td>0.00</td>\n",
       "      <td>2</td>\n",
       "      <td>1</td>\n",
       "      <td>1</td>\n",
       "      <td>10062.80</td>\n",
       "      <td>0</td>\n",
       "    </tr>\n",
       "    <tr>\n",
       "      <th>7</th>\n",
       "      <td>8</td>\n",
       "      <td>15656148</td>\n",
       "      <td>Obinna</td>\n",
       "      <td>376</td>\n",
       "      <td>Germany</td>\n",
       "      <td>Female</td>\n",
       "      <td>29</td>\n",
       "      <td>4.0</td>\n",
       "      <td>115046.74</td>\n",
       "      <td>4</td>\n",
       "      <td>1</td>\n",
       "      <td>0</td>\n",
       "      <td>119346.88</td>\n",
       "      <td>1</td>\n",
       "    </tr>\n",
       "    <tr>\n",
       "      <th>8</th>\n",
       "      <td>9</td>\n",
       "      <td>15792365</td>\n",
       "      <td>He</td>\n",
       "      <td>501</td>\n",
       "      <td>France</td>\n",
       "      <td>Male</td>\n",
       "      <td>44</td>\n",
       "      <td>4.0</td>\n",
       "      <td>142051.07</td>\n",
       "      <td>2</td>\n",
       "      <td>0</td>\n",
       "      <td>1</td>\n",
       "      <td>74940.50</td>\n",
       "      <td>0</td>\n",
       "    </tr>\n",
       "    <tr>\n",
       "      <th>9</th>\n",
       "      <td>10</td>\n",
       "      <td>15592389</td>\n",
       "      <td>H?</td>\n",
       "      <td>684</td>\n",
       "      <td>France</td>\n",
       "      <td>Male</td>\n",
       "      <td>27</td>\n",
       "      <td>2.0</td>\n",
       "      <td>134603.88</td>\n",
       "      <td>1</td>\n",
       "      <td>1</td>\n",
       "      <td>1</td>\n",
       "      <td>71725.73</td>\n",
       "      <td>0</td>\n",
       "    </tr>\n",
       "    <tr>\n",
       "      <th>10</th>\n",
       "      <td>11</td>\n",
       "      <td>15767821</td>\n",
       "      <td>Bearce</td>\n",
       "      <td>528</td>\n",
       "      <td>France</td>\n",
       "      <td>Male</td>\n",
       "      <td>31</td>\n",
       "      <td>6.0</td>\n",
       "      <td>102016.72</td>\n",
       "      <td>2</td>\n",
       "      <td>0</td>\n",
       "      <td>0</td>\n",
       "      <td>80181.12</td>\n",
       "      <td>0</td>\n",
       "    </tr>\n",
       "    <tr>\n",
       "      <th>11</th>\n",
       "      <td>12</td>\n",
       "      <td>15737173</td>\n",
       "      <td>Andrews</td>\n",
       "      <td>497</td>\n",
       "      <td>Spain</td>\n",
       "      <td>Male</td>\n",
       "      <td>24</td>\n",
       "      <td>3.0</td>\n",
       "      <td>0.00</td>\n",
       "      <td>2</td>\n",
       "      <td>1</td>\n",
       "      <td>0</td>\n",
       "      <td>76390.01</td>\n",
       "      <td>0</td>\n",
       "    </tr>\n",
       "    <tr>\n",
       "      <th>12</th>\n",
       "      <td>13</td>\n",
       "      <td>15632264</td>\n",
       "      <td>Kay</td>\n",
       "      <td>476</td>\n",
       "      <td>France</td>\n",
       "      <td>Female</td>\n",
       "      <td>34</td>\n",
       "      <td>10.0</td>\n",
       "      <td>0.00</td>\n",
       "      <td>2</td>\n",
       "      <td>1</td>\n",
       "      <td>0</td>\n",
       "      <td>26260.98</td>\n",
       "      <td>0</td>\n",
       "    </tr>\n",
       "    <tr>\n",
       "      <th>13</th>\n",
       "      <td>14</td>\n",
       "      <td>15691483</td>\n",
       "      <td>Chin</td>\n",
       "      <td>549</td>\n",
       "      <td>France</td>\n",
       "      <td>Female</td>\n",
       "      <td>25</td>\n",
       "      <td>5.0</td>\n",
       "      <td>0.00</td>\n",
       "      <td>2</td>\n",
       "      <td>0</td>\n",
       "      <td>0</td>\n",
       "      <td>190857.79</td>\n",
       "      <td>0</td>\n",
       "    </tr>\n",
       "    <tr>\n",
       "      <th>14</th>\n",
       "      <td>15</td>\n",
       "      <td>15600882</td>\n",
       "      <td>Scott</td>\n",
       "      <td>635</td>\n",
       "      <td>Spain</td>\n",
       "      <td>Female</td>\n",
       "      <td>35</td>\n",
       "      <td>7.0</td>\n",
       "      <td>0.00</td>\n",
       "      <td>2</td>\n",
       "      <td>1</td>\n",
       "      <td>1</td>\n",
       "      <td>65951.65</td>\n",
       "      <td>0</td>\n",
       "    </tr>\n",
       "    <tr>\n",
       "      <th>15</th>\n",
       "      <td>16</td>\n",
       "      <td>15643966</td>\n",
       "      <td>Goforth</td>\n",
       "      <td>616</td>\n",
       "      <td>Germany</td>\n",
       "      <td>Male</td>\n",
       "      <td>45</td>\n",
       "      <td>3.0</td>\n",
       "      <td>143129.41</td>\n",
       "      <td>2</td>\n",
       "      <td>0</td>\n",
       "      <td>1</td>\n",
       "      <td>64327.26</td>\n",
       "      <td>0</td>\n",
       "    </tr>\n",
       "    <tr>\n",
       "      <th>16</th>\n",
       "      <td>17</td>\n",
       "      <td>15737452</td>\n",
       "      <td>Romeo</td>\n",
       "      <td>653</td>\n",
       "      <td>Germany</td>\n",
       "      <td>Male</td>\n",
       "      <td>58</td>\n",
       "      <td>1.0</td>\n",
       "      <td>132602.88</td>\n",
       "      <td>1</td>\n",
       "      <td>1</td>\n",
       "      <td>0</td>\n",
       "      <td>5097.67</td>\n",
       "      <td>1</td>\n",
       "    </tr>\n",
       "  </tbody>\n",
       "</table>\n",
       "</div>"
      ],
      "text/plain": [
       "    RowNumber  CustomerId   Surname  CreditScore Geography  Gender  Age  \\\n",
       "0           1    15634602  Hargrave          619    France  Female   42   \n",
       "1           2    15647311      Hill          608     Spain  Female   41   \n",
       "2           3    15619304      Onio          502    France  Female   42   \n",
       "3           4    15701354      Boni          699    France  Female   39   \n",
       "4           5    15737888  Mitchell          850     Spain  Female   43   \n",
       "5           6    15574012       Chu          645     Spain    Male   44   \n",
       "6           7    15592531  Bartlett          822    France    Male   50   \n",
       "7           8    15656148    Obinna          376   Germany  Female   29   \n",
       "8           9    15792365        He          501    France    Male   44   \n",
       "9          10    15592389        H?          684    France    Male   27   \n",
       "10         11    15767821    Bearce          528    France    Male   31   \n",
       "11         12    15737173   Andrews          497     Spain    Male   24   \n",
       "12         13    15632264       Kay          476    France  Female   34   \n",
       "13         14    15691483      Chin          549    France  Female   25   \n",
       "14         15    15600882     Scott          635     Spain  Female   35   \n",
       "15         16    15643966   Goforth          616   Germany    Male   45   \n",
       "16         17    15737452     Romeo          653   Germany    Male   58   \n",
       "\n",
       "    Tenure    Balance  NumOfProducts  HasCrCard  IsActiveMember  \\\n",
       "0      2.0       0.00              1          1               1   \n",
       "1      1.0   83807.86              1          0               1   \n",
       "2      8.0  159660.80              3          1               0   \n",
       "3      1.0       0.00              2          0               0   \n",
       "4      2.0  125510.82              1          1               1   \n",
       "5      8.0  113755.78              2          1               0   \n",
       "6      7.0       0.00              2          1               1   \n",
       "7      4.0  115046.74              4          1               0   \n",
       "8      4.0  142051.07              2          0               1   \n",
       "9      2.0  134603.88              1          1               1   \n",
       "10     6.0  102016.72              2          0               0   \n",
       "11     3.0       0.00              2          1               0   \n",
       "12    10.0       0.00              2          1               0   \n",
       "13     5.0       0.00              2          0               0   \n",
       "14     7.0       0.00              2          1               1   \n",
       "15     3.0  143129.41              2          0               1   \n",
       "16     1.0  132602.88              1          1               0   \n",
       "\n",
       "    EstimatedSalary  Exited  \n",
       "0         101348.88       1  \n",
       "1         112542.58       0  \n",
       "2         113931.57       1  \n",
       "3          93826.63       0  \n",
       "4          79084.10       0  \n",
       "5         149756.71       1  \n",
       "6          10062.80       0  \n",
       "7         119346.88       1  \n",
       "8          74940.50       0  \n",
       "9          71725.73       0  \n",
       "10         80181.12       0  \n",
       "11         76390.01       0  \n",
       "12         26260.98       0  \n",
       "13        190857.79       0  \n",
       "14         65951.65       0  \n",
       "15         64327.26       0  \n",
       "16          5097.67       1  "
      ]
     },
     "execution_count": 124,
     "metadata": {},
     "output_type": "execute_result"
    }
   ],
   "source": [
    "data.head(17)"
   ]
  },
  {
   "cell_type": "code",
   "execution_count": 125,
   "metadata": {},
   "outputs": [
    {
     "data": {
      "text/plain": [
       "RowNumber            0\n",
       "CustomerId           0\n",
       "Surname              0\n",
       "CreditScore          0\n",
       "Geography            0\n",
       "Gender               0\n",
       "Age                  0\n",
       "Tenure             909\n",
       "Balance              0\n",
       "NumOfProducts        0\n",
       "HasCrCard            0\n",
       "IsActiveMember       0\n",
       "EstimatedSalary      0\n",
       "Exited               0\n",
       "dtype: int64"
      ]
     },
     "execution_count": 125,
     "metadata": {},
     "output_type": "execute_result"
    }
   ],
   "source": [
    "data.isna().sum()"
   ]
  },
  {
   "cell_type": "code",
   "execution_count": 126,
   "metadata": {},
   "outputs": [],
   "source": [
    "data.columns = data.columns.str.lower()#методом str.lower() делаем из однострочными "
   ]
  },
  {
   "cell_type": "code",
   "execution_count": 127,
   "metadata": {},
   "outputs": [
    {
     "data": {
      "text/plain": [
       "0"
      ]
     },
     "execution_count": 127,
     "metadata": {},
     "output_type": "execute_result"
    }
   ],
   "source": [
    "data.duplicated().sum() # дубликатов нету"
   ]
  },
  {
   "cell_type": "code",
   "execution_count": 128,
   "metadata": {},
   "outputs": [
    {
     "name": "stdout",
     "output_type": "stream",
     "text": [
      "rownumber            int64\n",
      "customerid           int64\n",
      "surname             object\n",
      "creditscore          int64\n",
      "geography           object\n",
      "gender              object\n",
      "age                  int64\n",
      "tenure             float64\n",
      "balance            float64\n",
      "numofproducts        int64\n",
      "hascrcard            int64\n",
      "isactivemember       int64\n",
      "estimatedsalary    float64\n",
      "exited               int64\n",
      "dtype: object\n"
     ]
    }
   ],
   "source": [
    "print(data.dtypes)"
   ]
  },
  {
   "cell_type": "code",
   "execution_count": 129,
   "metadata": {},
   "outputs": [],
   "source": [
    "data_full = data.copy()"
   ]
  },
  {
   "cell_type": "code",
   "execution_count": 130,
   "metadata": {},
   "outputs": [
    {
     "data": {
      "image/png": "[encoded data removed]",
      "text/plain": [
       "<Figure size 1008x576 with 1 Axes>"
      ]
     },
     "metadata": {
      "needs_background": "light"
     },
     "output_type": "display_data"
    }
   ],
   "source": [
    "import seaborn as sns\n",
    "fig,ax=plt.subplots(figsize=(14,8))\n",
    "sns.histplot(data=data_full,x=\"estimatedsalary\",hue=\"exited\",common_norm=False,multiple=\"fill\",binwidth=5e3)\\\n",
    "   .set(title=\"Вариации уровня оттока по группам по зарплате\")\n",
    "plt.hlines(data_full.exited.mean(),1,200000, colors='r', linestyles='--');"
   ]
  },
  {
   "cell_type": "code",
   "execution_count": 131,
   "metadata": {},
   "outputs": [],
   "source": [
    "data=data.drop('surname',axis=1)\n",
    "data=data.drop('rownumber',axis=1) \n",
    "data=data.drop('estimatedsalary',axis=1)\n",
    "data= data.drop('customerid',axis=1)"
   ]
  },
  {
   "cell_type": "code",
   "execution_count": 132,
   "metadata": {},
   "outputs": [],
   "source": [
    "data_median=data['tenure'].median()\n",
    "data['tenure']=data['tenure'].fillna(data_median) # место пропусков ставим 0 ."
   ]
  },
  {
   "cell_type": "code",
   "execution_count": 133,
   "metadata": {},
   "outputs": [
    {
     "data": {
      "text/plain": [
       "<AxesSubplot:>"
      ]
     },
     "execution_count": 133,
     "metadata": {},
     "output_type": "execute_result"
    },
    {
     "data": {
      "image/png": "[encoded data removed]",
      "text/plain": [
       "<Figure size 720x432 with 1 Axes>"
      ]
     },
     "metadata": {
      "needs_background": "light"
     },
     "output_type": "display_data"
    }
   ],
   "source": [
    "data['exited'].value_counts().plot(kind='bar',grid=True,figsize=(10,6)) # факт ухода клиента"
   ]
  },
  {
   "cell_type": "markdown",
   "metadata": {},
   "source": [
    "соотношение ухода 2 к 8 это обозначает что к данным дисбаланс"
   ]
  },
  {
   "cell_type": "code",
   "execution_count": 134,
   "metadata": {},
   "outputs": [
    {
     "data": {
      "text/plain": [
       "<AxesSubplot:xlabel='age'>"
      ]
     },
     "execution_count": 134,
     "metadata": {},
     "output_type": "execute_result"
    },
    {
     "data": {
      "image/png": "[encoded data removed]",
      "text/plain": [
       "<Figure size 1080x432 with 1 Axes>"
      ]
     },
     "metadata": {
      "needs_background": "light"
     },
     "output_type": "display_data"
    }
   ],
   "source": [
    "data.groupby('age')['exited'].sum().plot(figsize=(15,6),kind='bar') # соотношение ухода и возраста "
   ]
  },
  {
   "cell_type": "markdown",
   "metadata": {},
   "source": [
    "оток людей начинается от 40 до 48 лет "
   ]
  },
  {
   "cell_type": "code",
   "execution_count": 135,
   "metadata": {},
   "outputs": [
    {
     "data": {
      "text/plain": [
       "<AxesSubplot:xlabel='geography'>"
      ]
     },
     "execution_count": 135,
     "metadata": {},
     "output_type": "execute_result"
    },
    {
     "data": {
      "image/png": "[encoded data removed]",
      "text/plain": [
       "<Figure size 1080x432 with 1 Axes>"
      ]
     },
     "metadata": {
      "needs_background": "light"
     },
     "output_type": "display_data"
    }
   ],
   "source": [
    "data.groupby('geography')['exited'].sum().plot(figsize=(15,6),kind='bar') # соотношение ухода страной проживания"
   ]
  },
  {
   "cell_type": "markdown",
   "metadata": {},
   "source": [
    "лидриует Франция и Германие ."
   ]
  },
  {
   "cell_type": "code",
   "execution_count": 136,
   "metadata": {},
   "outputs": [
    {
     "data": {
      "text/plain": [
       "<AxesSubplot:xlabel='exited'>"
      ]
     },
     "execution_count": 136,
     "metadata": {},
     "output_type": "execute_result"
    },
    {
     "data": {
      "image/png": "[encoded data removed]",
      "text/plain": [
       "<Figure size 1080x432 with 1 Axes>"
      ]
     },
     "metadata": {
      "needs_background": "light"
     },
     "output_type": "display_data"
    }
   ],
   "source": [
    "data.groupby('exited')['balance'].median().plot(figsize=(15,6),kind='bar') # Гистограмма  баланса денег у тех кто ушел и тех кто остался"
   ]
  },
  {
   "cell_type": "markdown",
   "metadata": {},
   "source": [
    "На гистограмме видно, что зависимость ,среднее значение баланса немного выше у тех кто ушел"
   ]
  },
  {
   "cell_type": "code",
   "execution_count": 137,
   "metadata": {},
   "outputs": [
    {
     "data": {
      "text/plain": [
       "<AxesSubplot:xlabel='tenure'>"
      ]
     },
     "execution_count": 137,
     "metadata": {},
     "output_type": "execute_result"
    },
    {
     "data": {
      "image/png": "[encoded data removed]",
      "text/plain": [
       "<Figure size 1080x432 with 1 Axes>"
      ]
     },
     "metadata": {
      "needs_background": "light"
     },
     "output_type": "display_data"
    }
   ],
   "source": [
    "data.groupby('tenure')['exited'].sum().plot(figsize=(15,6),kind='bar') #сколько времени продержался человек в банке "
   ]
  },
  {
   "cell_type": "markdown",
   "metadata": {},
   "source": [
    "видем из гистограмы что люди уходили чере 1 год и через 9 лет "
   ]
  },
  {
   "cell_type": "code",
   "execution_count": 138,
   "metadata": {},
   "outputs": [
    {
     "name": "stdout",
     "output_type": "stream",
     "text": [
      "   creditscore  age  tenure    balance  numofproducts  hascrcard  \\\n",
      "0          619   42     2.0       0.00              1          1   \n",
      "1          608   41     1.0   83807.86              1          0   \n",
      "2          502   42     8.0  159660.80              3          1   \n",
      "\n",
      "   isactivemember  exited  geography_germany  geography_spain  gender_male  \n",
      "0               1       1                  0                0            0  \n",
      "1               1       0                  0                1            0  \n",
      "2               0       1                  0                0            0  \n"
     ]
    }
   ],
   "source": [
    "data_ohe = pd.get_dummies(data,drop_first=True) #Примените прямое кодирование ко всему датафрейму\n",
    "data_ohe.columns=data_ohe.columns.str.lower()\n",
    "print(data_ohe.head(3)) \n",
    "# Таблица стало шире .Для некоторый признаоков появились новые столбцы "
   ]
  },
  {
   "cell_type": "code",
   "execution_count": 139,
   "metadata": {},
   "outputs": [
    {
     "name": "stdout",
     "output_type": "stream",
     "text": [
      "0    0.7963\n",
      "1    0.2037\n",
      "Name: exited, dtype: float64\n",
      "0.7963\n"
     ]
    },
    {
     "data": {
      "image/png": "[encoded data removed]",
      "text/plain": [
       "<Figure size 432x288 with 1 Axes>"
      ]
     },
     "metadata": {
      "needs_background": "light"
     },
     "output_type": "display_data"
    }
   ],
   "source": [
    "# Проверка адекватности модели\n",
    "class_frequency=data['exited'].value_counts(normalize=True)\n",
    "print(class_frequency)\n",
    "class_frequency.plot(kind='bar') \n",
    "\n",
    "target = data['exited']\n",
    "features = data.drop('exited', axis=1)\n",
    "\n",
    "target_pred_constant = pd.Series([0] * len(target))\n",
    "\n",
    "print(accuracy_score(target, target_pred_constant)) "
   ]
  },
  {
   "cell_type": "code",
   "execution_count": 140,
   "metadata": {},
   "outputs": [],
   "source": [
    "data_train, data_valid_test=train_test_split(data_ohe,train_size=0.6,test_size=0.2,random_state=1234)\n",
    "data_valid,data_test=train_test_split(data_valid_test,test_size=0.2,random_state=1234)"
   ]
  },
  {
   "cell_type": "code",
   "execution_count": 141,
   "metadata": {},
   "outputs": [],
   "source": [
    "#обучаюший \n",
    "train_features=data_train.drop(['exited'],axis=1)\n",
    "train_target=data_train['exited']\n",
    "#валидационная\n",
    "valid_features=data_valid.drop(['exited'],axis=1) # Признаки \n",
    "valid_target=data_valid['exited'] # целевой признак\n",
    "#тестовая\n",
    "features_test=data_valid.drop(['exited'],axis=1) # Признаки \n",
    "target_test=data_valid['exited'] # целевой признак"
   ]
  },
  {
   "cell_type": "code",
   "execution_count": 142,
   "metadata": {},
   "outputs": [
    {
     "name": "stdout",
     "output_type": "stream",
     "text": [
      "(6000, 10)\n",
      "(1600, 10)\n"
     ]
    }
   ],
   "source": [
    "numeric = ['creditscore', 'age','tenure','balance','numofproducts','hascrcard','isactivemember','geography_germany','geography_spain','gender_male']\n",
    "scaler = StandardScaler()\n",
    "scaler.fit(train_features[numeric])\n",
    "train_features[numeric] = scaler.transform(train_features[numeric])\n",
    "valid_features[numeric]= scaler.transform(valid_features[numeric])\n",
    "print(train_features.shape)\n",
    "print(valid_features.shape)"
   ]
  },
  {
   "cell_type": "markdown",
   "metadata": {},
   "source": [
    "## Борьба с дисбалансом"
   ]
  },
  {
   "cell_type": "markdown",
   "metadata": {},
   "source": [
    "### Проверьте модель без учета балнаса"
   ]
  },
  {
   "cell_type": "markdown",
   "metadata": {},
   "source": [
    "#### Обучение с помощью модели Случайный лес"
   ]
  },
  {
   "cell_type": "code",
   "execution_count": 86,
   "metadata": {},
   "outputs": [
    {
     "ename": "NameError",
     "evalue": "name 'f_one_result' is not defined",
     "output_type": "error",
     "traceback": [
      "\u001b[0;31m---------------------------------------------------------------------------\u001b[0m",
      "\u001b[0;31mNameError\u001b[0m                                 Traceback (most recent call last)",
      "\u001b[0;32m/tmp/ipykernel_31/221975074.py\u001b[0m in \u001b[0;36m<module>\u001b[0;34m\u001b[0m\n\u001b[1;32m     18\u001b[0m \u001b[0mprobabilities_one_model_puk\u001b[0m \u001b[0;34m=\u001b[0m \u001b[0mprobabilities_model_puk\u001b[0m\u001b[0;34m[\u001b[0m\u001b[0;34m:\u001b[0m\u001b[0;34m,\u001b[0m \u001b[0;36m1\u001b[0m\u001b[0;34m]\u001b[0m\u001b[0;34m\u001b[0m\u001b[0;34m\u001b[0m\u001b[0m\n\u001b[1;32m     19\u001b[0m \u001b[0mauc_roc\u001b[0m\u001b[0;34m=\u001b[0m\u001b[0mroc_auc_score\u001b[0m\u001b[0;34m(\u001b[0m\u001b[0mvalid_target\u001b[0m\u001b[0;34m,\u001b[0m\u001b[0mprobabilities_one_model_puk\u001b[0m\u001b[0;34m)\u001b[0m\u001b[0;34m\u001b[0m\u001b[0;34m\u001b[0m\u001b[0m\n\u001b[0;32m---> 20\u001b[0;31m \u001b[0mprint\u001b[0m\u001b[0;34m(\u001b[0m\u001b[0;34m\"F1:\"\u001b[0m\u001b[0;34m,\u001b[0m\u001b[0mf_one_result\u001b[0m\u001b[0;34m,\u001b[0m \u001b[0;34m\"Количество деревьев:\"\u001b[0m\u001b[0;34m,\u001b[0m \u001b[0mbest_est\u001b[0m\u001b[0;34m,\u001b[0m \u001b[0;34m\"Максимальная глубина:\"\u001b[0m\u001b[0;34m,\u001b[0m \u001b[0mdepth\u001b[0m\u001b[0;34m,\u001b[0m\u001b[0;34m'AUC_ROC:'\u001b[0m\u001b[0;34m,\u001b[0m\u001b[0mauc_roc\u001b[0m\u001b[0;34m)\u001b[0m\u001b[0;34m\u001b[0m\u001b[0;34m\u001b[0m\u001b[0m\n\u001b[0m",
      "\u001b[0;31mNameError\u001b[0m: name 'f_one_result' is not defined"
     ]
    }
   ],
   "source": [
    "best_model = None\n",
    "best_result = 10000\n",
    "best_est = 0\n",
    "best_depth = 0\n",
    "for est in range(1,50,12):\n",
    "    for depth in range (1, 11,):\n",
    "        model_puk = RandomForestClassifier( random_state=12345, n_estimators=est ,max_depth=depth)\n",
    "        model_puk.fit(train_features,train_target) # обучите модель на тренировочной выборке\n",
    "        prediction_puk=model_puk.predict(valid_features)\n",
    "        f_one=f1_score(valid_target,prediction_puk)\n",
    "        if result < best_result:\n",
    "            best_model = model_puk\n",
    "            f_one_result = f_one\n",
    "            best_est = est\n",
    "            best_depth = depth\n",
    "            \n",
    "probabilities_model_puk= model_puk.predict_proba(valid_features)\n",
    "probabilities_one_model_puk = probabilities_model_puk[:, 1]\n",
    "auc_roc=roc_auc_score(valid_target,probabilities_one_model_puk)            \n",
    "print(\"F1:\",f_one_result, \"Количество деревьев:\", best_est, \"Максимальная глубина:\", depth,'AUC_ROC:',auc_roc)"
   ]
  },
  {
   "cell_type": "markdown",
   "metadata": {},
   "source": [
    "### Обучение с помощью модели Логистической регрессии"
   ]
  },
  {
   "cell_type": "code",
   "execution_count": 59,
   "metadata": {},
   "outputs": [
    {
     "name": "stdout",
     "output_type": "stream",
     "text": [
      "F1: 0.13471502590673576 auc_roc: 0.6871632949065702\n"
     ]
    }
   ],
   "source": [
    "model_logistic_Reg=LogisticRegression() # присваиваем модели имя\n",
    "model_logistic_Reg.fit(train_features,train_target) # обучаем\n",
    "predict_LogisticReg=model_logistic_Reg.predict(valid_features) # проверяем\n",
    "f_lom=f1_score(predict_LogisticReg,valid_target)\n",
    "probabilities_logistic_Reg = model_logistic_Reg.predict_proba(valid_features)\n",
    "probabilities_one_logistic_Reg = probabilities_logistic_Reg[:, 1]\n",
    "auc_roc_model_logistic_Reg=roc_auc_score(valid_target,probabilities_one_logistic_Reg)\n",
    "print('F1:',f_lom,'auc_roc:',auc_roc_model_logistic_Reg)\n"
   ]
  },
  {
   "cell_type": "code",
   "execution_count": 60,
   "metadata": {},
   "outputs": [
    {
     "data": {
      "text/plain": [
       "tenure              -0.090911\n",
       "isactivemember      -0.071113\n",
       "gender_male         -0.043633\n",
       "numofproducts       -0.037396\n",
       "hascrcard           -0.017121\n",
       "geography_spain     -0.015776\n",
       "creditscore         -0.004454\n",
       "balance              0.000003\n",
       "geography_germany    0.032421\n",
       "age                  0.046168\n",
       "dtype: float64"
      ]
     },
     "execution_count": 60,
     "metadata": {},
     "output_type": "execute_result"
    }
   ],
   "source": [
    "pd.Series(model_logistic_Reg.coef_[0],index=train_features.columns).sort_values()"
   ]
  },
  {
   "cell_type": "markdown",
   "metadata": {},
   "source": [
    "### Обучение с помощью модели Дерево решения"
   ]
  },
  {
   "cell_type": "code",
   "execution_count": 62,
   "metadata": {},
   "outputs": [
    {
     "name": "stdout",
     "output_type": "stream",
     "text": [
      "F1: 0.5422535211267606 Максимальная глубина: 9 auc_roc: 0.7743051631253768\n"
     ]
    }
   ],
   "source": [
    "for depth in range(1,10,1):\n",
    "    model_tree=DecisionTreeClassifier(max_depth=depth,random_state=1234).fit(train_features,train_target)\n",
    "    prediction_tree=model_tree.predict(valid_features)\n",
    "    f_tvo=f1_score(valid_target,prediction_tree) \n",
    "    \n",
    "probabilities_valid_tree = model_tree.predict_proba(valid_features)\n",
    "probabilities_one_valid_tree = probabilities_valid_tree[:, 1]\n",
    "auc_roc_tree=roc_auc_score(valid_target,probabilities_one_valid_tree)\n",
    "\n",
    "print('F1:',f_tvo,\"Максимальная глубина:\",depth, 'auc_roc:',auc_roc_tree)"
   ]
  },
  {
   "cell_type": "markdown",
   "metadata": {},
   "source": [
    "Общий вывод дисбаланного модела:лучшим из Случайного леса получился (\"случайный лес ,F1=0.585 ,auc_roc=0.832\")\n",
    "                               ,а Дерево решения получился(\"max_depth=7, при котором F1=0,576 ,auc_roc=0.776\")\n",
    "                               и Логистической регрессии получился(\"0.134\")"
   ]
  },
  {
   "cell_type": "markdown",
   "metadata": {},
   "source": [
    "### Увеличение выборки"
   ]
  },
  {
   "cell_type": "code",
   "execution_count": 28,
   "metadata": {},
   "outputs": [
    {
     "name": "stdout",
     "output_type": "stream",
     "text": [
      "(9657, 10)\n",
      "(9657,)\n"
     ]
    }
   ],
   "source": [
    "def upsampling (features,target,repeat): #Разделяем выборку по значениям целевой функции\n",
    "    target_one=target[target==1]\n",
    "    target_null=target[target==0]\n",
    "    features_one=features[target==1]#Увеличиваем и соединяем обратно\n",
    "    features_null=features[target==0]\n",
    "    upsampling_features=pd.concat([features_null]+[features_one]*repeat)\n",
    "    upsampling_target=pd.concat([target_null]+[target_one]*repeat)\n",
    "    upsampling_features,upsampling_target=shuffle(upsampling_features,upsampling_target,random_state=1234)# Перемешиваем\n",
    "    return upsampling_features,upsampling_target\n",
    "features_balance_up,target_balance_up = upsampling(train_features,train_target,4)\n",
    "print(features_balance_up.shape)\n",
    "print(target_balance_up.shape)\n"
   ]
  },
  {
   "cell_type": "markdown",
   "metadata": {},
   "source": [
    "<div class=\"alert alert-warning\"><b>Комментарий ревьюера</b>&nbsp;🔧<br>\n",
    "Посмотри, что получилось в итоге, насколько сильно выправился дисбаланс классов целевой переменной.\n",
    "</div>"
   ]
  },
  {
   "cell_type": "markdown",
   "metadata": {},
   "source": [
    "<div class=\"alert alert-warning\"><b>Комментарий ревьюера 2</b>&nbsp;🔧<br>\n",
    "Пожалуйста, выведи баланс классов в <tt>upsampling_target</tt>\n",
    "</div>"
   ]
  },
  {
   "cell_type": "code",
   "execution_count": 29,
   "metadata": {},
   "outputs": [],
   "source": [
    "# +"
   ]
  },
  {
   "cell_type": "markdown",
   "metadata": {},
   "source": [
    "<div class=\"alert alert-success\"><b>Комментарий ревьюера 3&nbsp;<big>✔️</big></b></div>"
   ]
  },
  {
   "cell_type": "markdown",
   "metadata": {},
   "source": [
    "Логистической регрессии"
   ]
  },
  {
   "cell_type": "code",
   "execution_count": 30,
   "metadata": {},
   "outputs": [
    {
     "name": "stdout",
     "output_type": "stream",
     "text": [
      "F1: 0.466\n",
      "auc_roc: 0.7226868595539481\n"
     ]
    }
   ],
   "source": [
    "model_upsampling=LogisticRegression(class_weight='balanced',random_state=1234,solver='liblinear') # присваиваем модели имя\n",
    "model_upsampling.fit(features_balance_up,target_balance_up) # обучаем\n",
    "predicted_valid=model_upsampling.predict( valid_features)\n",
    "print(\"F1:\", f1_score(valid_target, predicted_valid))\n",
    "\n",
    "probabilities_valid_upsampling = model_upsampling.predict_proba(valid_features)\n",
    "probabilities_one_valid_upsampling = probabilities_valid_upsampling[:, 1]\n",
    "\n",
    "auc_roc_upsampling=roc_auc_score(valid_target,probabilities_one_valid_upsampling)\n",
    "\n",
    "print('auc_roc:',auc_roc_upsampling)"
   ]
  },
  {
   "cell_type": "markdown",
   "metadata": {},
   "source": [
    "Вывод:Логистической регрессии \"F1: 0.466,auc_roc: 0.722\""
   ]
  },
  {
   "cell_type": "markdown",
   "metadata": {},
   "source": [
    "<div class=\"alert alert-warning\"><b>Комментарий ревьюера</b>&nbsp;🔧<br>\n",
    "Попробуй, пожалуйста, также модель случайного леса.\n",
    "</div>"
   ]
  },
  {
   "cell_type": "markdown",
   "metadata": {},
   "source": [
    "Случайный лес"
   ]
  },
  {
   "cell_type": "code",
   "execution_count": 31,
   "metadata": {},
   "outputs": [
    {
     "name": "stdout",
     "output_type": "stream",
     "text": [
      "F1: 0.5880503144654088\n",
      "auc_roc: 0.7226868595539481\n"
     ]
    }
   ],
   "source": [
    "model_forest_new=RandomForestClassifier(class_weight='balanced',random_state=1234) # присваиваем модели имя\n",
    "model_forest_new.fit(features_balance_up,target_balance_up) # обучаем\n",
    "prediction_forest_new=model_forest_new.predict(valid_features)\n",
    "print(\"F1:\",f1_score(valid_target,prediction_forest_new))\n",
    "\n",
    "probabilities_forest_new = model_upsampling.predict_proba(valid_features)\n",
    "probabilities_one_valid_forest_new = probabilities_forest_new[:, 1]\n",
    "\n",
    "auc_roc_forest_newc=roc_auc_score(valid_target,probabilities_one_valid_forest_new)\n",
    "\n",
    "print('auc_roc:',auc_roc_forest_newc)"
   ]
  },
  {
   "cell_type": "markdown",
   "metadata": {},
   "source": [
    "<div class=\"alert alert-danger\"><b>Комментарий ревьюера 5</b>&nbsp;🔧<br>\n",
    "Тут нужен перебор гиперпараметров тоже, как ниже. Иначе мы на 0.59 так и не выйдем.\n",
    "</div>"
   ]
  },
  {
   "cell_type": "markdown",
   "metadata": {},
   "source": [
    "Вывод:Случайный лес \"F1: 0.588,auc_roc: 0.722\""
   ]
  },
  {
   "cell_type": "markdown",
   "metadata": {},
   "source": [
    "Дерево решения"
   ]
  },
  {
   "cell_type": "code",
   "execution_count": 32,
   "metadata": {},
   "outputs": [
    {
     "name": "stdout",
     "output_type": "stream",
     "text": [
      "F1: 0.5642201834862385\n",
      "auc_roc: 0.7226868595539481\n"
     ]
    }
   ],
   "source": [
    "model_tree_new=DecisionTreeClassifier(class_weight='balanced',random_state=1234,max_depth=5)\n",
    "model_tree_new.fit(features_balance_up,target_balance_up)\n",
    "prediction_tree_new=model_tree_new.predict(valid_features)\n",
    "print(\"F1:\",f1_score(valid_target,prediction_tree_new))\n",
    "\n",
    "probabilities_tree_new = model_upsampling.predict_proba(valid_features)\n",
    "probabilities_one_valid_tree_new = probabilities_tree_new[:, 1]\n",
    "\n",
    "auc_roc_tree_new=roc_auc_score(valid_target,probabilities_one_valid_tree_new)\n",
    "\n",
    "print('auc_roc:',auc_roc_tree_new)"
   ]
  },
  {
   "cell_type": "markdown",
   "metadata": {},
   "source": [
    "Вывод:качество модели \"Дерево решения\" ,\"F1=0.564,auc_roc: 0.722\""
   ]
  },
  {
   "cell_type": "markdown",
   "metadata": {},
   "source": [
    "<div class=\"alert alert-success\"><b>Комментарий ревьюера 2&nbsp;<big>👍</big></b> супер</div>"
   ]
  },
  {
   "cell_type": "markdown",
   "metadata": {},
   "source": [
    "### Уменьшение выборки"
   ]
  },
  {
   "cell_type": "code",
   "execution_count": 33,
   "metadata": {},
   "outputs": [
    {
     "name": "stdout",
     "output_type": "stream",
     "text": [
      "(2653, 10)\n",
      "(2653,)\n"
     ]
    }
   ],
   "source": [
    "def downsampling(features,target,fraction):\n",
    "    features_null=features[target==0]\n",
    "    features_one=features[target==1]\n",
    "    target_null=target[target==0]\n",
    "    target_one=target[target==1]\n",
    "    downsampling_features=pd.concat([features_null.sample(frac=fraction,random_state=12345)]+[features_one])\n",
    "    downsampling_target=pd.concat([target_null.sample(frac=fraction,random_state=12345)]+[target_one])\n",
    "    downsampling_features,downsampling_target=shuffle(downsampling_features,downsampling_target,random_state=12345)\n",
    "    return downsampling_features,downsampling_target\n",
    "features_balance_up,target_balance_up =downsampling(train_features,train_target,0.3) #fraction, равным 0.3 \n",
    "print(features_balance_up.shape)\n",
    "print(target_balance_up.shape)"
   ]
  },
  {
   "cell_type": "code",
   "execution_count": 34,
   "metadata": {},
   "outputs": [
    {
     "data": {
      "text/plain": [
       "0    0.54052\n",
       "1    0.45948\n",
       "Name: exited, dtype: float64"
      ]
     },
     "execution_count": 34,
     "metadata": {},
     "output_type": "execute_result"
    }
   ],
   "source": [
    "target_balance_up.value_counts(normalize = 1)"
   ]
  },
  {
   "cell_type": "markdown",
   "metadata": {},
   "source": [
    "<div class=\"alert alert-warning\"><b>Комментарий ревьюера 2</b>&nbsp;🔧<br>\n",
    "Посмотри тут, сколько представителей каждого класса в <tt>target_downsampled</tt> получилось.\n",
    "</div>"
   ]
  },
  {
   "cell_type": "markdown",
   "metadata": {},
   "source": [
    "<div class=\"alert alert-warning\"><b>Комментарий ревьюера 3</b>&nbsp;🔧<br>\n",
    "Доведи соотношение классов до 1:1\n",
    "    \n",
    "У тебя в функции поставлено 0.4, это больше, чем нужно. Исправь функцию, чтобы она использовала параметр fraction, а затем подбери его значение.\n",
    "</div>"
   ]
  },
  {
   "cell_type": "markdown",
   "metadata": {},
   "source": [
    "Логистической регрессии"
   ]
  },
  {
   "cell_type": "code",
   "execution_count": 35,
   "metadata": {},
   "outputs": [
    {
     "name": "stdout",
     "output_type": "stream",
     "text": [
      "F1: 0.4606181455633101\n",
      "auc_roc: 0.7114766990657022\n"
     ]
    }
   ],
   "source": [
    "model_Ln=LogisticRegression(class_weight='balanced',random_state=1234,solver='liblinear') # присваиваем модели имя\n",
    "model_Ln.fit(features_balance_up,target_balance_up) # обучаем\n",
    "predicted_valid=model_Ln.predict( valid_features)\n",
    "\n",
    "print(\"F1:\", f1_score(valid_target, predicted_valid))\n",
    "probabilities_valid_Ln = model_Ln.predict_proba(valid_features)\n",
    "probabilities_one_valid_Ln = probabilities_valid_Ln[:, 1]\n",
    "\n",
    "auc_roc_Ln=roc_auc_score(valid_target,probabilities_one_valid_Ln)\n",
    "\n",
    "print('auc_roc:',auc_roc_Ln)"
   ]
  },
  {
   "cell_type": "markdown",
   "metadata": {},
   "source": [
    "<div class=\"alert alert-danger\"><b>Комментарий ревьюера 5</b>&nbsp;🔧<br>\n",
    "Ты тут изучаешь уменьшение выборки, а параметр у тебя называется <tt>features_balance_up</tt>. Потом если тебе для теста надо будет модель обучать, ты можешь перепутать оверсемплированные и сабсемплированные данные.\n",
    "</div>"
   ]
  },
  {
   "cell_type": "markdown",
   "metadata": {},
   "source": [
    "Вывод:Логистической регрессии \"F1: 0.458,auc_roc: 0.712\""
   ]
  },
  {
   "cell_type": "markdown",
   "metadata": {},
   "source": [
    "<div class=\"alert alert-warning\"><b>Комментарий ревьюера</b>&nbsp;🔧<br>\n",
    "Попробуй, пожалуйста, также модель случайного леса.\n",
    "</div>"
   ]
  },
  {
   "cell_type": "markdown",
   "metadata": {},
   "source": [
    "Случайный лес"
   ]
  },
  {
   "cell_type": "code",
   "execution_count": 36,
   "metadata": {},
   "outputs": [
    {
     "name": "stdout",
     "output_type": "stream",
     "text": [
      "F1: 0.5880503144654088\n",
      "auc_roc: 0.7226868595539481\n"
     ]
    }
   ],
   "source": [
    "model_forest_downsampling=RandomForestClassifier(class_weight='balanced',random_state=1234) # присваиваем модели имя\n",
    "model_forest_downsampling.fit(features_balance_up,target_balance_up) # обучаем\n",
    "prediction_forest_downsampling=model_forest_new.predict(valid_features)\n",
    "print(\"F1:\",f1_score(valid_target,prediction_forest_downsampling))\n",
    "\n",
    "probabilities_forest_downsampling = model_upsampling.predict_proba(valid_features)\n",
    "probabilities_one_valid_forest_downsampling = probabilities_forest_downsampling[:, 1]\n",
    "\n",
    "auc_roc_downsampling=roc_auc_score(valid_target,probabilities_one_valid_forest_downsampling)\n",
    "\n",
    "print('auc_roc:',auc_roc_downsampling)"
   ]
  },
  {
   "cell_type": "markdown",
   "metadata": {},
   "source": [
    "Вывод:Случайный лес \"F1: 0.588,auc_roc: 0.722\""
   ]
  },
  {
   "cell_type": "code",
   "execution_count": 37,
   "metadata": {},
   "outputs": [
    {
     "name": "stdout",
     "output_type": "stream",
     "text": [
      "F1: 0.5494276795005203\n",
      "auc_roc: 0.8358303665611815\n"
     ]
    }
   ],
   "source": [
    "model_tree_downsampling=DecisionTreeClassifier(class_weight='balanced',random_state=1234,max_depth=5)\n",
    "model_tree_downsampling.fit(features_balance_up,target_balance_up)\n",
    "prediction_tree_downsampling=model_tree_downsampling.predict(valid_features)\n",
    "print(\"F1:\",f1_score(valid_target,prediction_tree_downsampling))\n",
    "\n",
    "probabilities_tree_downsampling =model_tree_downsampling.predict_proba(valid_features)\n",
    "probabilities_one_valid_tree_downsampling = probabilities_tree_downsampling[:, 1]\n",
    "\n",
    "auc_roc_tree_downsampling=roc_auc_score(valid_target,probabilities_one_valid_tree_downsampling)\n",
    "\n",
    "print('auc_roc:',auc_roc_tree_downsampling)"
   ]
  },
  {
   "cell_type": "markdown",
   "metadata": {},
   "source": [
    "<div class=\"alert alert-warning\"><b>Комментарий ревьюера</b>&nbsp;🔧<br>\n",
    "Какая у нас мера AUC-ROC тут? Укажи, пожалуйста, по меньшей мере для лучшей модели.\n",
    "</div>"
   ]
  },
  {
   "cell_type": "markdown",
   "metadata": {},
   "source": [
    "# 4. Тестирование модели"
   ]
  },
  {
   "cell_type": "code",
   "execution_count": 38,
   "metadata": {},
   "outputs": [
    {
     "name": "stdout",
     "output_type": "stream",
     "text": [
      "F1: 0.5901234567901233 Количество деревьев: 50 Максимальная глубина: 12\n"
     ]
    }
   ],
   "source": [
    "test_estim=0\n",
    "test_depth=0\n",
    "test_model= None\n",
    "test_rez=1000\n",
    "for estim in range(1,51,1):\n",
    "    for depth in range(1,21,11):\n",
    "        model_forest=RandomForestClassifier(class_weight='balanced',max_depth=11,n_estimators=estim,random_state=1234).fit(features_balance_up,target_balance_up)\n",
    "        prediction=model_forest.predict(features_test)\n",
    "        rez=f1_score(target_test,prediction)\n",
    "        if rez < best_result:\n",
    "            test_model = model_forest\n",
    "            test_rez = rez\n",
    "            test_estim = estim\n",
    "            test_depth = depth\n",
    "print('F1:',test_rez, \"Количество деревьев:\", test_estim, \"Максимальная глубина:\", test_depth)"
   ]
  },
  {
   "cell_type": "code",
   "execution_count": 39,
   "metadata": {},
   "outputs": [
    {
     "name": "stdout",
     "output_type": "stream",
     "text": [
      "F1: 0.49944506104328523 Максимальная глубина: 41\n"
     ]
    }
   ],
   "source": [
    "for depth in range(1,50,10):\n",
    "    model_tree=DecisionTreeClassifier(class_weight='balanced',max_depth=depth,random_state=12345).fit(features_balance_up,target_balance_up)\n",
    "  \n",
    "    prediction_on=model_tree.predict(features_test)\n",
    "    f_ty=f1_score(target_test,prediction_on)\n",
    "print('F1:',f_ty,\"Максимальная глубина:\",depth )   "
   ]
  },
  {
   "cell_type": "markdown",
   "metadata": {},
   "source": [
    "<div class=\"alert alert-danger\"><b>Комментарий ревьюера 5</b>&nbsp;🔧<br>\n",
    "Нельзя подбирать гиперпараметры на тестовых данных!\n",
    "    \n",
    "Ты выше подобрал на валидационных данных параметры для модели случайного леса без учёта дисбаланса:\n",
    "    \n",
    "    Количество деревьев: 49 Максимальная глубина: 10\n",
    "\n",
    "Я её ниже проверил на тестовых.\n",
    "    \n",
    "Пожалуйста, для всех трёх моделей составь табличку с их F1 мерой на каждом этапе - без борьбы с дисбалансом и с каждым видом борьбы с дисбалансом, выбери из них одну лучшую (если ты подберёшь гиперпараметры случайного леса, то это, скорее всего, окажется он) и проверь именно её на тестовых данных. Если у каких-то моделей на валидационных данных также будут очень хорошие результаты, то их тоже можно один раз проверить на тестовых. Тестовые данные — только для финального теста!\n",
    "</div>"
   ]
  },
  {
   "cell_type": "code",
   "execution_count": 40,
   "metadata": {},
   "outputs": [
    {
     "data": {
      "text/plain": [
       "0.582089552238806"
      ]
     },
     "execution_count": 40,
     "metadata": {},
     "output_type": "execute_result"
    }
   ],
   "source": [
    "### КОД РЕВЬЮЕРА 5\n",
    "model_rfc_pure = RandomForestClassifier(random_state=12345, n_estimators=49 ,max_depth=10)\\\n",
    "                        .fit(train_features,train_target)\n",
    "y_hat_test = model_rfc_pure.predict(features_test)\n",
    "f1_score(target_test,y_hat_test)"
   ]
  },
  {
   "cell_type": "markdown",
   "metadata": {},
   "source": [
    "<div class=\"alert alert-danger\"><b>Комментарий ревьюера 5</b>&nbsp;🔧<br>\n",
    "Без стратегий борьбы с дисбалансом мы до 0.59 желаемых не дотягиваем, а чтобы сдать эту работу, нужно дотянуть.\n",
    "</div>"
   ]
  },
  {
   "cell_type": "code",
   "execution_count": 41,
   "metadata": {},
   "outputs": [
    {
     "name": "stdout",
     "output_type": "stream",
     "text": [
      "F1: 0.4606181455633101\n"
     ]
    }
   ],
   "source": [
    "model_logistic=LogisticRegression(class_weight='balanced',solver='liblinear').fit(features_balance_up,target_balance_up)\n",
    "prediction_ome=model_logistic.predict(features_test)\n",
    "print('F1:',f1_score(target_test,prediction_ome))\n"
   ]
  },
  {
   "cell_type": "markdown",
   "metadata": {},
   "source": [
    "<div class=\"alert alert-danger\"><b>Комментарий ревьюера</b>&nbsp;🔧<br>\n",
    "Проведи тестирование лучшей модели. Метрика F1 должна быть 0.59 или выше.\n",
    "</div>"
   ]
  },
  {
   "cell_type": "markdown",
   "metadata": {},
   "source": [
    "<div class=\"alert alert-warning\"><b>Комментарий ревьюера 3</b>&nbsp;🚫<br>\n",
    "См. ниже в разделе.\n",
    "</div>"
   ]
  },
  {
   "cell_type": "markdown",
   "metadata": {},
   "source": [
    "<div class=\"alert alert-warning\"><b>Комментарий ревьюера 4</b>&nbsp;🚫<br>\n",
    "Ты считаешь метрики для валидационных данных, посчитай их для тестовых.\n",
    "</div>"
   ]
  },
  {
   "cell_type": "markdown",
   "metadata": {},
   "source": [
    "# Дерево предсказаний"
   ]
  },
  {
   "cell_type": "markdown",
   "metadata": {},
   "source": [
    "<div class=\"alert alert-warning\"><b>Комментарий ревьюера 3</b>&nbsp;🚫<br>\n",
    "Обучай на тренировочных данных. После подбора гиперпараметров можно объединить тренировочные и валидационные данные и обучить на их совокупности. Но нельзя обучать на данных для тестирования.\n",
    "</div>"
   ]
  },
  {
   "cell_type": "markdown",
   "metadata": {},
   "source": [
    "<div class=\"alert alert-warning\"><b>Комментарий ревьюера 2</b>&nbsp;🔧<br>\n",
    "Посчитай метрику F1, пожалуйста.\n",
    "</div>"
   ]
  },
  {
   "cell_type": "code",
   "execution_count": 42,
   "metadata": {},
   "outputs": [],
   "source": [
    "# probabilities_tree=model_tree.predict_proba(valid_features)\n",
    "# probabilities_one_valid_tree=probabilities_tree[:,1]\n",
    "# fpr_tree,tpr_tree,thresholds=roc_curve(valid_target,probabilities_one_valid_tree)\n",
    "# auc_roc_tree=roc_auc_score(valid_target,probabilities_one_valid_tree)\n",
    "# auc_roc_tree"
   ]
  },
  {
   "cell_type": "markdown",
   "metadata": {},
   "source": [
    "<div class=\"alert alert-success\"><b>Комментарий ревьюера</b>&nbsp;✔️<br>\n",
    "Считаешь ты правильно. \n",
    "</div><div class=\"alert alert-warning\"><b>Комментарий ревьюера</b>&nbsp;🔧<br>\n",
    "Неправильно то, что ты, видимо, менял код и записывал результаты ниже. Лучше сделай цикл, который проходится по всем моделям и распечатывает результаты.\n",
    "</div>"
   ]
  },
  {
   "cell_type": "markdown",
   "metadata": {},
   "source": [
    "вывод:Без учета дисбаланса;качество модели \"случайный лес ,F1=0.585 ,auc_roc=0.835:\n",
    "    "
   ]
  },
  {
   "cell_type": "markdown",
   "metadata": {},
   "source": [
    "<div class=\"alert alert-warning\"><b>Комментарий ревьюера</b>&nbsp;👍<br>\n",
    "Ты умеешь делать датасеты из словарей. Попробуй формировать эти словари в циклах выше, тогда получатся гораздо более интересные графики. \n",
    "    \n",
    "Прописывание конкретных значений — «хардкодинг» — мешает повторному использованию кода, в таком коде становится очень много мест, которые надо исправлять, легко что-то забыть и это приведёт к ошибкам в результатах работы кода.\n",
    "</div>"
   ]
  },
  {
   "cell_type": "markdown",
   "metadata": {},
   "source": [
    "<div class=\"alert alert-warning\"><b>Комментарий ревьюера</b>&nbsp;🔧<br>\n",
    "Мы должны оценивать наши модели по метрике F1, а не по R2 (это, видимо, ошибка в подписях), но попутно должны рассчитывать AUC-ROC и сравнивать по ней, написать выводы, как они с мерой F1 меняются - сонаправленно или нет, лучшая модель по одной из мер является ли лучшей по другой.\n",
    "</div>"
   ]
  },
  {
   "cell_type": "markdown",
   "metadata": {},
   "source": [
    "<div class=\"alert alert-warning\"><b>Комментарий ревьюера 2</b>&nbsp;🔧<br>\n",
    "Пожалуйста, сравни метрики F1 и AUC ROC!\n",
    "</div>\n"
   ]
  },
  {
   "cell_type": "markdown",
   "metadata": {},
   "source": [
    "## Чек-лист готовности проекта"
   ]
  },
  {
   "cell_type": "markdown",
   "metadata": {},
   "source": [
    "Поставьте 'x' в выполненных пунктах. Далее нажмите Shift+Enter."
   ]
  },
  {
   "cell_type": "markdown",
   "metadata": {},
   "source": [
    "- [x]  Jupyter Notebook открыт\n",
    "- [ ]  Весь код выполняется без ошибок\n",
    "- [ ]  Ячейки с кодом расположены в порядке исполнения\n",
    "- [ ]  Выполнен шаг 1: данные подготовлены\n",
    "- [ ]  Выполнен шаг 2: задача исследована\n",
    "    - [ ]  Исследован баланс классов\n",
    "    - [ ]  Изучены модели без учёта дисбаланса\n",
    "    - [ ]  Написаны выводы по результатам исследования\n",
    "- [ ]  Выполнен шаг 3: учтён дисбаланс\n",
    "    - [ ]  Применено несколько способов борьбы с дисбалансом\n",
    "    - [ ]  Написаны выводы по результатам исследования\n",
    "- [ ]  Выполнен шаг 4: проведено тестирование\n",
    "- [ ]  Удалось достичь *F1*-меры не менее 0.59\n",
    "- [ ]  Исследована метрика *AUC-ROC*"
   ]
  },
  {
   "cell_type": "markdown",
   "metadata": {},
   "source": [
    "<div class=\"alert alert-warning\"><b>Комментарий ревьюера</b>&nbsp;📌<br>Чек-лист доделок:\n",
    "<small>\n",
    "* <b>не отбрасывать значимые фичи</b>, <s>отбросить незначимые</s>\n",
    "* обосновать импутацию данных\n",
    "* <s>разделить выборку так, чтобы было на чём тестировать</s>\n",
    "* <s>задать структуру проекту — если какая-то модель используется, то использовать её на всех этапах (на этапе оверсэмплинга используется лишь одна модель)</s>\n",
    "* <s>подбирать гиперпараметры таким способом, чтобы их можно было проверить</s>\n",
    "* <s>подсчитывать вместе с F1 мерой меру AUC ROC</s>\n",
    "* <s><b>каждый раз после оверсемплинга и андерсэмплинга смотреть, какой получается баланс классов</b></s>\n",
    "* написать промежуточные выводы после валидации (есть очень хороший график по мере R2, стоит добавить ещё AUC ROC)\n",
    "* протестировать лучшую на валидационных данных модель и получить <b>меру F1</b> больше или равной целевой\n",
    "</div>"
   ]
  },
  {
   "cell_type": "markdown",
   "metadata": {},
   "source": [
    "<div class=\"alert alert-warning\"><b>Комментарий ревьюера 2</b>&nbsp;📌<br>\n",
    "Выше зачеркнул сделанное, выделил жирным важное. Также нужно:\n",
    "    \n",
    "* одновременно подбирать и <tt>max_depth</tt> и <tt>n_estimators</tt>\n",
    "* сравнить F1 и AUC ROC\n",
    "</div>"
   ]
  },
  {
   "cell_type": "markdown",
   "metadata": {},
   "source": [
    "<div class=\"alert alert-warning\"><b>Комментарий ревьюера 3</b>&nbsp;📌<br>Чек-лист важных доделок:\n",
    "    \n",
    "* одновременно подбирать и <tt>max_depth</tt> и <tt>n_estimators</tt>\n",
    "* <s>при уменьшении выборки доведи соотношение классов до 1:1</s>\n",
    "* самое важное - перед тестированием обучай на тренировочных, а не тестовых данных\n",
    "</div>"
   ]
  },
  {
   "cell_type": "markdown",
   "metadata": {},
   "source": [
    "<div class=\"alert alert-warning\"><b>Комментарий ревьюера 5</b>&nbsp;📌<br>\n",
    "Тренируй на тренировочных данных, гиперпараметры подбирай на валидационных, тестируй на тестовых и у тебя всё получится!\n",
    "</div>"
   ]
  }
 ],
 "metadata": {
  "ExecuteTimeLog": [
   {
    "duration": 442,
    "start_time": "2022-07-16T15:08:08.145Z"
   },
   {
    "duration": 27,
    "start_time": "2022-07-16T15:08:24.206Z"
   },
   {
    "duration": 195,
    "start_time": "2022-07-16T15:08:34.282Z"
   },
   {
    "duration": 26,
    "start_time": "2022-07-16T15:08:42.479Z"
   },
   {
    "duration": 10,
    "start_time": "2022-07-16T15:22:22.325Z"
   },
   {
    "duration": 13,
    "start_time": "2022-07-16T15:22:30.154Z"
   },
   {
    "duration": 25,
    "start_time": "2022-07-16T16:01:42.467Z"
   },
   {
    "duration": 8,
    "start_time": "2022-07-16T16:03:51.272Z"
   },
   {
    "duration": 9,
    "start_time": "2022-07-16T16:04:19.078Z"
   },
   {
    "duration": 7,
    "start_time": "2022-07-16T16:10:06.683Z"
   },
   {
    "duration": 7,
    "start_time": "2022-07-16T16:11:41.774Z"
   },
   {
    "duration": 4,
    "start_time": "2022-07-16T16:12:14.951Z"
   },
   {
    "duration": 5,
    "start_time": "2022-07-16T16:12:25.038Z"
   },
   {
    "duration": 4,
    "start_time": "2022-07-16T16:12:32.158Z"
   },
   {
    "duration": 4,
    "start_time": "2022-07-16T16:12:32.661Z"
   },
   {
    "duration": 4,
    "start_time": "2022-07-16T16:12:49.173Z"
   },
   {
    "duration": 7,
    "start_time": "2022-07-16T16:13:04.334Z"
   },
   {
    "duration": 7,
    "start_time": "2022-07-16T16:13:22.163Z"
   },
   {
    "duration": 8,
    "start_time": "2022-07-16T16:13:28.539Z"
   },
   {
    "duration": 9,
    "start_time": "2022-07-16T16:13:40.835Z"
   },
   {
    "duration": 2,
    "start_time": "2022-07-16T16:44:13.090Z"
   },
   {
    "duration": 41,
    "start_time": "2022-07-16T16:44:13.535Z"
   },
   {
    "duration": 21,
    "start_time": "2022-07-16T16:44:14.003Z"
   },
   {
    "duration": 1240,
    "start_time": "2022-07-16T16:44:19.300Z"
   },
   {
    "duration": 7,
    "start_time": "2022-07-16T16:44:44.993Z"
   },
   {
    "duration": 2,
    "start_time": "2022-07-16T16:44:53.258Z"
   },
   {
    "duration": 4,
    "start_time": "2022-07-16T16:44:55.181Z"
   },
   {
    "duration": 6,
    "start_time": "2022-07-16T16:45:05.234Z"
   },
   {
    "duration": 6,
    "start_time": "2022-07-16T16:45:16.668Z"
   },
   {
    "duration": 6,
    "start_time": "2022-07-16T16:45:28.328Z"
   },
   {
    "duration": 7,
    "start_time": "2022-07-16T16:45:31.494Z"
   },
   {
    "duration": 7,
    "start_time": "2022-07-16T16:45:58.383Z"
   },
   {
    "duration": 7,
    "start_time": "2022-07-16T16:46:10.772Z"
   },
   {
    "duration": 5,
    "start_time": "2022-07-16T16:46:44.732Z"
   },
   {
    "duration": 7,
    "start_time": "2022-07-16T16:46:48.286Z"
   },
   {
    "duration": 3,
    "start_time": "2022-07-16T16:46:57.607Z"
   },
   {
    "duration": 6,
    "start_time": "2022-07-16T16:46:58.475Z"
   },
   {
    "duration": 81,
    "start_time": "2022-07-16T16:47:24.866Z"
   },
   {
    "duration": 7,
    "start_time": "2022-07-16T16:47:26.699Z"
   },
   {
    "duration": 8,
    "start_time": "2022-07-16T16:47:33.589Z"
   },
   {
    "duration": 8,
    "start_time": "2022-07-16T16:47:44.457Z"
   },
   {
    "duration": 6,
    "start_time": "2022-07-16T16:49:42.481Z"
   },
   {
    "duration": 14,
    "start_time": "2022-07-16T16:50:41.852Z"
   },
   {
    "duration": 7,
    "start_time": "2022-07-16T16:50:51.486Z"
   },
   {
    "duration": 7,
    "start_time": "2022-07-16T16:50:55.763Z"
   },
   {
    "duration": 76,
    "start_time": "2022-07-16T16:51:08.063Z"
   },
   {
    "duration": 80,
    "start_time": "2022-07-16T16:51:18.031Z"
   },
   {
    "duration": 7,
    "start_time": "2022-07-16T16:51:26.729Z"
   },
   {
    "duration": 7,
    "start_time": "2022-07-16T16:51:31.510Z"
   },
   {
    "duration": 7,
    "start_time": "2022-07-16T16:51:42.267Z"
   },
   {
    "duration": 6,
    "start_time": "2022-07-16T16:52:23.819Z"
   },
   {
    "duration": 4,
    "start_time": "2022-07-16T16:52:27.420Z"
   },
   {
    "duration": 6,
    "start_time": "2022-07-16T16:52:31.147Z"
   },
   {
    "duration": 2,
    "start_time": "2022-07-16T16:52:39.781Z"
   },
   {
    "duration": 40,
    "start_time": "2022-07-16T16:52:40.214Z"
   },
   {
    "duration": 20,
    "start_time": "2022-07-16T16:52:40.628Z"
   },
   {
    "duration": 3,
    "start_time": "2022-07-16T16:52:41.422Z"
   },
   {
    "duration": 15,
    "start_time": "2022-07-16T16:52:41.995Z"
   },
   {
    "duration": 7,
    "start_time": "2022-07-16T16:52:44.756Z"
   },
   {
    "duration": 2,
    "start_time": "2022-07-16T16:52:47.373Z"
   },
   {
    "duration": 8,
    "start_time": "2022-07-16T16:53:14.516Z"
   },
   {
    "duration": 7,
    "start_time": "2022-07-16T16:53:26.904Z"
   },
   {
    "duration": 20,
    "start_time": "2022-07-16T16:53:29.623Z"
   },
   {
    "duration": 8,
    "start_time": "2022-07-16T16:53:50.557Z"
   },
   {
    "duration": 7,
    "start_time": "2022-07-16T16:53:58.002Z"
   },
   {
    "duration": 20,
    "start_time": "2022-07-16T16:54:01.656Z"
   },
   {
    "duration": 7,
    "start_time": "2022-07-16T16:54:04.366Z"
   },
   {
    "duration": 3,
    "start_time": "2022-07-16T16:54:41.761Z"
   },
   {
    "duration": 12,
    "start_time": "2022-07-16T16:54:43.158Z"
   },
   {
    "duration": 7,
    "start_time": "2022-07-16T16:54:45.236Z"
   },
   {
    "duration": 673,
    "start_time": "2022-07-16T16:56:53.360Z"
   },
   {
    "duration": 39,
    "start_time": "2022-07-16T16:56:54.035Z"
   },
   {
    "duration": 20,
    "start_time": "2022-07-16T16:56:54.076Z"
   },
   {
    "duration": 6,
    "start_time": "2022-07-16T16:56:54.098Z"
   },
   {
    "duration": 12,
    "start_time": "2022-07-16T16:56:54.768Z"
   },
   {
    "duration": 7,
    "start_time": "2022-07-16T16:56:54.959Z"
   },
   {
    "duration": 6,
    "start_time": "2022-07-16T16:56:55.167Z"
   },
   {
    "duration": 14,
    "start_time": "2022-07-16T16:59:25.469Z"
   },
   {
    "duration": 38,
    "start_time": "2022-07-16T17:00:04.723Z"
   },
   {
    "duration": 7,
    "start_time": "2022-07-16T17:04:31.405Z"
   },
   {
    "duration": 13,
    "start_time": "2022-07-16T17:04:37.307Z"
   },
   {
    "duration": 3,
    "start_time": "2022-07-16T17:04:39.979Z"
   },
   {
    "duration": 43,
    "start_time": "2022-07-16T17:04:40.173Z"
   },
   {
    "duration": 19,
    "start_time": "2022-07-16T17:04:40.364Z"
   },
   {
    "duration": 40,
    "start_time": "2022-07-16T17:04:40.563Z"
   },
   {
    "duration": 5,
    "start_time": "2022-07-16T17:04:40.781Z"
   },
   {
    "duration": 13,
    "start_time": "2022-07-16T17:04:41.318Z"
   },
   {
    "duration": 7,
    "start_time": "2022-07-16T17:04:41.513Z"
   },
   {
    "duration": 5,
    "start_time": "2022-07-16T17:04:41.695Z"
   },
   {
    "duration": 30,
    "start_time": "2022-07-16T17:04:58.629Z"
   },
   {
    "duration": 7,
    "start_time": "2022-07-16T17:05:02.192Z"
   },
   {
    "duration": 21,
    "start_time": "2022-07-16T17:05:03.268Z"
   },
   {
    "duration": 6,
    "start_time": "2022-07-16T17:07:14.311Z"
   },
   {
    "duration": 3,
    "start_time": "2022-07-16T17:07:15.063Z"
   },
   {
    "duration": 36,
    "start_time": "2022-07-16T17:07:27.983Z"
   },
   {
    "duration": 3,
    "start_time": "2022-07-16T17:07:31.359Z"
   },
   {
    "duration": 2,
    "start_time": "2022-07-16T17:07:40.232Z"
   },
   {
    "duration": 8,
    "start_time": "2022-07-16T17:07:47.550Z"
   },
   {
    "duration": 2,
    "start_time": "2022-07-16T17:07:54.764Z"
   },
   {
    "duration": 40,
    "start_time": "2022-07-16T17:07:55.169Z"
   },
   {
    "duration": 17,
    "start_time": "2022-07-16T17:07:56.060Z"
   },
   {
    "duration": 36,
    "start_time": "2022-07-16T17:07:57.249Z"
   },
   {
    "duration": 3,
    "start_time": "2022-07-16T17:07:57.704Z"
   },
   {
    "duration": 12,
    "start_time": "2022-07-16T17:07:58.420Z"
   },
   {
    "duration": 7,
    "start_time": "2022-07-16T17:07:58.957Z"
   },
   {
    "duration": 6,
    "start_time": "2022-07-16T17:07:59.470Z"
   },
   {
    "duration": 8,
    "start_time": "2022-07-16T17:08:00.027Z"
   },
   {
    "duration": 2,
    "start_time": "2022-07-16T17:08:30.408Z"
   },
   {
    "duration": 38,
    "start_time": "2022-07-16T17:08:31.431Z"
   },
   {
    "duration": 13,
    "start_time": "2022-07-16T17:08:32.226Z"
   },
   {
    "duration": 43,
    "start_time": "2022-07-16T17:08:33.922Z"
   },
   {
    "duration": 3,
    "start_time": "2022-07-16T17:08:40.301Z"
   },
   {
    "duration": 13,
    "start_time": "2022-07-16T17:08:41.526Z"
   },
   {
    "duration": 9,
    "start_time": "2022-07-16T17:08:42.434Z"
   },
   {
    "duration": 6,
    "start_time": "2022-07-16T17:08:43.657Z"
   },
   {
    "duration": 8,
    "start_time": "2022-07-16T17:08:44.524Z"
   },
   {
    "duration": 8,
    "start_time": "2022-07-16T17:09:04.726Z"
   },
   {
    "duration": 9,
    "start_time": "2022-07-16T17:09:33.471Z"
   },
   {
    "duration": 7,
    "start_time": "2022-07-16T17:09:37.659Z"
   },
   {
    "duration": 7,
    "start_time": "2022-07-16T17:10:20.259Z"
   },
   {
    "duration": 8,
    "start_time": "2022-07-16T17:10:28.063Z"
   },
   {
    "duration": 3,
    "start_time": "2022-07-16T17:11:12.190Z"
   },
   {
    "duration": 41,
    "start_time": "2022-07-16T17:11:12.692Z"
   },
   {
    "duration": 13,
    "start_time": "2022-07-16T17:11:13.138Z"
   },
   {
    "duration": 8,
    "start_time": "2022-07-16T17:11:13.916Z"
   },
   {
    "duration": 7,
    "start_time": "2022-07-16T17:11:21.959Z"
   },
   {
    "duration": 4,
    "start_time": "2022-07-16T17:11:23.138Z"
   },
   {
    "duration": 12,
    "start_time": "2022-07-16T17:11:23.795Z"
   },
   {
    "duration": 7,
    "start_time": "2022-07-16T17:11:27.264Z"
   },
   {
    "duration": 8,
    "start_time": "2022-07-16T17:11:37.673Z"
   },
   {
    "duration": 9,
    "start_time": "2022-07-16T17:11:54.498Z"
   },
   {
    "duration": 9,
    "start_time": "2022-07-16T17:12:38.420Z"
   },
   {
    "duration": 7,
    "start_time": "2022-07-16T17:12:39.183Z"
   },
   {
    "duration": 8,
    "start_time": "2022-07-16T17:12:41.992Z"
   },
   {
    "duration": 2,
    "start_time": "2022-07-16T17:12:47.409Z"
   },
   {
    "duration": 39,
    "start_time": "2022-07-16T17:12:48.123Z"
   },
   {
    "duration": 13,
    "start_time": "2022-07-16T17:12:48.782Z"
   },
   {
    "duration": 7,
    "start_time": "2022-07-16T17:12:49.458Z"
   },
   {
    "duration": 3,
    "start_time": "2022-07-16T17:12:50.061Z"
   },
   {
    "duration": 14,
    "start_time": "2022-07-16T17:12:50.768Z"
   },
   {
    "duration": 9,
    "start_time": "2022-07-16T17:12:51.524Z"
   },
   {
    "duration": 4,
    "start_time": "2022-07-16T17:13:12.296Z"
   },
   {
    "duration": 13,
    "start_time": "2022-07-16T17:13:13.119Z"
   },
   {
    "duration": 11,
    "start_time": "2022-07-16T17:15:43.960Z"
   },
   {
    "duration": 10,
    "start_time": "2022-07-16T17:17:41.292Z"
   },
   {
    "duration": 6,
    "start_time": "2022-07-16T17:18:00.978Z"
   },
   {
    "duration": 5,
    "start_time": "2022-07-16T17:18:14.360Z"
   },
   {
    "duration": 7,
    "start_time": "2022-07-16T17:18:30.219Z"
   },
   {
    "duration": 1452,
    "start_time": "2022-07-16T17:25:33.103Z"
   },
   {
    "duration": 8,
    "start_time": "2022-07-16T17:25:48.538Z"
   },
   {
    "duration": 5,
    "start_time": "2022-07-16T18:21:46.503Z"
   },
   {
    "duration": 11,
    "start_time": "2022-07-16T18:27:07.495Z"
   },
   {
    "duration": 6,
    "start_time": "2022-07-16T18:27:37.006Z"
   },
   {
    "duration": 5,
    "start_time": "2022-07-16T18:28:39.474Z"
   },
   {
    "duration": 9,
    "start_time": "2022-07-16T18:28:50.700Z"
   },
   {
    "duration": 11,
    "start_time": "2022-07-16T18:29:43.912Z"
   },
   {
    "duration": 27,
    "start_time": "2022-07-16T18:29:53.400Z"
   },
   {
    "duration": 1327,
    "start_time": "2022-07-16T18:33:57.429Z"
   },
   {
    "duration": 1345,
    "start_time": "2022-07-16T18:34:02.134Z"
   },
   {
    "duration": 18,
    "start_time": "2022-07-16T18:34:23.397Z"
   },
   {
    "duration": 11,
    "start_time": "2022-07-16T18:35:21.794Z"
   },
   {
    "duration": 11,
    "start_time": "2022-07-16T18:48:58.777Z"
   },
   {
    "duration": 3,
    "start_time": "2022-07-16T18:49:13.430Z"
   },
   {
    "duration": 37,
    "start_time": "2022-07-16T18:49:13.897Z"
   },
   {
    "duration": 5,
    "start_time": "2022-07-16T18:49:14.277Z"
   },
   {
    "duration": 14,
    "start_time": "2022-07-16T18:49:14.706Z"
   },
   {
    "duration": 8,
    "start_time": "2022-07-16T18:49:15.314Z"
   },
   {
    "duration": 3,
    "start_time": "2022-07-16T18:49:15.840Z"
   },
   {
    "duration": 15,
    "start_time": "2022-07-16T18:49:16.425Z"
   },
   {
    "duration": 9,
    "start_time": "2022-07-16T18:49:17.065Z"
   },
   {
    "duration": 3,
    "start_time": "2022-07-16T18:49:18.001Z"
   },
   {
    "duration": 10,
    "start_time": "2022-07-16T18:49:18.475Z"
   },
   {
    "duration": 36,
    "start_time": "2022-07-16T18:51:24.334Z"
   },
   {
    "duration": 5,
    "start_time": "2022-07-16T18:51:24.521Z"
   },
   {
    "duration": 16,
    "start_time": "2022-07-16T18:51:24.691Z"
   },
   {
    "duration": 9,
    "start_time": "2022-07-16T18:51:24.870Z"
   },
   {
    "duration": 4,
    "start_time": "2022-07-16T18:51:25.037Z"
   },
   {
    "duration": 11,
    "start_time": "2022-07-16T18:51:25.201Z"
   },
   {
    "duration": 7,
    "start_time": "2022-07-16T18:51:25.385Z"
   },
   {
    "duration": 3,
    "start_time": "2022-07-16T18:51:25.570Z"
   },
   {
    "duration": 11,
    "start_time": "2022-07-16T18:51:25.739Z"
   },
   {
    "duration": 6,
    "start_time": "2022-07-16T18:51:26.096Z"
   },
   {
    "duration": 90,
    "start_time": "2022-07-16T18:51:47.989Z"
   },
   {
    "duration": 141,
    "start_time": "2022-07-16T18:54:04.720Z"
   },
   {
    "duration": 3,
    "start_time": "2022-07-16T18:54:04.863Z"
   },
   {
    "duration": 40,
    "start_time": "2022-07-16T18:54:04.868Z"
   },
   {
    "duration": 5,
    "start_time": "2022-07-16T18:54:04.910Z"
   },
   {
    "duration": 14,
    "start_time": "2022-07-16T18:54:04.917Z"
   },
   {
    "duration": 24,
    "start_time": "2022-07-16T18:54:04.933Z"
   },
   {
    "duration": 3,
    "start_time": "2022-07-16T18:54:04.959Z"
   },
   {
    "duration": 15,
    "start_time": "2022-07-16T18:54:04.964Z"
   },
   {
    "duration": 7,
    "start_time": "2022-07-16T18:54:04.981Z"
   },
   {
    "duration": 19,
    "start_time": "2022-07-16T18:59:22.873Z"
   },
   {
    "duration": 10,
    "start_time": "2022-07-16T18:59:30.237Z"
   },
   {
    "duration": 13,
    "start_time": "2022-07-16T18:59:40.514Z"
   },
   {
    "duration": 859,
    "start_time": "2022-07-16T18:59:50.498Z"
   },
   {
    "duration": 155,
    "start_time": "2022-07-16T19:03:01.977Z"
   },
   {
    "duration": 91573,
    "start_time": "2022-07-16T19:10:29.669Z"
   },
   {
    "duration": 3,
    "start_time": "2022-07-16T19:12:01.244Z"
   },
   {
    "duration": 67,
    "start_time": "2022-07-16T19:12:01.248Z"
   },
   {
    "duration": 6,
    "start_time": "2022-07-16T19:12:01.317Z"
   },
   {
    "duration": 20,
    "start_time": "2022-07-16T19:12:01.324Z"
   },
   {
    "duration": 27,
    "start_time": "2022-07-16T19:12:01.346Z"
   },
   {
    "duration": 8,
    "start_time": "2022-07-16T19:12:01.375Z"
   },
   {
    "duration": 24,
    "start_time": "2022-07-16T19:12:01.384Z"
   },
   {
    "duration": 23,
    "start_time": "2022-07-16T19:14:04.538Z"
   },
   {
    "duration": 49,
    "start_time": "2022-07-16T19:14:04.562Z"
   },
   {
    "duration": 5,
    "start_time": "2022-07-16T19:14:04.613Z"
   },
   {
    "duration": 18,
    "start_time": "2022-07-16T19:14:04.619Z"
   },
   {
    "duration": 10,
    "start_time": "2022-07-16T19:14:04.639Z"
   },
   {
    "duration": 4,
    "start_time": "2022-07-16T19:14:06.443Z"
   },
   {
    "duration": 14,
    "start_time": "2022-07-16T19:14:06.667Z"
   },
   {
    "duration": 8,
    "start_time": "2022-07-16T19:14:06.865Z"
   },
   {
    "duration": 4,
    "start_time": "2022-07-16T19:14:07.077Z"
   },
   {
    "duration": 12,
    "start_time": "2022-07-16T19:14:07.563Z"
   },
   {
    "duration": 138,
    "start_time": "2022-07-16T19:14:08.200Z"
   },
   {
    "duration": 929,
    "start_time": "2022-07-16T19:14:10.808Z"
   },
   {
    "duration": 156,
    "start_time": "2022-07-16T19:14:13.546Z"
   },
   {
    "duration": 144,
    "start_time": "2022-07-16T19:14:15.523Z"
   },
   {
    "duration": 76,
    "start_time": "2022-07-16T19:15:57.365Z"
   },
   {
    "duration": 4,
    "start_time": "2022-07-16T19:16:02.939Z"
   },
   {
    "duration": 13,
    "start_time": "2022-07-16T19:16:04.132Z"
   },
   {
    "duration": 130,
    "start_time": "2022-07-16T19:16:04.867Z"
   },
   {
    "duration": 998,
    "start_time": "2022-07-16T19:16:05.468Z"
   },
   {
    "duration": 151,
    "start_time": "2022-07-16T19:16:06.623Z"
   },
   {
    "duration": 121,
    "start_time": "2022-07-16T19:16:08.108Z"
   },
   {
    "duration": 140,
    "start_time": "2022-07-16T19:19:13.092Z"
   },
   {
    "duration": 202,
    "start_time": "2022-07-16T19:21:30.496Z"
   },
   {
    "duration": 4,
    "start_time": "2022-07-16T19:22:05.026Z"
   },
   {
    "duration": 15,
    "start_time": "2022-07-16T19:22:05.542Z"
   },
   {
    "duration": 131,
    "start_time": "2022-07-16T19:22:06.363Z"
   },
   {
    "duration": 931,
    "start_time": "2022-07-16T19:22:06.763Z"
   },
   {
    "duration": 152,
    "start_time": "2022-07-16T19:22:07.696Z"
   },
   {
    "duration": 125,
    "start_time": "2022-07-16T19:22:08.467Z"
   },
   {
    "duration": 196,
    "start_time": "2022-07-16T19:22:09.107Z"
   },
   {
    "duration": 208,
    "start_time": "2022-07-16T19:22:13.066Z"
   },
   {
    "duration": 4,
    "start_time": "2022-07-16T19:22:33.071Z"
   },
   {
    "duration": 12,
    "start_time": "2022-07-16T19:22:33.903Z"
   },
   {
    "duration": 136,
    "start_time": "2022-07-16T19:22:35.189Z"
   },
   {
    "duration": 888,
    "start_time": "2022-07-16T19:22:36.841Z"
   },
   {
    "duration": 155,
    "start_time": "2022-07-16T19:22:39.231Z"
   },
   {
    "duration": 123,
    "start_time": "2022-07-16T19:22:40.321Z"
   },
   {
    "duration": 201,
    "start_time": "2022-07-16T19:22:43.667Z"
   },
   {
    "duration": 23,
    "start_time": "2022-07-16T19:25:31.064Z"
   },
   {
    "duration": 1581,
    "start_time": "2022-07-17T19:34:18.207Z"
   },
   {
    "duration": 182,
    "start_time": "2022-07-17T19:34:21.223Z"
   },
   {
    "duration": 8,
    "start_time": "2022-07-17T19:34:21.467Z"
   },
   {
    "duration": 22,
    "start_time": "2022-07-17T19:34:21.699Z"
   },
   {
    "duration": 8,
    "start_time": "2022-07-17T19:34:22.030Z"
   },
   {
    "duration": 6,
    "start_time": "2022-07-17T19:34:22.255Z"
   },
   {
    "duration": 14,
    "start_time": "2022-07-17T19:34:22.487Z"
   },
   {
    "duration": 7,
    "start_time": "2022-07-17T19:34:22.692Z"
   },
   {
    "duration": 4,
    "start_time": "2022-07-17T19:34:22.903Z"
   },
   {
    "duration": 169,
    "start_time": "2022-07-17T19:34:23.324Z"
   },
   {
    "duration": 957,
    "start_time": "2022-07-17T19:34:23.736Z"
   },
   {
    "duration": 171,
    "start_time": "2022-07-17T19:34:24.698Z"
   },
   {
    "duration": 122,
    "start_time": "2022-07-17T19:34:24.870Z"
   },
   {
    "duration": 290,
    "start_time": "2022-07-17T19:34:24.994Z"
   },
   {
    "duration": 20,
    "start_time": "2022-07-17T19:34:25.720Z"
   },
   {
    "duration": 14,
    "start_time": "2022-07-17T19:34:25.980Z"
   },
   {
    "duration": 103,
    "start_time": "2022-07-17T19:34:27.710Z"
   },
   {
    "duration": 9,
    "start_time": "2022-07-17T19:34:49.429Z"
   },
   {
    "duration": 5,
    "start_time": "2022-07-17T19:34:57.157Z"
   },
   {
    "duration": 9,
    "start_time": "2022-07-17T19:37:50.777Z"
   },
   {
    "duration": 8,
    "start_time": "2022-07-17T19:38:40.297Z"
   },
   {
    "duration": 6,
    "start_time": "2022-07-17T19:38:44.931Z"
   },
   {
    "duration": 3,
    "start_time": "2022-07-17T19:38:45.575Z"
   },
   {
    "duration": 4,
    "start_time": "2022-07-17T19:39:34.637Z"
   },
   {
    "duration": 44,
    "start_time": "2022-07-17T19:42:22.771Z"
   },
   {
    "duration": 43,
    "start_time": "2022-07-17T19:42:23.668Z"
   },
   {
    "duration": 5,
    "start_time": "2022-07-17T19:42:23.849Z"
   },
   {
    "duration": 11,
    "start_time": "2022-07-17T19:42:24.036Z"
   },
   {
    "duration": 7,
    "start_time": "2022-07-17T19:42:24.228Z"
   },
   {
    "duration": 3,
    "start_time": "2022-07-17T19:42:24.448Z"
   },
   {
    "duration": 15,
    "start_time": "2022-07-17T19:42:24.683Z"
   },
   {
    "duration": 7,
    "start_time": "2022-07-17T19:42:24.870Z"
   },
   {
    "duration": 5,
    "start_time": "2022-07-17T19:42:25.078Z"
   },
   {
    "duration": 119,
    "start_time": "2022-07-17T19:42:25.478Z"
   },
   {
    "duration": 915,
    "start_time": "2022-07-17T19:42:25.850Z"
   },
   {
    "duration": 140,
    "start_time": "2022-07-17T19:42:26.767Z"
   },
   {
    "duration": 125,
    "start_time": "2022-07-17T19:42:26.909Z"
   },
   {
    "duration": 147,
    "start_time": "2022-07-17T19:42:27.048Z"
   },
   {
    "duration": 17,
    "start_time": "2022-07-17T19:42:28.111Z"
   },
   {
    "duration": 10,
    "start_time": "2022-07-17T19:42:28.714Z"
   },
   {
    "duration": 5,
    "start_time": "2022-07-17T19:42:29.780Z"
   },
   {
    "duration": 7,
    "start_time": "2022-07-17T19:42:30.225Z"
   },
   {
    "duration": 4,
    "start_time": "2022-07-17T19:42:30.697Z"
   },
   {
    "duration": 4,
    "start_time": "2022-07-17T19:42:31.345Z"
   },
   {
    "duration": 21,
    "start_time": "2022-07-17T19:43:11.184Z"
   },
   {
    "duration": 30,
    "start_time": "2022-07-17T19:44:44.568Z"
   },
   {
    "duration": 23,
    "start_time": "2022-07-17T19:45:51.806Z"
   },
   {
    "duration": 4012,
    "start_time": "2022-07-17T19:46:03.562Z"
   },
   {
    "duration": 671,
    "start_time": "2022-07-17T19:46:31.181Z"
   },
   {
    "duration": 10,
    "start_time": "2022-07-17T19:47:06.802Z"
   },
   {
    "duration": 769,
    "start_time": "2022-07-17T19:47:30.462Z"
   },
   {
    "duration": 1436,
    "start_time": "2022-07-17T19:48:36.839Z"
   },
   {
    "duration": 1494,
    "start_time": "2022-07-17T19:50:12.740Z"
   },
   {
    "duration": 135,
    "start_time": "2022-07-17T19:56:11.410Z"
   },
   {
    "duration": 6896,
    "start_time": "2022-07-17T19:56:23.970Z"
   },
   {
    "duration": 7569,
    "start_time": "2022-07-17T19:56:45.394Z"
   },
   {
    "duration": 5981,
    "start_time": "2022-07-17T19:57:53.798Z"
   },
   {
    "duration": 7739,
    "start_time": "2022-07-17T19:58:18.226Z"
   },
   {
    "duration": 8010,
    "start_time": "2022-07-17T20:00:13.131Z"
   },
   {
    "duration": 77,
    "start_time": "2022-07-17T20:04:30.625Z"
   },
   {
    "duration": 7593,
    "start_time": "2022-07-17T20:04:39.383Z"
   },
   {
    "duration": 287,
    "start_time": "2022-07-17T20:06:10.169Z"
   },
   {
    "duration": 298,
    "start_time": "2022-07-17T20:06:57.255Z"
   },
   {
    "duration": 272,
    "start_time": "2022-07-17T20:09:38.890Z"
   },
   {
    "duration": 305,
    "start_time": "2022-07-17T20:10:03.148Z"
   },
   {
    "duration": 167,
    "start_time": "2022-07-17T20:10:11.296Z"
   },
   {
    "duration": 155,
    "start_time": "2022-07-17T20:10:44.806Z"
   },
   {
    "duration": 104,
    "start_time": "2022-07-17T20:10:53.932Z"
   },
   {
    "duration": 180,
    "start_time": "2022-07-17T20:11:00.477Z"
   },
   {
    "duration": 165,
    "start_time": "2022-07-17T20:13:45.822Z"
   },
   {
    "duration": 4,
    "start_time": "2022-07-17T20:23:20.321Z"
   },
   {
    "duration": 4,
    "start_time": "2022-07-17T20:23:22.951Z"
   },
   {
    "duration": 15,
    "start_time": "2022-07-17T20:24:04.990Z"
   },
   {
    "duration": 11,
    "start_time": "2022-07-17T20:26:03.777Z"
   },
   {
    "duration": 21,
    "start_time": "2022-07-17T20:29:51.745Z"
   },
   {
    "duration": 21,
    "start_time": "2022-07-17T20:30:21.008Z"
   },
   {
    "duration": 45,
    "start_time": "2022-07-17T20:30:40.206Z"
   },
   {
    "duration": 89,
    "start_time": "2022-07-17T20:32:21.263Z"
   },
   {
    "duration": 3,
    "start_time": "2022-07-17T20:34:06.570Z"
   },
   {
    "duration": 18,
    "start_time": "2022-07-17T20:34:07.115Z"
   },
   {
    "duration": 3,
    "start_time": "2022-07-17T20:34:18.541Z"
   },
   {
    "duration": 24,
    "start_time": "2022-07-17T20:34:19.217Z"
   },
   {
    "duration": 10,
    "start_time": "2022-07-17T20:34:39.553Z"
   },
   {
    "duration": 10,
    "start_time": "2022-07-17T20:35:18.467Z"
   },
   {
    "duration": 12,
    "start_time": "2022-07-17T20:36:42.545Z"
   },
   {
    "duration": 9,
    "start_time": "2022-07-17T20:37:50.841Z"
   },
   {
    "duration": 17,
    "start_time": "2022-07-17T20:38:49.659Z"
   },
   {
    "duration": 17,
    "start_time": "2022-07-17T20:39:00.496Z"
   },
   {
    "duration": 17,
    "start_time": "2022-07-17T20:39:08.048Z"
   },
   {
    "duration": 12,
    "start_time": "2022-07-17T20:39:47.047Z"
   },
   {
    "duration": 11,
    "start_time": "2022-07-17T20:39:49.339Z"
   },
   {
    "duration": 35,
    "start_time": "2022-07-17T20:40:01.402Z"
   },
   {
    "duration": 11,
    "start_time": "2022-07-17T20:41:04.269Z"
   },
   {
    "duration": 10,
    "start_time": "2022-07-17T20:41:08.743Z"
   },
   {
    "duration": 86,
    "start_time": "2022-07-17T20:41:09.766Z"
   },
   {
    "duration": 13,
    "start_time": "2022-07-17T20:42:04.889Z"
   },
   {
    "duration": 391,
    "start_time": "2022-07-17T20:42:31.282Z"
   },
   {
    "duration": 4721,
    "start_time": "2022-07-17T20:43:10.865Z"
   },
   {
    "duration": 42,
    "start_time": "2022-07-17T20:45:20.848Z"
   },
   {
    "duration": 9,
    "start_time": "2022-07-17T20:46:29.262Z"
   },
   {
    "duration": 40,
    "start_time": "2022-07-17T20:47:05.491Z"
   },
   {
    "duration": 132,
    "start_time": "2022-07-17T20:48:26.440Z"
   },
   {
    "duration": 11,
    "start_time": "2022-07-17T20:49:48.676Z"
   },
   {
    "duration": 220,
    "start_time": "2022-07-17T20:49:58.164Z"
   },
   {
    "duration": 5,
    "start_time": "2022-07-17T20:52:18.130Z"
   },
   {
    "duration": 11,
    "start_time": "2022-07-17T20:52:26.184Z"
   },
   {
    "duration": 9,
    "start_time": "2022-07-17T20:53:44.734Z"
   },
   {
    "duration": 10,
    "start_time": "2022-07-17T21:00:02.835Z"
   },
   {
    "duration": 10,
    "start_time": "2022-07-17T21:00:57.127Z"
   },
   {
    "duration": 126,
    "start_time": "2022-07-17T21:01:22.670Z"
   },
   {
    "duration": 87,
    "start_time": "2022-07-17T21:02:29.195Z"
   },
   {
    "duration": 1480,
    "start_time": "2022-07-18T10:03:20.824Z"
   },
   {
    "duration": 38,
    "start_time": "2022-07-18T10:03:22.306Z"
   },
   {
    "duration": 7,
    "start_time": "2022-07-18T10:03:22.346Z"
   },
   {
    "duration": 16,
    "start_time": "2022-07-18T10:03:22.355Z"
   },
   {
    "duration": 13,
    "start_time": "2022-07-18T10:03:22.372Z"
   },
   {
    "duration": 10,
    "start_time": "2022-07-18T10:03:22.386Z"
   },
   {
    "duration": 25,
    "start_time": "2022-07-18T10:03:22.397Z"
   },
   {
    "duration": 6,
    "start_time": "2022-07-18T10:03:22.423Z"
   },
   {
    "duration": 12,
    "start_time": "2022-07-18T10:03:22.431Z"
   },
   {
    "duration": 136,
    "start_time": "2022-07-18T10:03:22.445Z"
   },
   {
    "duration": 897,
    "start_time": "2022-07-18T10:03:22.583Z"
   },
   {
    "duration": 146,
    "start_time": "2022-07-18T10:03:23.482Z"
   },
   {
    "duration": 195,
    "start_time": "2022-07-18T10:03:23.629Z"
   },
   {
    "duration": 172,
    "start_time": "2022-07-18T10:03:23.825Z"
   },
   {
    "duration": 22,
    "start_time": "2022-07-18T10:03:23.999Z"
   },
   {
    "duration": 9,
    "start_time": "2022-07-18T10:03:24.023Z"
   },
   {
    "duration": 10,
    "start_time": "2022-07-18T10:03:24.034Z"
   },
   {
    "duration": 8,
    "start_time": "2022-07-18T10:03:24.046Z"
   },
   {
    "duration": 5,
    "start_time": "2022-07-18T10:03:24.055Z"
   },
   {
    "duration": 6,
    "start_time": "2022-07-18T10:03:24.061Z"
   },
   {
    "duration": 7010,
    "start_time": "2022-07-18T10:03:24.068Z"
   },
   {
    "duration": 7534,
    "start_time": "2022-07-18T10:03:31.080Z"
   },
   {
    "duration": 898,
    "start_time": "2022-07-18T10:03:38.615Z"
   },
   {
    "duration": 278,
    "start_time": "2022-07-18T10:03:39.516Z"
   },
   {
    "duration": 19,
    "start_time": "2022-07-18T10:03:39.796Z"
   },
   {
    "duration": 100,
    "start_time": "2022-07-18T10:03:39.817Z"
   },
   {
    "duration": 100,
    "start_time": "2022-07-18T10:03:39.919Z"
   },
   {
    "duration": 189,
    "start_time": "2022-07-18T10:03:40.023Z"
   },
   {
    "duration": 154,
    "start_time": "2022-07-18T10:03:40.214Z"
   },
   {
    "duration": 0,
    "start_time": "2022-07-18T10:03:40.370Z"
   },
   {
    "duration": 0,
    "start_time": "2022-07-18T10:03:40.371Z"
   },
   {
    "duration": 0,
    "start_time": "2022-07-18T10:03:40.373Z"
   },
   {
    "duration": 0,
    "start_time": "2022-07-18T10:03:40.374Z"
   },
   {
    "duration": 0,
    "start_time": "2022-07-18T10:03:40.375Z"
   },
   {
    "duration": 0,
    "start_time": "2022-07-18T10:03:40.376Z"
   },
   {
    "duration": 0,
    "start_time": "2022-07-18T10:03:40.377Z"
   },
   {
    "duration": 97,
    "start_time": "2022-07-18T10:16:57.850Z"
   },
   {
    "duration": 5,
    "start_time": "2022-07-18T10:25:13.171Z"
   },
   {
    "duration": 12,
    "start_time": "2022-07-18T10:25:40.770Z"
   },
   {
    "duration": 10,
    "start_time": "2022-07-18T10:26:00.536Z"
   },
   {
    "duration": 6,
    "start_time": "2022-07-18T10:26:10.564Z"
   },
   {
    "duration": 6,
    "start_time": "2022-07-18T10:26:57.967Z"
   },
   {
    "duration": 94,
    "start_time": "2022-07-18T10:29:11.241Z"
   },
   {
    "duration": 16,
    "start_time": "2022-07-18T10:33:24.935Z"
   },
   {
    "duration": 9,
    "start_time": "2022-07-18T10:33:29.939Z"
   },
   {
    "duration": 169,
    "start_time": "2022-07-18T10:33:34.806Z"
   },
   {
    "duration": 88,
    "start_time": "2022-07-18T10:35:48.820Z"
   },
   {
    "duration": 1454,
    "start_time": "2022-07-18T16:37:30.633Z"
   },
   {
    "duration": 146,
    "start_time": "2022-07-18T16:37:32.209Z"
   },
   {
    "duration": 6,
    "start_time": "2022-07-18T16:37:33.716Z"
   },
   {
    "duration": 13,
    "start_time": "2022-07-18T16:37:34.502Z"
   },
   {
    "duration": 8,
    "start_time": "2022-07-18T16:37:35.915Z"
   },
   {
    "duration": 4,
    "start_time": "2022-07-18T16:37:36.830Z"
   },
   {
    "duration": 4,
    "start_time": "2022-07-18T16:38:36.220Z"
   },
   {
    "duration": 21,
    "start_time": "2022-07-18T16:38:48.198Z"
   },
   {
    "duration": 3,
    "start_time": "2022-07-18T16:39:28.817Z"
   },
   {
    "duration": 11,
    "start_time": "2022-07-18T16:39:30.666Z"
   },
   {
    "duration": 103,
    "start_time": "2022-07-18T16:39:31.544Z"
   },
   {
    "duration": 14,
    "start_time": "2022-07-18T16:39:43.851Z"
   },
   {
    "duration": 4,
    "start_time": "2022-07-18T16:39:52.927Z"
   },
   {
    "duration": 11,
    "start_time": "2022-07-18T16:39:53.372Z"
   },
   {
    "duration": 12,
    "start_time": "2022-07-18T16:39:54.187Z"
   },
   {
    "duration": 4,
    "start_time": "2022-07-18T16:40:01.468Z"
   },
   {
    "duration": 35,
    "start_time": "2022-07-18T16:40:02.641Z"
   },
   {
    "duration": 5,
    "start_time": "2022-07-18T16:40:03.120Z"
   },
   {
    "duration": 12,
    "start_time": "2022-07-18T16:40:03.890Z"
   },
   {
    "duration": 7,
    "start_time": "2022-07-18T16:40:04.424Z"
   },
   {
    "duration": 3,
    "start_time": "2022-07-18T16:40:04.959Z"
   },
   {
    "duration": 11,
    "start_time": "2022-07-18T16:40:05.451Z"
   },
   {
    "duration": 9,
    "start_time": "2022-07-18T16:40:06.169Z"
   },
   {
    "duration": 4,
    "start_time": "2022-07-18T16:40:08.342Z"
   },
   {
    "duration": 108,
    "start_time": "2022-07-18T17:27:15.983Z"
   },
   {
    "duration": 77,
    "start_time": "2022-07-18T17:27:31.548Z"
   },
   {
    "duration": 73,
    "start_time": "2022-07-18T17:28:17.475Z"
   },
   {
    "duration": 4,
    "start_time": "2022-07-18T17:29:30.694Z"
   },
   {
    "duration": 36,
    "start_time": "2022-07-18T17:29:31.170Z"
   },
   {
    "duration": 5,
    "start_time": "2022-07-18T17:29:31.377Z"
   },
   {
    "duration": 11,
    "start_time": "2022-07-18T17:29:31.589Z"
   },
   {
    "duration": 7,
    "start_time": "2022-07-18T17:29:31.774Z"
   },
   {
    "duration": 3,
    "start_time": "2022-07-18T17:29:32.002Z"
   },
   {
    "duration": 12,
    "start_time": "2022-07-18T17:29:32.221Z"
   },
   {
    "duration": 8,
    "start_time": "2022-07-18T17:29:32.466Z"
   },
   {
    "duration": 4,
    "start_time": "2022-07-18T17:29:32.905Z"
   },
   {
    "duration": 145,
    "start_time": "2022-07-18T17:29:33.539Z"
   },
   {
    "duration": 854,
    "start_time": "2022-07-18T17:29:34.143Z"
   },
   {
    "duration": 171,
    "start_time": "2022-07-18T17:29:34.999Z"
   },
   {
    "duration": 188,
    "start_time": "2022-07-18T17:29:35.339Z"
   },
   {
    "duration": 180,
    "start_time": "2022-07-18T17:29:35.820Z"
   },
   {
    "duration": 21,
    "start_time": "2022-07-18T17:29:36.614Z"
   },
   {
    "duration": 14,
    "start_time": "2022-07-18T17:29:37.293Z"
   },
   {
    "duration": 5,
    "start_time": "2022-07-18T17:29:38.073Z"
   },
   {
    "duration": 88,
    "start_time": "2022-07-18T17:29:38.607Z"
   },
   {
    "duration": 91,
    "start_time": "2022-07-18T17:29:57.199Z"
   },
   {
    "duration": 9,
    "start_time": "2022-07-18T17:31:00.047Z"
   },
   {
    "duration": 4,
    "start_time": "2022-07-18T17:32:21.364Z"
   },
   {
    "duration": 5,
    "start_time": "2022-07-18T17:32:23.768Z"
   },
   {
    "duration": 5,
    "start_time": "2022-07-18T17:32:26.040Z"
   },
   {
    "duration": 6,
    "start_time": "2022-07-18T17:32:51.013Z"
   },
   {
    "duration": 72,
    "start_time": "2022-07-18T17:32:51.869Z"
   },
   {
    "duration": 4,
    "start_time": "2022-07-18T17:32:53.890Z"
   },
   {
    "duration": 5,
    "start_time": "2022-07-18T17:32:54.687Z"
   },
   {
    "duration": 4,
    "start_time": "2022-07-18T17:32:55.577Z"
   },
   {
    "duration": 6,
    "start_time": "2022-07-18T17:34:17.023Z"
   },
   {
    "duration": 82,
    "start_time": "2022-07-18T17:34:17.539Z"
   },
   {
    "duration": 4,
    "start_time": "2022-07-18T17:34:18.827Z"
   },
   {
    "duration": 4,
    "start_time": "2022-07-18T17:34:19.395Z"
   },
   {
    "duration": 3,
    "start_time": "2022-07-18T17:34:19.911Z"
   },
   {
    "duration": 7,
    "start_time": "2022-07-18T17:34:26.327Z"
   },
   {
    "duration": 77,
    "start_time": "2022-07-18T17:34:26.947Z"
   },
   {
    "duration": 3,
    "start_time": "2022-07-18T17:34:27.431Z"
   },
   {
    "duration": 4,
    "start_time": "2022-07-18T17:34:27.841Z"
   },
   {
    "duration": 4,
    "start_time": "2022-07-18T17:34:28.228Z"
   },
   {
    "duration": 8,
    "start_time": "2022-07-18T17:34:35.031Z"
   },
   {
    "duration": 72,
    "start_time": "2022-07-18T17:34:35.372Z"
   },
   {
    "duration": 3,
    "start_time": "2022-07-18T17:34:36.504Z"
   },
   {
    "duration": 5,
    "start_time": "2022-07-18T17:34:36.828Z"
   },
   {
    "duration": 7,
    "start_time": "2022-07-18T17:34:37.849Z"
   },
   {
    "duration": 9,
    "start_time": "2022-07-18T17:34:46.429Z"
   },
   {
    "duration": 80,
    "start_time": "2022-07-18T17:34:46.695Z"
   },
   {
    "duration": 4,
    "start_time": "2022-07-18T17:34:47.794Z"
   },
   {
    "duration": 5,
    "start_time": "2022-07-18T17:34:48.269Z"
   },
   {
    "duration": 5,
    "start_time": "2022-07-18T17:34:48.830Z"
   },
   {
    "duration": 7,
    "start_time": "2022-07-18T17:34:57.344Z"
   },
   {
    "duration": 75,
    "start_time": "2022-07-18T17:34:57.789Z"
   },
   {
    "duration": 5,
    "start_time": "2022-07-18T17:34:58.411Z"
   },
   {
    "duration": 4,
    "start_time": "2022-07-18T17:34:58.707Z"
   },
   {
    "duration": 4,
    "start_time": "2022-07-18T17:34:59.303Z"
   },
   {
    "duration": 9,
    "start_time": "2022-07-18T17:35:06.175Z"
   },
   {
    "duration": 307,
    "start_time": "2022-07-18T17:35:06.410Z"
   },
   {
    "duration": 3,
    "start_time": "2022-07-18T17:35:06.903Z"
   },
   {
    "duration": 4,
    "start_time": "2022-07-18T17:35:07.175Z"
   },
   {
    "duration": 4,
    "start_time": "2022-07-18T17:35:07.680Z"
   },
   {
    "duration": 6,
    "start_time": "2022-07-18T17:35:48.025Z"
   },
   {
    "duration": 239,
    "start_time": "2022-07-18T17:35:48.464Z"
   },
   {
    "duration": 4,
    "start_time": "2022-07-18T17:35:49.544Z"
   },
   {
    "duration": 5,
    "start_time": "2022-07-18T17:35:49.880Z"
   },
   {
    "duration": 4,
    "start_time": "2022-07-18T17:35:50.427Z"
   },
   {
    "duration": 10,
    "start_time": "2022-07-18T17:36:05.742Z"
   },
   {
    "duration": 128,
    "start_time": "2022-07-18T17:36:06.099Z"
   },
   {
    "duration": 6,
    "start_time": "2022-07-18T17:36:06.764Z"
   },
   {
    "duration": 3,
    "start_time": "2022-07-18T17:36:07.017Z"
   },
   {
    "duration": 4,
    "start_time": "2022-07-18T17:36:07.626Z"
   },
   {
    "duration": 104,
    "start_time": "2022-07-18T17:41:08.982Z"
   },
   {
    "duration": 70,
    "start_time": "2022-07-18T17:46:21.674Z"
   },
   {
    "duration": 82,
    "start_time": "2022-07-18T17:48:02.746Z"
   },
   {
    "duration": 71,
    "start_time": "2022-07-18T17:48:24.376Z"
   },
   {
    "duration": 14,
    "start_time": "2022-07-18T17:48:50.572Z"
   },
   {
    "duration": 7,
    "start_time": "2022-07-18T17:51:28.039Z"
   },
   {
    "duration": 4,
    "start_time": "2022-07-18T17:52:50.419Z"
   },
   {
    "duration": 3,
    "start_time": "2022-07-18T17:53:10.133Z"
   },
   {
    "duration": 6,
    "start_time": "2022-07-18T17:56:26.467Z"
   },
   {
    "duration": 118,
    "start_time": "2022-07-18T17:56:27.793Z"
   },
   {
    "duration": 898,
    "start_time": "2022-07-18T17:56:29.195Z"
   },
   {
    "duration": 127,
    "start_time": "2022-07-18T17:56:30.691Z"
   },
   {
    "duration": 111,
    "start_time": "2022-07-18T17:56:32.045Z"
   },
   {
    "duration": 165,
    "start_time": "2022-07-18T17:56:32.944Z"
   },
   {
    "duration": 18,
    "start_time": "2022-07-18T17:56:33.965Z"
   },
   {
    "duration": 11,
    "start_time": "2022-07-18T17:56:34.848Z"
   },
   {
    "duration": 4,
    "start_time": "2022-07-18T17:57:40.393Z"
   },
   {
    "duration": 9,
    "start_time": "2022-07-18T17:57:41.094Z"
   },
   {
    "duration": 4,
    "start_time": "2022-07-18T17:57:45.274Z"
   },
   {
    "duration": 3,
    "start_time": "2022-07-18T17:58:10.585Z"
   },
   {
    "duration": 5,
    "start_time": "2022-07-18T17:58:13.205Z"
   },
   {
    "duration": 8,
    "start_time": "2022-07-18T17:58:16.067Z"
   },
   {
    "duration": 10,
    "start_time": "2022-07-18T17:59:12.915Z"
   },
   {
    "duration": 14,
    "start_time": "2022-07-18T18:02:19.924Z"
   },
   {
    "duration": 5,
    "start_time": "2022-07-18T18:02:41.599Z"
   },
   {
    "duration": 4,
    "start_time": "2022-07-18T18:02:43.904Z"
   },
   {
    "duration": 10,
    "start_time": "2022-07-18T18:02:45.831Z"
   },
   {
    "duration": 12,
    "start_time": "2022-07-18T18:02:51.647Z"
   },
   {
    "duration": 3,
    "start_time": "2022-07-18T18:02:56.334Z"
   },
   {
    "duration": 5,
    "start_time": "2022-07-18T18:03:08.923Z"
   },
   {
    "duration": 4,
    "start_time": "2022-07-18T18:03:09.705Z"
   },
   {
    "duration": 3,
    "start_time": "2022-07-18T18:03:10.515Z"
   },
   {
    "duration": 46,
    "start_time": "2022-07-18T18:03:15.243Z"
   },
   {
    "duration": 19,
    "start_time": "2022-07-18T18:03:52.575Z"
   },
   {
    "duration": 28,
    "start_time": "2022-07-18T18:05:14.747Z"
   },
   {
    "duration": 5113,
    "start_time": "2022-07-18T18:05:44.846Z"
   },
   {
    "duration": 11,
    "start_time": "2022-07-18T18:08:13.150Z"
   },
   {
    "duration": 83,
    "start_time": "2022-07-18T18:08:18.889Z"
   },
   {
    "duration": 7,
    "start_time": "2022-07-18T18:14:38.382Z"
   },
   {
    "duration": 5,
    "start_time": "2022-07-18T18:14:39.767Z"
   },
   {
    "duration": 12,
    "start_time": "2022-07-18T18:14:41.529Z"
   },
   {
    "duration": 1209,
    "start_time": "2022-07-18T18:14:55.197Z"
   },
   {
    "duration": 4,
    "start_time": "2022-07-18T18:15:02.192Z"
   },
   {
    "duration": 4,
    "start_time": "2022-07-18T18:16:20.105Z"
   },
   {
    "duration": 4,
    "start_time": "2022-07-18T18:16:22.134Z"
   },
   {
    "duration": 5075,
    "start_time": "2022-07-18T18:18:02.142Z"
   },
   {
    "duration": 3670,
    "start_time": "2022-07-18T18:20:23.126Z"
   },
   {
    "duration": 6,
    "start_time": "2022-07-18T18:24:09.980Z"
   },
   {
    "duration": 6,
    "start_time": "2022-07-18T18:24:10.512Z"
   },
   {
    "duration": 5377,
    "start_time": "2022-07-18T18:24:13.644Z"
   },
   {
    "duration": 5086,
    "start_time": "2022-07-18T18:24:49.896Z"
   },
   {
    "duration": 3133,
    "start_time": "2022-07-18T18:25:32.467Z"
   },
   {
    "duration": 3727,
    "start_time": "2022-07-18T18:32:23.544Z"
   },
   {
    "duration": 3452,
    "start_time": "2022-07-18T18:33:09.732Z"
   },
   {
    "duration": 3770,
    "start_time": "2022-07-18T18:35:15.409Z"
   },
   {
    "duration": 144,
    "start_time": "2022-07-18T18:36:26.621Z"
   },
   {
    "duration": 162,
    "start_time": "2022-07-18T18:36:47.743Z"
   },
   {
    "duration": 44,
    "start_time": "2022-07-18T18:46:48.852Z"
   },
   {
    "duration": 7,
    "start_time": "2022-07-18T18:48:08.995Z"
   },
   {
    "duration": 8,
    "start_time": "2022-07-18T18:48:34.146Z"
   },
   {
    "duration": 22,
    "start_time": "2022-07-18T18:49:00.179Z"
   },
   {
    "duration": 8,
    "start_time": "2022-07-18T18:49:40.050Z"
   },
   {
    "duration": 10,
    "start_time": "2022-07-18T18:51:11.979Z"
   },
   {
    "duration": 10,
    "start_time": "2022-07-18T18:51:24.005Z"
   },
   {
    "duration": 10,
    "start_time": "2022-07-18T18:51:31.279Z"
   },
   {
    "duration": 42,
    "start_time": "2022-07-18T18:51:32.717Z"
   },
   {
    "duration": 11,
    "start_time": "2022-07-18T18:51:35.099Z"
   },
   {
    "duration": 58,
    "start_time": "2022-07-18T18:51:36.027Z"
   },
   {
    "duration": 8,
    "start_time": "2022-07-18T18:52:24.302Z"
   },
   {
    "duration": 78,
    "start_time": "2022-07-18T18:52:54.890Z"
   },
   {
    "duration": 41,
    "start_time": "2022-07-18T18:54:14.223Z"
   },
   {
    "duration": 116,
    "start_time": "2022-07-18T18:55:19.756Z"
   },
   {
    "duration": 5,
    "start_time": "2022-07-18T18:56:25.109Z"
   },
   {
    "duration": 28,
    "start_time": "2022-07-18T18:56:28.572Z"
   },
   {
    "duration": 3344,
    "start_time": "2022-07-18T18:57:34.769Z"
   },
   {
    "duration": 5189,
    "start_time": "2022-07-18T18:58:33.434Z"
   },
   {
    "duration": 5005,
    "start_time": "2022-07-18T19:01:36.872Z"
   },
   {
    "duration": 3118,
    "start_time": "2022-07-18T19:02:40.282Z"
   },
   {
    "duration": 11,
    "start_time": "2022-07-18T19:03:30.963Z"
   },
   {
    "duration": 9,
    "start_time": "2022-07-18T19:04:19.194Z"
   },
   {
    "duration": 10,
    "start_time": "2022-07-18T19:04:25.035Z"
   },
   {
    "duration": 9,
    "start_time": "2022-07-18T19:04:25.864Z"
   },
   {
    "duration": 11,
    "start_time": "2022-07-18T19:04:45.762Z"
   },
   {
    "duration": 8,
    "start_time": "2022-07-18T19:04:55.740Z"
   },
   {
    "duration": 4,
    "start_time": "2022-07-18T19:07:54.120Z"
   },
   {
    "duration": 3,
    "start_time": "2022-07-18T19:32:51.879Z"
   },
   {
    "duration": 36,
    "start_time": "2022-07-18T19:32:57.799Z"
   },
   {
    "duration": 6,
    "start_time": "2022-07-18T19:32:58.328Z"
   },
   {
    "duration": 12,
    "start_time": "2022-07-18T19:32:58.825Z"
   },
   {
    "duration": 7,
    "start_time": "2022-07-18T19:32:59.522Z"
   },
   {
    "duration": 3,
    "start_time": "2022-07-18T19:33:00.009Z"
   },
   {
    "duration": 11,
    "start_time": "2022-07-18T19:33:00.503Z"
   },
   {
    "duration": 8,
    "start_time": "2022-07-18T19:33:00.980Z"
   },
   {
    "duration": 5,
    "start_time": "2022-07-18T19:33:01.860Z"
   },
   {
    "duration": 117,
    "start_time": "2022-07-18T19:33:03.403Z"
   },
   {
    "duration": 973,
    "start_time": "2022-07-18T19:33:04.685Z"
   },
   {
    "duration": 154,
    "start_time": "2022-07-18T19:33:05.902Z"
   },
   {
    "duration": 130,
    "start_time": "2022-07-18T19:33:07.086Z"
   },
   {
    "duration": 197,
    "start_time": "2022-07-18T19:33:08.607Z"
   },
   {
    "duration": 18,
    "start_time": "2022-07-18T19:33:10.181Z"
   },
   {
    "duration": 11,
    "start_time": "2022-07-18T19:33:12.718Z"
   },
   {
    "duration": 7,
    "start_time": "2022-07-18T19:33:14.691Z"
   },
   {
    "duration": 7,
    "start_time": "2022-07-18T19:33:15.548Z"
   },
   {
    "duration": 5225,
    "start_time": "2022-07-18T19:33:19.933Z"
   },
   {
    "duration": 15,
    "start_time": "2022-07-18T19:34:49.151Z"
   },
   {
    "duration": 11,
    "start_time": "2022-07-18T19:34:58.529Z"
   },
   {
    "duration": 10,
    "start_time": "2022-07-18T19:35:00.463Z"
   },
   {
    "duration": 16,
    "start_time": "2022-07-18T19:36:27.789Z"
   },
   {
    "duration": 9,
    "start_time": "2022-07-18T19:36:49.627Z"
   },
   {
    "duration": 4,
    "start_time": "2022-07-18T19:37:12.895Z"
   },
   {
    "duration": 36,
    "start_time": "2022-07-18T19:37:13.283Z"
   },
   {
    "duration": 6,
    "start_time": "2022-07-18T19:37:13.467Z"
   },
   {
    "duration": 14,
    "start_time": "2022-07-18T19:37:13.662Z"
   },
   {
    "duration": 13,
    "start_time": "2022-07-18T19:37:13.848Z"
   },
   {
    "duration": 4,
    "start_time": "2022-07-18T19:37:14.063Z"
   },
   {
    "duration": 18,
    "start_time": "2022-07-18T19:37:14.243Z"
   },
   {
    "duration": 9,
    "start_time": "2022-07-18T19:37:14.624Z"
   },
   {
    "duration": 5,
    "start_time": "2022-07-18T19:37:15.063Z"
   },
   {
    "duration": 126,
    "start_time": "2022-07-18T19:37:15.676Z"
   },
   {
    "duration": 905,
    "start_time": "2022-07-18T19:37:16.349Z"
   },
   {
    "duration": 154,
    "start_time": "2022-07-18T19:37:17.256Z"
   },
   {
    "duration": 125,
    "start_time": "2022-07-18T19:37:17.664Z"
   },
   {
    "duration": 186,
    "start_time": "2022-07-18T19:37:18.230Z"
   },
   {
    "duration": 17,
    "start_time": "2022-07-18T19:37:18.753Z"
   },
   {
    "duration": 9,
    "start_time": "2022-07-18T19:37:19.210Z"
   },
   {
    "duration": 7,
    "start_time": "2022-07-18T19:37:20.099Z"
   },
   {
    "duration": 8,
    "start_time": "2022-07-18T19:37:20.350Z"
   },
   {
    "duration": 4941,
    "start_time": "2022-07-18T19:37:21.584Z"
   },
   {
    "duration": 3071,
    "start_time": "2022-07-18T19:37:30.164Z"
   },
   {
    "duration": 705,
    "start_time": "2022-07-18T19:37:34.663Z"
   },
   {
    "duration": 6,
    "start_time": "2022-07-18T19:37:38.039Z"
   },
   {
    "duration": 107,
    "start_time": "2022-07-18T19:37:39.377Z"
   },
   {
    "duration": 15,
    "start_time": "2022-07-18T19:37:44.195Z"
   },
   {
    "duration": 11,
    "start_time": "2022-07-18T19:37:46.099Z"
   },
   {
    "duration": 13,
    "start_time": "2022-07-18T19:38:18.941Z"
   },
   {
    "duration": 10,
    "start_time": "2022-07-18T19:38:56.170Z"
   },
   {
    "duration": 3870,
    "start_time": "2022-07-18T19:40:20.862Z"
   },
   {
    "duration": 84,
    "start_time": "2022-07-18T19:41:23.401Z"
   },
   {
    "duration": 3844,
    "start_time": "2022-07-18T19:41:30.431Z"
   },
   {
    "duration": 741,
    "start_time": "2022-07-18T19:43:12.600Z"
   },
   {
    "duration": 837,
    "start_time": "2022-07-18T19:43:37.441Z"
   },
   {
    "duration": 117,
    "start_time": "2022-07-18T19:45:57.982Z"
   },
   {
    "duration": 749,
    "start_time": "2022-07-18T19:46:31.923Z"
   },
   {
    "duration": 767,
    "start_time": "2022-07-18T19:46:59.932Z"
   },
   {
    "duration": 742,
    "start_time": "2022-07-18T19:47:43.193Z"
   },
   {
    "duration": 121,
    "start_time": "2022-07-18T19:50:13.699Z"
   },
   {
    "duration": 30,
    "start_time": "2022-07-18T19:52:33.993Z"
   },
   {
    "duration": 23,
    "start_time": "2022-07-18T19:54:36.975Z"
   },
   {
    "duration": 33,
    "start_time": "2022-07-18T19:54:48.962Z"
   },
   {
    "duration": 29,
    "start_time": "2022-07-18T19:55:18.863Z"
   },
   {
    "duration": 29,
    "start_time": "2022-07-18T19:55:25.293Z"
   },
   {
    "duration": 24,
    "start_time": "2022-07-18T19:55:32.025Z"
   },
   {
    "duration": 30,
    "start_time": "2022-07-18T19:55:38.627Z"
   },
   {
    "duration": 25,
    "start_time": "2022-07-18T19:55:45.508Z"
   },
   {
    "duration": 26,
    "start_time": "2022-07-18T19:55:50.995Z"
   },
   {
    "duration": 11,
    "start_time": "2022-07-18T19:55:56.721Z"
   },
   {
    "duration": 13,
    "start_time": "2022-07-18T19:56:01.297Z"
   },
   {
    "duration": 16,
    "start_time": "2022-07-18T19:56:06.863Z"
   },
   {
    "duration": 16,
    "start_time": "2022-07-18T19:56:13.193Z"
   },
   {
    "duration": 22,
    "start_time": "2022-07-18T19:56:18.148Z"
   },
   {
    "duration": 20,
    "start_time": "2022-07-18T19:56:23.186Z"
   },
   {
    "duration": 21,
    "start_time": "2022-07-18T19:56:28.398Z"
   },
   {
    "duration": 35,
    "start_time": "2022-07-18T19:56:34.231Z"
   },
   {
    "duration": 25,
    "start_time": "2022-07-18T19:56:39.067Z"
   },
   {
    "duration": 32,
    "start_time": "2022-07-18T19:56:44.300Z"
   },
   {
    "duration": 19,
    "start_time": "2022-07-18T19:56:51.663Z"
   },
   {
    "duration": 407,
    "start_time": "2022-07-18T19:57:41.993Z"
   },
   {
    "duration": 10,
    "start_time": "2022-07-18T19:59:53.229Z"
   },
   {
    "duration": 811,
    "start_time": "2022-07-18T20:00:36.085Z"
   },
   {
    "duration": 821,
    "start_time": "2022-07-18T20:00:47.145Z"
   },
   {
    "duration": 53,
    "start_time": "2022-07-18T20:02:41.371Z"
   },
   {
    "duration": 11,
    "start_time": "2022-07-18T20:02:54.300Z"
   },
   {
    "duration": 39,
    "start_time": "2022-07-18T20:05:20.822Z"
   },
   {
    "duration": 43,
    "start_time": "2022-07-18T20:05:48.609Z"
   },
   {
    "duration": 750,
    "start_time": "2022-07-18T20:09:42.509Z"
   },
   {
    "duration": 813,
    "start_time": "2022-07-18T20:10:04.243Z"
   },
   {
    "duration": 22,
    "start_time": "2022-07-18T20:13:09.579Z"
   },
   {
    "duration": 3044,
    "start_time": "2022-07-18T20:15:46.696Z"
   },
   {
    "duration": 110,
    "start_time": "2022-07-18T20:17:00.692Z"
   },
   {
    "duration": 40,
    "start_time": "2022-07-18T20:18:44.643Z"
   },
   {
    "duration": 74,
    "start_time": "2022-07-18T20:19:25.439Z"
   },
   {
    "duration": 10,
    "start_time": "2022-07-18T20:20:26.913Z"
   },
   {
    "duration": 120,
    "start_time": "2022-07-18T20:21:05.405Z"
   },
   {
    "duration": 30,
    "start_time": "2022-07-18T20:21:09.727Z"
   },
   {
    "duration": 862,
    "start_time": "2022-07-18T20:24:37.449Z"
   },
   {
    "duration": 773,
    "start_time": "2022-07-18T20:25:10.092Z"
   },
   {
    "duration": 784,
    "start_time": "2022-07-18T20:25:56.005Z"
   },
   {
    "duration": 852,
    "start_time": "2022-07-18T20:27:34.801Z"
   },
   {
    "duration": 61,
    "start_time": "2022-07-18T20:27:59.901Z"
   },
   {
    "duration": 23,
    "start_time": "2022-07-18T20:28:35.903Z"
   },
   {
    "duration": 718,
    "start_time": "2022-07-18T20:29:06.982Z"
   },
   {
    "duration": 189,
    "start_time": "2022-07-18T20:29:29.069Z"
   },
   {
    "duration": 758,
    "start_time": "2022-07-18T20:30:24.607Z"
   },
   {
    "duration": 4654,
    "start_time": "2022-07-18T20:31:42.352Z"
   },
   {
    "duration": 38,
    "start_time": "2022-07-18T20:33:09.620Z"
   },
   {
    "duration": 36,
    "start_time": "2022-07-18T20:33:12.765Z"
   },
   {
    "duration": 10,
    "start_time": "2022-07-18T20:34:41.464Z"
   },
   {
    "duration": 10,
    "start_time": "2022-07-18T20:35:07.011Z"
   },
   {
    "duration": 10,
    "start_time": "2022-07-18T20:37:12.635Z"
   },
   {
    "duration": 89,
    "start_time": "2022-07-18T20:37:13.476Z"
   },
   {
    "duration": 391,
    "start_time": "2022-07-18T20:37:36.665Z"
   },
   {
    "duration": 397,
    "start_time": "2022-07-18T20:37:45.911Z"
   },
   {
    "duration": 9,
    "start_time": "2022-07-18T20:38:19.595Z"
   },
   {
    "duration": 18,
    "start_time": "2022-07-18T20:44:50.332Z"
   },
   {
    "duration": 436,
    "start_time": "2022-07-18T20:47:39.160Z"
   },
   {
    "duration": 4,
    "start_time": "2022-07-18T20:48:18.510Z"
   },
   {
    "duration": 35,
    "start_time": "2022-07-18T20:48:19.282Z"
   },
   {
    "duration": 4,
    "start_time": "2022-07-18T20:48:19.498Z"
   },
   {
    "duration": 11,
    "start_time": "2022-07-18T20:48:19.723Z"
   },
   {
    "duration": 8,
    "start_time": "2022-07-18T20:48:19.943Z"
   },
   {
    "duration": 2,
    "start_time": "2022-07-18T20:48:20.167Z"
   },
   {
    "duration": 10,
    "start_time": "2022-07-18T20:48:20.379Z"
   },
   {
    "duration": 9,
    "start_time": "2022-07-18T20:48:20.591Z"
   },
   {
    "duration": 4,
    "start_time": "2022-07-18T20:48:21.003Z"
   },
   {
    "duration": 105,
    "start_time": "2022-07-18T20:48:21.623Z"
   },
   {
    "duration": 984,
    "start_time": "2022-07-18T20:48:22.268Z"
   },
   {
    "duration": 124,
    "start_time": "2022-07-18T20:48:23.254Z"
   },
   {
    "duration": 120,
    "start_time": "2022-07-18T20:48:23.576Z"
   },
   {
    "duration": 136,
    "start_time": "2022-07-18T20:48:24.014Z"
   },
   {
    "duration": 13,
    "start_time": "2022-07-18T20:48:24.657Z"
   },
   {
    "duration": 9,
    "start_time": "2022-07-18T20:48:25.089Z"
   },
   {
    "duration": 6,
    "start_time": "2022-07-18T20:48:25.874Z"
   },
   {
    "duration": 8,
    "start_time": "2022-07-18T20:48:26.102Z"
   },
   {
    "duration": 4571,
    "start_time": "2022-07-18T20:48:27.086Z"
   },
   {
    "duration": 2937,
    "start_time": "2022-07-18T20:48:31.659Z"
   },
   {
    "duration": 260,
    "start_time": "2022-07-18T20:48:34.597Z"
   },
   {
    "duration": 6,
    "start_time": "2022-07-18T20:48:34.859Z"
   },
   {
    "duration": 273,
    "start_time": "2022-07-18T20:48:34.866Z"
   },
   {
    "duration": 11,
    "start_time": "2022-07-18T20:48:41.709Z"
   },
   {
    "duration": 45,
    "start_time": "2022-07-18T20:48:43.307Z"
   },
   {
    "duration": 707,
    "start_time": "2022-07-18T20:48:44.800Z"
   },
   {
    "duration": 24,
    "start_time": "2022-07-18T20:48:47.913Z"
   },
   {
    "duration": 10,
    "start_time": "2022-07-18T20:48:49.485Z"
   },
   {
    "duration": 24,
    "start_time": "2022-07-18T20:48:50.205Z"
   },
   {
    "duration": 371,
    "start_time": "2022-07-18T20:48:51.430Z"
   },
   {
    "duration": 77,
    "start_time": "2022-07-18T20:48:51.953Z"
   },
   {
    "duration": 420,
    "start_time": "2022-07-18T20:49:01.320Z"
   },
   {
    "duration": 172,
    "start_time": "2022-07-18T20:50:23.882Z"
   },
   {
    "duration": 17,
    "start_time": "2022-07-18T20:51:33.078Z"
   },
   {
    "duration": 11,
    "start_time": "2022-07-18T20:52:31.444Z"
   },
   {
    "duration": 227,
    "start_time": "2022-07-18T20:52:43.612Z"
   },
   {
    "duration": 5,
    "start_time": "2022-07-18T20:55:13.683Z"
   },
   {
    "duration": 12,
    "start_time": "2022-07-18T20:55:25.992Z"
   },
   {
    "duration": 9,
    "start_time": "2022-07-18T20:55:50.465Z"
   },
   {
    "duration": 4,
    "start_time": "2022-07-18T20:56:02.022Z"
   },
   {
    "duration": 10,
    "start_time": "2022-07-18T20:56:13.176Z"
   },
   {
    "duration": 16,
    "start_time": "2022-07-18T20:57:36.658Z"
   },
   {
    "duration": 426,
    "start_time": "2022-07-18T21:03:41.130Z"
   },
   {
    "duration": 41,
    "start_time": "2022-07-18T21:06:13.551Z"
   },
   {
    "duration": 728,
    "start_time": "2022-07-18T21:06:53.684Z"
   },
   {
    "duration": 79,
    "start_time": "2022-07-18T21:07:16.275Z"
   },
   {
    "duration": 22,
    "start_time": "2022-07-18T21:07:54.053Z"
   },
   {
    "duration": 344,
    "start_time": "2022-07-18T21:08:25.360Z"
   },
   {
    "duration": 74,
    "start_time": "2022-07-18T21:09:37.579Z"
   },
   {
    "duration": 9,
    "start_time": "2022-07-18T21:09:46.334Z"
   },
   {
    "duration": 18,
    "start_time": "2022-07-18T21:24:53.923Z"
   },
   {
    "duration": 10,
    "start_time": "2022-07-18T21:40:22.984Z"
   },
   {
    "duration": 85,
    "start_time": "2022-07-18T21:42:18.541Z"
   },
   {
    "duration": 113,
    "start_time": "2022-07-19T17:50:16.778Z"
   },
   {
    "duration": 90,
    "start_time": "2022-07-19T17:51:02.063Z"
   },
   {
    "duration": 116,
    "start_time": "2022-07-19T18:03:12.423Z"
   },
   {
    "duration": 1468,
    "start_time": "2022-07-19T18:03:31.194Z"
   },
   {
    "duration": 86,
    "start_time": "2022-07-19T18:03:32.664Z"
   },
   {
    "duration": 7,
    "start_time": "2022-07-19T18:03:32.751Z"
   },
   {
    "duration": 21,
    "start_time": "2022-07-19T18:03:32.760Z"
   },
   {
    "duration": 7,
    "start_time": "2022-07-19T18:03:32.782Z"
   },
   {
    "duration": 4,
    "start_time": "2022-07-19T18:03:32.791Z"
   },
   {
    "duration": 24,
    "start_time": "2022-07-19T18:03:32.797Z"
   },
   {
    "duration": 9,
    "start_time": "2022-07-19T18:03:32.823Z"
   },
   {
    "duration": 15,
    "start_time": "2022-07-19T18:03:32.833Z"
   },
   {
    "duration": 135,
    "start_time": "2022-07-19T18:03:32.850Z"
   },
   {
    "duration": 847,
    "start_time": "2022-07-19T18:03:32.987Z"
   },
   {
    "duration": 146,
    "start_time": "2022-07-19T18:03:33.836Z"
   },
   {
    "duration": 209,
    "start_time": "2022-07-19T18:03:33.984Z"
   },
   {
    "duration": 182,
    "start_time": "2022-07-19T18:03:34.195Z"
   },
   {
    "duration": 13,
    "start_time": "2022-07-19T18:03:34.379Z"
   },
   {
    "duration": 9,
    "start_time": "2022-07-19T18:03:34.394Z"
   },
   {
    "duration": 23,
    "start_time": "2022-07-19T18:03:34.405Z"
   },
   {
    "duration": 6,
    "start_time": "2022-07-19T18:03:34.430Z"
   },
   {
    "duration": 5072,
    "start_time": "2022-07-19T18:03:34.438Z"
   },
   {
    "duration": 3251,
    "start_time": "2022-07-19T18:03:39.512Z"
   },
   {
    "duration": 767,
    "start_time": "2022-07-19T18:03:42.764Z"
   },
   {
    "duration": 267,
    "start_time": "2022-07-19T18:03:43.533Z"
   },
   {
    "duration": 0,
    "start_time": "2022-07-19T18:03:43.802Z"
   },
   {
    "duration": 0,
    "start_time": "2022-07-19T18:03:43.803Z"
   },
   {
    "duration": 0,
    "start_time": "2022-07-19T18:03:43.805Z"
   },
   {
    "duration": 0,
    "start_time": "2022-07-19T18:03:43.805Z"
   },
   {
    "duration": 0,
    "start_time": "2022-07-19T18:03:43.806Z"
   },
   {
    "duration": 0,
    "start_time": "2022-07-19T18:03:43.823Z"
   },
   {
    "duration": 0,
    "start_time": "2022-07-19T18:03:43.824Z"
   },
   {
    "duration": 0,
    "start_time": "2022-07-19T18:03:43.825Z"
   },
   {
    "duration": 0,
    "start_time": "2022-07-19T18:03:43.826Z"
   },
   {
    "duration": 0,
    "start_time": "2022-07-19T18:03:43.827Z"
   },
   {
    "duration": 0,
    "start_time": "2022-07-19T18:03:43.828Z"
   },
   {
    "duration": 0,
    "start_time": "2022-07-19T18:03:43.829Z"
   },
   {
    "duration": 0,
    "start_time": "2022-07-19T18:03:43.830Z"
   },
   {
    "duration": 0,
    "start_time": "2022-07-19T18:03:43.831Z"
   },
   {
    "duration": 6,
    "start_time": "2022-07-19T18:04:46.651Z"
   },
   {
    "duration": 6,
    "start_time": "2022-07-19T18:04:52.559Z"
   },
   {
    "duration": 132,
    "start_time": "2022-07-19T18:04:52.566Z"
   },
   {
    "duration": 10,
    "start_time": "2022-07-19T18:04:52.700Z"
   },
   {
    "duration": 121,
    "start_time": "2022-07-19T18:04:52.712Z"
   },
   {
    "duration": 992,
    "start_time": "2022-07-19T18:04:52.835Z"
   },
   {
    "duration": 120,
    "start_time": "2022-07-19T18:04:53.830Z"
   },
   {
    "duration": 177,
    "start_time": "2022-07-19T18:04:53.951Z"
   },
   {
    "duration": 94,
    "start_time": "2022-07-19T18:04:54.130Z"
   },
   {
    "duration": 508,
    "start_time": "2022-07-19T18:04:54.227Z"
   },
   {
    "duration": 194,
    "start_time": "2022-07-19T18:04:54.737Z"
   },
   {
    "duration": 252,
    "start_time": "2022-07-19T18:04:54.934Z"
   },
   {
    "duration": 241,
    "start_time": "2022-07-19T18:04:55.187Z"
   },
   {
    "duration": 194,
    "start_time": "2022-07-19T18:04:55.430Z"
   },
   {
    "duration": 5,
    "start_time": "2022-07-19T18:04:55.626Z"
   },
   {
    "duration": 9,
    "start_time": "2022-07-19T18:04:55.633Z"
   },
   {
    "duration": 47,
    "start_time": "2022-07-19T20:12:01.438Z"
   },
   {
    "duration": 1639,
    "start_time": "2022-07-19T20:12:08.874Z"
   },
   {
    "duration": 158,
    "start_time": "2022-07-19T20:12:10.515Z"
   },
   {
    "duration": 7,
    "start_time": "2022-07-19T20:12:10.674Z"
   },
   {
    "duration": 17,
    "start_time": "2022-07-19T20:12:10.683Z"
   },
   {
    "duration": 7,
    "start_time": "2022-07-19T20:12:10.702Z"
   },
   {
    "duration": 6,
    "start_time": "2022-07-19T20:12:10.710Z"
   },
   {
    "duration": 76,
    "start_time": "2022-07-19T20:23:06.368Z"
   },
   {
    "duration": 4,
    "start_time": "2022-07-19T20:24:30.808Z"
   },
   {
    "duration": 4,
    "start_time": "2022-07-19T20:26:46.189Z"
   },
   {
    "duration": 20,
    "start_time": "2022-07-19T20:26:52.963Z"
   },
   {
    "duration": 14,
    "start_time": "2022-07-19T20:43:59.517Z"
   },
   {
    "duration": 9,
    "start_time": "2022-07-19T20:53:33.616Z"
   },
   {
    "duration": 10,
    "start_time": "2022-07-19T20:53:36.365Z"
   },
   {
    "duration": 4,
    "start_time": "2022-07-19T20:53:42.556Z"
   },
   {
    "duration": 39,
    "start_time": "2022-07-19T20:53:43.009Z"
   },
   {
    "duration": 5,
    "start_time": "2022-07-19T20:53:43.244Z"
   },
   {
    "duration": 14,
    "start_time": "2022-07-19T20:53:43.526Z"
   },
   {
    "duration": 7,
    "start_time": "2022-07-19T20:53:43.801Z"
   },
   {
    "duration": 3,
    "start_time": "2022-07-19T20:53:44.789Z"
   },
   {
    "duration": 13,
    "start_time": "2022-07-19T20:53:45.274Z"
   },
   {
    "duration": 5,
    "start_time": "2022-07-19T20:53:45.586Z"
   },
   {
    "duration": 8,
    "start_time": "2022-07-19T20:53:45.830Z"
   },
   {
    "duration": 5,
    "start_time": "2022-07-19T20:53:46.474Z"
   },
   {
    "duration": 141,
    "start_time": "2022-07-19T20:53:47.359Z"
   },
   {
    "duration": 869,
    "start_time": "2022-07-19T20:53:48.088Z"
   },
   {
    "duration": 139,
    "start_time": "2022-07-19T20:53:49.253Z"
   },
   {
    "duration": 188,
    "start_time": "2022-07-19T20:53:49.956Z"
   },
   {
    "duration": 164,
    "start_time": "2022-07-19T20:53:50.335Z"
   },
   {
    "duration": 15,
    "start_time": "2022-07-19T20:53:50.716Z"
   },
   {
    "duration": 10,
    "start_time": "2022-07-19T20:53:51.111Z"
   },
   {
    "duration": 7,
    "start_time": "2022-07-19T20:53:51.830Z"
   },
   {
    "duration": 7,
    "start_time": "2022-07-19T20:53:52.273Z"
   },
   {
    "duration": 5242,
    "start_time": "2022-07-19T20:53:53.538Z"
   },
   {
    "duration": 3430,
    "start_time": "2022-07-19T20:53:58.782Z"
   },
   {
    "duration": 688,
    "start_time": "2022-07-19T20:54:02.214Z"
   },
   {
    "duration": 6,
    "start_time": "2022-07-19T20:54:04.749Z"
   },
   {
    "duration": 133,
    "start_time": "2022-07-19T20:54:06.981Z"
   },
   {
    "duration": 14,
    "start_time": "2022-07-19T20:54:17.581Z"
   },
   {
    "duration": 51,
    "start_time": "2022-07-19T20:54:19.550Z"
   },
   {
    "duration": 849,
    "start_time": "2022-07-19T20:54:21.656Z"
   },
   {
    "duration": 31,
    "start_time": "2022-07-19T20:54:23.112Z"
   },
   {
    "duration": 11,
    "start_time": "2022-07-19T20:54:24.742Z"
   },
   {
    "duration": 10,
    "start_time": "2022-07-19T20:54:25.458Z"
   },
   {
    "duration": 5,
    "start_time": "2022-07-19T20:54:40.733Z"
   },
   {
    "duration": 13,
    "start_time": "2022-07-19T20:54:55.186Z"
   },
   {
    "duration": 7,
    "start_time": "2022-07-19T20:55:59.468Z"
   },
   {
    "duration": 6,
    "start_time": "2022-07-19T20:57:04.451Z"
   },
   {
    "duration": 264,
    "start_time": "2022-07-19T21:00:34.394Z"
   },
   {
    "duration": 270,
    "start_time": "2022-07-19T21:00:40.357Z"
   },
   {
    "duration": 194,
    "start_time": "2022-07-19T21:01:06.008Z"
   },
   {
    "duration": 13,
    "start_time": "2022-07-19T21:02:15.263Z"
   },
   {
    "duration": 11,
    "start_time": "2022-07-19T21:02:43.830Z"
   },
   {
    "duration": 246,
    "start_time": "2022-07-19T21:02:53.656Z"
   },
   {
    "duration": 385,
    "start_time": "2022-07-19T21:02:58.721Z"
   },
   {
    "duration": 3,
    "start_time": "2022-07-19T21:14:37.833Z"
   },
   {
    "duration": 5,
    "start_time": "2022-07-19T21:14:42.843Z"
   },
   {
    "duration": 10,
    "start_time": "2022-07-19T21:15:15.926Z"
   },
   {
    "duration": 54,
    "start_time": "2022-07-20T07:30:59.028Z"
   },
   {
    "duration": 1644,
    "start_time": "2022-07-20T07:31:04.866Z"
   },
   {
    "duration": 77,
    "start_time": "2022-07-20T07:31:06.512Z"
   },
   {
    "duration": 8,
    "start_time": "2022-07-20T07:31:06.590Z"
   },
   {
    "duration": 20,
    "start_time": "2022-07-20T07:31:06.791Z"
   },
   {
    "duration": 67,
    "start_time": "2022-07-20T07:37:37.262Z"
   },
   {
    "duration": 36,
    "start_time": "2022-07-20T07:37:47.350Z"
   },
   {
    "duration": 5,
    "start_time": "2022-07-20T07:37:47.863Z"
   },
   {
    "duration": 15,
    "start_time": "2022-07-20T07:37:48.218Z"
   },
   {
    "duration": 7,
    "start_time": "2022-07-20T07:37:48.441Z"
   },
   {
    "duration": 3,
    "start_time": "2022-07-20T07:37:48.836Z"
   },
   {
    "duration": 11,
    "start_time": "2022-07-20T07:37:49.042Z"
   },
   {
    "duration": 4,
    "start_time": "2022-07-20T07:37:49.446Z"
   },
   {
    "duration": 7,
    "start_time": "2022-07-20T07:37:49.753Z"
   },
   {
    "duration": 5,
    "start_time": "2022-07-20T07:37:53.010Z"
   },
   {
    "duration": 154,
    "start_time": "2022-07-20T07:37:53.906Z"
   },
   {
    "duration": 910,
    "start_time": "2022-07-20T07:37:54.995Z"
   },
   {
    "duration": 193,
    "start_time": "2022-07-20T07:37:56.156Z"
   },
   {
    "duration": 113,
    "start_time": "2022-07-20T07:37:57.421Z"
   },
   {
    "duration": 165,
    "start_time": "2022-07-20T07:37:59.030Z"
   },
   {
    "duration": 13,
    "start_time": "2022-07-20T07:38:00.318Z"
   },
   {
    "duration": 10,
    "start_time": "2022-07-20T07:38:01.335Z"
   },
   {
    "duration": 9,
    "start_time": "2022-07-20T07:38:02.831Z"
   },
   {
    "duration": 6,
    "start_time": "2022-07-20T07:38:03.122Z"
   },
   {
    "duration": 5100,
    "start_time": "2022-07-20T07:38:05.485Z"
   },
   {
    "duration": 3112,
    "start_time": "2022-07-20T07:38:11.803Z"
   },
   {
    "duration": 19,
    "start_time": "2022-07-20T08:05:22.307Z"
   },
   {
    "duration": 8,
    "start_time": "2022-07-20T08:05:36.010Z"
   },
   {
    "duration": 6,
    "start_time": "2022-07-20T08:05:58.791Z"
   },
   {
    "duration": 8,
    "start_time": "2022-07-20T08:09:19.464Z"
   },
   {
    "duration": 49,
    "start_time": "2022-07-20T08:19:27.741Z"
   },
   {
    "duration": 73,
    "start_time": "2022-07-20T08:19:44.429Z"
   },
   {
    "duration": 51,
    "start_time": "2022-07-20T08:21:20.093Z"
   },
   {
    "duration": 50,
    "start_time": "2022-07-20T08:21:44.957Z"
   },
   {
    "duration": 1475,
    "start_time": "2022-07-20T13:14:38.277Z"
   },
   {
    "duration": 155,
    "start_time": "2022-07-20T13:14:40.167Z"
   },
   {
    "duration": 6,
    "start_time": "2022-07-20T13:14:42.560Z"
   },
   {
    "duration": 21,
    "start_time": "2022-07-20T13:14:43.311Z"
   },
   {
    "duration": 9,
    "start_time": "2022-07-20T13:14:43.892Z"
   },
   {
    "duration": 4,
    "start_time": "2022-07-20T13:14:45.720Z"
   },
   {
    "duration": 15,
    "start_time": "2022-07-20T13:14:46.264Z"
   },
   {
    "duration": 4,
    "start_time": "2022-07-20T13:14:46.728Z"
   },
   {
    "duration": 8,
    "start_time": "2022-07-20T13:14:47.219Z"
   },
   {
    "duration": 5,
    "start_time": "2022-07-20T13:15:02.892Z"
   },
   {
    "duration": 118,
    "start_time": "2022-07-20T13:15:04.131Z"
   },
   {
    "duration": 840,
    "start_time": "2022-07-20T13:15:05.066Z"
   },
   {
    "duration": 136,
    "start_time": "2022-07-20T13:15:06.029Z"
   },
   {
    "duration": 165,
    "start_time": "2022-07-20T13:15:06.911Z"
   },
   {
    "duration": 150,
    "start_time": "2022-07-20T13:15:08.006Z"
   },
   {
    "duration": 20,
    "start_time": "2022-07-20T13:15:08.945Z"
   },
   {
    "duration": 11,
    "start_time": "2022-07-20T13:15:09.771Z"
   },
   {
    "duration": 6,
    "start_time": "2022-07-20T13:15:10.743Z"
   },
   {
    "duration": 6,
    "start_time": "2022-07-20T13:15:10.979Z"
   },
   {
    "duration": 4664,
    "start_time": "2022-07-20T13:15:12.268Z"
   },
   {
    "duration": 3077,
    "start_time": "2022-07-20T13:15:16.934Z"
   },
   {
    "duration": 94,
    "start_time": "2022-07-20T13:20:30.819Z"
   },
   {
    "duration": 38,
    "start_time": "2022-07-20T13:21:14.060Z"
   },
   {
    "duration": 6,
    "start_time": "2022-07-20T13:21:14.931Z"
   },
   {
    "duration": 16,
    "start_time": "2022-07-20T13:21:16.685Z"
   },
   {
    "duration": 10,
    "start_time": "2022-07-20T13:21:18.325Z"
   },
   {
    "duration": 4,
    "start_time": "2022-07-20T13:21:19.415Z"
   },
   {
    "duration": 13,
    "start_time": "2022-07-20T13:21:19.893Z"
   },
   {
    "duration": 3,
    "start_time": "2022-07-20T13:21:20.571Z"
   },
   {
    "duration": 8,
    "start_time": "2022-07-20T13:21:22.282Z"
   },
   {
    "duration": 5,
    "start_time": "2022-07-20T13:21:23.968Z"
   },
   {
    "duration": 118,
    "start_time": "2022-07-20T13:21:26.219Z"
   },
   {
    "duration": 806,
    "start_time": "2022-07-20T13:21:28.417Z"
   },
   {
    "duration": 129,
    "start_time": "2022-07-20T13:21:31.871Z"
   },
   {
    "duration": 106,
    "start_time": "2022-07-20T13:21:33.514Z"
   },
   {
    "duration": 159,
    "start_time": "2022-07-20T13:21:34.312Z"
   },
   {
    "duration": 20,
    "start_time": "2022-07-20T13:21:35.302Z"
   },
   {
    "duration": 10,
    "start_time": "2022-07-20T13:21:36.815Z"
   },
   {
    "duration": 7,
    "start_time": "2022-07-20T13:21:38.760Z"
   },
   {
    "duration": 7,
    "start_time": "2022-07-20T13:21:39.443Z"
   },
   {
    "duration": 4986,
    "start_time": "2022-07-20T13:21:41.658Z"
   },
   {
    "duration": 3484,
    "start_time": "2022-07-20T13:21:46.646Z"
   },
   {
    "duration": 12,
    "start_time": "2022-07-20T13:21:50.131Z"
   },
   {
    "duration": 10,
    "start_time": "2022-07-20T13:21:53.534Z"
   },
   {
    "duration": 14,
    "start_time": "2022-07-20T13:22:45.563Z"
   },
   {
    "duration": 4,
    "start_time": "2022-07-20T13:22:55.088Z"
   },
   {
    "duration": 46,
    "start_time": "2022-07-20T13:22:56.459Z"
   },
   {
    "duration": 7,
    "start_time": "2022-07-20T13:22:57.025Z"
   },
   {
    "duration": 25,
    "start_time": "2022-07-20T13:23:02.321Z"
   },
   {
    "duration": 9,
    "start_time": "2022-07-20T13:23:02.966Z"
   },
   {
    "duration": 4,
    "start_time": "2022-07-20T13:23:03.720Z"
   },
   {
    "duration": 12,
    "start_time": "2022-07-20T13:23:04.332Z"
   },
   {
    "duration": 4,
    "start_time": "2022-07-20T13:23:05.061Z"
   },
   {
    "duration": 9,
    "start_time": "2022-07-20T13:23:06.061Z"
   },
   {
    "duration": 6,
    "start_time": "2022-07-20T13:23:10.560Z"
   },
   {
    "duration": 117,
    "start_time": "2022-07-20T13:23:13.897Z"
   },
   {
    "duration": 903,
    "start_time": "2022-07-20T13:23:20.170Z"
   },
   {
    "duration": 139,
    "start_time": "2022-07-20T13:23:22.698Z"
   },
   {
    "duration": 118,
    "start_time": "2022-07-20T13:23:24.091Z"
   },
   {
    "duration": 202,
    "start_time": "2022-07-20T13:23:25.090Z"
   },
   {
    "duration": 14,
    "start_time": "2022-07-20T13:23:26.519Z"
   },
   {
    "duration": 9,
    "start_time": "2022-07-20T13:23:27.885Z"
   },
   {
    "duration": 7,
    "start_time": "2022-07-20T13:23:29.663Z"
   },
   {
    "duration": 8,
    "start_time": "2022-07-20T13:23:29.996Z"
   },
   {
    "duration": 5109,
    "start_time": "2022-07-20T13:23:34.193Z"
   },
   {
    "duration": 3299,
    "start_time": "2022-07-20T13:23:39.304Z"
   },
   {
    "duration": 625,
    "start_time": "2022-07-20T13:23:42.605Z"
   },
   {
    "duration": 5019,
    "start_time": "2022-07-20T13:24:48.863Z"
   },
   {
    "duration": 20655,
    "start_time": "2022-07-20T13:28:32.665Z"
   },
   {
    "duration": 20342,
    "start_time": "2022-07-20T13:30:41.663Z"
   },
   {
    "duration": 20864,
    "start_time": "2022-07-20T13:32:01.571Z"
   },
   {
    "duration": 20776,
    "start_time": "2022-07-20T13:33:08.167Z"
   },
   {
    "duration": 2,
    "start_time": "2022-07-20T13:39:45.067Z"
   },
   {
    "duration": 9,
    "start_time": "2022-07-20T13:41:04.258Z"
   },
   {
    "duration": 19,
    "start_time": "2022-07-21T09:59:11.642Z"
   },
   {
    "duration": 5,
    "start_time": "2022-07-21T09:59:18.891Z"
   },
   {
    "duration": 53,
    "start_time": "2022-07-21T09:59:18.898Z"
   },
   {
    "duration": 6,
    "start_time": "2022-07-21T09:59:18.952Z"
   },
   {
    "duration": 27,
    "start_time": "2022-07-21T09:59:18.960Z"
   },
   {
    "duration": 11,
    "start_time": "2022-07-21T09:59:18.989Z"
   },
   {
    "duration": 6,
    "start_time": "2022-07-21T09:59:19.002Z"
   },
   {
    "duration": 17,
    "start_time": "2022-07-21T09:59:19.010Z"
   },
   {
    "duration": 5,
    "start_time": "2022-07-21T09:59:19.029Z"
   },
   {
    "duration": 8,
    "start_time": "2022-07-21T09:59:19.036Z"
   },
   {
    "duration": 10,
    "start_time": "2022-07-21T09:59:20.837Z"
   },
   {
    "duration": 24,
    "start_time": "2022-07-21T09:59:23.143Z"
   },
   {
    "duration": 6,
    "start_time": "2022-07-21T09:59:42.986Z"
   },
   {
    "duration": 58,
    "start_time": "2022-07-21T09:59:42.995Z"
   },
   {
    "duration": 8,
    "start_time": "2022-07-21T09:59:43.056Z"
   },
   {
    "duration": 25,
    "start_time": "2022-07-21T09:59:43.065Z"
   },
   {
    "duration": 14,
    "start_time": "2022-07-21T09:59:43.092Z"
   },
   {
    "duration": 16,
    "start_time": "2022-07-21T09:59:43.108Z"
   },
   {
    "duration": 14,
    "start_time": "2022-07-21T09:59:43.126Z"
   },
   {
    "duration": 4,
    "start_time": "2022-07-21T09:59:43.142Z"
   },
   {
    "duration": 9,
    "start_time": "2022-07-21T10:00:55.332Z"
   },
   {
    "duration": 358,
    "start_time": "2022-07-21T10:01:04.499Z"
   },
   {
    "duration": 246,
    "start_time": "2022-07-21T10:01:28.105Z"
   },
   {
    "duration": 240,
    "start_time": "2022-07-21T10:01:59.121Z"
   },
   {
    "duration": 245,
    "start_time": "2022-07-21T10:02:09.115Z"
   },
   {
    "duration": 324,
    "start_time": "2022-07-21T10:03:07.069Z"
   },
   {
    "duration": 254,
    "start_time": "2022-07-21T10:03:29.450Z"
   },
   {
    "duration": 442,
    "start_time": "2022-07-21T10:04:07.150Z"
   },
   {
    "duration": 293,
    "start_time": "2022-07-21T10:04:45.082Z"
   },
   {
    "duration": 331,
    "start_time": "2022-07-21T10:04:49.922Z"
   },
   {
    "duration": 354,
    "start_time": "2022-07-21T10:05:29.023Z"
   },
   {
    "duration": 349,
    "start_time": "2022-07-21T10:06:09.082Z"
   },
   {
    "duration": 3,
    "start_time": "2022-07-21T10:06:49.998Z"
   },
   {
    "duration": 353,
    "start_time": "2022-07-21T10:09:17.535Z"
   },
   {
    "duration": 370,
    "start_time": "2022-07-21T10:09:31.554Z"
   },
   {
    "duration": 484,
    "start_time": "2022-07-21T10:12:24.995Z"
   },
   {
    "duration": 371,
    "start_time": "2022-07-21T10:12:29.923Z"
   },
   {
    "duration": 433,
    "start_time": "2022-07-21T10:13:08.551Z"
   },
   {
    "duration": 491,
    "start_time": "2022-07-21T10:13:24.400Z"
   },
   {
    "duration": 382,
    "start_time": "2022-07-21T10:13:40.302Z"
   },
   {
    "duration": 11,
    "start_time": "2022-07-21T10:17:01.538Z"
   },
   {
    "duration": 14,
    "start_time": "2022-07-21T10:17:44.888Z"
   },
   {
    "duration": 10,
    "start_time": "2022-07-21T10:18:06.042Z"
   },
   {
    "duration": 80,
    "start_time": "2022-07-21T10:26:22.746Z"
   },
   {
    "duration": 1683,
    "start_time": "2022-07-22T16:41:23.993Z"
   },
   {
    "duration": 103,
    "start_time": "2022-07-22T16:41:26.163Z"
   },
   {
    "duration": 10,
    "start_time": "2022-07-22T16:41:28.289Z"
   },
   {
    "duration": 20,
    "start_time": "2022-07-22T16:41:29.489Z"
   },
   {
    "duration": 9,
    "start_time": "2022-07-22T16:41:30.797Z"
   },
   {
    "duration": 4,
    "start_time": "2022-07-22T16:41:31.949Z"
   },
   {
    "duration": 13,
    "start_time": "2022-07-22T16:41:32.771Z"
   },
   {
    "duration": 5,
    "start_time": "2022-07-22T16:41:33.800Z"
   },
   {
    "duration": 3,
    "start_time": "2022-07-22T16:41:34.758Z"
   },
   {
    "duration": 10,
    "start_time": "2022-07-22T16:41:35.846Z"
   },
   {
    "duration": 5,
    "start_time": "2022-07-22T17:48:22.175Z"
   },
   {
    "duration": 41,
    "start_time": "2022-07-22T17:48:23.047Z"
   },
   {
    "duration": 6,
    "start_time": "2022-07-22T17:48:23.486Z"
   },
   {
    "duration": 17,
    "start_time": "2022-07-22T17:48:23.913Z"
   },
   {
    "duration": 9,
    "start_time": "2022-07-22T17:48:24.327Z"
   },
   {
    "duration": 3,
    "start_time": "2022-07-22T17:48:24.795Z"
   },
   {
    "duration": 12,
    "start_time": "2022-07-22T17:48:27.014Z"
   },
   {
    "duration": 6,
    "start_time": "2022-07-22T17:48:27.584Z"
   },
   {
    "duration": 3,
    "start_time": "2022-07-22T17:48:28.130Z"
   },
   {
    "duration": 8,
    "start_time": "2022-07-22T17:48:28.578Z"
   },
   {
    "duration": 452,
    "start_time": "2022-07-22T17:48:31.099Z"
   },
   {
    "duration": 7,
    "start_time": "2022-07-22T17:48:32.570Z"
   },
   {
    "duration": 146,
    "start_time": "2022-07-22T17:48:34.065Z"
   },
   {
    "duration": 989,
    "start_time": "2022-07-22T17:48:36.013Z"
   },
   {
    "duration": 65,
    "start_time": "2022-07-22T18:49:58.720Z"
   },
   {
    "duration": 5,
    "start_time": "2022-07-22T18:50:34.036Z"
   },
   {
    "duration": 46,
    "start_time": "2022-07-22T18:50:34.464Z"
   },
   {
    "duration": 7,
    "start_time": "2022-07-22T18:50:34.690Z"
   },
   {
    "duration": 23,
    "start_time": "2022-07-22T18:50:34.912Z"
   },
   {
    "duration": 8,
    "start_time": "2022-07-22T18:50:35.341Z"
   },
   {
    "duration": 4,
    "start_time": "2022-07-22T18:50:35.572Z"
   },
   {
    "duration": 12,
    "start_time": "2022-07-22T18:50:36.024Z"
   },
   {
    "duration": 4,
    "start_time": "2022-07-22T18:50:36.282Z"
   },
   {
    "duration": 4,
    "start_time": "2022-07-22T18:50:36.546Z"
   },
   {
    "duration": 10,
    "start_time": "2022-07-22T18:50:36.807Z"
   },
   {
    "duration": 419,
    "start_time": "2022-07-22T18:50:38.164Z"
   },
   {
    "duration": 6,
    "start_time": "2022-07-22T18:50:38.805Z"
   },
   {
    "duration": 136,
    "start_time": "2022-07-22T18:50:40.060Z"
   },
   {
    "duration": 1032,
    "start_time": "2022-07-22T18:50:40.738Z"
   },
   {
    "duration": 201,
    "start_time": "2022-07-22T18:50:41.774Z"
   },
   {
    "duration": 135,
    "start_time": "2022-07-22T18:50:42.162Z"
   },
   {
    "duration": 225,
    "start_time": "2022-07-22T18:50:42.755Z"
   },
   {
    "duration": 17,
    "start_time": "2022-07-22T18:50:43.343Z"
   },
   {
    "duration": 12,
    "start_time": "2022-07-22T18:50:43.903Z"
   },
   {
    "duration": 10,
    "start_time": "2022-07-22T18:50:44.971Z"
   },
   {
    "duration": 8,
    "start_time": "2022-07-22T18:50:45.255Z"
   },
   {
    "duration": 5894,
    "start_time": "2022-07-22T18:50:46.585Z"
   },
   {
    "duration": 3862,
    "start_time": "2022-07-22T18:50:52.481Z"
   },
   {
    "duration": 49,
    "start_time": "2022-07-22T18:50:56.345Z"
   },
   {
    "duration": 52,
    "start_time": "2022-07-22T18:51:03.241Z"
   },
   {
    "duration": 26383,
    "start_time": "2022-07-22T18:51:09.349Z"
   },
   {
    "duration": 26144,
    "start_time": "2022-07-22T18:51:43.973Z"
   },
   {
    "duration": 25431,
    "start_time": "2022-07-22T18:54:59.001Z"
   },
   {
    "duration": 25974,
    "start_time": "2022-07-22T19:01:36.165Z"
   },
   {
    "duration": 24856,
    "start_time": "2022-07-22T19:02:32.250Z"
   },
   {
    "duration": 25068,
    "start_time": "2022-07-22T19:04:19.033Z"
   },
   {
    "duration": 13,
    "start_time": "2022-07-22T19:08:56.203Z"
   },
   {
    "duration": 23,
    "start_time": "2022-07-22T19:08:58.513Z"
   },
   {
    "duration": 7,
    "start_time": "2022-07-22T19:09:00.312Z"
   },
   {
    "duration": 137,
    "start_time": "2022-07-22T19:09:30.563Z"
   },
   {
    "duration": 184,
    "start_time": "2022-07-22T19:09:43.400Z"
   },
   {
    "duration": 18,
    "start_time": "2022-07-22T19:09:46.956Z"
   },
   {
    "duration": 18,
    "start_time": "2022-07-22T19:09:54.189Z"
   },
   {
    "duration": 13,
    "start_time": "2022-07-22T19:40:19.375Z"
   },
   {
    "duration": 6,
    "start_time": "2022-07-22T19:40:20.796Z"
   },
   {
    "duration": 12,
    "start_time": "2022-07-22T19:40:43.839Z"
   },
   {
    "duration": 8,
    "start_time": "2022-07-22T19:40:44.738Z"
   },
   {
    "duration": 16,
    "start_time": "2022-07-22T19:40:50.574Z"
   },
   {
    "duration": 6,
    "start_time": "2022-07-22T19:40:51.245Z"
   },
   {
    "duration": 12,
    "start_time": "2022-07-22T19:40:56.883Z"
   },
   {
    "duration": 8,
    "start_time": "2022-07-22T19:40:57.615Z"
   },
   {
    "duration": 13,
    "start_time": "2022-07-22T19:41:03.907Z"
   },
   {
    "duration": 8,
    "start_time": "2022-07-22T19:41:04.962Z"
   },
   {
    "duration": 17,
    "start_time": "2022-07-22T19:41:10.040Z"
   },
   {
    "duration": 7,
    "start_time": "2022-07-22T19:41:10.790Z"
   },
   {
    "duration": 15,
    "start_time": "2022-07-22T19:41:51.750Z"
   },
   {
    "duration": 7,
    "start_time": "2022-07-22T19:41:52.403Z"
   },
   {
    "duration": 33,
    "start_time": "2022-07-22T19:43:08.817Z"
   },
   {
    "duration": 9,
    "start_time": "2022-07-22T19:43:09.480Z"
   },
   {
    "duration": 16,
    "start_time": "2022-07-22T19:43:26.918Z"
   },
   {
    "duration": 9,
    "start_time": "2022-07-22T19:43:27.892Z"
   },
   {
    "duration": 15,
    "start_time": "2022-07-22T19:43:34.175Z"
   },
   {
    "duration": 8,
    "start_time": "2022-07-22T19:43:35.102Z"
   },
   {
    "duration": 14,
    "start_time": "2022-07-22T19:43:39.913Z"
   },
   {
    "duration": 7,
    "start_time": "2022-07-22T19:43:40.584Z"
   },
   {
    "duration": 16,
    "start_time": "2022-07-22T19:43:46.439Z"
   },
   {
    "duration": 7,
    "start_time": "2022-07-22T19:43:46.906Z"
   },
   {
    "duration": 15,
    "start_time": "2022-07-22T19:43:52.456Z"
   },
   {
    "duration": 6,
    "start_time": "2022-07-22T19:43:52.860Z"
   },
   {
    "duration": 5,
    "start_time": "2022-07-22T21:32:59.318Z"
   },
   {
    "duration": 44,
    "start_time": "2022-07-22T21:33:00.746Z"
   },
   {
    "duration": 6,
    "start_time": "2022-07-22T21:33:05.094Z"
   },
   {
    "duration": 16,
    "start_time": "2022-07-22T21:33:06.161Z"
   },
   {
    "duration": 9,
    "start_time": "2022-07-22T21:33:07.145Z"
   },
   {
    "duration": 3,
    "start_time": "2022-07-22T21:33:08.045Z"
   },
   {
    "duration": 13,
    "start_time": "2022-07-22T21:33:08.777Z"
   },
   {
    "duration": 4,
    "start_time": "2022-07-22T21:33:09.697Z"
   },
   {
    "duration": 4,
    "start_time": "2022-07-22T21:33:10.519Z"
   },
   {
    "duration": 10,
    "start_time": "2022-07-22T21:33:11.293Z"
   },
   {
    "duration": 427,
    "start_time": "2022-07-22T21:33:14.241Z"
   },
   {
    "duration": 4,
    "start_time": "2022-07-22T21:33:16.717Z"
   },
   {
    "duration": 138,
    "start_time": "2022-07-22T21:33:25.376Z"
   },
   {
    "duration": 931,
    "start_time": "2022-07-22T21:33:30.435Z"
   },
   {
    "duration": 162,
    "start_time": "2022-07-22T21:33:34.359Z"
   },
   {
    "duration": 123,
    "start_time": "2022-07-22T21:33:36.319Z"
   },
   {
    "duration": 190,
    "start_time": "2022-07-22T21:33:38.221Z"
   },
   {
    "duration": 15,
    "start_time": "2022-07-22T21:33:40.139Z"
   },
   {
    "duration": 10,
    "start_time": "2022-07-22T21:33:41.672Z"
   },
   {
    "duration": 7,
    "start_time": "2022-07-22T21:33:43.665Z"
   },
   {
    "duration": 7,
    "start_time": "2022-07-22T21:33:44.254Z"
   },
   {
    "duration": 5370,
    "start_time": "2022-07-22T21:33:47.253Z"
   },
   {
    "duration": 3471,
    "start_time": "2022-07-22T21:33:55.387Z"
   },
   {
    "duration": 6,
    "start_time": "2022-07-22T21:35:57.391Z"
   },
   {
    "duration": 5,
    "start_time": "2022-07-22T21:39:42.878Z"
   },
   {
    "duration": 6,
    "start_time": "2022-07-22T21:39:46.778Z"
   },
   {
    "duration": 12,
    "start_time": "2022-07-22T21:39:53.234Z"
   },
   {
    "duration": 8,
    "start_time": "2022-07-22T21:39:53.974Z"
   },
   {
    "duration": 13,
    "start_time": "2022-07-22T21:40:30.867Z"
   },
   {
    "duration": 20,
    "start_time": "2022-07-22T21:42:19.420Z"
   },
   {
    "duration": 7,
    "start_time": "2022-07-22T21:42:23.205Z"
   },
   {
    "duration": 7,
    "start_time": "2022-07-22T21:42:30.696Z"
   },
   {
    "duration": 12,
    "start_time": "2022-07-22T21:42:33.050Z"
   },
   {
    "duration": 8,
    "start_time": "2022-07-22T21:42:34.442Z"
   },
   {
    "duration": 16,
    "start_time": "2022-07-22T21:42:41.112Z"
   },
   {
    "duration": 7,
    "start_time": "2022-07-22T21:42:43.113Z"
   },
   {
    "duration": 13,
    "start_time": "2022-07-22T21:42:49.905Z"
   },
   {
    "duration": 7,
    "start_time": "2022-07-22T21:42:51.689Z"
   },
   {
    "duration": 14,
    "start_time": "2022-07-22T21:42:56.412Z"
   },
   {
    "duration": 6,
    "start_time": "2022-07-22T21:42:57.600Z"
   },
   {
    "duration": 19,
    "start_time": "2022-07-22T21:43:03.521Z"
   },
   {
    "duration": 6,
    "start_time": "2022-07-22T21:43:05.017Z"
   },
   {
    "duration": 14,
    "start_time": "2022-07-22T21:43:12.688Z"
   },
   {
    "duration": 6,
    "start_time": "2022-07-22T21:43:14.085Z"
   },
   {
    "duration": 872,
    "start_time": "2022-07-22T21:47:24.065Z"
   },
   {
    "duration": 599,
    "start_time": "2022-07-22T21:47:44.169Z"
   },
   {
    "duration": 520,
    "start_time": "2022-07-22T21:47:55.090Z"
   },
   {
    "duration": 618,
    "start_time": "2022-07-22T21:48:05.179Z"
   },
   {
    "duration": 22,
    "start_time": "2022-07-22T21:48:21.395Z"
   },
   {
    "duration": 1387,
    "start_time": "2022-07-23T08:09:17.011Z"
   },
   {
    "duration": 185,
    "start_time": "2022-07-23T08:09:18.400Z"
   },
   {
    "duration": 7,
    "start_time": "2022-07-23T08:09:18.926Z"
   },
   {
    "duration": 18,
    "start_time": "2022-07-23T08:09:19.560Z"
   },
   {
    "duration": 6,
    "start_time": "2022-07-23T08:09:19.968Z"
   },
   {
    "duration": 3,
    "start_time": "2022-07-23T08:09:20.369Z"
   },
   {
    "duration": 13,
    "start_time": "2022-07-23T08:09:20.720Z"
   },
   {
    "duration": 4,
    "start_time": "2022-07-23T08:09:21.026Z"
   },
   {
    "duration": 3,
    "start_time": "2022-07-23T08:09:21.533Z"
   },
   {
    "duration": 9,
    "start_time": "2022-07-23T08:09:21.910Z"
   },
   {
    "duration": 458,
    "start_time": "2022-07-23T08:09:25.072Z"
   },
   {
    "duration": 4,
    "start_time": "2022-07-23T08:09:26.513Z"
   },
   {
    "duration": 129,
    "start_time": "2022-07-23T08:09:28.896Z"
   },
   {
    "duration": 850,
    "start_time": "2022-07-23T08:09:30.275Z"
   },
   {
    "duration": 122,
    "start_time": "2022-07-23T08:09:32.020Z"
   },
   {
    "duration": 111,
    "start_time": "2022-07-23T08:09:33.057Z"
   },
   {
    "duration": 158,
    "start_time": "2022-07-23T08:09:39.056Z"
   },
   {
    "duration": 14,
    "start_time": "2022-07-23T08:09:40.388Z"
   },
   {
    "duration": 9,
    "start_time": "2022-07-23T08:09:41.566Z"
   },
   {
    "duration": 7,
    "start_time": "2022-07-23T08:10:02.731Z"
   },
   {
    "duration": 7,
    "start_time": "2022-07-23T08:10:06.901Z"
   },
   {
    "duration": 4638,
    "start_time": "2022-07-23T08:10:09.621Z"
   },
   {
    "duration": 3159,
    "start_time": "2022-07-23T08:10:14.939Z"
   },
   {
    "duration": 20510,
    "start_time": "2022-07-23T08:10:21.525Z"
   },
   {
    "duration": 84,
    "start_time": "2022-07-23T08:13:39.904Z"
   },
   {
    "duration": 102,
    "start_time": "2022-07-23T08:21:39.699Z"
   },
   {
    "duration": 118,
    "start_time": "2022-07-23T08:26:53.698Z"
   },
   {
    "duration": 11,
    "start_time": "2022-07-23T08:29:16.894Z"
   },
   {
    "duration": 8,
    "start_time": "2022-07-23T08:31:17.064Z"
   },
   {
    "duration": 4,
    "start_time": "2022-07-23T08:31:24.457Z"
   },
   {
    "duration": 42,
    "start_time": "2022-07-23T08:31:25.311Z"
   },
   {
    "duration": 6,
    "start_time": "2022-07-23T08:31:25.764Z"
   },
   {
    "duration": 21,
    "start_time": "2022-07-23T08:31:26.053Z"
   },
   {
    "duration": 7,
    "start_time": "2022-07-23T08:31:26.264Z"
   },
   {
    "duration": 3,
    "start_time": "2022-07-23T08:31:26.465Z"
   },
   {
    "duration": 13,
    "start_time": "2022-07-23T08:31:26.655Z"
   },
   {
    "duration": 4,
    "start_time": "2022-07-23T08:31:26.883Z"
   },
   {
    "duration": 3,
    "start_time": "2022-07-23T08:31:27.600Z"
   },
   {
    "duration": 9,
    "start_time": "2022-07-23T08:31:27.829Z"
   },
   {
    "duration": 320,
    "start_time": "2022-07-23T08:31:28.973Z"
   },
   {
    "duration": 4,
    "start_time": "2022-07-23T08:31:29.463Z"
   },
   {
    "duration": 126,
    "start_time": "2022-07-23T08:31:30.582Z"
   },
   {
    "duration": 775,
    "start_time": "2022-07-23T08:31:31.808Z"
   },
   {
    "duration": 201,
    "start_time": "2022-07-23T08:31:35.435Z"
   },
   {
    "duration": 140,
    "start_time": "2022-07-23T08:31:36.065Z"
   },
   {
    "duration": 149,
    "start_time": "2022-07-23T08:31:36.800Z"
   },
   {
    "duration": 13,
    "start_time": "2022-07-23T08:31:37.592Z"
   },
   {
    "duration": 9,
    "start_time": "2022-07-23T08:31:38.260Z"
   },
   {
    "duration": 7,
    "start_time": "2022-07-23T08:31:39.505Z"
   },
   {
    "duration": 6,
    "start_time": "2022-07-23T08:31:39.813Z"
   },
   {
    "duration": 4931,
    "start_time": "2022-07-23T08:31:41.282Z"
   },
   {
    "duration": 3068,
    "start_time": "2022-07-23T08:31:46.215Z"
   },
   {
    "duration": 20058,
    "start_time": "2022-07-23T08:31:49.285Z"
   },
   {
    "duration": 11,
    "start_time": "2022-07-23T08:32:09.345Z"
   },
   {
    "duration": 695,
    "start_time": "2022-07-23T08:32:09.358Z"
   },
   {
    "duration": 8,
    "start_time": "2022-07-23T08:32:18.659Z"
   },
   {
    "duration": 429,
    "start_time": "2022-07-23T08:32:20.227Z"
   },
   {
    "duration": 5,
    "start_time": "2022-07-23T08:32:21.661Z"
   },
   {
    "duration": 129,
    "start_time": "2022-07-23T08:32:26.981Z"
   },
   {
    "duration": 12,
    "start_time": "2022-07-23T08:32:30.061Z"
   },
   {
    "duration": 2,
    "start_time": "2022-07-23T08:32:31.622Z"
   },
   {
    "duration": 5,
    "start_time": "2022-07-23T08:32:31.963Z"
   },
   {
    "duration": 41,
    "start_time": "2022-07-23T08:32:33.115Z"
   },
   {
    "duration": 748,
    "start_time": "2022-07-23T08:32:34.555Z"
   },
   {
    "duration": 26,
    "start_time": "2022-07-23T08:32:35.576Z"
   },
   {
    "duration": 11,
    "start_time": "2022-07-23T08:32:36.978Z"
   },
   {
    "duration": 5,
    "start_time": "2022-07-23T08:32:37.907Z"
   },
   {
    "duration": 22,
    "start_time": "2022-07-23T08:32:40.315Z"
   },
   {
    "duration": 342,
    "start_time": "2022-07-23T08:32:42.615Z"
   },
   {
    "duration": 17,
    "start_time": "2022-07-23T08:32:43.778Z"
   },
   {
    "duration": 3,
    "start_time": "2022-07-23T08:32:45.162Z"
   },
   {
    "duration": 15,
    "start_time": "2022-07-23T08:32:47.292Z"
   },
   {
    "duration": 15,
    "start_time": "2022-07-23T08:34:43.264Z"
   },
   {
    "duration": 14,
    "start_time": "2022-07-23T08:34:53.966Z"
   },
   {
    "duration": 9,
    "start_time": "2022-07-23T08:35:28.002Z"
   },
   {
    "duration": 16,
    "start_time": "2022-07-23T08:37:25.396Z"
   },
   {
    "duration": 14,
    "start_time": "2022-07-23T08:39:12.990Z"
   },
   {
    "duration": 127,
    "start_time": "2022-07-23T08:39:23.123Z"
   },
   {
    "duration": 12,
    "start_time": "2022-07-23T08:39:31.203Z"
   },
   {
    "duration": 3,
    "start_time": "2022-07-23T08:39:33.153Z"
   },
   {
    "duration": 6,
    "start_time": "2022-07-23T08:39:33.426Z"
   },
   {
    "duration": 51,
    "start_time": "2022-07-23T08:39:36.012Z"
   },
   {
    "duration": 755,
    "start_time": "2022-07-23T08:39:40.423Z"
   },
   {
    "duration": 40,
    "start_time": "2022-07-23T08:39:42.072Z"
   },
   {
    "duration": 11,
    "start_time": "2022-07-23T08:39:55.310Z"
   },
   {
    "duration": 5,
    "start_time": "2022-07-23T08:39:56.423Z"
   },
   {
    "duration": 107,
    "start_time": "2022-07-23T08:40:13.553Z"
   },
   {
    "duration": 363,
    "start_time": "2022-07-23T08:40:28.225Z"
   },
   {
    "duration": 18,
    "start_time": "2022-07-23T08:40:41.496Z"
   },
   {
    "duration": 2905,
    "start_time": "2022-07-23T08:40:43.744Z"
   },
   {
    "duration": 4430,
    "start_time": "2022-07-23T08:40:50.623Z"
   },
   {
    "duration": 16,
    "start_time": "2022-07-23T08:40:55.055Z"
   },
   {
    "duration": 203,
    "start_time": "2022-07-23T08:41:15.190Z"
   },
   {
    "duration": 4047,
    "start_time": "2022-07-23T08:41:52.191Z"
   },
   {
    "duration": 133,
    "start_time": "2022-07-23T08:42:11.458Z"
   },
   {
    "duration": 127,
    "start_time": "2022-07-23T08:42:48.860Z"
   },
   {
    "duration": 11,
    "start_time": "2022-07-23T08:43:54.304Z"
   },
   {
    "duration": 5,
    "start_time": "2022-07-23T08:43:55.152Z"
   },
   {
    "duration": 85,
    "start_time": "2022-07-23T12:37:28.283Z"
   },
   {
    "duration": 57,
    "start_time": "2022-07-23T15:12:23.107Z"
   },
   {
    "duration": 1626,
    "start_time": "2022-07-23T15:12:29.158Z"
   },
   {
    "duration": 87,
    "start_time": "2022-07-23T15:12:30.787Z"
   },
   {
    "duration": 8,
    "start_time": "2022-07-23T15:12:30.877Z"
   },
   {
    "duration": 20,
    "start_time": "2022-07-23T15:12:31.256Z"
   },
   {
    "duration": 11,
    "start_time": "2022-07-23T15:12:31.616Z"
   },
   {
    "duration": 3,
    "start_time": "2022-07-23T15:12:31.986Z"
   },
   {
    "duration": 13,
    "start_time": "2022-07-23T15:12:32.349Z"
   },
   {
    "duration": 5,
    "start_time": "2022-07-23T15:12:32.649Z"
   },
   {
    "duration": 3,
    "start_time": "2022-07-23T15:12:32.917Z"
   },
   {
    "duration": 9,
    "start_time": "2022-07-23T15:12:33.149Z"
   },
   {
    "duration": 528,
    "start_time": "2022-07-23T15:12:34.320Z"
   },
   {
    "duration": 5,
    "start_time": "2022-07-23T15:12:34.850Z"
   },
   {
    "duration": 141,
    "start_time": "2022-07-23T15:12:35.562Z"
   },
   {
    "duration": 1101,
    "start_time": "2022-07-23T15:12:36.187Z"
   },
   {
    "duration": 207,
    "start_time": "2022-07-23T15:12:37.291Z"
   },
   {
    "duration": 160,
    "start_time": "2022-07-23T15:12:37.500Z"
   },
   {
    "duration": 176,
    "start_time": "2022-07-23T15:12:37.748Z"
   },
   {
    "duration": 19,
    "start_time": "2022-07-23T15:12:38.215Z"
   },
   {
    "duration": 11,
    "start_time": "2022-07-23T15:12:39.252Z"
   },
   {
    "duration": 8,
    "start_time": "2022-07-23T15:12:40.254Z"
   },
   {
    "duration": 7,
    "start_time": "2022-07-23T15:12:40.560Z"
   },
   {
    "duration": 5720,
    "start_time": "2022-07-23T15:12:41.949Z"
   },
   {
    "duration": 3931,
    "start_time": "2022-07-23T15:12:47.672Z"
   },
   {
    "duration": 26832,
    "start_time": "2022-07-23T15:12:51.604Z"
   },
   {
    "duration": 20,
    "start_time": "2022-07-23T15:13:18.439Z"
   },
   {
    "duration": 2094,
    "start_time": "2022-07-23T15:13:18.461Z"
   },
   {
    "duration": 14,
    "start_time": "2022-07-23T15:13:25.750Z"
   },
   {
    "duration": 168,
    "start_time": "2022-07-23T15:13:26.951Z"
   },
   {
    "duration": 115,
    "start_time": "2022-07-23T15:13:30.850Z"
   },
   {
    "duration": 18,
    "start_time": "2022-07-23T15:14:01.550Z"
   },
   {
    "duration": 2,
    "start_time": "2022-07-23T15:14:03.350Z"
   },
   {
    "duration": 10,
    "start_time": "2022-07-23T15:14:03.675Z"
   },
   {
    "duration": 10,
    "start_time": "2022-07-23T15:14:23.088Z"
   },
   {
    "duration": 173,
    "start_time": "2022-07-23T15:14:52.651Z"
   },
   {
    "duration": 1049,
    "start_time": "2022-07-23T15:15:05.780Z"
   },
   {
    "duration": 32,
    "start_time": "2022-07-23T15:15:14.684Z"
   },
   {
    "duration": 31,
    "start_time": "2022-07-23T15:15:17.407Z"
   },
   {
    "duration": 13,
    "start_time": "2022-07-23T15:15:48.447Z"
   },
   {
    "duration": 8,
    "start_time": "2022-07-23T15:16:29.351Z"
   },
   {
    "duration": 13,
    "start_time": "2022-07-23T15:16:38.357Z"
   },
   {
    "duration": 7,
    "start_time": "2022-07-23T15:16:38.960Z"
   },
   {
    "duration": 4996,
    "start_time": "2022-07-23T15:17:42.749Z"
   },
   {
    "duration": 248,
    "start_time": "2022-07-23T15:17:47.753Z"
   },
   {
    "duration": 398,
    "start_time": "2022-07-23T15:18:19.204Z"
   },
   {
    "duration": 87,
    "start_time": "2022-07-23T15:18:38.562Z"
   },
   {
    "duration": 4889,
    "start_time": "2022-07-23T15:19:32.790Z"
   },
   {
    "duration": 3449,
    "start_time": "2022-07-23T15:20:16.099Z"
   },
   {
    "duration": 19,
    "start_time": "2022-07-23T15:21:16.561Z"
   },
   {
    "duration": 19,
    "start_time": "2022-07-23T15:21:46.246Z"
   },
   {
    "duration": 42,
    "start_time": "2022-07-23T15:21:49.220Z"
   },
   {
    "duration": 104,
    "start_time": "2022-07-23T15:21:52.586Z"
   },
   {
    "duration": 20,
    "start_time": "2022-07-23T15:21:53.797Z"
   },
   {
    "duration": 19,
    "start_time": "2022-07-23T15:22:12.096Z"
   },
   {
    "duration": 102,
    "start_time": "2022-07-23T15:22:29.837Z"
   },
   {
    "duration": 29,
    "start_time": "2022-07-23T15:22:34.450Z"
   },
   {
    "duration": 181,
    "start_time": "2022-07-23T15:24:02.412Z"
   },
   {
    "duration": 47,
    "start_time": "2022-07-23T15:24:03.305Z"
   },
   {
    "duration": 148,
    "start_time": "2022-07-23T15:24:54.273Z"
   },
   {
    "duration": 18,
    "start_time": "2022-07-23T15:33:52.945Z"
   },
   {
    "duration": 20,
    "start_time": "2022-07-23T15:34:10.012Z"
   },
   {
    "duration": 23101,
    "start_time": "2022-07-23T15:35:03.401Z"
   },
   {
    "duration": 22,
    "start_time": "2022-07-23T15:35:40.923Z"
   },
   {
    "duration": 21794,
    "start_time": "2022-07-23T15:35:53.558Z"
   },
   {
    "duration": 21488,
    "start_time": "2022-07-23T15:39:25.627Z"
   },
   {
    "duration": 21403,
    "start_time": "2022-07-23T15:41:41.857Z"
   },
   {
    "duration": 21875,
    "start_time": "2022-07-23T15:43:18.544Z"
   },
   {
    "duration": 19,
    "start_time": "2022-07-23T15:45:11.644Z"
   },
   {
    "duration": 21984,
    "start_time": "2022-07-23T15:45:23.859Z"
   },
   {
    "duration": 21806,
    "start_time": "2022-07-23T15:47:00.209Z"
   },
   {
    "duration": 54,
    "start_time": "2022-07-23T15:47:58.645Z"
   },
   {
    "duration": 22024,
    "start_time": "2022-07-23T15:48:03.662Z"
   },
   {
    "duration": 22012,
    "start_time": "2022-07-23T15:48:44.971Z"
   },
   {
    "duration": 22300,
    "start_time": "2022-07-23T15:50:06.877Z"
   },
   {
    "duration": 22174,
    "start_time": "2022-07-23T15:50:57.049Z"
   },
   {
    "duration": 4,
    "start_time": "2022-07-23T15:54:03.167Z"
   },
   {
    "duration": 72,
    "start_time": "2022-07-23T15:54:09.709Z"
   },
   {
    "duration": 111,
    "start_time": "2022-07-23T15:54:15.934Z"
   },
   {
    "duration": 112,
    "start_time": "2022-07-23T15:54:42.044Z"
   },
   {
    "duration": 125,
    "start_time": "2022-07-23T15:54:58.233Z"
   },
   {
    "duration": 112,
    "start_time": "2022-07-23T15:55:07.798Z"
   },
   {
    "duration": 565,
    "start_time": "2022-07-23T15:56:37.166Z"
   },
   {
    "duration": 21715,
    "start_time": "2022-07-23T15:57:29.896Z"
   },
   {
    "duration": 3838,
    "start_time": "2022-07-23T15:58:03.436Z"
   },
   {
    "duration": 270,
    "start_time": "2022-07-23T15:58:20.273Z"
   },
   {
    "duration": 1961,
    "start_time": "2022-07-23T15:58:31.077Z"
   },
   {
    "duration": 4747,
    "start_time": "2022-07-23T15:58:53.533Z"
   },
   {
    "duration": 82,
    "start_time": "2022-07-23T16:02:41.411Z"
   },
   {
    "duration": 21,
    "start_time": "2022-07-23T16:04:00.708Z"
   },
   {
    "duration": 20,
    "start_time": "2022-07-23T16:04:21.503Z"
   },
   {
    "duration": 18,
    "start_time": "2022-07-23T16:04:48.131Z"
   },
   {
    "duration": 82,
    "start_time": "2022-07-23T16:04:54.768Z"
   },
   {
    "duration": 614,
    "start_time": "2022-07-23T16:05:06.648Z"
   },
   {
    "duration": 62,
    "start_time": "2022-07-23T16:05:12.260Z"
   },
   {
    "duration": 122,
    "start_time": "2022-07-23T16:05:20.030Z"
   },
   {
    "duration": 85,
    "start_time": "2022-07-23T16:05:30.483Z"
   },
   {
    "duration": 63,
    "start_time": "2022-07-23T16:05:35.036Z"
   },
   {
    "duration": 29,
    "start_time": "2022-07-23T16:07:47.458Z"
   },
   {
    "duration": 52,
    "start_time": "2022-07-23T16:08:17.946Z"
   },
   {
    "duration": 20,
    "start_time": "2022-07-23T16:14:06.897Z"
   },
   {
    "duration": 8780,
    "start_time": "2022-07-23T16:14:18.953Z"
   },
   {
    "duration": 9011,
    "start_time": "2022-07-23T16:15:56.175Z"
   },
   {
    "duration": 8733,
    "start_time": "2022-07-23T16:17:07.240Z"
   },
   {
    "duration": 24,
    "start_time": "2022-07-23T16:17:46.475Z"
   },
   {
    "duration": 17,
    "start_time": "2022-07-23T16:17:47.770Z"
   },
   {
    "duration": 8679,
    "start_time": "2022-07-23T16:17:49.923Z"
   },
   {
    "duration": 32,
    "start_time": "2022-07-23T16:17:58.604Z"
   },
   {
    "duration": 17,
    "start_time": "2022-07-23T16:17:58.638Z"
   },
   {
    "duration": 62,
    "start_time": "2022-07-23T16:21:47.949Z"
   },
   {
    "duration": 604,
    "start_time": "2022-07-23T16:21:55.492Z"
   },
   {
    "duration": 579,
    "start_time": "2022-07-23T16:22:02.202Z"
   },
   {
    "duration": 66,
    "start_time": "2022-07-23T16:22:15.959Z"
   },
   {
    "duration": 27,
    "start_time": "2022-07-23T16:22:39.401Z"
   },
   {
    "duration": 10,
    "start_time": "2022-07-23T16:22:46.506Z"
   },
   {
    "duration": 74,
    "start_time": "2022-07-23T16:22:57.291Z"
   },
   {
    "duration": 4527,
    "start_time": "2022-07-23T16:23:34.171Z"
   },
   {
    "duration": 64,
    "start_time": "2022-07-24T08:40:01.192Z"
   },
   {
    "duration": 1506,
    "start_time": "2022-07-24T08:40:12.782Z"
   },
   {
    "duration": 78,
    "start_time": "2022-07-24T08:40:14.291Z"
   },
   {
    "duration": 6,
    "start_time": "2022-07-24T08:40:14.371Z"
   },
   {
    "duration": 22,
    "start_time": "2022-07-24T08:40:14.380Z"
   },
   {
    "duration": 7,
    "start_time": "2022-07-24T08:40:14.403Z"
   },
   {
    "duration": 5,
    "start_time": "2022-07-24T08:40:14.412Z"
   },
   {
    "duration": 15,
    "start_time": "2022-07-24T08:40:14.418Z"
   },
   {
    "duration": 4,
    "start_time": "2022-07-24T08:40:14.434Z"
   },
   {
    "duration": 21,
    "start_time": "2022-07-24T08:40:14.440Z"
   },
   {
    "duration": 8,
    "start_time": "2022-07-24T08:40:14.463Z"
   },
   {
    "duration": 465,
    "start_time": "2022-07-24T08:40:14.473Z"
   },
   {
    "duration": 5,
    "start_time": "2022-07-24T08:40:14.940Z"
   },
   {
    "duration": 137,
    "start_time": "2022-07-24T08:40:14.946Z"
   },
   {
    "duration": 963,
    "start_time": "2022-07-24T08:40:15.085Z"
   },
   {
    "duration": 144,
    "start_time": "2022-07-24T08:40:16.050Z"
   },
   {
    "duration": 178,
    "start_time": "2022-07-24T08:40:16.195Z"
   },
   {
    "duration": 237,
    "start_time": "2022-07-24T08:40:16.376Z"
   },
   {
    "duration": 14,
    "start_time": "2022-07-24T08:40:16.615Z"
   },
   {
    "duration": 9,
    "start_time": "2022-07-24T08:40:16.631Z"
   },
   {
    "duration": 6,
    "start_time": "2022-07-24T08:40:16.660Z"
   },
   {
    "duration": 9,
    "start_time": "2022-07-24T08:40:16.668Z"
   },
   {
    "duration": 131,
    "start_time": "2022-07-24T08:40:16.679Z"
   },
   {
    "duration": 0,
    "start_time": "2022-07-24T08:40:16.812Z"
   },
   {
    "duration": 0,
    "start_time": "2022-07-24T08:40:16.813Z"
   },
   {
    "duration": 0,
    "start_time": "2022-07-24T08:40:16.815Z"
   },
   {
    "duration": 0,
    "start_time": "2022-07-24T08:40:16.816Z"
   },
   {
    "duration": 0,
    "start_time": "2022-07-24T08:40:16.817Z"
   },
   {
    "duration": 0,
    "start_time": "2022-07-24T08:40:16.818Z"
   },
   {
    "duration": 1,
    "start_time": "2022-07-24T08:40:16.819Z"
   },
   {
    "duration": 0,
    "start_time": "2022-07-24T08:40:16.821Z"
   },
   {
    "duration": 0,
    "start_time": "2022-07-24T08:40:16.822Z"
   },
   {
    "duration": 0,
    "start_time": "2022-07-24T08:40:16.823Z"
   },
   {
    "duration": 0,
    "start_time": "2022-07-24T08:40:16.824Z"
   },
   {
    "duration": 0,
    "start_time": "2022-07-24T08:40:16.825Z"
   },
   {
    "duration": 0,
    "start_time": "2022-07-24T08:40:16.827Z"
   },
   {
    "duration": 0,
    "start_time": "2022-07-24T08:40:16.828Z"
   },
   {
    "duration": 0,
    "start_time": "2022-07-24T08:40:16.829Z"
   },
   {
    "duration": 0,
    "start_time": "2022-07-24T08:40:16.830Z"
   },
   {
    "duration": 0,
    "start_time": "2022-07-24T08:40:16.860Z"
   },
   {
    "duration": 0,
    "start_time": "2022-07-24T08:40:16.861Z"
   },
   {
    "duration": 0,
    "start_time": "2022-07-24T08:40:16.863Z"
   },
   {
    "duration": 0,
    "start_time": "2022-07-24T08:40:16.864Z"
   },
   {
    "duration": 3,
    "start_time": "2022-07-24T08:47:06.697Z"
   },
   {
    "duration": 18,
    "start_time": "2022-07-24T08:47:06.704Z"
   },
   {
    "duration": 1738,
    "start_time": "2022-07-24T08:47:07.040Z"
   },
   {
    "duration": 88,
    "start_time": "2022-07-24T08:47:08.781Z"
   },
   {
    "duration": 224,
    "start_time": "2022-07-24T08:47:08.874Z"
   },
   {
    "duration": 12,
    "start_time": "2022-07-24T08:47:09.099Z"
   },
   {
    "duration": 26,
    "start_time": "2022-07-24T08:47:09.113Z"
   },
   {
    "duration": 124,
    "start_time": "2022-07-24T08:47:09.140Z"
   },
   {
    "duration": 1021,
    "start_time": "2022-07-24T08:47:09.266Z"
   },
   {
    "duration": 195,
    "start_time": "2022-07-24T08:47:10.290Z"
   },
   {
    "duration": 88,
    "start_time": "2022-07-24T08:47:10.487Z"
   },
   {
    "duration": 120,
    "start_time": "2022-07-24T08:47:10.577Z"
   },
   {
    "duration": 76,
    "start_time": "2022-07-24T08:47:10.699Z"
   },
   {
    "duration": 583,
    "start_time": "2022-07-24T08:47:10.777Z"
   },
   {
    "duration": 112,
    "start_time": "2022-07-24T08:47:11.363Z"
   },
   {
    "duration": 9479,
    "start_time": "2022-07-24T08:47:11.479Z"
   },
   {
    "duration": 64,
    "start_time": "2022-07-24T08:47:20.961Z"
   },
   {
    "duration": 257,
    "start_time": "2022-07-24T08:47:21.027Z"
   },
   {
    "duration": 18,
    "start_time": "2022-07-24T08:47:21.287Z"
   },
   {
    "duration": 105,
    "start_time": "2022-07-24T08:47:21.364Z"
   },
   {
    "duration": 49,
    "start_time": "2022-07-24T09:14:04.529Z"
   },
   {
    "duration": 2033,
    "start_time": "2022-09-03T17:23:38.971Z"
   },
   {
    "duration": 517,
    "start_time": "2022-09-03T17:23:42.718Z"
   },
   {
    "duration": 7,
    "start_time": "2022-09-03T17:23:54.831Z"
   },
   {
    "duration": 27,
    "start_time": "2022-09-03T17:23:56.479Z"
   },
   {
    "duration": 15,
    "start_time": "2022-09-03T17:23:57.319Z"
   },
   {
    "duration": 5,
    "start_time": "2022-09-03T17:23:57.979Z"
   },
   {
    "duration": 19,
    "start_time": "2022-09-03T17:23:58.715Z"
   },
   {
    "duration": 8,
    "start_time": "2022-09-03T17:23:59.634Z"
   },
   {
    "duration": 5,
    "start_time": "2022-09-03T17:24:00.339Z"
   },
   {
    "duration": 9,
    "start_time": "2022-09-03T17:24:01.139Z"
   },
   {
    "duration": 604,
    "start_time": "2022-09-03T17:24:02.180Z"
   },
   {
    "duration": 20,
    "start_time": "2022-09-03T17:24:17.694Z"
   },
   {
    "duration": 52,
    "start_time": "2022-09-03T17:24:18.260Z"
   },
   {
    "duration": 6,
    "start_time": "2022-09-03T17:24:18.552Z"
   },
   {
    "duration": 34,
    "start_time": "2022-09-03T17:24:18.809Z"
   },
   {
    "duration": 13,
    "start_time": "2022-09-03T17:24:19.108Z"
   },
   {
    "duration": 4,
    "start_time": "2022-09-03T17:24:19.540Z"
   },
   {
    "duration": 17,
    "start_time": "2022-09-03T17:24:20.225Z"
   },
   {
    "duration": 7,
    "start_time": "2022-09-03T17:24:21.021Z"
   },
   {
    "duration": 7,
    "start_time": "2022-09-03T17:24:21.727Z"
   },
   {
    "duration": 11,
    "start_time": "2022-09-03T17:24:22.362Z"
   },
   {
    "duration": 483,
    "start_time": "2022-09-03T17:24:23.150Z"
   },
   {
    "duration": 167,
    "start_time": "2022-09-03T17:32:43.986Z"
   },
   {
    "duration": 1822,
    "start_time": "2022-09-04T08:10:24.404Z"
   },
   {
    "duration": 175,
    "start_time": "2022-09-04T08:10:27.036Z"
   },
   {
    "duration": 11,
    "start_time": "2022-09-04T08:10:27.359Z"
   },
   {
    "duration": 28,
    "start_time": "2022-09-04T08:10:27.690Z"
   },
   {
    "duration": 10,
    "start_time": "2022-09-04T08:10:27.868Z"
   },
   {
    "duration": 4,
    "start_time": "2022-09-04T08:10:28.053Z"
   },
   {
    "duration": 13,
    "start_time": "2022-09-04T08:10:28.210Z"
   },
   {
    "duration": 6,
    "start_time": "2022-09-04T08:10:28.396Z"
   },
   {
    "duration": 4,
    "start_time": "2022-09-04T08:10:28.588Z"
   },
   {
    "duration": 414,
    "start_time": "2022-09-04T08:10:28.747Z"
   },
   {
    "duration": 9,
    "start_time": "2022-09-04T08:10:29.163Z"
   },
   {
    "duration": 7,
    "start_time": "2022-09-04T08:10:29.186Z"
   },
   {
    "duration": 140,
    "start_time": "2022-09-04T08:10:29.564Z"
   },
   {
    "duration": 1025,
    "start_time": "2022-09-04T08:10:29.962Z"
   },
   {
    "duration": 176,
    "start_time": "2022-09-04T08:10:30.991Z"
   },
   {
    "duration": 125,
    "start_time": "2022-09-04T08:10:32.929Z"
   },
   {
    "duration": 180,
    "start_time": "2022-09-04T08:10:34.932Z"
   },
   {
    "duration": 15,
    "start_time": "2022-09-04T08:10:36.633Z"
   },
   {
    "duration": 10,
    "start_time": "2022-09-04T08:10:44.253Z"
   },
   {
    "duration": 16,
    "start_time": "2022-09-04T08:10:55.006Z"
   },
   {
    "duration": 14,
    "start_time": "2022-09-04T08:14:46.574Z"
   },
   {
    "duration": 7,
    "start_time": "2022-09-04T08:46:22.927Z"
   },
   {
    "duration": 7,
    "start_time": "2022-09-04T08:46:23.614Z"
   },
   {
    "duration": 7,
    "start_time": "2022-09-04T09:15:36.391Z"
   },
   {
    "duration": 142,
    "start_time": "2022-09-04T09:15:39.296Z"
   },
   {
    "duration": 5074,
    "start_time": "2022-09-04T09:16:30.486Z"
   },
   {
    "duration": 1544,
    "start_time": "2022-09-04T18:13:37.405Z"
   },
   {
    "duration": 157,
    "start_time": "2022-09-04T18:13:40.012Z"
   },
   {
    "duration": 6,
    "start_time": "2022-09-04T18:13:40.672Z"
   },
   {
    "duration": 16,
    "start_time": "2022-09-04T18:13:41.041Z"
   },
   {
    "duration": 6,
    "start_time": "2022-09-04T18:13:41.435Z"
   },
   {
    "duration": 3,
    "start_time": "2022-09-04T18:13:41.775Z"
   },
   {
    "duration": 10,
    "start_time": "2022-09-04T18:13:42.186Z"
   },
   {
    "duration": 5,
    "start_time": "2022-09-04T18:13:42.476Z"
   },
   {
    "duration": 3,
    "start_time": "2022-09-04T18:13:42.717Z"
   },
   {
    "duration": 317,
    "start_time": "2022-09-04T18:13:43.006Z"
   },
   {
    "duration": 7,
    "start_time": "2022-09-04T18:13:43.325Z"
   },
   {
    "duration": 4,
    "start_time": "2022-09-04T18:13:43.530Z"
   },
   {
    "duration": 109,
    "start_time": "2022-09-04T18:13:44.731Z"
   },
   {
    "duration": 878,
    "start_time": "2022-09-04T18:13:46.072Z"
   },
   {
    "duration": 115,
    "start_time": "2022-09-04T18:13:47.476Z"
   },
   {
    "duration": 121,
    "start_time": "2022-09-04T18:13:49.607Z"
   },
   {
    "duration": 165,
    "start_time": "2022-09-04T18:13:51.368Z"
   },
   {
    "duration": 13,
    "start_time": "2022-09-04T18:13:53.288Z"
   },
   {
    "duration": 13,
    "start_time": "2022-09-04T18:13:54.010Z"
   },
   {
    "duration": 6,
    "start_time": "2022-09-04T18:13:55.619Z"
   },
   {
    "duration": 6,
    "start_time": "2022-09-04T18:13:56.598Z"
   },
   {
    "duration": 103,
    "start_time": "2022-09-04T18:14:01.143Z"
   },
   {
    "duration": 98,
    "start_time": "2022-09-04T18:46:23.009Z"
   },
   {
    "duration": 9,
    "start_time": "2022-09-04T18:50:08.624Z"
   },
   {
    "duration": 26,
    "start_time": "2022-09-04T18:51:03.876Z"
   },
   {
    "duration": 115,
    "start_time": "2022-09-04T18:51:31.729Z"
   },
   {
    "duration": 112,
    "start_time": "2022-09-04T18:52:26.286Z"
   },
   {
    "duration": 13,
    "start_time": "2022-09-04T18:57:00.271Z"
   },
   {
    "duration": 10,
    "start_time": "2022-09-04T18:57:23.466Z"
   },
   {
    "duration": 105,
    "start_time": "2022-09-04T18:57:48.978Z"
   },
   {
    "duration": 101,
    "start_time": "2022-09-04T18:58:01.670Z"
   },
   {
    "duration": 82,
    "start_time": "2022-09-04T19:08:58.278Z"
   },
   {
    "duration": 110,
    "start_time": "2022-09-04T19:09:07.201Z"
   },
   {
    "duration": 3,
    "start_time": "2022-09-04T19:09:28.734Z"
   },
   {
    "duration": 40,
    "start_time": "2022-09-04T19:09:29.490Z"
   },
   {
    "duration": 6,
    "start_time": "2022-09-04T19:09:29.918Z"
   },
   {
    "duration": 15,
    "start_time": "2022-09-04T19:09:30.170Z"
   },
   {
    "duration": 8,
    "start_time": "2022-09-04T19:09:30.385Z"
   },
   {
    "duration": 4,
    "start_time": "2022-09-04T19:09:30.606Z"
   },
   {
    "duration": 11,
    "start_time": "2022-09-04T19:09:30.811Z"
   },
   {
    "duration": 4,
    "start_time": "2022-09-04T19:09:30.995Z"
   },
   {
    "duration": 3,
    "start_time": "2022-09-04T19:09:31.220Z"
   },
   {
    "duration": 308,
    "start_time": "2022-09-04T19:09:31.466Z"
   },
   {
    "duration": 7,
    "start_time": "2022-09-04T19:09:31.878Z"
   },
   {
    "duration": 5,
    "start_time": "2022-09-04T19:09:31.973Z"
   },
   {
    "duration": 190,
    "start_time": "2022-09-04T19:09:32.819Z"
   },
   {
    "duration": 812,
    "start_time": "2022-09-04T19:09:33.011Z"
   },
   {
    "duration": 128,
    "start_time": "2022-09-04T19:09:33.825Z"
   },
   {
    "duration": 117,
    "start_time": "2022-09-04T19:09:33.954Z"
   },
   {
    "duration": 150,
    "start_time": "2022-09-04T19:09:34.481Z"
   },
   {
    "duration": 13,
    "start_time": "2022-09-04T19:09:34.928Z"
   },
   {
    "duration": 12,
    "start_time": "2022-09-04T19:09:35.350Z"
   },
   {
    "duration": 7,
    "start_time": "2022-09-04T19:09:35.803Z"
   },
   {
    "duration": 8,
    "start_time": "2022-09-04T19:09:36.047Z"
   },
   {
    "duration": 95,
    "start_time": "2022-09-04T19:09:36.373Z"
   },
   {
    "duration": 19,
    "start_time": "2022-09-04T19:09:37.920Z"
   },
   {
    "duration": 2,
    "start_time": "2022-09-04T19:09:38.973Z"
   },
   {
    "duration": 9,
    "start_time": "2022-09-04T19:09:40.682Z"
   },
   {
    "duration": 795,
    "start_time": "2022-09-04T19:09:41.612Z"
   },
   {
    "duration": 98,
    "start_time": "2022-09-04T19:09:42.410Z"
   },
   {
    "duration": 109,
    "start_time": "2022-09-04T19:09:52.166Z"
   },
   {
    "duration": 112,
    "start_time": "2022-09-04T19:10:13.988Z"
   },
   {
    "duration": 3,
    "start_time": "2022-09-04T19:14:18.408Z"
   },
   {
    "duration": 38,
    "start_time": "2022-09-04T19:14:18.879Z"
   },
   {
    "duration": 5,
    "start_time": "2022-09-04T19:14:19.079Z"
   },
   {
    "duration": 14,
    "start_time": "2022-09-04T19:14:19.283Z"
   },
   {
    "duration": 9,
    "start_time": "2022-09-04T19:14:19.486Z"
   },
   {
    "duration": 4,
    "start_time": "2022-09-04T19:14:19.689Z"
   },
   {
    "duration": 14,
    "start_time": "2022-09-04T19:14:19.887Z"
   },
   {
    "duration": 4,
    "start_time": "2022-09-04T19:14:20.091Z"
   },
   {
    "duration": 3,
    "start_time": "2022-09-04T19:14:20.305Z"
   },
   {
    "duration": 313,
    "start_time": "2022-09-04T19:14:20.567Z"
   },
   {
    "duration": 6,
    "start_time": "2022-09-04T19:14:20.882Z"
   },
   {
    "duration": 4,
    "start_time": "2022-09-04T19:14:21.200Z"
   },
   {
    "duration": 106,
    "start_time": "2022-09-04T19:14:21.687Z"
   },
   {
    "duration": 852,
    "start_time": "2022-09-04T19:14:22.232Z"
   },
   {
    "duration": 140,
    "start_time": "2022-09-04T19:14:23.085Z"
   },
   {
    "duration": 112,
    "start_time": "2022-09-04T19:14:23.828Z"
   },
   {
    "duration": 146,
    "start_time": "2022-09-04T19:14:24.420Z"
   },
   {
    "duration": 13,
    "start_time": "2022-09-04T19:14:25.415Z"
   },
   {
    "duration": 11,
    "start_time": "2022-09-04T19:14:25.733Z"
   },
   {
    "duration": 7,
    "start_time": "2022-09-04T19:14:26.717Z"
   },
   {
    "duration": 6,
    "start_time": "2022-09-04T19:14:27.133Z"
   },
   {
    "duration": 97,
    "start_time": "2022-09-04T19:14:28.999Z"
   },
   {
    "duration": 4258,
    "start_time": "2022-09-04T19:18:48.906Z"
   },
   {
    "duration": 4314,
    "start_time": "2022-09-04T19:19:50.080Z"
   },
   {
    "duration": 17,
    "start_time": "2022-09-04T19:30:38.488Z"
   },
   {
    "duration": 8,
    "start_time": "2022-09-04T19:30:51.863Z"
   },
   {
    "duration": 11,
    "start_time": "2022-09-04T19:30:58.578Z"
   },
   {
    "duration": 8,
    "start_time": "2022-09-04T19:31:08.623Z"
   },
   {
    "duration": 3,
    "start_time": "2022-09-04T19:31:11.466Z"
   },
   {
    "duration": 6,
    "start_time": "2022-09-04T19:34:36.126Z"
   },
   {
    "duration": 37,
    "start_time": "2022-09-04T19:34:36.801Z"
   },
   {
    "duration": 5,
    "start_time": "2022-09-04T19:34:37.106Z"
   },
   {
    "duration": 4,
    "start_time": "2022-09-04T19:34:37.309Z"
   },
   {
    "duration": 16,
    "start_time": "2022-09-04T19:34:37.515Z"
   },
   {
    "duration": 8,
    "start_time": "2022-09-04T19:34:37.709Z"
   },
   {
    "duration": 3,
    "start_time": "2022-09-04T19:34:37.902Z"
   },
   {
    "duration": 12,
    "start_time": "2022-09-04T19:34:38.091Z"
   },
   {
    "duration": 4,
    "start_time": "2022-09-04T19:34:38.274Z"
   },
   {
    "duration": 2,
    "start_time": "2022-09-04T19:34:38.478Z"
   },
   {
    "duration": 316,
    "start_time": "2022-09-04T19:34:38.726Z"
   },
   {
    "duration": 8,
    "start_time": "2022-09-04T19:34:39.044Z"
   },
   {
    "duration": 5,
    "start_time": "2022-09-04T19:34:39.599Z"
   },
   {
    "duration": 112,
    "start_time": "2022-09-04T19:34:39.794Z"
   },
   {
    "duration": 775,
    "start_time": "2022-09-04T19:34:41.244Z"
   },
   {
    "duration": 132,
    "start_time": "2022-09-04T19:34:42.021Z"
   },
   {
    "duration": 104,
    "start_time": "2022-09-04T19:34:42.796Z"
   },
   {
    "duration": 165,
    "start_time": "2022-09-04T19:34:44.045Z"
   },
   {
    "duration": 17,
    "start_time": "2022-09-04T19:36:33.668Z"
   },
   {
    "duration": 3,
    "start_time": "2022-09-04T19:38:36.595Z"
   },
   {
    "duration": 12,
    "start_time": "2022-09-04T19:40:18.178Z"
   },
   {
    "duration": 14,
    "start_time": "2022-09-04T19:40:44.231Z"
   },
   {
    "duration": 16,
    "start_time": "2022-09-04T19:41:08.570Z"
   },
   {
    "duration": 17,
    "start_time": "2022-09-04T19:41:33.921Z"
   },
   {
    "duration": 20,
    "start_time": "2022-09-04T19:43:30.636Z"
   },
   {
    "duration": 214,
    "start_time": "2022-09-04T19:43:32.911Z"
   },
   {
    "duration": 39,
    "start_time": "2022-09-04T19:43:51.704Z"
   },
   {
    "duration": 12,
    "start_time": "2022-09-04T19:44:37.339Z"
   },
   {
    "duration": 4,
    "start_time": "2022-09-04T19:51:24.539Z"
   },
   {
    "duration": 37,
    "start_time": "2022-09-04T19:51:24.947Z"
   },
   {
    "duration": 5,
    "start_time": "2022-09-04T19:51:25.334Z"
   },
   {
    "duration": 3,
    "start_time": "2022-09-04T19:51:25.737Z"
   },
   {
    "duration": 19,
    "start_time": "2022-09-04T19:51:26.143Z"
   },
   {
    "duration": 8,
    "start_time": "2022-09-04T19:51:26.531Z"
   },
   {
    "duration": 3,
    "start_time": "2022-09-04T19:51:26.879Z"
   },
   {
    "duration": 11,
    "start_time": "2022-09-04T19:51:27.230Z"
   },
   {
    "duration": 4,
    "start_time": "2022-09-04T19:51:27.568Z"
   },
   {
    "duration": 3,
    "start_time": "2022-09-04T19:51:27.888Z"
   },
   {
    "duration": 310,
    "start_time": "2022-09-04T19:51:28.191Z"
   },
   {
    "duration": 7,
    "start_time": "2022-09-04T19:51:28.543Z"
   },
   {
    "duration": 4,
    "start_time": "2022-09-04T19:51:29.026Z"
   },
   {
    "duration": 110,
    "start_time": "2022-09-04T19:51:29.372Z"
   },
   {
    "duration": 738,
    "start_time": "2022-09-04T19:51:30.160Z"
   },
   {
    "duration": 120,
    "start_time": "2022-09-04T19:51:31.077Z"
   },
   {
    "duration": 101,
    "start_time": "2022-09-04T19:51:32.344Z"
   },
   {
    "duration": 139,
    "start_time": "2022-09-04T19:51:33.037Z"
   },
   {
    "duration": 13,
    "start_time": "2022-09-04T19:51:33.935Z"
   },
   {
    "duration": 107,
    "start_time": "2022-09-04T19:51:35.575Z"
   },
   {
    "duration": 9,
    "start_time": "2022-09-04T19:51:36.194Z"
   },
   {
    "duration": 6,
    "start_time": "2022-09-04T19:51:36.760Z"
   },
   {
    "duration": 27,
    "start_time": "2022-09-04T19:51:37.981Z"
   }
  ],
  "kernelspec": {
   "display_name": "Python 3 (ipykernel)",
   "language": "python",
   "name": "python3"
  },
  "language_info": {
   "codemirror_mode": {
    "name": "ipython",
    "version": 3
   },
   "file_extension": ".py",
   "mimetype": "text/x-python",
   "name": "python",
   "nbconvert_exporter": "python",
   "pygments_lexer": "ipython3",
   "version": "3.9.5"
  },
  "toc": {
   "base_numbering": 1,
   "nav_menu": {},
   "number_sections": true,
   "sideBar": true,
   "skip_h1_title": true,
   "title_cell": "Содержание",
   "title_sidebar": "Contents",
   "toc_cell": true,
   "toc_position": {
    "height": "calc(100% - 180px)",
    "left": "10px",
    "top": "150px",
    "width": "306.4px"
   },
   "toc_section_display": true,
   "toc_window_display": true
  }
 },
 "nbformat": 4,
 "nbformat_minor": 2
}
